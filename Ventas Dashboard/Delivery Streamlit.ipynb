{
 "cells": [
  {
   "cell_type": "code",
   "execution_count": 6,
   "metadata": {},
   "outputs": [],
   "source": [
    "import plotly.express as px\n",
    "import pandas as pd\n"
   ]
  },
  {
   "cell_type": "code",
   "execution_count": 2,
   "metadata": {},
   "outputs": [
    {
     "data": {
      "text/html": [
       "<div>\n",
       "<style scoped>\n",
       "    .dataframe tbody tr th:only-of-type {\n",
       "        vertical-align: middle;\n",
       "    }\n",
       "\n",
       "    .dataframe tbody tr th {\n",
       "        vertical-align: top;\n",
       "    }\n",
       "\n",
       "    .dataframe thead th {\n",
       "        text-align: right;\n",
       "    }\n",
       "</style>\n",
       "<table border=\"1\" class=\"dataframe\">\n",
       "  <thead>\n",
       "    <tr style=\"text-align: right;\">\n",
       "      <th></th>\n",
       "      <th>id</th>\n",
       "      <th>fecha_envio</th>\n",
       "      <th>Proveedor</th>\n",
       "      <th>Prioridad</th>\n",
       "      <th>Cantidad</th>\n",
       "      <th>Ventas</th>\n",
       "      <th>Descuento</th>\n",
       "      <th>Modo_envio</th>\n",
       "      <th>Margen</th>\n",
       "      <th>Utilidad</th>\n",
       "      <th>Precio_venta</th>\n",
       "      <th>Precio_costo</th>\n",
       "      <th>Costo_envio</th>\n",
       "      <th>Nombre_cliente</th>\n",
       "      <th>Lugar</th>\n",
       "      <th>Segmento</th>\n",
       "      <th>Categoria</th>\n",
       "      <th>Subcategoria</th>\n",
       "    </tr>\n",
       "  </thead>\n",
       "  <tbody>\n",
       "    <tr>\n",
       "      <th>0</th>\n",
       "      <td>85</td>\n",
       "      <td>24/9/2020</td>\n",
       "      <td>NaN</td>\n",
       "      <td>Baja</td>\n",
       "      <td>10</td>\n",
       "      <td>37216.74</td>\n",
       "      <td>0.49</td>\n",
       "      <td>Aereo regular</td>\n",
       "      <td>0.40</td>\n",
       "      <td>148.87</td>\n",
       "      <td>3740.0</td>\n",
       "      <td>7.99</td>\n",
       "      <td>5.03</td>\n",
       "      <td>Eugenia escobar</td>\n",
       "      <td>Bolivia</td>\n",
       "      <td>Negocio</td>\n",
       "      <td>Elementos de oficina</td>\n",
       "      <td>Anotador</td>\n",
       "    </tr>\n",
       "    <tr>\n",
       "      <th>1</th>\n",
       "      <td>98</td>\n",
       "      <td>25/9/2020</td>\n",
       "      <td>NaN</td>\n",
       "      <td>Baja</td>\n",
       "      <td>55</td>\n",
       "      <td>277921.48</td>\n",
       "      <td>0.49</td>\n",
       "      <td>Aereo regular</td>\n",
       "      <td>0.34</td>\n",
       "      <td>944.93</td>\n",
       "      <td>5078.0</td>\n",
       "      <td>130.98</td>\n",
       "      <td>8.99</td>\n",
       "      <td>Jonathan Doherty</td>\n",
       "      <td>Brasil</td>\n",
       "      <td>Consumidor</td>\n",
       "      <td>Elementos de oficina</td>\n",
       "      <td>Anotador</td>\n",
       "    </tr>\n",
       "    <tr>\n",
       "      <th>2</th>\n",
       "      <td>89</td>\n",
       "      <td>26/9/2020</td>\n",
       "      <td>NaN</td>\n",
       "      <td>Alta</td>\n",
       "      <td>62</td>\n",
       "      <td>607897.62</td>\n",
       "      <td>0.58</td>\n",
       "      <td>Aereo regular</td>\n",
       "      <td>0.34</td>\n",
       "      <td>2066.85</td>\n",
       "      <td>9862.0</td>\n",
       "      <td>30.93</td>\n",
       "      <td>6.27</td>\n",
       "      <td>Josias Mendez</td>\n",
       "      <td>Chile</td>\n",
       "      <td>Corporativo</td>\n",
       "      <td>Elementos de oficina</td>\n",
       "      <td>Anotador</td>\n",
       "    </tr>\n",
       "    <tr>\n",
       "      <th>3</th>\n",
       "      <td>93</td>\n",
       "      <td>27/9/2020</td>\n",
       "      <td>NaN</td>\n",
       "      <td>Critica</td>\n",
       "      <td>17</td>\n",
       "      <td>208401.20</td>\n",
       "      <td>0.18</td>\n",
       "      <td>Aereo regular</td>\n",
       "      <td>0.29</td>\n",
       "      <td>604.36</td>\n",
       "      <td>12281.0</td>\n",
       "      <td>2.89</td>\n",
       "      <td>8.99</td>\n",
       "      <td>Julie Creighton</td>\n",
       "      <td>Chile</td>\n",
       "      <td>Corporativo</td>\n",
       "      <td>Elementos de oficina</td>\n",
       "      <td>Anotador</td>\n",
       "    </tr>\n",
       "    <tr>\n",
       "      <th>4</th>\n",
       "      <td>92</td>\n",
       "      <td>28/9/2020</td>\n",
       "      <td>NaN</td>\n",
       "      <td>Regular</td>\n",
       "      <td>23</td>\n",
       "      <td>274094.30</td>\n",
       "      <td>0.35</td>\n",
       "      <td>Aereo regular</td>\n",
       "      <td>0.39</td>\n",
       "      <td>1068.97</td>\n",
       "      <td>11959.0</td>\n",
       "      <td>125.99</td>\n",
       "      <td>2.56</td>\n",
       "      <td>Liz Pelletier</td>\n",
       "      <td>Paraguay</td>\n",
       "      <td>Corporativo</td>\n",
       "      <td>Elementos de oficina</td>\n",
       "      <td>Anotador</td>\n",
       "    </tr>\n",
       "    <tr>\n",
       "      <th>...</th>\n",
       "      <td>...</td>\n",
       "      <td>...</td>\n",
       "      <td>...</td>\n",
       "      <td>...</td>\n",
       "      <td>...</td>\n",
       "      <td>...</td>\n",
       "      <td>...</td>\n",
       "      <td>...</td>\n",
       "      <td>...</td>\n",
       "      <td>...</td>\n",
       "      <td>...</td>\n",
       "      <td>...</td>\n",
       "      <td>...</td>\n",
       "      <td>...</td>\n",
       "      <td>...</td>\n",
       "      <td>...</td>\n",
       "      <td>...</td>\n",
       "      <td>...</td>\n",
       "    </tr>\n",
       "    <tr>\n",
       "      <th>95</th>\n",
       "      <td>24</td>\n",
       "      <td>23/5/2023</td>\n",
       "      <td>NaN</td>\n",
       "      <td>Regular</td>\n",
       "      <td>11</td>\n",
       "      <td>104129.43</td>\n",
       "      <td>0.98</td>\n",
       "      <td>Terrestre</td>\n",
       "      <td>0.29</td>\n",
       "      <td>301.98</td>\n",
       "      <td>9560.0</td>\n",
       "      <td>65.99</td>\n",
       "      <td>54.74</td>\n",
       "      <td>Anne Pryre</td>\n",
       "      <td>Argentina</td>\n",
       "      <td>Corporativo</td>\n",
       "      <td>Elementos de oficina</td>\n",
       "      <td>Toner</td>\n",
       "    </tr>\n",
       "    <tr>\n",
       "      <th>96</th>\n",
       "      <td>28</td>\n",
       "      <td>7/10/2023</td>\n",
       "      <td>NaN</td>\n",
       "      <td>Normal</td>\n",
       "      <td>49</td>\n",
       "      <td>124067.85</td>\n",
       "      <td>0.55</td>\n",
       "      <td>Aereo regular</td>\n",
       "      <td>0.22</td>\n",
       "      <td>272.95</td>\n",
       "      <td>2546.0</td>\n",
       "      <td>2.08</td>\n",
       "      <td>8.99</td>\n",
       "      <td>Anne Pryre</td>\n",
       "      <td>Bolivia</td>\n",
       "      <td>Corporativo</td>\n",
       "      <td>Elementos de oficina</td>\n",
       "      <td>Toner</td>\n",
       "    </tr>\n",
       "    <tr>\n",
       "      <th>97</th>\n",
       "      <td>15</td>\n",
       "      <td>4/11/2023</td>\n",
       "      <td>NaN</td>\n",
       "      <td>Baja</td>\n",
       "      <td>46</td>\n",
       "      <td>463520.80</td>\n",
       "      <td>0.88</td>\n",
       "      <td>Terrestre</td>\n",
       "      <td>0.35</td>\n",
       "      <td>1622.32</td>\n",
       "      <td>10166.0</td>\n",
       "      <td>2.89</td>\n",
       "      <td>0.70</td>\n",
       "      <td>Keith Sawkins</td>\n",
       "      <td>Paraguay</td>\n",
       "      <td>Negocio</td>\n",
       "      <td>Elementos de oficina</td>\n",
       "      <td>Toner</td>\n",
       "    </tr>\n",
       "    <tr>\n",
       "      <th>98</th>\n",
       "      <td>27</td>\n",
       "      <td>19/11/2023</td>\n",
       "      <td>NaN</td>\n",
       "      <td>Critica</td>\n",
       "      <td>14</td>\n",
       "      <td>125185.09</td>\n",
       "      <td>0.27</td>\n",
       "      <td>Aereo regular</td>\n",
       "      <td>0.37</td>\n",
       "      <td>463.18</td>\n",
       "      <td>8966.0</td>\n",
       "      <td>38.94</td>\n",
       "      <td>4.62</td>\n",
       "      <td>Maria Zettner</td>\n",
       "      <td>Paraguay</td>\n",
       "      <td>Corporativo</td>\n",
       "      <td>Elementos de oficina</td>\n",
       "      <td>Toner</td>\n",
       "    </tr>\n",
       "    <tr>\n",
       "      <th>99</th>\n",
       "      <td>20</td>\n",
       "      <td>29/11/2023</td>\n",
       "      <td>NaN</td>\n",
       "      <td>Alta</td>\n",
       "      <td>29</td>\n",
       "      <td>386734.05</td>\n",
       "      <td>0.99</td>\n",
       "      <td>Aereo expreso</td>\n",
       "      <td>0.27</td>\n",
       "      <td>1044.18</td>\n",
       "      <td>13469.0</td>\n",
       "      <td>130.98</td>\n",
       "      <td>8.19</td>\n",
       "      <td>Roy Collins</td>\n",
       "      <td>Paraguay</td>\n",
       "      <td>Negocio</td>\n",
       "      <td>Elementos de oficina</td>\n",
       "      <td>Toner</td>\n",
       "    </tr>\n",
       "  </tbody>\n",
       "</table>\n",
       "<p>100 rows × 18 columns</p>\n",
       "</div>"
      ],
      "text/plain": [
       "    id fecha_envio  Proveedor Prioridad  Cantidad     Ventas  Descuento  \\\n",
       "0   85   24/9/2020        NaN      Baja        10   37216.74       0.49   \n",
       "1   98   25/9/2020        NaN      Baja        55  277921.48       0.49   \n",
       "2   89   26/9/2020        NaN      Alta        62  607897.62       0.58   \n",
       "3   93   27/9/2020        NaN   Critica        17  208401.20       0.18   \n",
       "4   92   28/9/2020        NaN   Regular        23  274094.30       0.35   \n",
       "..  ..         ...        ...       ...       ...        ...        ...   \n",
       "95  24   23/5/2023        NaN   Regular        11  104129.43       0.98   \n",
       "96  28   7/10/2023        NaN    Normal        49  124067.85       0.55   \n",
       "97  15   4/11/2023        NaN      Baja        46  463520.80       0.88   \n",
       "98  27  19/11/2023        NaN   Critica        14  125185.09       0.27   \n",
       "99  20  29/11/2023        NaN      Alta        29  386734.05       0.99   \n",
       "\n",
       "       Modo_envio  Margen  Utilidad  Precio_venta  Precio_costo  Costo_envio  \\\n",
       "0   Aereo regular    0.40    148.87        3740.0          7.99         5.03   \n",
       "1   Aereo regular    0.34    944.93        5078.0        130.98         8.99   \n",
       "2   Aereo regular    0.34   2066.85        9862.0         30.93         6.27   \n",
       "3   Aereo regular    0.29    604.36       12281.0          2.89         8.99   \n",
       "4   Aereo regular    0.39   1068.97       11959.0        125.99         2.56   \n",
       "..            ...     ...       ...           ...           ...          ...   \n",
       "95      Terrestre    0.29    301.98        9560.0         65.99        54.74   \n",
       "96  Aereo regular    0.22    272.95        2546.0          2.08         8.99   \n",
       "97      Terrestre    0.35   1622.32       10166.0          2.89         0.70   \n",
       "98  Aereo regular    0.37    463.18        8966.0         38.94         4.62   \n",
       "99  Aereo expreso    0.27   1044.18       13469.0        130.98         8.19   \n",
       "\n",
       "      Nombre_cliente      Lugar     Segmento             Categoria  \\\n",
       "0    Eugenia escobar    Bolivia      Negocio  Elementos de oficina   \n",
       "1   Jonathan Doherty     Brasil   Consumidor  Elementos de oficina   \n",
       "2      Josias Mendez      Chile  Corporativo  Elementos de oficina   \n",
       "3    Julie Creighton      Chile  Corporativo  Elementos de oficina   \n",
       "4      Liz Pelletier   Paraguay  Corporativo  Elementos de oficina   \n",
       "..               ...        ...          ...                   ...   \n",
       "95        Anne Pryre  Argentina  Corporativo  Elementos de oficina   \n",
       "96        Anne Pryre    Bolivia  Corporativo  Elementos de oficina   \n",
       "97     Keith Sawkins   Paraguay      Negocio  Elementos de oficina   \n",
       "98     Maria Zettner   Paraguay  Corporativo  Elementos de oficina   \n",
       "99       Roy Collins   Paraguay      Negocio  Elementos de oficina   \n",
       "\n",
       "   Subcategoria  \n",
       "0      Anotador  \n",
       "1      Anotador  \n",
       "2      Anotador  \n",
       "3      Anotador  \n",
       "4      Anotador  \n",
       "..          ...  \n",
       "95        Toner  \n",
       "96        Toner  \n",
       "97        Toner  \n",
       "98        Toner  \n",
       "99        Toner  \n",
       "\n",
       "[100 rows x 18 columns]"
      ]
     },
     "execution_count": 2,
     "metadata": {},
     "output_type": "execute_result"
    }
   ],
   "source": [
    "df = pd.read_csv('Delivery Data3.csv', sep=';')\n",
    "df"
   ]
  },
  {
   "cell_type": "code",
   "execution_count": 3,
   "metadata": {},
   "outputs": [
    {
     "data": {
      "text/html": [
       "<style type=\"text/css\">\n",
       "#T_d9d07_row0_col5 {\n",
       "  width: 10em;\n",
       "  background: linear-gradient(90deg, green 3.7%, transparent 3.7%);\n",
       "}\n",
       "#T_d9d07_row1_col5 {\n",
       "  width: 10em;\n",
       "  background: linear-gradient(90deg, green 27.8%, transparent 27.8%);\n",
       "}\n",
       "#T_d9d07_row2_col5 {\n",
       "  width: 10em;\n",
       "  background: linear-gradient(90deg, green 60.8%, transparent 60.8%);\n",
       "}\n",
       "#T_d9d07_row3_col5 {\n",
       "  width: 10em;\n",
       "  background: linear-gradient(90deg, green 20.9%, transparent 20.9%);\n",
       "}\n",
       "#T_d9d07_row4_col5 {\n",
       "  width: 10em;\n",
       "  background: linear-gradient(90deg, green 27.4%, transparent 27.4%);\n",
       "}\n",
       "#T_d9d07_row5_col5 {\n",
       "  width: 10em;\n",
       "  background: linear-gradient(90deg, green 26.0%, transparent 26.0%);\n",
       "}\n",
       "#T_d9d07_row6_col5 {\n",
       "  width: 10em;\n",
       "  background: linear-gradient(90deg, green 17.7%, transparent 17.7%);\n",
       "}\n",
       "#T_d9d07_row7_col5 {\n",
       "  width: 10em;\n",
       "  background: linear-gradient(90deg, green 86.7%, transparent 86.7%);\n",
       "}\n",
       "#T_d9d07_row8_col5 {\n",
       "  width: 10em;\n",
       "  background: linear-gradient(90deg, green 19.9%, transparent 19.9%);\n",
       "}\n",
       "#T_d9d07_row9_col5 {\n",
       "  width: 10em;\n",
       "  background: linear-gradient(90deg, green 31.0%, transparent 31.0%);\n",
       "}\n",
       "#T_d9d07_row10_col5 {\n",
       "  width: 10em;\n",
       "  background: linear-gradient(90deg, green 13.4%, transparent 13.4%);\n",
       "}\n",
       "#T_d9d07_row11_col5 {\n",
       "  width: 10em;\n",
       "  background: linear-gradient(90deg, green 88.1%, transparent 88.1%);\n",
       "}\n",
       "#T_d9d07_row12_col5 {\n",
       "  width: 10em;\n",
       "  background: linear-gradient(90deg, green 51.9%, transparent 51.9%);\n",
       "}\n",
       "#T_d9d07_row13_col5 {\n",
       "  width: 10em;\n",
       "  background: linear-gradient(90deg, green 47.2%, transparent 47.2%);\n",
       "}\n",
       "#T_d9d07_row14_col5, #T_d9d07_row19_col5 {\n",
       "  width: 10em;\n",
       "  background: linear-gradient(90deg, green 6.1%, transparent 6.1%);\n",
       "}\n",
       "#T_d9d07_row15_col5 {\n",
       "  width: 10em;\n",
       "  background: linear-gradient(90deg, green 15.0%, transparent 15.0%);\n",
       "}\n",
       "#T_d9d07_row16_col5 {\n",
       "  width: 10em;\n",
       "  background: linear-gradient(90deg, green 22.7%, transparent 22.7%);\n",
       "}\n",
       "#T_d9d07_row17_col5 {\n",
       "  width: 10em;\n",
       "  background: linear-gradient(90deg, green 14.6%, transparent 14.6%);\n",
       "}\n",
       "#T_d9d07_row18_col5, #T_d9d07_row35_col5 {\n",
       "  width: 10em;\n",
       "  background: linear-gradient(90deg, green 1.4%, transparent 1.4%);\n",
       "}\n",
       "#T_d9d07_row20_col5 {\n",
       "  width: 10em;\n",
       "  background: linear-gradient(90deg, green 33.2%, transparent 33.2%);\n",
       "}\n",
       "#T_d9d07_row21_col5 {\n",
       "  width: 10em;\n",
       "  background: linear-gradient(90deg, green 1.3%, transparent 1.3%);\n",
       "}\n",
       "#T_d9d07_row22_col5 {\n",
       "  width: 10em;\n",
       "  background: linear-gradient(90deg, green 8.2%, transparent 8.2%);\n",
       "}\n",
       "#T_d9d07_row23_col5 {\n",
       "  width: 10em;\n",
       "  background: linear-gradient(90deg, green 54.2%, transparent 54.2%);\n",
       "}\n",
       "#T_d9d07_row24_col5 {\n",
       "  width: 10em;\n",
       "  background: linear-gradient(90deg, green 68.4%, transparent 68.4%);\n",
       "}\n",
       "#T_d9d07_row25_col5 {\n",
       "  width: 10em;\n",
       "  background: linear-gradient(90deg, green 5.8%, transparent 5.8%);\n",
       "}\n",
       "#T_d9d07_row26_col5 {\n",
       "  width: 10em;\n",
       "  background: linear-gradient(90deg, green 28.3%, transparent 28.3%);\n",
       "}\n",
       "#T_d9d07_row27_col5 {\n",
       "  width: 10em;\n",
       "  background: linear-gradient(90deg, green 15.2%, transparent 15.2%);\n",
       "}\n",
       "#T_d9d07_row28_col5 {\n",
       "  width: 10em;\n",
       "  background: linear-gradient(90deg, green 100.0%, transparent 100.0%);\n",
       "}\n",
       "#T_d9d07_row29_col5 {\n",
       "  width: 10em;\n",
       "  background: linear-gradient(90deg, green 53.6%, transparent 53.6%);\n",
       "}\n",
       "#T_d9d07_row30_col5 {\n",
       "  width: 10em;\n",
       "  background: linear-gradient(90deg, green 73.3%, transparent 73.3%);\n",
       "}\n",
       "#T_d9d07_row31_col5 {\n",
       "  width: 10em;\n",
       "  background: linear-gradient(90deg, green 14.0%, transparent 14.0%);\n",
       "}\n",
       "#T_d9d07_row32_col5 {\n",
       "  width: 10em;\n",
       "  background: linear-gradient(90deg, green 8.4%, transparent 8.4%);\n",
       "}\n",
       "#T_d9d07_row33_col5 {\n",
       "  width: 10em;\n",
       "  background: linear-gradient(90deg, green 9.2%, transparent 9.2%);\n",
       "}\n",
       "#T_d9d07_row34_col5 {\n",
       "  width: 10em;\n",
       "  background: linear-gradient(90deg, green 25.9%, transparent 25.9%);\n",
       "}\n",
       "#T_d9d07_row36_col5 {\n",
       "  width: 10em;\n",
       "  background: linear-gradient(90deg, green 70.0%, transparent 70.0%);\n",
       "}\n",
       "#T_d9d07_row37_col5 {\n",
       "  width: 10em;\n",
       "  background: linear-gradient(90deg, green 1.2%, transparent 1.2%);\n",
       "}\n",
       "#T_d9d07_row38_col5 {\n",
       "  width: 10em;\n",
       "  background: linear-gradient(90deg, green 51.6%, transparent 51.6%);\n",
       "}\n",
       "#T_d9d07_row39_col5 {\n",
       "  width: 10em;\n",
       "  background: linear-gradient(90deg, green 58.1%, transparent 58.1%);\n",
       "}\n",
       "#T_d9d07_row40_col5 {\n",
       "  width: 10em;\n",
       "  background: linear-gradient(90deg, green 1.6%, transparent 1.6%);\n",
       "}\n",
       "#T_d9d07_row41_col5 {\n",
       "  width: 10em;\n",
       "  background: linear-gradient(90deg, green 0.0%, transparent 0.0%);\n",
       "}\n",
       "#T_d9d07_row42_col5 {\n",
       "  width: 10em;\n",
       "  background: linear-gradient(90deg, green 32.9%, transparent 32.9%);\n",
       "}\n",
       "#T_d9d07_row43_col5 {\n",
       "  width: 10em;\n",
       "  background: linear-gradient(90deg, green 4.2%, transparent 4.2%);\n",
       "}\n",
       "#T_d9d07_row44_col5 {\n",
       "  width: 10em;\n",
       "  background: linear-gradient(90deg, green 1.8%, transparent 1.8%);\n",
       "}\n",
       "#T_d9d07_row45_col5 {\n",
       "  width: 10em;\n",
       "  background: linear-gradient(90deg, green 7.2%, transparent 7.2%);\n",
       "}\n",
       "#T_d9d07_row46_col5 {\n",
       "  width: 10em;\n",
       "  background: linear-gradient(90deg, green 45.5%, transparent 45.5%);\n",
       "}\n",
       "#T_d9d07_row47_col5, #T_d9d07_row95_col5 {\n",
       "  width: 10em;\n",
       "  background: linear-gradient(90deg, green 10.4%, transparent 10.4%);\n",
       "}\n",
       "#T_d9d07_row48_col5, #T_d9d07_row71_col5, #T_d9d07_row80_col5 {\n",
       "  width: 10em;\n",
       "  background: linear-gradient(90deg, green 12.7%, transparent 12.7%);\n",
       "}\n",
       "#T_d9d07_row49_col5 {\n",
       "  width: 10em;\n",
       "  background: linear-gradient(90deg, green 3.6%, transparent 3.6%);\n",
       "}\n",
       "#T_d9d07_row50_col5 {\n",
       "  width: 10em;\n",
       "  background: linear-gradient(90deg, green 28.8%, transparent 28.8%);\n",
       "}\n",
       "#T_d9d07_row51_col5 {\n",
       "  width: 10em;\n",
       "  background: linear-gradient(90deg, green 2.6%, transparent 2.6%);\n",
       "}\n",
       "#T_d9d07_row52_col5 {\n",
       "  width: 10em;\n",
       "  background: linear-gradient(90deg, green 13.5%, transparent 13.5%);\n",
       "}\n",
       "#T_d9d07_row53_col5 {\n",
       "  width: 10em;\n",
       "  background: linear-gradient(90deg, green 3.3%, transparent 3.3%);\n",
       "}\n",
       "#T_d9d07_row54_col5 {\n",
       "  width: 10em;\n",
       "  background: linear-gradient(90deg, green 30.2%, transparent 30.2%);\n",
       "}\n",
       "#T_d9d07_row55_col5 {\n",
       "  width: 10em;\n",
       "  background: linear-gradient(90deg, green 7.6%, transparent 7.6%);\n",
       "}\n",
       "#T_d9d07_row56_col5, #T_d9d07_row93_col5 {\n",
       "  width: 10em;\n",
       "  background: linear-gradient(90deg, green 3.9%, transparent 3.9%);\n",
       "}\n",
       "#T_d9d07_row57_col5 {\n",
       "  width: 10em;\n",
       "  background: linear-gradient(90deg, green 30.7%, transparent 30.7%);\n",
       "}\n",
       "#T_d9d07_row58_col5 {\n",
       "  width: 10em;\n",
       "  background: linear-gradient(90deg, green 77.9%, transparent 77.9%);\n",
       "}\n",
       "#T_d9d07_row59_col5 {\n",
       "  width: 10em;\n",
       "  background: linear-gradient(90deg, green 18.0%, transparent 18.0%);\n",
       "}\n",
       "#T_d9d07_row60_col5 {\n",
       "  width: 10em;\n",
       "  background: linear-gradient(90deg, green 35.5%, transparent 35.5%);\n",
       "}\n",
       "#T_d9d07_row61_col5 {\n",
       "  width: 10em;\n",
       "  background: linear-gradient(90deg, green 42.2%, transparent 42.2%);\n",
       "}\n",
       "#T_d9d07_row62_col5 {\n",
       "  width: 10em;\n",
       "  background: linear-gradient(90deg, green 21.8%, transparent 21.8%);\n",
       "}\n",
       "#T_d9d07_row63_col5, #T_d9d07_row87_col5 {\n",
       "  width: 10em;\n",
       "  background: linear-gradient(90deg, green 2.3%, transparent 2.3%);\n",
       "}\n",
       "#T_d9d07_row64_col5 {\n",
       "  width: 10em;\n",
       "  background: linear-gradient(90deg, green 6.4%, transparent 6.4%);\n",
       "}\n",
       "#T_d9d07_row65_col5 {\n",
       "  width: 10em;\n",
       "  background: linear-gradient(90deg, green 10.7%, transparent 10.7%);\n",
       "}\n",
       "#T_d9d07_row66_col5 {\n",
       "  width: 10em;\n",
       "  background: linear-gradient(90deg, green 14.8%, transparent 14.8%);\n",
       "}\n",
       "#T_d9d07_row67_col5 {\n",
       "  width: 10em;\n",
       "  background: linear-gradient(90deg, green 3.5%, transparent 3.5%);\n",
       "}\n",
       "#T_d9d07_row68_col5 {\n",
       "  width: 10em;\n",
       "  background: linear-gradient(90deg, green 9.1%, transparent 9.1%);\n",
       "}\n",
       "#T_d9d07_row69_col5 {\n",
       "  width: 10em;\n",
       "  background: linear-gradient(90deg, green 31.9%, transparent 31.9%);\n",
       "}\n",
       "#T_d9d07_row70_col5 {\n",
       "  width: 10em;\n",
       "  background: linear-gradient(90deg, green 37.8%, transparent 37.8%);\n",
       "}\n",
       "#T_d9d07_row72_col5 {\n",
       "  width: 10em;\n",
       "  background: linear-gradient(90deg, green 35.7%, transparent 35.7%);\n",
       "}\n",
       "#T_d9d07_row73_col5 {\n",
       "  width: 10em;\n",
       "  background: linear-gradient(90deg, green 1.7%, transparent 1.7%);\n",
       "}\n",
       "#T_d9d07_row74_col5 {\n",
       "  width: 10em;\n",
       "  background: linear-gradient(90deg, green 40.7%, transparent 40.7%);\n",
       "}\n",
       "#T_d9d07_row75_col5 {\n",
       "  width: 10em;\n",
       "  background: linear-gradient(90deg, green 52.3%, transparent 52.3%);\n",
       "}\n",
       "#T_d9d07_row76_col5 {\n",
       "  width: 10em;\n",
       "  background: linear-gradient(90deg, green 0.8%, transparent 0.8%);\n",
       "}\n",
       "#T_d9d07_row77_col5 {\n",
       "  width: 10em;\n",
       "  background: linear-gradient(90deg, green 19.3%, transparent 19.3%);\n",
       "}\n",
       "#T_d9d07_row78_col5 {\n",
       "  width: 10em;\n",
       "  background: linear-gradient(90deg, green 59.2%, transparent 59.2%);\n",
       "}\n",
       "#T_d9d07_row79_col5 {\n",
       "  width: 10em;\n",
       "  background: linear-gradient(90deg, green 33.5%, transparent 33.5%);\n",
       "}\n",
       "#T_d9d07_row81_col5 {\n",
       "  width: 10em;\n",
       "  background: linear-gradient(90deg, green 19.1%, transparent 19.1%);\n",
       "}\n",
       "#T_d9d07_row82_col5 {\n",
       "  width: 10em;\n",
       "  background: linear-gradient(90deg, green 48.7%, transparent 48.7%);\n",
       "}\n",
       "#T_d9d07_row83_col5 {\n",
       "  width: 10em;\n",
       "  background: linear-gradient(90deg, green 17.4%, transparent 17.4%);\n",
       "}\n",
       "#T_d9d07_row84_col5 {\n",
       "  width: 10em;\n",
       "  background: linear-gradient(90deg, green 52.8%, transparent 52.8%);\n",
       "}\n",
       "#T_d9d07_row85_col5 {\n",
       "  width: 10em;\n",
       "  background: linear-gradient(90deg, green 85.4%, transparent 85.4%);\n",
       "}\n",
       "#T_d9d07_row86_col5 {\n",
       "  width: 10em;\n",
       "  background: linear-gradient(90deg, green 6.8%, transparent 6.8%);\n",
       "}\n",
       "#T_d9d07_row88_col5 {\n",
       "  width: 10em;\n",
       "  background: linear-gradient(90deg, green 42.8%, transparent 42.8%);\n",
       "}\n",
       "#T_d9d07_row89_col5 {\n",
       "  width: 10em;\n",
       "  background: linear-gradient(90deg, green 22.5%, transparent 22.5%);\n",
       "}\n",
       "#T_d9d07_row90_col5 {\n",
       "  width: 10em;\n",
       "  background: linear-gradient(90deg, green 12.2%, transparent 12.2%);\n",
       "}\n",
       "#T_d9d07_row91_col5 {\n",
       "  width: 10em;\n",
       "  background: linear-gradient(90deg, green 0.7%, transparent 0.7%);\n",
       "}\n",
       "#T_d9d07_row92_col5 {\n",
       "  width: 10em;\n",
       "  background: linear-gradient(90deg, green 11.3%, transparent 11.3%);\n",
       "}\n",
       "#T_d9d07_row94_col5 {\n",
       "  width: 10em;\n",
       "  background: linear-gradient(90deg, green 33.3%, transparent 33.3%);\n",
       "}\n",
       "#T_d9d07_row96_col5 {\n",
       "  width: 10em;\n",
       "  background: linear-gradient(90deg, green 12.4%, transparent 12.4%);\n",
       "}\n",
       "#T_d9d07_row97_col5 {\n",
       "  width: 10em;\n",
       "  background: linear-gradient(90deg, green 46.4%, transparent 46.4%);\n",
       "}\n",
       "#T_d9d07_row98_col5 {\n",
       "  width: 10em;\n",
       "  background: linear-gradient(90deg, green 12.5%, transparent 12.5%);\n",
       "}\n",
       "#T_d9d07_row99_col5 {\n",
       "  width: 10em;\n",
       "  background: linear-gradient(90deg, green 38.7%, transparent 38.7%);\n",
       "}\n",
       "</style>\n",
       "<table id=\"T_d9d07\">\n",
       "  <thead>\n",
       "    <tr>\n",
       "      <th class=\"blank level0\" >&nbsp;</th>\n",
       "      <th id=\"T_d9d07_level0_col0\" class=\"col_heading level0 col0\" >id</th>\n",
       "      <th id=\"T_d9d07_level0_col1\" class=\"col_heading level0 col1\" >fecha_envio</th>\n",
       "      <th id=\"T_d9d07_level0_col2\" class=\"col_heading level0 col2\" >Proveedor</th>\n",
       "      <th id=\"T_d9d07_level0_col3\" class=\"col_heading level0 col3\" >Prioridad</th>\n",
       "      <th id=\"T_d9d07_level0_col4\" class=\"col_heading level0 col4\" >Cantidad</th>\n",
       "      <th id=\"T_d9d07_level0_col5\" class=\"col_heading level0 col5\" >Ventas</th>\n",
       "      <th id=\"T_d9d07_level0_col6\" class=\"col_heading level0 col6\" >Descuento</th>\n",
       "      <th id=\"T_d9d07_level0_col7\" class=\"col_heading level0 col7\" >Modo_envio</th>\n",
       "      <th id=\"T_d9d07_level0_col8\" class=\"col_heading level0 col8\" >Margen</th>\n",
       "      <th id=\"T_d9d07_level0_col9\" class=\"col_heading level0 col9\" >Utilidad</th>\n",
       "      <th id=\"T_d9d07_level0_col10\" class=\"col_heading level0 col10\" >Precio_venta</th>\n",
       "      <th id=\"T_d9d07_level0_col11\" class=\"col_heading level0 col11\" >Precio_costo</th>\n",
       "      <th id=\"T_d9d07_level0_col12\" class=\"col_heading level0 col12\" >Costo_envio</th>\n",
       "      <th id=\"T_d9d07_level0_col13\" class=\"col_heading level0 col13\" >Nombre_cliente</th>\n",
       "      <th id=\"T_d9d07_level0_col14\" class=\"col_heading level0 col14\" >Lugar</th>\n",
       "      <th id=\"T_d9d07_level0_col15\" class=\"col_heading level0 col15\" >Segmento</th>\n",
       "      <th id=\"T_d9d07_level0_col16\" class=\"col_heading level0 col16\" >Categoria</th>\n",
       "      <th id=\"T_d9d07_level0_col17\" class=\"col_heading level0 col17\" >Subcategoria</th>\n",
       "    </tr>\n",
       "  </thead>\n",
       "  <tbody>\n",
       "    <tr>\n",
       "      <th id=\"T_d9d07_level0_row0\" class=\"row_heading level0 row0\" >0</th>\n",
       "      <td id=\"T_d9d07_row0_col0\" class=\"data row0 col0\" >85</td>\n",
       "      <td id=\"T_d9d07_row0_col1\" class=\"data row0 col1\" >24/9/2020</td>\n",
       "      <td id=\"T_d9d07_row0_col2\" class=\"data row0 col2\" >nan</td>\n",
       "      <td id=\"T_d9d07_row0_col3\" class=\"data row0 col3\" >Baja</td>\n",
       "      <td id=\"T_d9d07_row0_col4\" class=\"data row0 col4\" >10</td>\n",
       "      <td id=\"T_d9d07_row0_col5\" class=\"data row0 col5\" >37216.740000</td>\n",
       "      <td id=\"T_d9d07_row0_col6\" class=\"data row0 col6\" >0.490000</td>\n",
       "      <td id=\"T_d9d07_row0_col7\" class=\"data row0 col7\" >Aereo regular</td>\n",
       "      <td id=\"T_d9d07_row0_col8\" class=\"data row0 col8\" >0.400000</td>\n",
       "      <td id=\"T_d9d07_row0_col9\" class=\"data row0 col9\" >148.870000</td>\n",
       "      <td id=\"T_d9d07_row0_col10\" class=\"data row0 col10\" >3740.000000</td>\n",
       "      <td id=\"T_d9d07_row0_col11\" class=\"data row0 col11\" >7.990000</td>\n",
       "      <td id=\"T_d9d07_row0_col12\" class=\"data row0 col12\" >5.030000</td>\n",
       "      <td id=\"T_d9d07_row0_col13\" class=\"data row0 col13\" >Eugenia escobar</td>\n",
       "      <td id=\"T_d9d07_row0_col14\" class=\"data row0 col14\" >Bolivia</td>\n",
       "      <td id=\"T_d9d07_row0_col15\" class=\"data row0 col15\" >Negocio</td>\n",
       "      <td id=\"T_d9d07_row0_col16\" class=\"data row0 col16\" >Elementos de oficina</td>\n",
       "      <td id=\"T_d9d07_row0_col17\" class=\"data row0 col17\" >Anotador</td>\n",
       "    </tr>\n",
       "    <tr>\n",
       "      <th id=\"T_d9d07_level0_row1\" class=\"row_heading level0 row1\" >1</th>\n",
       "      <td id=\"T_d9d07_row1_col0\" class=\"data row1 col0\" >98</td>\n",
       "      <td id=\"T_d9d07_row1_col1\" class=\"data row1 col1\" >25/9/2020</td>\n",
       "      <td id=\"T_d9d07_row1_col2\" class=\"data row1 col2\" >nan</td>\n",
       "      <td id=\"T_d9d07_row1_col3\" class=\"data row1 col3\" >Baja</td>\n",
       "      <td id=\"T_d9d07_row1_col4\" class=\"data row1 col4\" >55</td>\n",
       "      <td id=\"T_d9d07_row1_col5\" class=\"data row1 col5\" >277921.480000</td>\n",
       "      <td id=\"T_d9d07_row1_col6\" class=\"data row1 col6\" >0.490000</td>\n",
       "      <td id=\"T_d9d07_row1_col7\" class=\"data row1 col7\" >Aereo regular</td>\n",
       "      <td id=\"T_d9d07_row1_col8\" class=\"data row1 col8\" >0.340000</td>\n",
       "      <td id=\"T_d9d07_row1_col9\" class=\"data row1 col9\" >944.930000</td>\n",
       "      <td id=\"T_d9d07_row1_col10\" class=\"data row1 col10\" >5078.000000</td>\n",
       "      <td id=\"T_d9d07_row1_col11\" class=\"data row1 col11\" >130.980000</td>\n",
       "      <td id=\"T_d9d07_row1_col12\" class=\"data row1 col12\" >8.990000</td>\n",
       "      <td id=\"T_d9d07_row1_col13\" class=\"data row1 col13\" >Jonathan Doherty</td>\n",
       "      <td id=\"T_d9d07_row1_col14\" class=\"data row1 col14\" >Brasil</td>\n",
       "      <td id=\"T_d9d07_row1_col15\" class=\"data row1 col15\" >Consumidor</td>\n",
       "      <td id=\"T_d9d07_row1_col16\" class=\"data row1 col16\" >Elementos de oficina</td>\n",
       "      <td id=\"T_d9d07_row1_col17\" class=\"data row1 col17\" >Anotador</td>\n",
       "    </tr>\n",
       "    <tr>\n",
       "      <th id=\"T_d9d07_level0_row2\" class=\"row_heading level0 row2\" >2</th>\n",
       "      <td id=\"T_d9d07_row2_col0\" class=\"data row2 col0\" >89</td>\n",
       "      <td id=\"T_d9d07_row2_col1\" class=\"data row2 col1\" >26/9/2020</td>\n",
       "      <td id=\"T_d9d07_row2_col2\" class=\"data row2 col2\" >nan</td>\n",
       "      <td id=\"T_d9d07_row2_col3\" class=\"data row2 col3\" >Alta</td>\n",
       "      <td id=\"T_d9d07_row2_col4\" class=\"data row2 col4\" >62</td>\n",
       "      <td id=\"T_d9d07_row2_col5\" class=\"data row2 col5\" >607897.620000</td>\n",
       "      <td id=\"T_d9d07_row2_col6\" class=\"data row2 col6\" >0.580000</td>\n",
       "      <td id=\"T_d9d07_row2_col7\" class=\"data row2 col7\" >Aereo regular</td>\n",
       "      <td id=\"T_d9d07_row2_col8\" class=\"data row2 col8\" >0.340000</td>\n",
       "      <td id=\"T_d9d07_row2_col9\" class=\"data row2 col9\" >2066.850000</td>\n",
       "      <td id=\"T_d9d07_row2_col10\" class=\"data row2 col10\" >9862.000000</td>\n",
       "      <td id=\"T_d9d07_row2_col11\" class=\"data row2 col11\" >30.930000</td>\n",
       "      <td id=\"T_d9d07_row2_col12\" class=\"data row2 col12\" >6.270000</td>\n",
       "      <td id=\"T_d9d07_row2_col13\" class=\"data row2 col13\" >Josias Mendez</td>\n",
       "      <td id=\"T_d9d07_row2_col14\" class=\"data row2 col14\" >Chile</td>\n",
       "      <td id=\"T_d9d07_row2_col15\" class=\"data row2 col15\" >Corporativo</td>\n",
       "      <td id=\"T_d9d07_row2_col16\" class=\"data row2 col16\" >Elementos de oficina</td>\n",
       "      <td id=\"T_d9d07_row2_col17\" class=\"data row2 col17\" >Anotador</td>\n",
       "    </tr>\n",
       "    <tr>\n",
       "      <th id=\"T_d9d07_level0_row3\" class=\"row_heading level0 row3\" >3</th>\n",
       "      <td id=\"T_d9d07_row3_col0\" class=\"data row3 col0\" >93</td>\n",
       "      <td id=\"T_d9d07_row3_col1\" class=\"data row3 col1\" >27/9/2020</td>\n",
       "      <td id=\"T_d9d07_row3_col2\" class=\"data row3 col2\" >nan</td>\n",
       "      <td id=\"T_d9d07_row3_col3\" class=\"data row3 col3\" >Critica</td>\n",
       "      <td id=\"T_d9d07_row3_col4\" class=\"data row3 col4\" >17</td>\n",
       "      <td id=\"T_d9d07_row3_col5\" class=\"data row3 col5\" >208401.200000</td>\n",
       "      <td id=\"T_d9d07_row3_col6\" class=\"data row3 col6\" >0.180000</td>\n",
       "      <td id=\"T_d9d07_row3_col7\" class=\"data row3 col7\" >Aereo regular</td>\n",
       "      <td id=\"T_d9d07_row3_col8\" class=\"data row3 col8\" >0.290000</td>\n",
       "      <td id=\"T_d9d07_row3_col9\" class=\"data row3 col9\" >604.360000</td>\n",
       "      <td id=\"T_d9d07_row3_col10\" class=\"data row3 col10\" >12281.000000</td>\n",
       "      <td id=\"T_d9d07_row3_col11\" class=\"data row3 col11\" >2.890000</td>\n",
       "      <td id=\"T_d9d07_row3_col12\" class=\"data row3 col12\" >8.990000</td>\n",
       "      <td id=\"T_d9d07_row3_col13\" class=\"data row3 col13\" >Julie Creighton</td>\n",
       "      <td id=\"T_d9d07_row3_col14\" class=\"data row3 col14\" >Chile</td>\n",
       "      <td id=\"T_d9d07_row3_col15\" class=\"data row3 col15\" >Corporativo</td>\n",
       "      <td id=\"T_d9d07_row3_col16\" class=\"data row3 col16\" >Elementos de oficina</td>\n",
       "      <td id=\"T_d9d07_row3_col17\" class=\"data row3 col17\" >Anotador</td>\n",
       "    </tr>\n",
       "    <tr>\n",
       "      <th id=\"T_d9d07_level0_row4\" class=\"row_heading level0 row4\" >4</th>\n",
       "      <td id=\"T_d9d07_row4_col0\" class=\"data row4 col0\" >92</td>\n",
       "      <td id=\"T_d9d07_row4_col1\" class=\"data row4 col1\" >28/9/2020</td>\n",
       "      <td id=\"T_d9d07_row4_col2\" class=\"data row4 col2\" >nan</td>\n",
       "      <td id=\"T_d9d07_row4_col3\" class=\"data row4 col3\" >Regular</td>\n",
       "      <td id=\"T_d9d07_row4_col4\" class=\"data row4 col4\" >23</td>\n",
       "      <td id=\"T_d9d07_row4_col5\" class=\"data row4 col5\" >274094.300000</td>\n",
       "      <td id=\"T_d9d07_row4_col6\" class=\"data row4 col6\" >0.350000</td>\n",
       "      <td id=\"T_d9d07_row4_col7\" class=\"data row4 col7\" >Aereo regular</td>\n",
       "      <td id=\"T_d9d07_row4_col8\" class=\"data row4 col8\" >0.390000</td>\n",
       "      <td id=\"T_d9d07_row4_col9\" class=\"data row4 col9\" >1068.970000</td>\n",
       "      <td id=\"T_d9d07_row4_col10\" class=\"data row4 col10\" >11959.000000</td>\n",
       "      <td id=\"T_d9d07_row4_col11\" class=\"data row4 col11\" >125.990000</td>\n",
       "      <td id=\"T_d9d07_row4_col12\" class=\"data row4 col12\" >2.560000</td>\n",
       "      <td id=\"T_d9d07_row4_col13\" class=\"data row4 col13\" >Liz Pelletier</td>\n",
       "      <td id=\"T_d9d07_row4_col14\" class=\"data row4 col14\" >Paraguay</td>\n",
       "      <td id=\"T_d9d07_row4_col15\" class=\"data row4 col15\" >Corporativo</td>\n",
       "      <td id=\"T_d9d07_row4_col16\" class=\"data row4 col16\" >Elementos de oficina</td>\n",
       "      <td id=\"T_d9d07_row4_col17\" class=\"data row4 col17\" >Anotador</td>\n",
       "    </tr>\n",
       "    <tr>\n",
       "      <th id=\"T_d9d07_level0_row5\" class=\"row_heading level0 row5\" >5</th>\n",
       "      <td id=\"T_d9d07_row5_col0\" class=\"data row5 col0\" >42</td>\n",
       "      <td id=\"T_d9d07_row5_col1\" class=\"data row5 col1\" >29/9/2020</td>\n",
       "      <td id=\"T_d9d07_row5_col2\" class=\"data row5 col2\" >nan</td>\n",
       "      <td id=\"T_d9d07_row5_col3\" class=\"data row5 col3\" >Baja</td>\n",
       "      <td id=\"T_d9d07_row5_col4\" class=\"data row5 col4\" >44</td>\n",
       "      <td id=\"T_d9d07_row5_col5\" class=\"data row5 col5\" >259435.040000</td>\n",
       "      <td id=\"T_d9d07_row5_col6\" class=\"data row5 col6\" >0.820000</td>\n",
       "      <td id=\"T_d9d07_row5_col7\" class=\"data row5 col7\" >Aereo expreso</td>\n",
       "      <td id=\"T_d9d07_row5_col8\" class=\"data row5 col8\" >0.210000</td>\n",
       "      <td id=\"T_d9d07_row5_col9\" class=\"data row5 col9\" >544.810000</td>\n",
       "      <td id=\"T_d9d07_row5_col10\" class=\"data row5 col10\" >5945.000000</td>\n",
       "      <td id=\"T_d9d07_row5_col11\" class=\"data row5 col11\" >6.480000</td>\n",
       "      <td id=\"T_d9d07_row5_col12\" class=\"data row5 col12\" >3.920000</td>\n",
       "      <td id=\"T_d9d07_row5_col13\" class=\"data row5 col13\" >Andrea Uribes</td>\n",
       "      <td id=\"T_d9d07_row5_col14\" class=\"data row5 col14\" >Peru</td>\n",
       "      <td id=\"T_d9d07_row5_col15\" class=\"data row5 col15\" >Corporativo</td>\n",
       "      <td id=\"T_d9d07_row5_col16\" class=\"data row5 col16\" >Tecnologia</td>\n",
       "      <td id=\"T_d9d07_row5_col17\" class=\"data row5 col17\" >Cable de red</td>\n",
       "    </tr>\n",
       "    <tr>\n",
       "      <th id=\"T_d9d07_level0_row6\" class=\"row_heading level0 row6\" >6</th>\n",
       "      <td id=\"T_d9d07_row6_col0\" class=\"data row6 col0\" >39</td>\n",
       "      <td id=\"T_d9d07_row6_col1\" class=\"data row6 col1\" >30/9/2020</td>\n",
       "      <td id=\"T_d9d07_row6_col2\" class=\"data row6 col2\" >nan</td>\n",
       "      <td id=\"T_d9d07_row6_col3\" class=\"data row6 col3\" >Regular</td>\n",
       "      <td id=\"T_d9d07_row6_col4\" class=\"data row6 col4\" >16</td>\n",
       "      <td id=\"T_d9d07_row6_col5\" class=\"data row6 col5\" >176785.270000</td>\n",
       "      <td id=\"T_d9d07_row6_col6\" class=\"data row6 col6\" >0.360000</td>\n",
       "      <td id=\"T_d9d07_row6_col7\" class=\"data row6 col7\" >Terrestre</td>\n",
       "      <td id=\"T_d9d07_row6_col8\" class=\"data row6 col8\" >0.210000</td>\n",
       "      <td id=\"T_d9d07_row6_col9\" class=\"data row6 col9\" >371.250000</td>\n",
       "      <td id=\"T_d9d07_row6_col10\" class=\"data row6 col10\" >11089.000000</td>\n",
       "      <td id=\"T_d9d07_row6_col11\" class=\"data row6 col11\" >205.990000</td>\n",
       "      <td id=\"T_d9d07_row6_col12\" class=\"data row6 col12\" >4.200000</td>\n",
       "      <td id=\"T_d9d07_row6_col13\" class=\"data row6 col13\" >Juana Beatriz</td>\n",
       "      <td id=\"T_d9d07_row6_col14\" class=\"data row6 col14\" >Paraguay</td>\n",
       "      <td id=\"T_d9d07_row6_col15\" class=\"data row6 col15\" >Negocio</td>\n",
       "      <td id=\"T_d9d07_row6_col16\" class=\"data row6 col16\" >Tecnologia</td>\n",
       "      <td id=\"T_d9d07_row6_col17\" class=\"data row6 col17\" >Cable de red</td>\n",
       "    </tr>\n",
       "    <tr>\n",
       "      <th id=\"T_d9d07_level0_row7\" class=\"row_heading level0 row7\" >7</th>\n",
       "      <td id=\"T_d9d07_row7_col0\" class=\"data row7 col0\" >45</td>\n",
       "      <td id=\"T_d9d07_row7_col1\" class=\"data row7 col1\" >1/10/2020</td>\n",
       "      <td id=\"T_d9d07_row7_col2\" class=\"data row7 col2\" >nan</td>\n",
       "      <td id=\"T_d9d07_row7_col3\" class=\"data row7 col3\" >Normal</td>\n",
       "      <td id=\"T_d9d07_row7_col4\" class=\"data row7 col4\" >63</td>\n",
       "      <td id=\"T_d9d07_row7_col5\" class=\"data row7 col5\" >866860.160000</td>\n",
       "      <td id=\"T_d9d07_row7_col6\" class=\"data row7 col6\" >0.530000</td>\n",
       "      <td id=\"T_d9d07_row7_col7\" class=\"data row7 col7\" >Terrestre</td>\n",
       "      <td id=\"T_d9d07_row7_col8\" class=\"data row7 col8\" >0.290000</td>\n",
       "      <td id=\"T_d9d07_row7_col9\" class=\"data row7 col9\" >2513.890000</td>\n",
       "      <td id=\"T_d9d07_row7_col10\" class=\"data row7 col10\" >13833.000000</td>\n",
       "      <td id=\"T_d9d07_row7_col11\" class=\"data row7 col11\" >9.710000</td>\n",
       "      <td id=\"T_d9d07_row7_col12\" class=\"data row7 col12\" >0.700000</td>\n",
       "      <td id=\"T_d9d07_row7_col13\" class=\"data row7 col13\" >Eduardo Perez</td>\n",
       "      <td id=\"T_d9d07_row7_col14\" class=\"data row7 col14\" >Chile</td>\n",
       "      <td id=\"T_d9d07_row7_col15\" class=\"data row7 col15\" >Corporativo</td>\n",
       "      <td id=\"T_d9d07_row7_col16\" class=\"data row7 col16\" >Tecnologia</td>\n",
       "      <td id=\"T_d9d07_row7_col17\" class=\"data row7 col17\" >Cable de red</td>\n",
       "    </tr>\n",
       "    <tr>\n",
       "      <th id=\"T_d9d07_level0_row8\" class=\"row_heading level0 row8\" >8</th>\n",
       "      <td id=\"T_d9d07_row8_col0\" class=\"data row8 col0\" >35</td>\n",
       "      <td id=\"T_d9d07_row8_col1\" class=\"data row8 col1\" >2/10/2020</td>\n",
       "      <td id=\"T_d9d07_row8_col2\" class=\"data row8 col2\" >nan</td>\n",
       "      <td id=\"T_d9d07_row8_col3\" class=\"data row8 col3\" >Regular</td>\n",
       "      <td id=\"T_d9d07_row8_col4\" class=\"data row8 col4\" >19</td>\n",
       "      <td id=\"T_d9d07_row8_col5\" class=\"data row8 col5\" >198889.500000</td>\n",
       "      <td id=\"T_d9d07_row8_col6\" class=\"data row8 col6\" >0.230000</td>\n",
       "      <td id=\"T_d9d07_row8_col7\" class=\"data row8 col7\" >Aereo regular</td>\n",
       "      <td id=\"T_d9d07_row8_col8\" class=\"data row8 col8\" >0.270000</td>\n",
       "      <td id=\"T_d9d07_row8_col9\" class=\"data row8 col9\" >537.000000</td>\n",
       "      <td id=\"T_d9d07_row8_col10\" class=\"data row8 col10\" >10492.000000</td>\n",
       "      <td id=\"T_d9d07_row8_col11\" class=\"data row8 col11\" >155.990000</td>\n",
       "      <td id=\"T_d9d07_row8_col12\" class=\"data row8 col12\" >89.300000</td>\n",
       "      <td id=\"T_d9d07_row8_col13\" class=\"data row8 col13\" >Sonia Valdez</td>\n",
       "      <td id=\"T_d9d07_row8_col14\" class=\"data row8 col14\" >Bolivia</td>\n",
       "      <td id=\"T_d9d07_row8_col15\" class=\"data row8 col15\" >Consumidor</td>\n",
       "      <td id=\"T_d9d07_row8_col16\" class=\"data row8 col16\" >Tecnologia</td>\n",
       "      <td id=\"T_d9d07_row8_col17\" class=\"data row8 col17\" >Cable de red</td>\n",
       "    </tr>\n",
       "    <tr>\n",
       "      <th id=\"T_d9d07_level0_row9\" class=\"row_heading level0 row9\" >9</th>\n",
       "      <td id=\"T_d9d07_row9_col0\" class=\"data row9 col0\" >38</td>\n",
       "      <td id=\"T_d9d07_row9_col1\" class=\"data row9 col1\" >3/10/2020</td>\n",
       "      <td id=\"T_d9d07_row9_col2\" class=\"data row9 col2\" >nan</td>\n",
       "      <td id=\"T_d9d07_row9_col3\" class=\"data row9 col3\" >Baja</td>\n",
       "      <td id=\"T_d9d07_row9_col4\" class=\"data row9 col4\" >42</td>\n",
       "      <td id=\"T_d9d07_row9_col5\" class=\"data row9 col5\" >310090.850000</td>\n",
       "      <td id=\"T_d9d07_row9_col6\" class=\"data row9 col6\" >0.430000</td>\n",
       "      <td id=\"T_d9d07_row9_col7\" class=\"data row9 col7\" >Terrestre</td>\n",
       "      <td id=\"T_d9d07_row9_col8\" class=\"data row9 col8\" >0.350000</td>\n",
       "      <td id=\"T_d9d07_row9_col9\" class=\"data row9 col9\" >1085.320000</td>\n",
       "      <td id=\"T_d9d07_row9_col10\" class=\"data row9 col10\" >7415.000000</td>\n",
       "      <td id=\"T_d9d07_row9_col11\" class=\"data row9 col11\" >1.680000</td>\n",
       "      <td id=\"T_d9d07_row9_col12\" class=\"data row9 col12\" >8.990000</td>\n",
       "      <td id=\"T_d9d07_row9_col13\" class=\"data row9 col13\" >Juan Solis</td>\n",
       "      <td id=\"T_d9d07_row9_col14\" class=\"data row9 col14\" >Paraguay</td>\n",
       "      <td id=\"T_d9d07_row9_col15\" class=\"data row9 col15\" >Negocio</td>\n",
       "      <td id=\"T_d9d07_row9_col16\" class=\"data row9 col16\" >Tecnologia</td>\n",
       "      <td id=\"T_d9d07_row9_col17\" class=\"data row9 col17\" >Cable de red</td>\n",
       "    </tr>\n",
       "    <tr>\n",
       "      <th id=\"T_d9d07_level0_row10\" class=\"row_heading level0 row10\" >10</th>\n",
       "      <td id=\"T_d9d07_row10_col0\" class=\"data row10 col0\" >34</td>\n",
       "      <td id=\"T_d9d07_row10_col1\" class=\"data row10 col1\" >4/10/2020</td>\n",
       "      <td id=\"T_d9d07_row10_col2\" class=\"data row10 col2\" >nan</td>\n",
       "      <td id=\"T_d9d07_row10_col3\" class=\"data row10 col3\" >Alta</td>\n",
       "      <td id=\"T_d9d07_row10_col4\" class=\"data row10 col4\" >18</td>\n",
       "      <td id=\"T_d9d07_row10_col5\" class=\"data row10 col5\" >134092.350000</td>\n",
       "      <td id=\"T_d9d07_row10_col6\" class=\"data row10 col6\" >0.220000</td>\n",
       "      <td id=\"T_d9d07_row10_col7\" class=\"data row10 col7\" >Aereo regular</td>\n",
       "      <td id=\"T_d9d07_row10_col8\" class=\"data row10 col8\" >0.380000</td>\n",
       "      <td id=\"T_d9d07_row10_col9\" class=\"data row10 col9\" >509.550000</td>\n",
       "      <td id=\"T_d9d07_row10_col10\" class=\"data row10 col10\" >7466.000000</td>\n",
       "      <td id=\"T_d9d07_row10_col11\" class=\"data row10 col11\" >9.110000</td>\n",
       "      <td id=\"T_d9d07_row10_col12\" class=\"data row10 col12\" >5.810000</td>\n",
       "      <td id=\"T_d9d07_row10_col13\" class=\"data row10 col13\" >Octavia Muoz</td>\n",
       "      <td id=\"T_d9d07_row10_col14\" class=\"data row10 col14\" >Bolivia</td>\n",
       "      <td id=\"T_d9d07_row10_col15\" class=\"data row10 col15\" >Consumidor</td>\n",
       "      <td id=\"T_d9d07_row10_col16\" class=\"data row10 col16\" >Tecnologia</td>\n",
       "      <td id=\"T_d9d07_row10_col17\" class=\"data row10 col17\" >Cable de red</td>\n",
       "    </tr>\n",
       "    <tr>\n",
       "      <th id=\"T_d9d07_level0_row11\" class=\"row_heading level0 row11\" >11</th>\n",
       "      <td id=\"T_d9d07_row11_col0\" class=\"data row11 col0\" >32</td>\n",
       "      <td id=\"T_d9d07_row11_col1\" class=\"data row11 col1\" >5/10/2020</td>\n",
       "      <td id=\"T_d9d07_row11_col2\" class=\"data row11 col2\" >nan</td>\n",
       "      <td id=\"T_d9d07_row11_col3\" class=\"data row11 col3\" >Alta</td>\n",
       "      <td id=\"T_d9d07_row11_col4\" class=\"data row11 col4\" >59</td>\n",
       "      <td id=\"T_d9d07_row11_col5\" class=\"data row11 col5\" >880050.050000</td>\n",
       "      <td id=\"T_d9d07_row11_col6\" class=\"data row11 col6\" >0.380000</td>\n",
       "      <td id=\"T_d9d07_row11_col7\" class=\"data row11 col7\" >Aereo expreso</td>\n",
       "      <td id=\"T_d9d07_row11_col8\" class=\"data row11 col8\" >0.390000</td>\n",
       "      <td id=\"T_d9d07_row11_col9\" class=\"data row11 col9\" >3432.200000</td>\n",
       "      <td id=\"T_d9d07_row11_col10\" class=\"data row11 col10\" >14973.000000</td>\n",
       "      <td id=\"T_d9d07_row11_col11\" class=\"data row11 col11\" >70.890000</td>\n",
       "      <td id=\"T_d9d07_row11_col12\" class=\"data row11 col12\" >2.560000</td>\n",
       "      <td id=\"T_d9d07_row11_col13\" class=\"data row11 col13\" >Roque Sanz</td>\n",
       "      <td id=\"T_d9d07_row11_col14\" class=\"data row11 col14\" >Bolivia</td>\n",
       "      <td id=\"T_d9d07_row11_col15\" class=\"data row11 col15\" >Oficina en casa</td>\n",
       "      <td id=\"T_d9d07_row11_col16\" class=\"data row11 col16\" >Tecnologia</td>\n",
       "      <td id=\"T_d9d07_row11_col17\" class=\"data row11 col17\" >Cable de red</td>\n",
       "    </tr>\n",
       "    <tr>\n",
       "      <th id=\"T_d9d07_level0_row12\" class=\"row_heading level0 row12\" >12</th>\n",
       "      <td id=\"T_d9d07_row12_col0\" class=\"data row12 col0\" >95</td>\n",
       "      <td id=\"T_d9d07_row12_col1\" class=\"data row12 col1\" >6/10/2020</td>\n",
       "      <td id=\"T_d9d07_row12_col2\" class=\"data row12 col2\" >nan</td>\n",
       "      <td id=\"T_d9d07_row12_col3\" class=\"data row12 col3\" >Regular</td>\n",
       "      <td id=\"T_d9d07_row12_col4\" class=\"data row12 col4\" >65</td>\n",
       "      <td id=\"T_d9d07_row12_col5\" class=\"data row12 col5\" >519064.340000</td>\n",
       "      <td id=\"T_d9d07_row12_col6\" class=\"data row12 col6\" >0.590000</td>\n",
       "      <td id=\"T_d9d07_row12_col7\" class=\"data row12 col7\" >Aereo expreso</td>\n",
       "      <td id=\"T_d9d07_row12_col8\" class=\"data row12 col8\" >0.250000</td>\n",
       "      <td id=\"T_d9d07_row12_col9\" class=\"data row12 col9\" >1297.660000</td>\n",
       "      <td id=\"T_d9d07_row12_col10\" class=\"data row12 col10\" >8033.000000</td>\n",
       "      <td id=\"T_d9d07_row12_col11\" class=\"data row12 col11\" >150.980000</td>\n",
       "      <td id=\"T_d9d07_row12_col12\" class=\"data row12 col12\" >89.300000</td>\n",
       "      <td id=\"T_d9d07_row12_col13\" class=\"data row12 col13\" >Sampie Company A</td>\n",
       "      <td id=\"T_d9d07_row12_col14\" class=\"data row12 col14\" >Argentina</td>\n",
       "      <td id=\"T_d9d07_row12_col15\" class=\"data row12 col15\" >Oficina en casa</td>\n",
       "      <td id=\"T_d9d07_row12_col16\" class=\"data row12 col16\" >Muebles</td>\n",
       "      <td id=\"T_d9d07_row12_col17\" class=\"data row12 col17\" >Cama</td>\n",
       "    </tr>\n",
       "    <tr>\n",
       "      <th id=\"T_d9d07_level0_row13\" class=\"row_heading level0 row13\" >13</th>\n",
       "      <td id=\"T_d9d07_row13_col0\" class=\"data row13 col0\" >96</td>\n",
       "      <td id=\"T_d9d07_row13_col1\" class=\"data row13 col1\" >7/10/2020</td>\n",
       "      <td id=\"T_d9d07_row13_col2\" class=\"data row13 col2\" >nan</td>\n",
       "      <td id=\"T_d9d07_row13_col3\" class=\"data row13 col3\" >Regular</td>\n",
       "      <td id=\"T_d9d07_row13_col4\" class=\"data row13 col4\" >35</td>\n",
       "      <td id=\"T_d9d07_row13_col5\" class=\"data row13 col5\" >472036.690000</td>\n",
       "      <td id=\"T_d9d07_row13_col6\" class=\"data row13 col6\" >0.650000</td>\n",
       "      <td id=\"T_d9d07_row13_col7\" class=\"data row13 col7\" >Aereo expreso</td>\n",
       "      <td id=\"T_d9d07_row13_col8\" class=\"data row13 col8\" >0.270000</td>\n",
       "      <td id=\"T_d9d07_row13_col9\" class=\"data row13 col9\" >1274.500000</td>\n",
       "      <td id=\"T_d9d07_row13_col10\" class=\"data row13 col10\" >13575.000000</td>\n",
       "      <td id=\"T_d9d07_row13_col11\" class=\"data row13 col11\" >18.970000</td>\n",
       "      <td id=\"T_d9d07_row13_col12\" class=\"data row13 col12\" >50.300000</td>\n",
       "      <td id=\"T_d9d07_row13_col13\" class=\"data row13 col13\" >Tamara Dahiern</td>\n",
       "      <td id=\"T_d9d07_row13_col14\" class=\"data row13 col14\" >Argentina</td>\n",
       "      <td id=\"T_d9d07_row13_col15\" class=\"data row13 col15\" >Consumidor</td>\n",
       "      <td id=\"T_d9d07_row13_col16\" class=\"data row13 col16\" >Muebles</td>\n",
       "      <td id=\"T_d9d07_row13_col17\" class=\"data row13 col17\" >Cama</td>\n",
       "    </tr>\n",
       "    <tr>\n",
       "      <th id=\"T_d9d07_level0_row14\" class=\"row_heading level0 row14\" >14</th>\n",
       "      <td id=\"T_d9d07_row14_col0\" class=\"data row14 col0\" >76</td>\n",
       "      <td id=\"T_d9d07_row14_col1\" class=\"data row14 col1\" >8/10/2020</td>\n",
       "      <td id=\"T_d9d07_row14_col2\" class=\"data row14 col2\" >nan</td>\n",
       "      <td id=\"T_d9d07_row14_col3\" class=\"data row14 col3\" >Alta</td>\n",
       "      <td id=\"T_d9d07_row14_col4\" class=\"data row14 col4\" >67</td>\n",
       "      <td id=\"T_d9d07_row14_col5\" class=\"data row14 col5\" >60853.890000</td>\n",
       "      <td id=\"T_d9d07_row14_col6\" class=\"data row14 col6\" >0.300000</td>\n",
       "      <td id=\"T_d9d07_row14_col7\" class=\"data row14 col7\" >Terrestre</td>\n",
       "      <td id=\"T_d9d07_row14_col8\" class=\"data row14 col8\" >0.400000</td>\n",
       "      <td id=\"T_d9d07_row14_col9\" class=\"data row14 col9\" >243.420000</td>\n",
       "      <td id=\"T_d9d07_row14_col10\" class=\"data row14 col10\" >911.000000</td>\n",
       "      <td id=\"T_d9d07_row14_col11\" class=\"data row14 col11\" >65.990000</td>\n",
       "      <td id=\"T_d9d07_row14_col12\" class=\"data row14 col12\" >2.580000</td>\n",
       "      <td id=\"T_d9d07_row14_col13\" class=\"data row14 col13\" >Juana Beatriz</td>\n",
       "      <td id=\"T_d9d07_row14_col14\" class=\"data row14 col14\" >Bolivia</td>\n",
       "      <td id=\"T_d9d07_row14_col15\" class=\"data row14 col15\" >Consumidor</td>\n",
       "      <td id=\"T_d9d07_row14_col16\" class=\"data row14 col16\" >Elementos de oficina</td>\n",
       "      <td id=\"T_d9d07_row14_col17\" class=\"data row14 col17\" >Click</td>\n",
       "    </tr>\n",
       "    <tr>\n",
       "      <th id=\"T_d9d07_level0_row15\" class=\"row_heading level0 row15\" >15</th>\n",
       "      <td id=\"T_d9d07_row15_col0\" class=\"data row15 col0\" >80</td>\n",
       "      <td id=\"T_d9d07_row15_col1\" class=\"data row15 col1\" >9/10/2020</td>\n",
       "      <td id=\"T_d9d07_row15_col2\" class=\"data row15 col2\" >nan</td>\n",
       "      <td id=\"T_d9d07_row15_col3\" class=\"data row15 col3\" >Regular</td>\n",
       "      <td id=\"T_d9d07_row15_col4\" class=\"data row15 col4\" >69</td>\n",
       "      <td id=\"T_d9d07_row15_col5\" class=\"data row15 col5\" >150248.670000</td>\n",
       "      <td id=\"T_d9d07_row15_col6\" class=\"data row15 col6\" >0.570000</td>\n",
       "      <td id=\"T_d9d07_row15_col7\" class=\"data row15 col7\" >Terrestre</td>\n",
       "      <td id=\"T_d9d07_row15_col8\" class=\"data row15 col8\" >0.200000</td>\n",
       "      <td id=\"T_d9d07_row15_col9\" class=\"data row15 col9\" >300.500000</td>\n",
       "      <td id=\"T_d9d07_row15_col10\" class=\"data row15 col10\" >2190.000000</td>\n",
       "      <td id=\"T_d9d07_row15_col11\" class=\"data row15 col11\" >2.080000</td>\n",
       "      <td id=\"T_d9d07_row15_col12\" class=\"data row15 col12\" >8.190000</td>\n",
       "      <td id=\"T_d9d07_row15_col13\" class=\"data row15 col13\" >Eduardo Perez</td>\n",
       "      <td id=\"T_d9d07_row15_col14\" class=\"data row15 col14\" >Bolivia</td>\n",
       "      <td id=\"T_d9d07_row15_col15\" class=\"data row15 col15\" >Negocio</td>\n",
       "      <td id=\"T_d9d07_row15_col16\" class=\"data row15 col16\" >Elementos de oficina</td>\n",
       "      <td id=\"T_d9d07_row15_col17\" class=\"data row15 col17\" >Click</td>\n",
       "    </tr>\n",
       "    <tr>\n",
       "      <th id=\"T_d9d07_level0_row16\" class=\"row_heading level0 row16\" >16</th>\n",
       "      <td id=\"T_d9d07_row16_col0\" class=\"data row16 col0\" >79</td>\n",
       "      <td id=\"T_d9d07_row16_col1\" class=\"data row16 col1\" >15/11/2021</td>\n",
       "      <td id=\"T_d9d07_row16_col2\" class=\"data row16 col2\" >nan</td>\n",
       "      <td id=\"T_d9d07_row16_col3\" class=\"data row16 col3\" >Normal</td>\n",
       "      <td id=\"T_d9d07_row16_col4\" class=\"data row16 col4\" >50</td>\n",
       "      <td id=\"T_d9d07_row16_col5\" class=\"data row16 col5\" >226771.200000</td>\n",
       "      <td id=\"T_d9d07_row16_col6\" class=\"data row16 col6\" >0.800000</td>\n",
       "      <td id=\"T_d9d07_row16_col7\" class=\"data row16 col7\" >Terrestre</td>\n",
       "      <td id=\"T_d9d07_row16_col8\" class=\"data row16 col8\" >0.210000</td>\n",
       "      <td id=\"T_d9d07_row16_col9\" class=\"data row16 col9\" >476.220000</td>\n",
       "      <td id=\"T_d9d07_row16_col10\" class=\"data row16 col10\" >4572.000000</td>\n",
       "      <td id=\"T_d9d07_row16_col11\" class=\"data row16 col11\" >38.940000</td>\n",
       "      <td id=\"T_d9d07_row16_col12\" class=\"data row16 col12\" >0.500000</td>\n",
       "      <td id=\"T_d9d07_row16_col13\" class=\"data row16 col13\" >Sonia Valdez</td>\n",
       "      <td id=\"T_d9d07_row16_col14\" class=\"data row16 col14\" >Bolivia</td>\n",
       "      <td id=\"T_d9d07_row16_col15\" class=\"data row16 col15\" >Negocio</td>\n",
       "      <td id=\"T_d9d07_row16_col16\" class=\"data row16 col16\" >Elementos de oficina</td>\n",
       "      <td id=\"T_d9d07_row16_col17\" class=\"data row16 col17\" >Click</td>\n",
       "    </tr>\n",
       "    <tr>\n",
       "      <th id=\"T_d9d07_level0_row17\" class=\"row_heading level0 row17\" >17</th>\n",
       "      <td id=\"T_d9d07_row17_col0\" class=\"data row17 col0\" >72</td>\n",
       "      <td id=\"T_d9d07_row17_col1\" class=\"data row17 col1\" >16/11/2021</td>\n",
       "      <td id=\"T_d9d07_row17_col2\" class=\"data row17 col2\" >nan</td>\n",
       "      <td id=\"T_d9d07_row17_col3\" class=\"data row17 col3\" >Alta</td>\n",
       "      <td id=\"T_d9d07_row17_col4\" class=\"data row17 col4\" >12</td>\n",
       "      <td id=\"T_d9d07_row17_col5\" class=\"data row17 col5\" >146086.920000</td>\n",
       "      <td id=\"T_d9d07_row17_col6\" class=\"data row17 col6\" >0.050000</td>\n",
       "      <td id=\"T_d9d07_row17_col7\" class=\"data row17 col7\" >Aereo expreso</td>\n",
       "      <td id=\"T_d9d07_row17_col8\" class=\"data row17 col8\" >0.320000</td>\n",
       "      <td id=\"T_d9d07_row17_col9\" class=\"data row17 col9\" >467.480000</td>\n",
       "      <td id=\"T_d9d07_row17_col10\" class=\"data row17 col10\" >12180.000000</td>\n",
       "      <td id=\"T_d9d07_row17_col11\" class=\"data row17 col11\" >130.980000</td>\n",
       "      <td id=\"T_d9d07_row17_col12\" class=\"data row17 col12\" >3.920000</td>\n",
       "      <td id=\"T_d9d07_row17_col13\" class=\"data row17 col13\" >Juan Solis</td>\n",
       "      <td id=\"T_d9d07_row17_col14\" class=\"data row17 col14\" >Argentina</td>\n",
       "      <td id=\"T_d9d07_row17_col15\" class=\"data row17 col15\" >Corporativo</td>\n",
       "      <td id=\"T_d9d07_row17_col16\" class=\"data row17 col16\" >Elementos de oficina</td>\n",
       "      <td id=\"T_d9d07_row17_col17\" class=\"data row17 col17\" >Click</td>\n",
       "    </tr>\n",
       "    <tr>\n",
       "      <th id=\"T_d9d07_level0_row18\" class=\"row_heading level0 row18\" >18</th>\n",
       "      <td id=\"T_d9d07_row18_col0\" class=\"data row18 col0\" >54</td>\n",
       "      <td id=\"T_d9d07_row18_col1\" class=\"data row18 col1\" >17/11/2021</td>\n",
       "      <td id=\"T_d9d07_row18_col2\" class=\"data row18 col2\" >nan</td>\n",
       "      <td id=\"T_d9d07_row18_col3\" class=\"data row18 col3\" >Alta</td>\n",
       "      <td id=\"T_d9d07_row18_col4\" class=\"data row18 col4\" >8</td>\n",
       "      <td id=\"T_d9d07_row18_col5\" class=\"data row18 col5\" >13834.090000</td>\n",
       "      <td id=\"T_d9d07_row18_col6\" class=\"data row18 col6\" >0.560000</td>\n",
       "      <td id=\"T_d9d07_row18_col7\" class=\"data row18 col7\" >Aereo regular</td>\n",
       "      <td id=\"T_d9d07_row18_col8\" class=\"data row18 col8\" >0.320000</td>\n",
       "      <td id=\"T_d9d07_row18_col9\" class=\"data row18 col9\" >44.270000</td>\n",
       "      <td id=\"T_d9d07_row18_col10\" class=\"data row18 col10\" >1739.000000</td>\n",
       "      <td id=\"T_d9d07_row18_col11\" class=\"data row18 col11\" >2.080000</td>\n",
       "      <td id=\"T_d9d07_row18_col12\" class=\"data row18 col12\" >54.740000</td>\n",
       "      <td id=\"T_d9d07_row18_col13\" class=\"data row18 col13\" >Arthur Gainer</td>\n",
       "      <td id=\"T_d9d07_row18_col14\" class=\"data row18 col14\" >Bolivia</td>\n",
       "      <td id=\"T_d9d07_row18_col15\" class=\"data row18 col15\" >Consumidor</td>\n",
       "      <td id=\"T_d9d07_row18_col16\" class=\"data row18 col16\" >Elementos de oficina</td>\n",
       "      <td id=\"T_d9d07_row18_col17\" class=\"data row18 col17\" >Cuaderno</td>\n",
       "    </tr>\n",
       "    <tr>\n",
       "      <th id=\"T_d9d07_level0_row19\" class=\"row_heading level0 row19\" >19</th>\n",
       "      <td id=\"T_d9d07_row19_col0\" class=\"data row19 col0\" >66</td>\n",
       "      <td id=\"T_d9d07_row19_col1\" class=\"data row19 col1\" >18/11/2021</td>\n",
       "      <td id=\"T_d9d07_row19_col2\" class=\"data row19 col2\" >nan</td>\n",
       "      <td id=\"T_d9d07_row19_col3\" class=\"data row19 col3\" >Baja</td>\n",
       "      <td id=\"T_d9d07_row19_col4\" class=\"data row19 col4\" >16</td>\n",
       "      <td id=\"T_d9d07_row19_col5\" class=\"data row19 col5\" >61374.840000</td>\n",
       "      <td id=\"T_d9d07_row19_col6\" class=\"data row19 col6\" >0.210000</td>\n",
       "      <td id=\"T_d9d07_row19_col7\" class=\"data row19 col7\" >Terrestre</td>\n",
       "      <td id=\"T_d9d07_row19_col8\" class=\"data row19 col8\" >0.370000</td>\n",
       "      <td id=\"T_d9d07_row19_col9\" class=\"data row19 col9\" >227.090000</td>\n",
       "      <td id=\"T_d9d07_row19_col10\" class=\"data row19 col10\" >3844.000000</td>\n",
       "      <td id=\"T_d9d07_row19_col11\" class=\"data row19 col11\" >125.990000</td>\n",
       "      <td id=\"T_d9d07_row19_col12\" class=\"data row19 col12\" >50.300000</td>\n",
       "      <td id=\"T_d9d07_row19_col13\" class=\"data row19 col13\" >Emily Phan</td>\n",
       "      <td id=\"T_d9d07_row19_col14\" class=\"data row19 col14\" >Peru</td>\n",
       "      <td id=\"T_d9d07_row19_col15\" class=\"data row19 col15\" >Corporativo</td>\n",
       "      <td id=\"T_d9d07_row19_col16\" class=\"data row19 col16\" >Elementos de oficina</td>\n",
       "      <td id=\"T_d9d07_row19_col17\" class=\"data row19 col17\" >Cuaderno</td>\n",
       "    </tr>\n",
       "    <tr>\n",
       "      <th id=\"T_d9d07_level0_row20\" class=\"row_heading level0 row20\" >20</th>\n",
       "      <td id=\"T_d9d07_row20_col0\" class=\"data row20 col0\" >67</td>\n",
       "      <td id=\"T_d9d07_row20_col1\" class=\"data row20 col1\" >19/11/2021</td>\n",
       "      <td id=\"T_d9d07_row20_col2\" class=\"data row20 col2\" >nan</td>\n",
       "      <td id=\"T_d9d07_row20_col3\" class=\"data row20 col3\" >Regular</td>\n",
       "      <td id=\"T_d9d07_row20_col4\" class=\"data row20 col4\" >29</td>\n",
       "      <td id=\"T_d9d07_row20_col5\" class=\"data row20 col5\" >331576.630000</td>\n",
       "      <td id=\"T_d9d07_row20_col6\" class=\"data row20 col6\" >0.160000</td>\n",
       "      <td id=\"T_d9d07_row20_col7\" class=\"data row20 col7\" >Aereo regular</td>\n",
       "      <td id=\"T_d9d07_row20_col8\" class=\"data row20 col8\" >0.300000</td>\n",
       "      <td id=\"T_d9d07_row20_col9\" class=\"data row20 col9\" >994.730000</td>\n",
       "      <td id=\"T_d9d07_row20_col10\" class=\"data row20 col10\" >11452.000000</td>\n",
       "      <td id=\"T_d9d07_row20_col11\" class=\"data row20 col11\" >2.890000</td>\n",
       "      <td id=\"T_d9d07_row20_col12\" class=\"data row20 col12\" >2.250000</td>\n",
       "      <td id=\"T_d9d07_row20_col13\" class=\"data row20 col13\" >Emily Phan</td>\n",
       "      <td id=\"T_d9d07_row20_col14\" class=\"data row20 col14\" >Colombia</td>\n",
       "      <td id=\"T_d9d07_row20_col15\" class=\"data row20 col15\" >Corporativo</td>\n",
       "      <td id=\"T_d9d07_row20_col16\" class=\"data row20 col16\" >Elementos de oficina</td>\n",
       "      <td id=\"T_d9d07_row20_col17\" class=\"data row20 col17\" >Cuaderno</td>\n",
       "    </tr>\n",
       "    <tr>\n",
       "      <th id=\"T_d9d07_level0_row21\" class=\"row_heading level0 row21\" >21</th>\n",
       "      <td id=\"T_d9d07_row21_col0\" class=\"data row21 col0\" >59</td>\n",
       "      <td id=\"T_d9d07_row21_col1\" class=\"data row21 col1\" >20/11/2021</td>\n",
       "      <td id=\"T_d9d07_row21_col2\" class=\"data row21 col2\" >nan</td>\n",
       "      <td id=\"T_d9d07_row21_col3\" class=\"data row21 col3\" >Alta</td>\n",
       "      <td id=\"T_d9d07_row21_col4\" class=\"data row21 col4\" >30</td>\n",
       "      <td id=\"T_d9d07_row21_col5\" class=\"data row21 col5\" >12648.770000</td>\n",
       "      <td id=\"T_d9d07_row21_col6\" class=\"data row21 col6\" >0.560000</td>\n",
       "      <td id=\"T_d9d07_row21_col7\" class=\"data row21 col7\" >Terrestre</td>\n",
       "      <td id=\"T_d9d07_row21_col8\" class=\"data row21 col8\" >0.320000</td>\n",
       "      <td id=\"T_d9d07_row21_col9\" class=\"data row21 col9\" >40.480000</td>\n",
       "      <td id=\"T_d9d07_row21_col10\" class=\"data row21 col10\" >424.000000</td>\n",
       "      <td id=\"T_d9d07_row21_col11\" class=\"data row21 col11\" >7.990000</td>\n",
       "      <td id=\"T_d9d07_row21_col12\" class=\"data row21 col12\" >6.270000</td>\n",
       "      <td id=\"T_d9d07_row21_col13\" class=\"data row21 col13\" >Keith Sawkins</td>\n",
       "      <td id=\"T_d9d07_row21_col14\" class=\"data row21 col14\" >Bolivia</td>\n",
       "      <td id=\"T_d9d07_row21_col15\" class=\"data row21 col15\" >Negocio</td>\n",
       "      <td id=\"T_d9d07_row21_col16\" class=\"data row21 col16\" >Elementos de oficina</td>\n",
       "      <td id=\"T_d9d07_row21_col17\" class=\"data row21 col17\" >Cuaderno</td>\n",
       "    </tr>\n",
       "    <tr>\n",
       "      <th id=\"T_d9d07_level0_row22\" class=\"row_heading level0 row22\" >22</th>\n",
       "      <td id=\"T_d9d07_row22_col0\" class=\"data row22 col0\" >63</td>\n",
       "      <td id=\"T_d9d07_row22_col1\" class=\"data row22 col1\" >21/11/2021</td>\n",
       "      <td id=\"T_d9d07_row22_col2\" class=\"data row22 col2\" >nan</td>\n",
       "      <td id=\"T_d9d07_row22_col3\" class=\"data row22 col3\" >Regular</td>\n",
       "      <td id=\"T_d9d07_row22_col4\" class=\"data row22 col4\" >9</td>\n",
       "      <td id=\"T_d9d07_row22_col5\" class=\"data row22 col5\" >81576.250000</td>\n",
       "      <td id=\"T_d9d07_row22_col6\" class=\"data row22 col6\" >0.450000</td>\n",
       "      <td id=\"T_d9d07_row22_col7\" class=\"data row22 col7\" >Aereo regular</td>\n",
       "      <td id=\"T_d9d07_row22_col8\" class=\"data row22 col8\" >0.300000</td>\n",
       "      <td id=\"T_d9d07_row22_col9\" class=\"data row22 col9\" >244.730000</td>\n",
       "      <td id=\"T_d9d07_row22_col10\" class=\"data row22 col10\" >9105.000000</td>\n",
       "      <td id=\"T_d9d07_row22_col11\" class=\"data row22 col11\" >30.930000</td>\n",
       "      <td id=\"T_d9d07_row22_col12\" class=\"data row22 col12\" >8.990000</td>\n",
       "      <td id=\"T_d9d07_row22_col13\" class=\"data row22 col13\" >Roy Collins</td>\n",
       "      <td id=\"T_d9d07_row22_col14\" class=\"data row22 col14\" >Paraguay</td>\n",
       "      <td id=\"T_d9d07_row22_col15\" class=\"data row22 col15\" >Corporativo</td>\n",
       "      <td id=\"T_d9d07_row22_col16\" class=\"data row22 col16\" >Elementos de oficina</td>\n",
       "      <td id=\"T_d9d07_row22_col17\" class=\"data row22 col17\" >Cuaderno</td>\n",
       "    </tr>\n",
       "    <tr>\n",
       "      <th id=\"T_d9d07_level0_row23\" class=\"row_heading level0 row23\" >23</th>\n",
       "      <td id=\"T_d9d07_row23_col0\" class=\"data row23 col0\" >53</td>\n",
       "      <td id=\"T_d9d07_row23_col1\" class=\"data row23 col1\" >22/11/2021</td>\n",
       "      <td id=\"T_d9d07_row23_col2\" class=\"data row23 col2\" >nan</td>\n",
       "      <td id=\"T_d9d07_row23_col3\" class=\"data row23 col3\" >Regular</td>\n",
       "      <td id=\"T_d9d07_row23_col4\" class=\"data row23 col4\" >53</td>\n",
       "      <td id=\"T_d9d07_row23_col5\" class=\"data row23 col5\" >542155.320000</td>\n",
       "      <td id=\"T_d9d07_row23_col6\" class=\"data row23 col6\" >0.840000</td>\n",
       "      <td id=\"T_d9d07_row23_col7\" class=\"data row23 col7\" >Aereo regular</td>\n",
       "      <td id=\"T_d9d07_row23_col8\" class=\"data row23 col8\" >0.390000</td>\n",
       "      <td id=\"T_d9d07_row23_col9\" class=\"data row23 col9\" >2114.410000</td>\n",
       "      <td id=\"T_d9d07_row23_col10\" class=\"data row23 col10\" >10316.000000</td>\n",
       "      <td id=\"T_d9d07_row23_col11\" class=\"data row23 col11\" >38.940000</td>\n",
       "      <td id=\"T_d9d07_row23_col12\" class=\"data row23 col12\" >9.450000</td>\n",
       "      <td id=\"T_d9d07_row23_col13\" class=\"data row23 col13\" >Tamara Dahiern</td>\n",
       "      <td id=\"T_d9d07_row23_col14\" class=\"data row23 col14\" >Bolivia</td>\n",
       "      <td id=\"T_d9d07_row23_col15\" class=\"data row23 col15\" >Oficina en casa</td>\n",
       "      <td id=\"T_d9d07_row23_col16\" class=\"data row23 col16\" >Elementos de oficina</td>\n",
       "      <td id=\"T_d9d07_row23_col17\" class=\"data row23 col17\" >Cuaderno</td>\n",
       "    </tr>\n",
       "    <tr>\n",
       "      <th id=\"T_d9d07_level0_row24\" class=\"row_heading level0 row24\" >24</th>\n",
       "      <td id=\"T_d9d07_row24_col0\" class=\"data row24 col0\" >69</td>\n",
       "      <td id=\"T_d9d07_row24_col1\" class=\"data row24 col1\" >23/11/2021</td>\n",
       "      <td id=\"T_d9d07_row24_col2\" class=\"data row24 col2\" >nan</td>\n",
       "      <td id=\"T_d9d07_row24_col3\" class=\"data row24 col3\" >Baja</td>\n",
       "      <td id=\"T_d9d07_row24_col4\" class=\"data row24 col4\" >51</td>\n",
       "      <td id=\"T_d9d07_row24_col5\" class=\"data row24 col5\" >683824.510000</td>\n",
       "      <td id=\"T_d9d07_row24_col6\" class=\"data row24 col6\" >0.870000</td>\n",
       "      <td id=\"T_d9d07_row24_col7\" class=\"data row24 col7\" >Aereo expreso</td>\n",
       "      <td id=\"T_d9d07_row24_col8\" class=\"data row24 col8\" >0.370000</td>\n",
       "      <td id=\"T_d9d07_row24_col9\" class=\"data row24 col9\" >2530.150000</td>\n",
       "      <td id=\"T_d9d07_row24_col10\" class=\"data row24 col10\" >13526.000000</td>\n",
       "      <td id=\"T_d9d07_row24_col11\" class=\"data row24 col11\" >150.980000</td>\n",
       "      <td id=\"T_d9d07_row24_col12\" class=\"data row24 col12\" >4.200000</td>\n",
       "      <td id=\"T_d9d07_row24_col13\" class=\"data row24 col13\" >Anne Pryre</td>\n",
       "      <td id=\"T_d9d07_row24_col14\" class=\"data row24 col14\" >Chile</td>\n",
       "      <td id=\"T_d9d07_row24_col15\" class=\"data row24 col15\" >Corporativo</td>\n",
       "      <td id=\"T_d9d07_row24_col16\" class=\"data row24 col16\" >Muebles</td>\n",
       "      <td id=\"T_d9d07_row24_col17\" class=\"data row24 col17\" >Escritorio</td>\n",
       "    </tr>\n",
       "    <tr>\n",
       "      <th id=\"T_d9d07_level0_row25\" class=\"row_heading level0 row25\" >25</th>\n",
       "      <td id=\"T_d9d07_row25_col0\" class=\"data row25 col0\" >57</td>\n",
       "      <td id=\"T_d9d07_row25_col1\" class=\"data row25 col1\" >24/11/2021</td>\n",
       "      <td id=\"T_d9d07_row25_col2\" class=\"data row25 col2\" >nan</td>\n",
       "      <td id=\"T_d9d07_row25_col3\" class=\"data row25 col3\" >Baja</td>\n",
       "      <td id=\"T_d9d07_row25_col4\" class=\"data row25 col4\" >63</td>\n",
       "      <td id=\"T_d9d07_row25_col5\" class=\"data row25 col5\" >58222.660000</td>\n",
       "      <td id=\"T_d9d07_row25_col6\" class=\"data row25 col6\" >0.520000</td>\n",
       "      <td id=\"T_d9d07_row25_col7\" class=\"data row25 col7\" >Aereo expreso</td>\n",
       "      <td id=\"T_d9d07_row25_col8\" class=\"data row25 col8\" >0.320000</td>\n",
       "      <td id=\"T_d9d07_row25_col9\" class=\"data row25 col9\" >186.310000</td>\n",
       "      <td id=\"T_d9d07_row25_col10\" class=\"data row25 col10\" >929.000000</td>\n",
       "      <td id=\"T_d9d07_row25_col11\" class=\"data row25 col11\" >107.530000</td>\n",
       "      <td id=\"T_d9d07_row25_col12\" class=\"data row25 col12\" >4.620000</td>\n",
       "      <td id=\"T_d9d07_row25_col13\" class=\"data row25 col13\" >Helen Wasserman</td>\n",
       "      <td id=\"T_d9d07_row25_col14\" class=\"data row25 col14\" >Bolivia</td>\n",
       "      <td id=\"T_d9d07_row25_col15\" class=\"data row25 col15\" >Negocio</td>\n",
       "      <td id=\"T_d9d07_row25_col16\" class=\"data row25 col16\" >Muebles</td>\n",
       "      <td id=\"T_d9d07_row25_col17\" class=\"data row25 col17\" >Escritorio</td>\n",
       "    </tr>\n",
       "    <tr>\n",
       "      <th id=\"T_d9d07_level0_row26\" class=\"row_heading level0 row26\" >26</th>\n",
       "      <td id=\"T_d9d07_row26_col0\" class=\"data row26 col0\" >56</td>\n",
       "      <td id=\"T_d9d07_row26_col1\" class=\"data row26 col1\" >25/11/2021</td>\n",
       "      <td id=\"T_d9d07_row26_col2\" class=\"data row26 col2\" >nan</td>\n",
       "      <td id=\"T_d9d07_row26_col3\" class=\"data row26 col3\" >Normal</td>\n",
       "      <td id=\"T_d9d07_row26_col4\" class=\"data row26 col4\" >20</td>\n",
       "      <td id=\"T_d9d07_row26_col5\" class=\"data row26 col5\" >282498.930000</td>\n",
       "      <td id=\"T_d9d07_row26_col6\" class=\"data row26 col6\" >0.170000</td>\n",
       "      <td id=\"T_d9d07_row26_col7\" class=\"data row26 col7\" >Terrestre</td>\n",
       "      <td id=\"T_d9d07_row26_col8\" class=\"data row26 col8\" >0.380000</td>\n",
       "      <td id=\"T_d9d07_row26_col9\" class=\"data row26 col9\" >1073.500000</td>\n",
       "      <td id=\"T_d9d07_row26_col10\" class=\"data row26 col10\" >14149.000000</td>\n",
       "      <td id=\"T_d9d07_row26_col11\" class=\"data row26 col11\" >5.810000</td>\n",
       "      <td id=\"T_d9d07_row26_col12\" class=\"data row26 col12\" >35.000000</td>\n",
       "      <td id=\"T_d9d07_row26_col13\" class=\"data row26 col13\" >Jonathan Doherty</td>\n",
       "      <td id=\"T_d9d07_row26_col14\" class=\"data row26 col14\" >Bolivia</td>\n",
       "      <td id=\"T_d9d07_row26_col15\" class=\"data row26 col15\" >Consumidor</td>\n",
       "      <td id=\"T_d9d07_row26_col16\" class=\"data row26 col16\" >Muebles</td>\n",
       "      <td id=\"T_d9d07_row26_col17\" class=\"data row26 col17\" >Escritorio</td>\n",
       "    </tr>\n",
       "    <tr>\n",
       "      <th id=\"T_d9d07_level0_row27\" class=\"row_heading level0 row27\" >27</th>\n",
       "      <td id=\"T_d9d07_row27_col0\" class=\"data row27 col0\" >44</td>\n",
       "      <td id=\"T_d9d07_row27_col1\" class=\"data row27 col1\" >25/10/2022</td>\n",
       "      <td id=\"T_d9d07_row27_col2\" class=\"data row27 col2\" >nan</td>\n",
       "      <td id=\"T_d9d07_row27_col3\" class=\"data row27 col3\" >Alta</td>\n",
       "      <td id=\"T_d9d07_row27_col4\" class=\"data row27 col4\" >20</td>\n",
       "      <td id=\"T_d9d07_row27_col5\" class=\"data row27 col5\" >152397.230000</td>\n",
       "      <td id=\"T_d9d07_row27_col6\" class=\"data row27 col6\" >0.420000</td>\n",
       "      <td id=\"T_d9d07_row27_col7\" class=\"data row27 col7\" >Aereo expreso</td>\n",
       "      <td id=\"T_d9d07_row27_col8\" class=\"data row27 col8\" >0.200000</td>\n",
       "      <td id=\"T_d9d07_row27_col9\" class=\"data row27 col9\" >304.790000</td>\n",
       "      <td id=\"T_d9d07_row27_col10\" class=\"data row27 col10\" >7652.000000</td>\n",
       "      <td id=\"T_d9d07_row27_col11\" class=\"data row27 col11\" >18.970000</td>\n",
       "      <td id=\"T_d9d07_row27_col12\" class=\"data row27 col12\" >3.920000</td>\n",
       "      <td id=\"T_d9d07_row27_col13\" class=\"data row27 col13\" >Roy Collins</td>\n",
       "      <td id=\"T_d9d07_row27_col14\" class=\"data row27 col14\" >Paraguay</td>\n",
       "      <td id=\"T_d9d07_row27_col15\" class=\"data row27 col15\" >Corporativo</td>\n",
       "      <td id=\"T_d9d07_row27_col16\" class=\"data row27 col16\" >Muebles</td>\n",
       "      <td id=\"T_d9d07_row27_col17\" class=\"data row27 col17\" >Escritorio</td>\n",
       "    </tr>\n",
       "    <tr>\n",
       "      <th id=\"T_d9d07_level0_row28\" class=\"row_heading level0 row28\" >28</th>\n",
       "      <td id=\"T_d9d07_row28_col0\" class=\"data row28 col0\" >49</td>\n",
       "      <td id=\"T_d9d07_row28_col1\" class=\"data row28 col1\" >26/10/2022</td>\n",
       "      <td id=\"T_d9d07_row28_col2\" class=\"data row28 col2\" >nan</td>\n",
       "      <td id=\"T_d9d07_row28_col3\" class=\"data row28 col3\" >Alta</td>\n",
       "      <td id=\"T_d9d07_row28_col4\" class=\"data row28 col4\" >70</td>\n",
       "      <td id=\"T_d9d07_row28_col5\" class=\"data row28 col5\" >999484.290000</td>\n",
       "      <td id=\"T_d9d07_row28_col6\" class=\"data row28 col6\" >0.700000</td>\n",
       "      <td id=\"T_d9d07_row28_col7\" class=\"data row28 col7\" >Aereo regular</td>\n",
       "      <td id=\"T_d9d07_row28_col8\" class=\"data row28 col8\" >0.240000</td>\n",
       "      <td id=\"T_d9d07_row28_col9\" class=\"data row28 col9\" >2398.760000</td>\n",
       "      <td id=\"T_d9d07_row28_col10\" class=\"data row28 col10\" >14379.000000</td>\n",
       "      <td id=\"T_d9d07_row28_col11\" class=\"data row28 col11\" >4.980000</td>\n",
       "      <td id=\"T_d9d07_row28_col12\" class=\"data row28 col12\" >0.500000</td>\n",
       "      <td id=\"T_d9d07_row28_col13\" class=\"data row28 col13\" >Liz Pelletier</td>\n",
       "      <td id=\"T_d9d07_row28_col14\" class=\"data row28 col14\" >Ecuador</td>\n",
       "      <td id=\"T_d9d07_row28_col15\" class=\"data row28 col15\" >Corporativo</td>\n",
       "      <td id=\"T_d9d07_row28_col16\" class=\"data row28 col16\" >Muebles</td>\n",
       "      <td id=\"T_d9d07_row28_col17\" class=\"data row28 col17\" >Escritorio</td>\n",
       "    </tr>\n",
       "    <tr>\n",
       "      <th id=\"T_d9d07_level0_row29\" class=\"row_heading level0 row29\" >29</th>\n",
       "      <td id=\"T_d9d07_row29_col0\" class=\"data row29 col0\" >62</td>\n",
       "      <td id=\"T_d9d07_row29_col1\" class=\"data row29 col1\" >27/10/2022</td>\n",
       "      <td id=\"T_d9d07_row29_col2\" class=\"data row29 col2\" >nan</td>\n",
       "      <td id=\"T_d9d07_row29_col3\" class=\"data row29 col3\" >Alta</td>\n",
       "      <td id=\"T_d9d07_row29_col4\" class=\"data row29 col4\" >63</td>\n",
       "      <td id=\"T_d9d07_row29_col5\" class=\"data row29 col5\" >535383.900000</td>\n",
       "      <td id=\"T_d9d07_row29_col6\" class=\"data row29 col6\" >0.420000</td>\n",
       "      <td id=\"T_d9d07_row29_col7\" class=\"data row29 col7\" >Aereo regular</td>\n",
       "      <td id=\"T_d9d07_row29_col8\" class=\"data row29 col8\" >0.250000</td>\n",
       "      <td id=\"T_d9d07_row29_col9\" class=\"data row29 col9\" >1338.460000</td>\n",
       "      <td id=\"T_d9d07_row29_col10\" class=\"data row29 col10\" >8534.000000</td>\n",
       "      <td id=\"T_d9d07_row29_col11\" class=\"data row29 col11\" >2.880000</td>\n",
       "      <td id=\"T_d9d07_row29_col12\" class=\"data row29 col12\" >2.560000</td>\n",
       "      <td id=\"T_d9d07_row29_col13\" class=\"data row29 col13\" >Pauline Chand</td>\n",
       "      <td id=\"T_d9d07_row29_col14\" class=\"data row29 col14\" >Paraguay</td>\n",
       "      <td id=\"T_d9d07_row29_col15\" class=\"data row29 col15\" >Negocio</td>\n",
       "      <td id=\"T_d9d07_row29_col16\" class=\"data row29 col16\" >Muebles</td>\n",
       "      <td id=\"T_d9d07_row29_col17\" class=\"data row29 col17\" >Escritorio</td>\n",
       "    </tr>\n",
       "    <tr>\n",
       "      <th id=\"T_d9d07_level0_row30\" class=\"row_heading level0 row30\" >30</th>\n",
       "      <td id=\"T_d9d07_row30_col0\" class=\"data row30 col0\" >70</td>\n",
       "      <td id=\"T_d9d07_row30_col1\" class=\"data row30 col1\" >28/10/2022</td>\n",
       "      <td id=\"T_d9d07_row30_col2\" class=\"data row30 col2\" >nan</td>\n",
       "      <td id=\"T_d9d07_row30_col3\" class=\"data row30 col3\" >Baja</td>\n",
       "      <td id=\"T_d9d07_row30_col4\" class=\"data row30 col4\" >54</td>\n",
       "      <td id=\"T_d9d07_row30_col5\" class=\"data row30 col5\" >732702.800000</td>\n",
       "      <td id=\"T_d9d07_row30_col6\" class=\"data row30 col6\" >0.040000</td>\n",
       "      <td id=\"T_d9d07_row30_col7\" class=\"data row30 col7\" >Aereo expreso</td>\n",
       "      <td id=\"T_d9d07_row30_col8\" class=\"data row30 col8\" >0.270000</td>\n",
       "      <td id=\"T_d9d07_row30_col9\" class=\"data row30 col9\" >1978.300000</td>\n",
       "      <td id=\"T_d9d07_row30_col10\" class=\"data row30 col10\" >13574.000000</td>\n",
       "      <td id=\"T_d9d07_row30_col11\" class=\"data row30 col11\" >18.970000</td>\n",
       "      <td id=\"T_d9d07_row30_col12\" class=\"data row30 col12\" >1.990000</td>\n",
       "      <td id=\"T_d9d07_row30_col13\" class=\"data row30 col13\" >Valerie Takahito</td>\n",
       "      <td id=\"T_d9d07_row30_col14\" class=\"data row30 col14\" >Chile</td>\n",
       "      <td id=\"T_d9d07_row30_col15\" class=\"data row30 col15\" >Corporativo</td>\n",
       "      <td id=\"T_d9d07_row30_col16\" class=\"data row30 col16\" >Muebles</td>\n",
       "      <td id=\"T_d9d07_row30_col17\" class=\"data row30 col17\" >Escritorio</td>\n",
       "    </tr>\n",
       "    <tr>\n",
       "      <th id=\"T_d9d07_level0_row31\" class=\"row_heading level0 row31\" >31</th>\n",
       "      <td id=\"T_d9d07_row31_col0\" class=\"data row31 col0\" >58</td>\n",
       "      <td id=\"T_d9d07_row31_col1\" class=\"data row31 col1\" >29/10/2022</td>\n",
       "      <td id=\"T_d9d07_row31_col2\" class=\"data row31 col2\" >nan</td>\n",
       "      <td id=\"T_d9d07_row31_col3\" class=\"data row31 col3\" >Regular</td>\n",
       "      <td id=\"T_d9d07_row31_col4\" class=\"data row31 col4\" >16</td>\n",
       "      <td id=\"T_d9d07_row31_col5\" class=\"data row31 col5\" >140025.870000</td>\n",
       "      <td id=\"T_d9d07_row31_col6\" class=\"data row31 col6\" >0.380000</td>\n",
       "      <td id=\"T_d9d07_row31_col7\" class=\"data row31 col7\" >Aereo regular</td>\n",
       "      <td id=\"T_d9d07_row31_col8\" class=\"data row31 col8\" >0.270000</td>\n",
       "      <td id=\"T_d9d07_row31_col9\" class=\"data row31 col9\" >378.070000</td>\n",
       "      <td id=\"T_d9d07_row31_col10\" class=\"data row31 col10\" >8785.000000</td>\n",
       "      <td id=\"T_d9d07_row31_col11\" class=\"data row31 col11\" >70.890000</td>\n",
       "      <td id=\"T_d9d07_row31_col12\" class=\"data row31 col12\" >8.990000</td>\n",
       "      <td id=\"T_d9d07_row31_col13\" class=\"data row31 col13\" >Helen Wasserman</td>\n",
       "      <td id=\"T_d9d07_row31_col14\" class=\"data row31 col14\" >Bolivia</td>\n",
       "      <td id=\"T_d9d07_row31_col15\" class=\"data row31 col15\" >Negocio</td>\n",
       "      <td id=\"T_d9d07_row31_col16\" class=\"data row31 col16\" >Tecnologia</td>\n",
       "      <td id=\"T_d9d07_row31_col17\" class=\"data row31 col17\" >Fuente</td>\n",
       "    </tr>\n",
       "    <tr>\n",
       "      <th id=\"T_d9d07_level0_row32\" class=\"row_heading level0 row32\" >32</th>\n",
       "      <td id=\"T_d9d07_row32_col0\" class=\"data row32 col0\" >55</td>\n",
       "      <td id=\"T_d9d07_row32_col1\" class=\"data row32 col1\" >30/10/2022</td>\n",
       "      <td id=\"T_d9d07_row32_col2\" class=\"data row32 col2\" >nan</td>\n",
       "      <td id=\"T_d9d07_row32_col3\" class=\"data row32 col3\" >Critica</td>\n",
       "      <td id=\"T_d9d07_row32_col4\" class=\"data row32 col4\" >34</td>\n",
       "      <td id=\"T_d9d07_row32_col5\" class=\"data row32 col5\" >84143.380000</td>\n",
       "      <td id=\"T_d9d07_row32_col6\" class=\"data row32 col6\" >0.690000</td>\n",
       "      <td id=\"T_d9d07_row32_col7\" class=\"data row32 col7\" >Aereo regular</td>\n",
       "      <td id=\"T_d9d07_row32_col8\" class=\"data row32 col8\" >0.250000</td>\n",
       "      <td id=\"T_d9d07_row32_col9\" class=\"data row32 col9\" >210.360000</td>\n",
       "      <td id=\"T_d9d07_row32_col10\" class=\"data row32 col10\" >2492.000000</td>\n",
       "      <td id=\"T_d9d07_row32_col11\" class=\"data row32 col11\" >8.460000</td>\n",
       "      <td id=\"T_d9d07_row32_col12\" class=\"data row32 col12\" >5.030000</td>\n",
       "      <td id=\"T_d9d07_row32_col13\" class=\"data row32 col13\" >Jonathan Doherty</td>\n",
       "      <td id=\"T_d9d07_row32_col14\" class=\"data row32 col14\" >Bolivia</td>\n",
       "      <td id=\"T_d9d07_row32_col15\" class=\"data row32 col15\" >Consumidor</td>\n",
       "      <td id=\"T_d9d07_row32_col16\" class=\"data row32 col16\" >Tecnologia</td>\n",
       "      <td id=\"T_d9d07_row32_col17\" class=\"data row32 col17\" >Fuente</td>\n",
       "    </tr>\n",
       "    <tr>\n",
       "      <th id=\"T_d9d07_level0_row33\" class=\"row_heading level0 row33\" >33</th>\n",
       "      <td id=\"T_d9d07_row33_col0\" class=\"data row33 col0\" >51</td>\n",
       "      <td id=\"T_d9d07_row33_col1\" class=\"data row33 col1\" >31/10/2022</td>\n",
       "      <td id=\"T_d9d07_row33_col2\" class=\"data row33 col2\" >nan</td>\n",
       "      <td id=\"T_d9d07_row33_col3\" class=\"data row33 col3\" >Normal</td>\n",
       "      <td id=\"T_d9d07_row33_col4\" class=\"data row33 col4\" >12</td>\n",
       "      <td id=\"T_d9d07_row33_col5\" class=\"data row33 col5\" >91909.370000</td>\n",
       "      <td id=\"T_d9d07_row33_col6\" class=\"data row33 col6\" >0.660000</td>\n",
       "      <td id=\"T_d9d07_row33_col7\" class=\"data row33 col7\" >Terrestre</td>\n",
       "      <td id=\"T_d9d07_row33_col8\" class=\"data row33 col8\" >0.340000</td>\n",
       "      <td id=\"T_d9d07_row33_col9\" class=\"data row33 col9\" >312.490000</td>\n",
       "      <td id=\"T_d9d07_row33_col10\" class=\"data row33 col10\" >7710.000000</td>\n",
       "      <td id=\"T_d9d07_row33_col11\" class=\"data row33 col11\" >12.440000</td>\n",
       "      <td id=\"T_d9d07_row33_col12\" class=\"data row33 col12\" >13.990000</td>\n",
       "      <td id=\"T_d9d07_row33_col13\" class=\"data row33 col13\" >Julie Creighton</td>\n",
       "      <td id=\"T_d9d07_row33_col14\" class=\"data row33 col14\" >Paraguay</td>\n",
       "      <td id=\"T_d9d07_row33_col15\" class=\"data row33 col15\" >Corporativo</td>\n",
       "      <td id=\"T_d9d07_row33_col16\" class=\"data row33 col16\" >Tecnologia</td>\n",
       "      <td id=\"T_d9d07_row33_col17\" class=\"data row33 col17\" >Fuente</td>\n",
       "    </tr>\n",
       "    <tr>\n",
       "      <th id=\"T_d9d07_level0_row34\" class=\"row_heading level0 row34\" >34</th>\n",
       "      <td id=\"T_d9d07_row34_col0\" class=\"data row34 col0\" >60</td>\n",
       "      <td id=\"T_d9d07_row34_col1\" class=\"data row34 col1\" >6/11/2023</td>\n",
       "      <td id=\"T_d9d07_row34_col2\" class=\"data row34 col2\" >nan</td>\n",
       "      <td id=\"T_d9d07_row34_col3\" class=\"data row34 col3\" >Alta</td>\n",
       "      <td id=\"T_d9d07_row34_col4\" class=\"data row34 col4\" >21</td>\n",
       "      <td id=\"T_d9d07_row34_col5\" class=\"data row34 col5\" >258514.470000</td>\n",
       "      <td id=\"T_d9d07_row34_col6\" class=\"data row34 col6\" >0.660000</td>\n",
       "      <td id=\"T_d9d07_row34_col7\" class=\"data row34 col7\" >Aereo regular</td>\n",
       "      <td id=\"T_d9d07_row34_col8\" class=\"data row34 col8\" >0.340000</td>\n",
       "      <td id=\"T_d9d07_row34_col9\" class=\"data row34 col9\" >878.950000</td>\n",
       "      <td id=\"T_d9d07_row34_col10\" class=\"data row34 col10\" >12392.000000</td>\n",
       "      <td id=\"T_d9d07_row34_col11\" class=\"data row34 col11\" >9.110000</td>\n",
       "      <td id=\"T_d9d07_row34_col12\" class=\"data row34 col12\" >7.980000</td>\n",
       "      <td id=\"T_d9d07_row34_col13\" class=\"data row34 col13\" >Keith Sawkins</td>\n",
       "      <td id=\"T_d9d07_row34_col14\" class=\"data row34 col14\" >Argentina</td>\n",
       "      <td id=\"T_d9d07_row34_col15\" class=\"data row34 col15\" >Negocio</td>\n",
       "      <td id=\"T_d9d07_row34_col16\" class=\"data row34 col16\" >Tecnologia</td>\n",
       "      <td id=\"T_d9d07_row34_col17\" class=\"data row34 col17\" >Fuente</td>\n",
       "    </tr>\n",
       "    <tr>\n",
       "      <th id=\"T_d9d07_level0_row35\" class=\"row_heading level0 row35\" >35</th>\n",
       "      <td id=\"T_d9d07_row35_col0\" class=\"data row35 col0\" >47</td>\n",
       "      <td id=\"T_d9d07_row35_col1\" class=\"data row35 col1\" >12/11/2023</td>\n",
       "      <td id=\"T_d9d07_row35_col2\" class=\"data row35 col2\" >nan</td>\n",
       "      <td id=\"T_d9d07_row35_col3\" class=\"data row35 col3\" >Alta</td>\n",
       "      <td id=\"T_d9d07_row35_col4\" class=\"data row35 col4\" >50</td>\n",
       "      <td id=\"T_d9d07_row35_col5\" class=\"data row35 col5\" >13514.770000</td>\n",
       "      <td id=\"T_d9d07_row35_col6\" class=\"data row35 col6\" >0.260000</td>\n",
       "      <td id=\"T_d9d07_row35_col7\" class=\"data row35 col7\" >Terrestre</td>\n",
       "      <td id=\"T_d9d07_row35_col8\" class=\"data row35 col8\" >0.380000</td>\n",
       "      <td id=\"T_d9d07_row35_col9\" class=\"data row35 col9\" >51.360000</td>\n",
       "      <td id=\"T_d9d07_row35_col10\" class=\"data row35 col10\" >271.000000</td>\n",
       "      <td id=\"T_d9d07_row35_col11\" class=\"data row35 col11\" >7.990000</td>\n",
       "      <td id=\"T_d9d07_row35_col12\" class=\"data row35 col12\" >5.990000</td>\n",
       "      <td id=\"T_d9d07_row35_col13\" class=\"data row35 col13\" >Liz Pelletier</td>\n",
       "      <td id=\"T_d9d07_row35_col14\" class=\"data row35 col14\" >Argentina</td>\n",
       "      <td id=\"T_d9d07_row35_col15\" class=\"data row35 col15\" >Corporativo</td>\n",
       "      <td id=\"T_d9d07_row35_col16\" class=\"data row35 col16\" >Tecnologia</td>\n",
       "      <td id=\"T_d9d07_row35_col17\" class=\"data row35 col17\" >Fuente</td>\n",
       "    </tr>\n",
       "    <tr>\n",
       "      <th id=\"T_d9d07_level0_row36\" class=\"row_heading level0 row36\" >36</th>\n",
       "      <td id=\"T_d9d07_row36_col0\" class=\"data row36 col0\" >48</td>\n",
       "      <td id=\"T_d9d07_row36_col1\" class=\"data row36 col1\" >13/11/2023</td>\n",
       "      <td id=\"T_d9d07_row36_col2\" class=\"data row36 col2\" >nan</td>\n",
       "      <td id=\"T_d9d07_row36_col3\" class=\"data row36 col3\" >Alta</td>\n",
       "      <td id=\"T_d9d07_row36_col4\" class=\"data row36 col4\" >50</td>\n",
       "      <td id=\"T_d9d07_row36_col5\" class=\"data row36 col5\" >699909.100000</td>\n",
       "      <td id=\"T_d9d07_row36_col6\" class=\"data row36 col6\" >0.120000</td>\n",
       "      <td id=\"T_d9d07_row36_col7\" class=\"data row36 col7\" >Aereo regular</td>\n",
       "      <td id=\"T_d9d07_row36_col8\" class=\"data row36 col8\" >0.270000</td>\n",
       "      <td id=\"T_d9d07_row36_col9\" class=\"data row36 col9\" >1889.750000</td>\n",
       "      <td id=\"T_d9d07_row36_col10\" class=\"data row36 col10\" >14015.000000</td>\n",
       "      <td id=\"T_d9d07_row36_col11\" class=\"data row36 col11\" >95.990000</td>\n",
       "      <td id=\"T_d9d07_row36_col12\" class=\"data row36 col12\" >8.990000</td>\n",
       "      <td id=\"T_d9d07_row36_col13\" class=\"data row36 col13\" >Liz Pelletier</td>\n",
       "      <td id=\"T_d9d07_row36_col14\" class=\"data row36 col14\" >Argentina</td>\n",
       "      <td id=\"T_d9d07_row36_col15\" class=\"data row36 col15\" >Corporativo</td>\n",
       "      <td id=\"T_d9d07_row36_col16\" class=\"data row36 col16\" >Tecnologia</td>\n",
       "      <td id=\"T_d9d07_row36_col17\" class=\"data row36 col17\" >Fuente</td>\n",
       "    </tr>\n",
       "    <tr>\n",
       "      <th id=\"T_d9d07_level0_row37\" class=\"row_heading level0 row37\" >37</th>\n",
       "      <td id=\"T_d9d07_row37_col0\" class=\"data row37 col0\" >52</td>\n",
       "      <td id=\"T_d9d07_row37_col1\" class=\"data row37 col1\" >9/12/2023</td>\n",
       "      <td id=\"T_d9d07_row37_col2\" class=\"data row37 col2\" >nan</td>\n",
       "      <td id=\"T_d9d07_row37_col3\" class=\"data row37 col3\" >Regular</td>\n",
       "      <td id=\"T_d9d07_row37_col4\" class=\"data row37 col4\" >6</td>\n",
       "      <td id=\"T_d9d07_row37_col5\" class=\"data row37 col5\" >12049.110000</td>\n",
       "      <td id=\"T_d9d07_row37_col6\" class=\"data row37 col6\" >0.140000</td>\n",
       "      <td id=\"T_d9d07_row37_col7\" class=\"data row37 col7\" >Aereo regular</td>\n",
       "      <td id=\"T_d9d07_row37_col8\" class=\"data row37 col8\" >0.200000</td>\n",
       "      <td id=\"T_d9d07_row37_col9\" class=\"data row37 col9\" >24.100000</td>\n",
       "      <td id=\"T_d9d07_row37_col10\" class=\"data row37 col10\" >2011.000000</td>\n",
       "      <td id=\"T_d9d07_row37_col11\" class=\"data row37 col11\" >7.280000</td>\n",
       "      <td id=\"T_d9d07_row37_col12\" class=\"data row37 col12\" >9.030000</td>\n",
       "      <td id=\"T_d9d07_row37_col13\" class=\"data row37 col13\" >Sampie Company A</td>\n",
       "      <td id=\"T_d9d07_row37_col14\" class=\"data row37 col14\" >Bolivia</td>\n",
       "      <td id=\"T_d9d07_row37_col15\" class=\"data row37 col15\" >Oficina en casa</td>\n",
       "      <td id=\"T_d9d07_row37_col16\" class=\"data row37 col16\" >Tecnologia</td>\n",
       "      <td id=\"T_d9d07_row37_col17\" class=\"data row37 col17\" >Fuente</td>\n",
       "    </tr>\n",
       "    <tr>\n",
       "      <th id=\"T_d9d07_level0_row38\" class=\"row_heading level0 row38\" >38</th>\n",
       "      <td id=\"T_d9d07_row38_col0\" class=\"data row38 col0\" >11</td>\n",
       "      <td id=\"T_d9d07_row38_col1\" class=\"data row38 col1\" >14/10/2023</td>\n",
       "      <td id=\"T_d9d07_row38_col2\" class=\"data row38 col2\" >nan</td>\n",
       "      <td id=\"T_d9d07_row38_col3\" class=\"data row38 col3\" >Regular</td>\n",
       "      <td id=\"T_d9d07_row38_col4\" class=\"data row38 col4\" >41</td>\n",
       "      <td id=\"T_d9d07_row38_col5\" class=\"data row38 col5\" >516056.730000</td>\n",
       "      <td id=\"T_d9d07_row38_col6\" class=\"data row38 col6\" >0.610000</td>\n",
       "      <td id=\"T_d9d07_row38_col7\" class=\"data row38 col7\" >Aereo expreso</td>\n",
       "      <td id=\"T_d9d07_row38_col8\" class=\"data row38 col8\" >0.310000</td>\n",
       "      <td id=\"T_d9d07_row38_col9\" class=\"data row38 col9\" >1599.780000</td>\n",
       "      <td id=\"T_d9d07_row38_col10\" class=\"data row38 col10\" >12664.000000</td>\n",
       "      <td id=\"T_d9d07_row38_col11\" class=\"data row38 col11\" >30.930000</td>\n",
       "      <td id=\"T_d9d07_row38_col12\" class=\"data row38 col12\" >0.700000</td>\n",
       "      <td id=\"T_d9d07_row38_col13\" class=\"data row38 col13\" >Jonathan Doherty</td>\n",
       "      <td id=\"T_d9d07_row38_col14\" class=\"data row38 col14\" >Bolivia</td>\n",
       "      <td id=\"T_d9d07_row38_col15\" class=\"data row38 col15\" >Oficina en casa</td>\n",
       "      <td id=\"T_d9d07_row38_col16\" class=\"data row38 col16\" >Elementos de oficina</td>\n",
       "      <td id=\"T_d9d07_row38_col17\" class=\"data row38 col17\" >Hojas A4</td>\n",
       "    </tr>\n",
       "    <tr>\n",
       "      <th id=\"T_d9d07_level0_row39\" class=\"row_heading level0 row39\" >39</th>\n",
       "      <td id=\"T_d9d07_row39_col0\" class=\"data row39 col0\" >14</td>\n",
       "      <td id=\"T_d9d07_row39_col1\" class=\"data row39 col1\" >3/11/2023</td>\n",
       "      <td id=\"T_d9d07_row39_col2\" class=\"data row39 col2\" >nan</td>\n",
       "      <td id=\"T_d9d07_row39_col3\" class=\"data row39 col3\" >Baja</td>\n",
       "      <td id=\"T_d9d07_row39_col4\" class=\"data row39 col4\" >48</td>\n",
       "      <td id=\"T_d9d07_row39_col5\" class=\"data row39 col5\" >580616.060000</td>\n",
       "      <td id=\"T_d9d07_row39_col6\" class=\"data row39 col6\" >0.320000</td>\n",
       "      <td id=\"T_d9d07_row39_col7\" class=\"data row39 col7\" >Aereo regular</td>\n",
       "      <td id=\"T_d9d07_row39_col8\" class=\"data row39 col8\" >0.350000</td>\n",
       "      <td id=\"T_d9d07_row39_col9\" class=\"data row39 col9\" >2032.160000</td>\n",
       "      <td id=\"T_d9d07_row39_col10\" class=\"data row39 col10\" >12135.000000</td>\n",
       "      <td id=\"T_d9d07_row39_col11\" class=\"data row39 col11\" >125.990000</td>\n",
       "      <td id=\"T_d9d07_row39_col12\" class=\"data row39 col12\" >3.920000</td>\n",
       "      <td id=\"T_d9d07_row39_col13\" class=\"data row39 col13\" >Keith Sawkins</td>\n",
       "      <td id=\"T_d9d07_row39_col14\" class=\"data row39 col14\" >Paraguay</td>\n",
       "      <td id=\"T_d9d07_row39_col15\" class=\"data row39 col15\" >Consumidor</td>\n",
       "      <td id=\"T_d9d07_row39_col16\" class=\"data row39 col16\" >Elementos de oficina</td>\n",
       "      <td id=\"T_d9d07_row39_col17\" class=\"data row39 col17\" >Hojas A4</td>\n",
       "    </tr>\n",
       "    <tr>\n",
       "      <th id=\"T_d9d07_level0_row40\" class=\"row_heading level0 row40\" >40</th>\n",
       "      <td id=\"T_d9d07_row40_col0\" class=\"data row40 col0\" >2</td>\n",
       "      <td id=\"T_d9d07_row40_col1\" class=\"data row40 col1\" >7/11/2023</td>\n",
       "      <td id=\"T_d9d07_row40_col2\" class=\"data row40 col2\" >nan</td>\n",
       "      <td id=\"T_d9d07_row40_col3\" class=\"data row40 col3\" >Regular</td>\n",
       "      <td id=\"T_d9d07_row40_col4\" class=\"data row40 col4\" >2</td>\n",
       "      <td id=\"T_d9d07_row40_col5\" class=\"data row40 col5\" >15656.400000</td>\n",
       "      <td id=\"T_d9d07_row40_col6\" class=\"data row40 col6\" >40.000000</td>\n",
       "      <td id=\"T_d9d07_row40_col7\" class=\"data row40 col7\" >Terrestre</td>\n",
       "      <td id=\"T_d9d07_row40_col8\" class=\"data row40 col8\" >0.290000</td>\n",
       "      <td id=\"T_d9d07_row40_col9\" class=\"data row40 col9\" >45.400000</td>\n",
       "      <td id=\"T_d9d07_row40_col10\" class=\"data row40 col10\" >13047.000000</td>\n",
       "      <td id=\"T_d9d07_row40_col11\" class=\"data row40 col11\" >2.080000</td>\n",
       "      <td id=\"T_d9d07_row40_col12\" class=\"data row40 col12\" >2.560000</td>\n",
       "      <td id=\"T_d9d07_row40_col13\" class=\"data row40 col13\" >Liz Pelletier</td>\n",
       "      <td id=\"T_d9d07_row40_col14\" class=\"data row40 col14\" >Bolivia</td>\n",
       "      <td id=\"T_d9d07_row40_col15\" class=\"data row40 col15\" >Corporativo</td>\n",
       "      <td id=\"T_d9d07_row40_col16\" class=\"data row40 col16\" >Elementos de oficina</td>\n",
       "      <td id=\"T_d9d07_row40_col17\" class=\"data row40 col17\" >Hojas A4</td>\n",
       "    </tr>\n",
       "    <tr>\n",
       "      <th id=\"T_d9d07_level0_row41\" class=\"row_heading level0 row41\" >41</th>\n",
       "      <td id=\"T_d9d07_row41_col0\" class=\"data row41 col0\" >1</td>\n",
       "      <td id=\"T_d9d07_row41_col1\" class=\"data row41 col1\" >5/12/2023</td>\n",
       "      <td id=\"T_d9d07_row41_col2\" class=\"data row41 col2\" >nan</td>\n",
       "      <td id=\"T_d9d07_row41_col3\" class=\"data row41 col3\" >Baja</td>\n",
       "      <td id=\"T_d9d07_row41_col4\" class=\"data row41 col4\" >6</td>\n",
       "      <td id=\"T_d9d07_row41_col5\" class=\"data row41 col5\" >407.810000</td>\n",
       "      <td id=\"T_d9d07_row41_col6\" class=\"data row41 col6\" >4.000000</td>\n",
       "      <td id=\"T_d9d07_row41_col7\" class=\"data row41 col7\" >Aereo regular</td>\n",
       "      <td id=\"T_d9d07_row41_col8\" class=\"data row41 col8\" >0.450000</td>\n",
       "      <td id=\"T_d9d07_row41_col9\" class=\"data row41 col9\" >1.840000</td>\n",
       "      <td id=\"T_d9d07_row41_col10\" class=\"data row41 col10\" >70.800000</td>\n",
       "      <td id=\"T_d9d07_row41_col11\" class=\"data row41 col11\" >38.940000</td>\n",
       "      <td id=\"T_d9d07_row41_col12\" class=\"data row41 col12\" >35.000000</td>\n",
       "      <td id=\"T_d9d07_row41_col13\" class=\"data row41 col13\" >Ruben Dartf</td>\n",
       "      <td id=\"T_d9d07_row41_col14\" class=\"data row41 col14\" >Ecuador</td>\n",
       "      <td id=\"T_d9d07_row41_col15\" class=\"data row41 col15\" >Negocio</td>\n",
       "      <td id=\"T_d9d07_row41_col16\" class=\"data row41 col16\" >Elementos de oficina</td>\n",
       "      <td id=\"T_d9d07_row41_col17\" class=\"data row41 col17\" >Hojas A4</td>\n",
       "    </tr>\n",
       "    <tr>\n",
       "      <th id=\"T_d9d07_level0_row42\" class=\"row_heading level0 row42\" >42</th>\n",
       "      <td id=\"T_d9d07_row42_col0\" class=\"data row42 col0\" >7</td>\n",
       "      <td id=\"T_d9d07_row42_col1\" class=\"data row42 col1\" >7/12/2023</td>\n",
       "      <td id=\"T_d9d07_row42_col2\" class=\"data row42 col2\" >nan</td>\n",
       "      <td id=\"T_d9d07_row42_col3\" class=\"data row42 col3\" >Regular</td>\n",
       "      <td id=\"T_d9d07_row42_col4\" class=\"data row42 col4\" >30</td>\n",
       "      <td id=\"T_d9d07_row42_col5\" class=\"data row42 col5\" >328923.700000</td>\n",
       "      <td id=\"T_d9d07_row42_col6\" class=\"data row42 col6\" >0.090000</td>\n",
       "      <td id=\"T_d9d07_row42_col7\" class=\"data row42 col7\" >Aereo regular</td>\n",
       "      <td id=\"T_d9d07_row42_col8\" class=\"data row42 col8\" >0.330000</td>\n",
       "      <td id=\"T_d9d07_row42_col9\" class=\"data row42 col9\" >1085.450000</td>\n",
       "      <td id=\"T_d9d07_row42_col10\" class=\"data row42 col10\" >10974.000000</td>\n",
       "      <td id=\"T_d9d07_row42_col11\" class=\"data row42 col11\" >7.990000</td>\n",
       "      <td id=\"T_d9d07_row42_col12\" class=\"data row42 col12\" >2.250000</td>\n",
       "      <td id=\"T_d9d07_row42_col13\" class=\"data row42 col13\" >Sampie Company A</td>\n",
       "      <td id=\"T_d9d07_row42_col14\" class=\"data row42 col14\" >Bolivia</td>\n",
       "      <td id=\"T_d9d07_row42_col15\" class=\"data row42 col15\" >Corporativo</td>\n",
       "      <td id=\"T_d9d07_row42_col16\" class=\"data row42 col16\" >Elementos de oficina</td>\n",
       "      <td id=\"T_d9d07_row42_col17\" class=\"data row42 col17\" >Hojas A4</td>\n",
       "    </tr>\n",
       "    <tr>\n",
       "      <th id=\"T_d9d07_level0_row43\" class=\"row_heading level0 row43\" >43</th>\n",
       "      <td id=\"T_d9d07_row43_col0\" class=\"data row43 col0\" >40</td>\n",
       "      <td id=\"T_d9d07_row43_col1\" class=\"data row43 col1\" >23/9/2024</td>\n",
       "      <td id=\"T_d9d07_row43_col2\" class=\"data row43 col2\" >nan</td>\n",
       "      <td id=\"T_d9d07_row43_col3\" class=\"data row43 col3\" >Regular</td>\n",
       "      <td id=\"T_d9d07_row43_col4\" class=\"data row43 col4\" >14</td>\n",
       "      <td id=\"T_d9d07_row43_col5\" class=\"data row43 col5\" >41773.380000</td>\n",
       "      <td id=\"T_d9d07_row43_col6\" class=\"data row43 col6\" >0.440000</td>\n",
       "      <td id=\"T_d9d07_row43_col7\" class=\"data row43 col7\" >Terrestre</td>\n",
       "      <td id=\"T_d9d07_row43_col8\" class=\"data row43 col8\" >0.330000</td>\n",
       "      <td id=\"T_d9d07_row43_col9\" class=\"data row43 col9\" >137.850000</td>\n",
       "      <td id=\"T_d9d07_row43_col10\" class=\"data row43 col10\" >2997.000000</td>\n",
       "      <td id=\"T_d9d07_row43_col11\" class=\"data row43 col11\" >125.990000</td>\n",
       "      <td id=\"T_d9d07_row43_col12\" class=\"data row43 col12\" >1.990000</td>\n",
       "      <td id=\"T_d9d07_row43_col13\" class=\"data row43 col13\" >Pauline Chand</td>\n",
       "      <td id=\"T_d9d07_row43_col14\" class=\"data row43 col14\" >Chile</td>\n",
       "      <td id=\"T_d9d07_row43_col15\" class=\"data row43 col15\" >Negocio</td>\n",
       "      <td id=\"T_d9d07_row43_col16\" class=\"data row43 col16\" >Elementos de oficina</td>\n",
       "      <td id=\"T_d9d07_row43_col17\" class=\"data row43 col17\" >Lapicera</td>\n",
       "    </tr>\n",
       "    <tr>\n",
       "      <th id=\"T_d9d07_level0_row44\" class=\"row_heading level0 row44\" >44</th>\n",
       "      <td id=\"T_d9d07_row44_col0\" class=\"data row44 col0\" >41</td>\n",
       "      <td id=\"T_d9d07_row44_col1\" class=\"data row44 col1\" >24/9/2024</td>\n",
       "      <td id=\"T_d9d07_row44_col2\" class=\"data row44 col2\" >nan</td>\n",
       "      <td id=\"T_d9d07_row44_col3\" class=\"data row44 col3\" >Baja</td>\n",
       "      <td id=\"T_d9d07_row44_col4\" class=\"data row44 col4\" >17</td>\n",
       "      <td id=\"T_d9d07_row44_col5\" class=\"data row44 col5\" >17584.530000</td>\n",
       "      <td id=\"T_d9d07_row44_col6\" class=\"data row44 col6\" >0.540000</td>\n",
       "      <td id=\"T_d9d07_row44_col7\" class=\"data row44 col7\" >Aereo expreso</td>\n",
       "      <td id=\"T_d9d07_row44_col8\" class=\"data row44 col8\" >0.330000</td>\n",
       "      <td id=\"T_d9d07_row44_col9\" class=\"data row44 col9\" >58.030000</td>\n",
       "      <td id=\"T_d9d07_row44_col10\" class=\"data row44 col10\" >1040.000000</td>\n",
       "      <td id=\"T_d9d07_row44_col11\" class=\"data row44 col11\" >2.890000</td>\n",
       "      <td id=\"T_d9d07_row44_col12\" class=\"data row44 col12\" >0.700000</td>\n",
       "      <td id=\"T_d9d07_row44_col13\" class=\"data row44 col13\" >Valerie Takahito</td>\n",
       "      <td id=\"T_d9d07_row44_col14\" class=\"data row44 col14\" >Chile</td>\n",
       "      <td id=\"T_d9d07_row44_col15\" class=\"data row44 col15\" >Negocio</td>\n",
       "      <td id=\"T_d9d07_row44_col16\" class=\"data row44 col16\" >Elementos de oficina</td>\n",
       "      <td id=\"T_d9d07_row44_col17\" class=\"data row44 col17\" >Lapicera</td>\n",
       "    </tr>\n",
       "    <tr>\n",
       "      <th id=\"T_d9d07_level0_row45\" class=\"row_heading level0 row45\" >45</th>\n",
       "      <td id=\"T_d9d07_row45_col0\" class=\"data row45 col0\" >37</td>\n",
       "      <td id=\"T_d9d07_row45_col1\" class=\"data row45 col1\" >25/9/2024</td>\n",
       "      <td id=\"T_d9d07_row45_col2\" class=\"data row45 col2\" >nan</td>\n",
       "      <td id=\"T_d9d07_row45_col3\" class=\"data row45 col3\" >Critica</td>\n",
       "      <td id=\"T_d9d07_row45_col4\" class=\"data row45 col4\" >9</td>\n",
       "      <td id=\"T_d9d07_row45_col5\" class=\"data row45 col5\" >71570.120000</td>\n",
       "      <td id=\"T_d9d07_row45_col6\" class=\"data row45 col6\" >0.510000</td>\n",
       "      <td id=\"T_d9d07_row45_col7\" class=\"data row45 col7\" >Terrestre</td>\n",
       "      <td id=\"T_d9d07_row45_col8\" class=\"data row45 col8\" >0.400000</td>\n",
       "      <td id=\"T_d9d07_row45_col9\" class=\"data row45 col9\" >286.280000</td>\n",
       "      <td id=\"T_d9d07_row45_col10\" class=\"data row45 col10\" >7993.000000</td>\n",
       "      <td id=\"T_d9d07_row45_col11\" class=\"data row45 col11\" >30.930000</td>\n",
       "      <td id=\"T_d9d07_row45_col12\" class=\"data row45 col12\" >2.250000</td>\n",
       "      <td id=\"T_d9d07_row45_col13\" class=\"data row45 col13\" >Helen Wasserman</td>\n",
       "      <td id=\"T_d9d07_row45_col14\" class=\"data row45 col14\" >Bolivia</td>\n",
       "      <td id=\"T_d9d07_row45_col15\" class=\"data row45 col15\" >Negocio</td>\n",
       "      <td id=\"T_d9d07_row45_col16\" class=\"data row45 col16\" >Elementos de oficina</td>\n",
       "      <td id=\"T_d9d07_row45_col17\" class=\"data row45 col17\" >Lapicera</td>\n",
       "    </tr>\n",
       "    <tr>\n",
       "      <th id=\"T_d9d07_level0_row46\" class=\"row_heading level0 row46\" >46</th>\n",
       "      <td id=\"T_d9d07_row46_col0\" class=\"data row46 col0\" >50</td>\n",
       "      <td id=\"T_d9d07_row46_col1\" class=\"data row46 col1\" >26/9/2024</td>\n",
       "      <td id=\"T_d9d07_row46_col2\" class=\"data row46 col2\" >nan</td>\n",
       "      <td id=\"T_d9d07_row46_col3\" class=\"data row46 col3\" >Normal</td>\n",
       "      <td id=\"T_d9d07_row46_col4\" class=\"data row46 col4\" >40</td>\n",
       "      <td id=\"T_d9d07_row46_col5\" class=\"data row46 col5\" >454610.180000</td>\n",
       "      <td id=\"T_d9d07_row46_col6\" class=\"data row46 col6\" >0.870000</td>\n",
       "      <td id=\"T_d9d07_row46_col7\" class=\"data row46 col7\" >Aereo regular</td>\n",
       "      <td id=\"T_d9d07_row46_col8\" class=\"data row46 col8\" >0.300000</td>\n",
       "      <td id=\"T_d9d07_row46_col9\" class=\"data row46 col9\" >1363.830000</td>\n",
       "      <td id=\"T_d9d07_row46_col10\" class=\"data row46 col10\" >11465.000000</td>\n",
       "      <td id=\"T_d9d07_row46_col11\" class=\"data row46 col11\" >65.990000</td>\n",
       "      <td id=\"T_d9d07_row46_col12\" class=\"data row46 col12\" >8.190000</td>\n",
       "      <td id=\"T_d9d07_row46_col13\" class=\"data row46 col13\" >Julie Creighton</td>\n",
       "      <td id=\"T_d9d07_row46_col14\" class=\"data row46 col14\" >Bolivia</td>\n",
       "      <td id=\"T_d9d07_row46_col15\" class=\"data row46 col15\" >Corporativo</td>\n",
       "      <td id=\"T_d9d07_row46_col16\" class=\"data row46 col16\" >Elementos de oficina</td>\n",
       "      <td id=\"T_d9d07_row46_col17\" class=\"data row46 col17\" >Lapicera</td>\n",
       "    </tr>\n",
       "    <tr>\n",
       "      <th id=\"T_d9d07_level0_row47\" class=\"row_heading level0 row47\" >47</th>\n",
       "      <td id=\"T_d9d07_row47_col0\" class=\"data row47 col0\" >33</td>\n",
       "      <td id=\"T_d9d07_row47_col1\" class=\"data row47 col1\" >27/9/2024</td>\n",
       "      <td id=\"T_d9d07_row47_col2\" class=\"data row47 col2\" >nan</td>\n",
       "      <td id=\"T_d9d07_row47_col3\" class=\"data row47 col3\" >Alta</td>\n",
       "      <td id=\"T_d9d07_row47_col4\" class=\"data row47 col4\" >22</td>\n",
       "      <td id=\"T_d9d07_row47_col5\" class=\"data row47 col5\" >103453.230000</td>\n",
       "      <td id=\"T_d9d07_row47_col6\" class=\"data row47 col6\" >0.520000</td>\n",
       "      <td id=\"T_d9d07_row47_col7\" class=\"data row47 col7\" >Aereo regular</td>\n",
       "      <td id=\"T_d9d07_row47_col8\" class=\"data row47 col8\" >0.360000</td>\n",
       "      <td id=\"T_d9d07_row47_col9\" class=\"data row47 col9\" >372.430000</td>\n",
       "      <td id=\"T_d9d07_row47_col10\" class=\"data row47 col10\" >4727.000000</td>\n",
       "      <td id=\"T_d9d07_row47_col11\" class=\"data row47 col11\" >7.990000</td>\n",
       "      <td id=\"T_d9d07_row47_col12\" class=\"data row47 col12\" >8.990000</td>\n",
       "      <td id=\"T_d9d07_row47_col13\" class=\"data row47 col13\" >Liz Pelletier</td>\n",
       "      <td id=\"T_d9d07_row47_col14\" class=\"data row47 col14\" >Bolivia</td>\n",
       "      <td id=\"T_d9d07_row47_col15\" class=\"data row47 col15\" >Consumidor</td>\n",
       "      <td id=\"T_d9d07_row47_col16\" class=\"data row47 col16\" >Elementos de oficina</td>\n",
       "      <td id=\"T_d9d07_row47_col17\" class=\"data row47 col17\" >Lapicera</td>\n",
       "    </tr>\n",
       "    <tr>\n",
       "      <th id=\"T_d9d07_level0_row48\" class=\"row_heading level0 row48\" >48</th>\n",
       "      <td id=\"T_d9d07_row48_col0\" class=\"data row48 col0\" >46</td>\n",
       "      <td id=\"T_d9d07_row48_col1\" class=\"data row48 col1\" >28/9/2024</td>\n",
       "      <td id=\"T_d9d07_row48_col2\" class=\"data row48 col2\" >nan</td>\n",
       "      <td id=\"T_d9d07_row48_col3\" class=\"data row48 col3\" >Baja</td>\n",
       "      <td id=\"T_d9d07_row48_col4\" class=\"data row48 col4\" >30</td>\n",
       "      <td id=\"T_d9d07_row48_col5\" class=\"data row48 col5\" >126922.220000</td>\n",
       "      <td id=\"T_d9d07_row48_col6\" class=\"data row48 col6\" >0.780000</td>\n",
       "      <td id=\"T_d9d07_row48_col7\" class=\"data row48 col7\" >Terrestre</td>\n",
       "      <td id=\"T_d9d07_row48_col8\" class=\"data row48 col8\" >0.210000</td>\n",
       "      <td id=\"T_d9d07_row48_col9\" class=\"data row48 col9\" >266.540000</td>\n",
       "      <td id=\"T_d9d07_row48_col10\" class=\"data row48 col10\" >4264.000000</td>\n",
       "      <td id=\"T_d9d07_row48_col11\" class=\"data row48 col11\" >130.980000</td>\n",
       "      <td id=\"T_d9d07_row48_col12\" class=\"data row48 col12\" >2.580000</td>\n",
       "      <td id=\"T_d9d07_row48_col13\" class=\"data row48 col13\" >Ruben Dartf</td>\n",
       "      <td id=\"T_d9d07_row48_col14\" class=\"data row48 col14\" >Chile</td>\n",
       "      <td id=\"T_d9d07_row48_col15\" class=\"data row48 col15\" >Corporativo</td>\n",
       "      <td id=\"T_d9d07_row48_col16\" class=\"data row48 col16\" >Elementos de oficina</td>\n",
       "      <td id=\"T_d9d07_row48_col17\" class=\"data row48 col17\" >Lapicera</td>\n",
       "    </tr>\n",
       "    <tr>\n",
       "      <th id=\"T_d9d07_level0_row49\" class=\"row_heading level0 row49\" >49</th>\n",
       "      <td id=\"T_d9d07_row49_col0\" class=\"data row49 col0\" >10</td>\n",
       "      <td id=\"T_d9d07_row49_col1\" class=\"data row49 col1\" >29/9/2024</td>\n",
       "      <td id=\"T_d9d07_row49_col2\" class=\"data row49 col2\" >nan</td>\n",
       "      <td id=\"T_d9d07_row49_col3\" class=\"data row49 col3\" >Baja</td>\n",
       "      <td id=\"T_d9d07_row49_col4\" class=\"data row49 col4\" >32</td>\n",
       "      <td id=\"T_d9d07_row49_col5\" class=\"data row49 col5\" >36272.060000</td>\n",
       "      <td id=\"T_d9d07_row49_col6\" class=\"data row49 col6\" >0.570000</td>\n",
       "      <td id=\"T_d9d07_row49_col7\" class=\"data row49 col7\" >Aereo regular</td>\n",
       "      <td id=\"T_d9d07_row49_col8\" class=\"data row49 col8\" >0.360000</td>\n",
       "      <td id=\"T_d9d07_row49_col9\" class=\"data row49 col9\" >130.580000</td>\n",
       "      <td id=\"T_d9d07_row49_col10\" class=\"data row49 col10\" >1140.000000</td>\n",
       "      <td id=\"T_d9d07_row49_col11\" class=\"data row49 col11\" >2.880000</td>\n",
       "      <td id=\"T_d9d07_row49_col12\" class=\"data row49 col12\" >1.990000</td>\n",
       "      <td id=\"T_d9d07_row49_col13\" class=\"data row49 col13\" >Jonathan Doherty</td>\n",
       "      <td id=\"T_d9d07_row49_col14\" class=\"data row49 col14\" >Bolivia</td>\n",
       "      <td id=\"T_d9d07_row49_col15\" class=\"data row49 col15\" >Oficina en casa</td>\n",
       "      <td id=\"T_d9d07_row49_col16\" class=\"data row49 col16\" >Muebles</td>\n",
       "      <td id=\"T_d9d07_row49_col17\" class=\"data row49 col17\" >Mesa</td>\n",
       "    </tr>\n",
       "    <tr>\n",
       "      <th id=\"T_d9d07_level0_row50\" class=\"row_heading level0 row50\" >50</th>\n",
       "      <td id=\"T_d9d07_row50_col0\" class=\"data row50 col0\" >5</td>\n",
       "      <td id=\"T_d9d07_row50_col1\" class=\"data row50 col1\" >30/9/2024</td>\n",
       "      <td id=\"T_d9d07_row50_col2\" class=\"data row50 col2\" >nan</td>\n",
       "      <td id=\"T_d9d07_row50_col3\" class=\"data row50 col3\" >Alta</td>\n",
       "      <td id=\"T_d9d07_row50_col4\" class=\"data row50 col4\" >24</td>\n",
       "      <td id=\"T_d9d07_row50_col5\" class=\"data row50 col5\" >287757.310000</td>\n",
       "      <td id=\"T_d9d07_row50_col6\" class=\"data row50 col6\" >0.350000</td>\n",
       "      <td id=\"T_d9d07_row50_col7\" class=\"data row50 col7\" >Terrestre</td>\n",
       "      <td id=\"T_d9d07_row50_col8\" class=\"data row50 col8\" >0.260000</td>\n",
       "      <td id=\"T_d9d07_row50_col9\" class=\"data row50 col9\" >748.170000</td>\n",
       "      <td id=\"T_d9d07_row50_col10\" class=\"data row50 col10\" >12032.000000</td>\n",
       "      <td id=\"T_d9d07_row50_col11\" class=\"data row50 col11\" >107.530000</td>\n",
       "      <td id=\"T_d9d07_row50_col12\" class=\"data row50 col12\" >89.300000</td>\n",
       "      <td id=\"T_d9d07_row50_col13\" class=\"data row50 col13\" >Julie Creighton</td>\n",
       "      <td id=\"T_d9d07_row50_col14\" class=\"data row50 col14\" >Bolivia</td>\n",
       "      <td id=\"T_d9d07_row50_col15\" class=\"data row50 col15\" >Corporativo</td>\n",
       "      <td id=\"T_d9d07_row50_col16\" class=\"data row50 col16\" >Muebles</td>\n",
       "      <td id=\"T_d9d07_row50_col17\" class=\"data row50 col17\" >Mesa</td>\n",
       "    </tr>\n",
       "    <tr>\n",
       "      <th id=\"T_d9d07_level0_row51\" class=\"row_heading level0 row51\" >51</th>\n",
       "      <td id=\"T_d9d07_row51_col0\" class=\"data row51 col0\" >4</td>\n",
       "      <td id=\"T_d9d07_row51_col1\" class=\"data row51 col1\" >1/10/2024</td>\n",
       "      <td id=\"T_d9d07_row51_col2\" class=\"data row51 col2\" >nan</td>\n",
       "      <td id=\"T_d9d07_row51_col3\" class=\"data row51 col3\" >Alta</td>\n",
       "      <td id=\"T_d9d07_row51_col4\" class=\"data row51 col4\" >26</td>\n",
       "      <td id=\"T_d9d07_row51_col5\" class=\"data row51 col5\" >25675.160000</td>\n",
       "      <td id=\"T_d9d07_row51_col6\" class=\"data row51 col6\" >0.050000</td>\n",
       "      <td id=\"T_d9d07_row51_col7\" class=\"data row51 col7\" >Aereo regular</td>\n",
       "      <td id=\"T_d9d07_row51_col8\" class=\"data row51 col8\" >0.340000</td>\n",
       "      <td id=\"T_d9d07_row51_col9\" class=\"data row51 col9\" >87.300000</td>\n",
       "      <td id=\"T_d9d07_row51_col10\" class=\"data row51 col10\" >988.000000</td>\n",
       "      <td id=\"T_d9d07_row51_col11\" class=\"data row51 col11\" >5.810000</td>\n",
       "      <td id=\"T_d9d07_row51_col12\" class=\"data row51 col12\" >5.810000</td>\n",
       "      <td id=\"T_d9d07_row51_col13\" class=\"data row51 col13\" >Liz Pelletier</td>\n",
       "      <td id=\"T_d9d07_row51_col14\" class=\"data row51 col14\" >Bolivia</td>\n",
       "      <td id=\"T_d9d07_row51_col15\" class=\"data row51 col15\" >Corporativo</td>\n",
       "      <td id=\"T_d9d07_row51_col16\" class=\"data row51 col16\" >Muebles</td>\n",
       "      <td id=\"T_d9d07_row51_col17\" class=\"data row51 col17\" >Mesa</td>\n",
       "    </tr>\n",
       "    <tr>\n",
       "      <th id=\"T_d9d07_level0_row52\" class=\"row_heading level0 row52\" >52</th>\n",
       "      <td id=\"T_d9d07_row52_col0\" class=\"data row52 col0\" >17</td>\n",
       "      <td id=\"T_d9d07_row52_col1\" class=\"data row52 col1\" >2/10/2024</td>\n",
       "      <td id=\"T_d9d07_row52_col2\" class=\"data row52 col2\" >nan</td>\n",
       "      <td id=\"T_d9d07_row52_col3\" class=\"data row52 col3\" >Normal</td>\n",
       "      <td id=\"T_d9d07_row52_col4\" class=\"data row52 col4\" >26</td>\n",
       "      <td id=\"T_d9d07_row52_col5\" class=\"data row52 col5\" >134535.020000</td>\n",
       "      <td id=\"T_d9d07_row52_col6\" class=\"data row52 col6\" >0.740000</td>\n",
       "      <td id=\"T_d9d07_row52_col7\" class=\"data row52 col7\" >Terrestre</td>\n",
       "      <td id=\"T_d9d07_row52_col8\" class=\"data row52 col8\" >0.360000</td>\n",
       "      <td id=\"T_d9d07_row52_col9\" class=\"data row52 col9\" >484.330000</td>\n",
       "      <td id=\"T_d9d07_row52_col10\" class=\"data row52 col10\" >5213.000000</td>\n",
       "      <td id=\"T_d9d07_row52_col11\" class=\"data row52 col11\" >150.980000</td>\n",
       "      <td id=\"T_d9d07_row52_col12\" class=\"data row52 col12\" >5.990000</td>\n",
       "      <td id=\"T_d9d07_row52_col13\" class=\"data row52 col13\" >Pauline Chand</td>\n",
       "      <td id=\"T_d9d07_row52_col14\" class=\"data row52 col14\" >Chile</td>\n",
       "      <td id=\"T_d9d07_row52_col15\" class=\"data row52 col15\" >Negocio</td>\n",
       "      <td id=\"T_d9d07_row52_col16\" class=\"data row52 col16\" >Muebles</td>\n",
       "      <td id=\"T_d9d07_row52_col17\" class=\"data row52 col17\" >Mesa</td>\n",
       "    </tr>\n",
       "    <tr>\n",
       "      <th id=\"T_d9d07_level0_row53\" class=\"row_heading level0 row53\" >53</th>\n",
       "      <td id=\"T_d9d07_row53_col0\" class=\"data row53 col0\" >18</td>\n",
       "      <td id=\"T_d9d07_row53_col1\" class=\"data row53 col1\" >3/10/2024</td>\n",
       "      <td id=\"T_d9d07_row53_col2\" class=\"data row53 col2\" >nan</td>\n",
       "      <td id=\"T_d9d07_row53_col3\" class=\"data row53 col3\" >Baja</td>\n",
       "      <td id=\"T_d9d07_row53_col4\" class=\"data row53 col4\" >4</td>\n",
       "      <td id=\"T_d9d07_row53_col5\" class=\"data row53 col5\" >32864.040000</td>\n",
       "      <td id=\"T_d9d07_row53_col6\" class=\"data row53 col6\" >0.170000</td>\n",
       "      <td id=\"T_d9d07_row53_col7\" class=\"data row53 col7\" >Terrestre</td>\n",
       "      <td id=\"T_d9d07_row53_col8\" class=\"data row53 col8\" >0.340000</td>\n",
       "      <td id=\"T_d9d07_row53_col9\" class=\"data row53 col9\" >111.740000</td>\n",
       "      <td id=\"T_d9d07_row53_col10\" class=\"data row53 col10\" >8230.000000</td>\n",
       "      <td id=\"T_d9d07_row53_col11\" class=\"data row53 col11\" >18.970000</td>\n",
       "      <td id=\"T_d9d07_row53_col12\" class=\"data row53 col12\" >8.990000</td>\n",
       "      <td id=\"T_d9d07_row53_col13\" class=\"data row53 col13\" >Roy Collins</td>\n",
       "      <td id=\"T_d9d07_row53_col14\" class=\"data row53 col14\" >Peru</td>\n",
       "      <td id=\"T_d9d07_row53_col15\" class=\"data row53 col15\" >Negocio</td>\n",
       "      <td id=\"T_d9d07_row53_col16\" class=\"data row53 col16\" >Muebles</td>\n",
       "      <td id=\"T_d9d07_row53_col17\" class=\"data row53 col17\" >Mesa</td>\n",
       "    </tr>\n",
       "    <tr>\n",
       "      <th id=\"T_d9d07_level0_row54\" class=\"row_heading level0 row54\" >54</th>\n",
       "      <td id=\"T_d9d07_row54_col0\" class=\"data row54 col0\" >87</td>\n",
       "      <td id=\"T_d9d07_row54_col1\" class=\"data row54 col1\" >4/10/2024</td>\n",
       "      <td id=\"T_d9d07_row54_col2\" class=\"data row54 col2\" >nan</td>\n",
       "      <td id=\"T_d9d07_row54_col3\" class=\"data row54 col3\" >Alta</td>\n",
       "      <td id=\"T_d9d07_row54_col4\" class=\"data row54 col4\" >61</td>\n",
       "      <td id=\"T_d9d07_row54_col5\" class=\"data row54 col5\" >301835.260000</td>\n",
       "      <td id=\"T_d9d07_row54_col6\" class=\"data row54 col6\" >0.700000</td>\n",
       "      <td id=\"T_d9d07_row54_col7\" class=\"data row54 col7\" >Aereo expreso</td>\n",
       "      <td id=\"T_d9d07_row54_col8\" class=\"data row54 col8\" >0.200000</td>\n",
       "      <td id=\"T_d9d07_row54_col9\" class=\"data row54 col9\" >603.670000</td>\n",
       "      <td id=\"T_d9d07_row54_col10\" class=\"data row54 col10\" >4983.000000</td>\n",
       "      <td id=\"T_d9d07_row54_col11\" class=\"data row54 col11\" >155.990000</td>\n",
       "      <td id=\"T_d9d07_row54_col12\" class=\"data row54 col12\" >4.620000</td>\n",
       "      <td id=\"T_d9d07_row54_col13\" class=\"data row54 col13\" >Ruben Dartf</td>\n",
       "      <td id=\"T_d9d07_row54_col14\" class=\"data row54 col14\" >Paraguay</td>\n",
       "      <td id=\"T_d9d07_row54_col15\" class=\"data row54 col15\" >Corporativo</td>\n",
       "      <td id=\"T_d9d07_row54_col16\" class=\"data row54 col16\" >Tecnologia</td>\n",
       "      <td id=\"T_d9d07_row54_col17\" class=\"data row54 col17\" >Monitor</td>\n",
       "    </tr>\n",
       "    <tr>\n",
       "      <th id=\"T_d9d07_level0_row55\" class=\"row_heading level0 row55\" >55</th>\n",
       "      <td id=\"T_d9d07_row55_col0\" class=\"data row55 col0\" >84</td>\n",
       "      <td id=\"T_d9d07_row55_col1\" class=\"data row55 col1\" >5/10/2024</td>\n",
       "      <td id=\"T_d9d07_row55_col2\" class=\"data row55 col2\" >nan</td>\n",
       "      <td id=\"T_d9d07_row55_col3\" class=\"data row55 col3\" >Normal</td>\n",
       "      <td id=\"T_d9d07_row55_col4\" class=\"data row55 col4\" >21</td>\n",
       "      <td id=\"T_d9d07_row55_col5\" class=\"data row55 col5\" >75551.230000</td>\n",
       "      <td id=\"T_d9d07_row55_col6\" class=\"data row55 col6\" >0.120000</td>\n",
       "      <td id=\"T_d9d07_row55_col7\" class=\"data row55 col7\" >Aereo regular</td>\n",
       "      <td id=\"T_d9d07_row55_col8\" class=\"data row55 col8\" >0.240000</td>\n",
       "      <td id=\"T_d9d07_row55_col9\" class=\"data row55 col9\" >181.320000</td>\n",
       "      <td id=\"T_d9d07_row55_col10\" class=\"data row55 col10\" >3602.000000</td>\n",
       "      <td id=\"T_d9d07_row55_col11\" class=\"data row55 col11\" >70.890000</td>\n",
       "      <td id=\"T_d9d07_row55_col12\" class=\"data row55 col12\" >54.740000</td>\n",
       "      <td id=\"T_d9d07_row55_col13\" class=\"data row55 col13\" >Jonathan Doherty</td>\n",
       "      <td id=\"T_d9d07_row55_col14\" class=\"data row55 col14\" >Argentina</td>\n",
       "      <td id=\"T_d9d07_row55_col15\" class=\"data row55 col15\" >Corporativo</td>\n",
       "      <td id=\"T_d9d07_row55_col16\" class=\"data row55 col16\" >Tecnologia</td>\n",
       "      <td id=\"T_d9d07_row55_col17\" class=\"data row55 col17\" >Monitor</td>\n",
       "    </tr>\n",
       "    <tr>\n",
       "      <th id=\"T_d9d07_level0_row56\" class=\"row_heading level0 row56\" >56</th>\n",
       "      <td id=\"T_d9d07_row56_col0\" class=\"data row56 col0\" >90</td>\n",
       "      <td id=\"T_d9d07_row56_col1\" class=\"data row56 col1\" >6/10/2024</td>\n",
       "      <td id=\"T_d9d07_row56_col2\" class=\"data row56 col2\" >nan</td>\n",
       "      <td id=\"T_d9d07_row56_col3\" class=\"data row56 col3\" >Alta</td>\n",
       "      <td id=\"T_d9d07_row56_col4\" class=\"data row56 col4\" >64</td>\n",
       "      <td id=\"T_d9d07_row56_col5\" class=\"data row56 col5\" >39477.270000</td>\n",
       "      <td id=\"T_d9d07_row56_col6\" class=\"data row56 col6\" >0.990000</td>\n",
       "      <td id=\"T_d9d07_row56_col7\" class=\"data row56 col7\" >Aereo regular</td>\n",
       "      <td id=\"T_d9d07_row56_col8\" class=\"data row56 col8\" >0.310000</td>\n",
       "      <td id=\"T_d9d07_row56_col9\" class=\"data row56 col9\" >122.380000</td>\n",
       "      <td id=\"T_d9d07_row56_col10\" class=\"data row56 col10\" >623.000000</td>\n",
       "      <td id=\"T_d9d07_row56_col11\" class=\"data row56 col11\" >1.680000</td>\n",
       "      <td id=\"T_d9d07_row56_col12\" class=\"data row56 col12\" >7.980000</td>\n",
       "      <td id=\"T_d9d07_row56_col13\" class=\"data row56 col13\" >Julie Creighton</td>\n",
       "      <td id=\"T_d9d07_row56_col14\" class=\"data row56 col14\" >Peru</td>\n",
       "      <td id=\"T_d9d07_row56_col15\" class=\"data row56 col15\" >Corporativo</td>\n",
       "      <td id=\"T_d9d07_row56_col16\" class=\"data row56 col16\" >Tecnologia</td>\n",
       "      <td id=\"T_d9d07_row56_col17\" class=\"data row56 col17\" >Monitor</td>\n",
       "    </tr>\n",
       "    <tr>\n",
       "      <th id=\"T_d9d07_level0_row57\" class=\"row_heading level0 row57\" >57</th>\n",
       "      <td id=\"T_d9d07_row57_col0\" class=\"data row57 col0\" >86</td>\n",
       "      <td id=\"T_d9d07_row57_col1\" class=\"data row57 col1\" >7/10/2024</td>\n",
       "      <td id=\"T_d9d07_row57_col2\" class=\"data row57 col2\" >nan</td>\n",
       "      <td id=\"T_d9d07_row57_col3\" class=\"data row57 col3\" >Regular</td>\n",
       "      <td id=\"T_d9d07_row57_col4\" class=\"data row57 col4\" >30</td>\n",
       "      <td id=\"T_d9d07_row57_col5\" class=\"data row57 col5\" >306507.750000</td>\n",
       "      <td id=\"T_d9d07_row57_col6\" class=\"data row57 col6\" >0.970000</td>\n",
       "      <td id=\"T_d9d07_row57_col7\" class=\"data row57 col7\" >Aereo regular</td>\n",
       "      <td id=\"T_d9d07_row57_col8\" class=\"data row57 col8\" >0.210000</td>\n",
       "      <td id=\"T_d9d07_row57_col9\" class=\"data row57 col9\" >643.670000</td>\n",
       "      <td id=\"T_d9d07_row57_col10\" class=\"data row57 col10\" >10317.000000</td>\n",
       "      <td id=\"T_d9d07_row57_col11\" class=\"data row57 col11\" >9.110000</td>\n",
       "      <td id=\"T_d9d07_row57_col12\" class=\"data row57 col12\" >35.000000</td>\n",
       "      <td id=\"T_d9d07_row57_col13\" class=\"data row57 col13\" >Liz Pelletier</td>\n",
       "      <td id=\"T_d9d07_row57_col14\" class=\"data row57 col14\" >Paraguay</td>\n",
       "      <td id=\"T_d9d07_row57_col15\" class=\"data row57 col15\" >Corporativo</td>\n",
       "      <td id=\"T_d9d07_row57_col16\" class=\"data row57 col16\" >Tecnologia</td>\n",
       "      <td id=\"T_d9d07_row57_col17\" class=\"data row57 col17\" >Monitor</td>\n",
       "    </tr>\n",
       "    <tr>\n",
       "      <th id=\"T_d9d07_level0_row58\" class=\"row_heading level0 row58\" >58</th>\n",
       "      <td id=\"T_d9d07_row58_col0\" class=\"data row58 col0\" >81</td>\n",
       "      <td id=\"T_d9d07_row58_col1\" class=\"data row58 col1\" >8/10/2024</td>\n",
       "      <td id=\"T_d9d07_row58_col2\" class=\"data row58 col2\" >nan</td>\n",
       "      <td id=\"T_d9d07_row58_col3\" class=\"data row58 col3\" >Regular</td>\n",
       "      <td id=\"T_d9d07_row58_col4\" class=\"data row58 col4\" >68</td>\n",
       "      <td id=\"T_d9d07_row58_col5\" class=\"data row58 col5\" >778810.900000</td>\n",
       "      <td id=\"T_d9d07_row58_col6\" class=\"data row58 col6\" >0.710000</td>\n",
       "      <td id=\"T_d9d07_row58_col7\" class=\"data row58 col7\" >Terrestre</td>\n",
       "      <td id=\"T_d9d07_row58_col8\" class=\"data row58 col8\" >0.210000</td>\n",
       "      <td id=\"T_d9d07_row58_col9\" class=\"data row58 col9\" >1635.500000</td>\n",
       "      <td id=\"T_d9d07_row58_col10\" class=\"data row58 col10\" >11535.000000</td>\n",
       "      <td id=\"T_d9d07_row58_col11\" class=\"data row58 col11\" >8.460000</td>\n",
       "      <td id=\"T_d9d07_row58_col12\" class=\"data row58 col12\" >13.990000</td>\n",
       "      <td id=\"T_d9d07_row58_col13\" class=\"data row58 col13\" >Pauline Chand</td>\n",
       "      <td id=\"T_d9d07_row58_col14\" class=\"data row58 col14\" >Bolivia</td>\n",
       "      <td id=\"T_d9d07_row58_col15\" class=\"data row58 col15\" >Negocio</td>\n",
       "      <td id=\"T_d9d07_row58_col16\" class=\"data row58 col16\" >Tecnologia</td>\n",
       "      <td id=\"T_d9d07_row58_col17\" class=\"data row58 col17\" >Monitor</td>\n",
       "    </tr>\n",
       "    <tr>\n",
       "      <th id=\"T_d9d07_level0_row59\" class=\"row_heading level0 row59\" >59</th>\n",
       "      <td id=\"T_d9d07_row59_col0\" class=\"data row59 col0\" >91</td>\n",
       "      <td id=\"T_d9d07_row59_col1\" class=\"data row59 col1\" >9/10/2024</td>\n",
       "      <td id=\"T_d9d07_row59_col2\" class=\"data row59 col2\" >nan</td>\n",
       "      <td id=\"T_d9d07_row59_col3\" class=\"data row59 col3\" >Regular</td>\n",
       "      <td id=\"T_d9d07_row59_col4\" class=\"data row59 col4\" >24</td>\n",
       "      <td id=\"T_d9d07_row59_col5\" class=\"data row59 col5\" >179519.040000</td>\n",
       "      <td id=\"T_d9d07_row59_col6\" class=\"data row59 col6\" >0.400000</td>\n",
       "      <td id=\"T_d9d07_row59_col7\" class=\"data row59 col7\" >Aereo regular</td>\n",
       "      <td id=\"T_d9d07_row59_col8\" class=\"data row59 col8\" >0.220000</td>\n",
       "      <td id=\"T_d9d07_row59_col9\" class=\"data row59 col9\" >394.940000</td>\n",
       "      <td id=\"T_d9d07_row59_col10\" class=\"data row59 col10\" >7510.000000</td>\n",
       "      <td id=\"T_d9d07_row59_col11\" class=\"data row59 col11\" >205.990000</td>\n",
       "      <td id=\"T_d9d07_row59_col12\" class=\"data row59 col12\" >35.000000</td>\n",
       "      <td id=\"T_d9d07_row59_col13\" class=\"data row59 col13\" >Roy Collins</td>\n",
       "      <td id=\"T_d9d07_row59_col14\" class=\"data row59 col14\" >Colombia</td>\n",
       "      <td id=\"T_d9d07_row59_col15\" class=\"data row59 col15\" >Corporativo</td>\n",
       "      <td id=\"T_d9d07_row59_col16\" class=\"data row59 col16\" >Tecnologia</td>\n",
       "      <td id=\"T_d9d07_row59_col17\" class=\"data row59 col17\" >Monitor</td>\n",
       "    </tr>\n",
       "    <tr>\n",
       "      <th id=\"T_d9d07_level0_row60\" class=\"row_heading level0 row60\" >60</th>\n",
       "      <td id=\"T_d9d07_row60_col0\" class=\"data row60 col0\" >78</td>\n",
       "      <td id=\"T_d9d07_row60_col1\" class=\"data row60 col1\" >10/10/2024</td>\n",
       "      <td id=\"T_d9d07_row60_col2\" class=\"data row60 col2\" >nan</td>\n",
       "      <td id=\"T_d9d07_row60_col3\" class=\"data row60 col3\" >Normal</td>\n",
       "      <td id=\"T_d9d07_row60_col4\" class=\"data row60 col4\" >30</td>\n",
       "      <td id=\"T_d9d07_row60_col5\" class=\"data row60 col5\" >354566.030000</td>\n",
       "      <td id=\"T_d9d07_row60_col6\" class=\"data row60 col6\" >0.890000</td>\n",
       "      <td id=\"T_d9d07_row60_col7\" class=\"data row60 col7\" >Terrestre</td>\n",
       "      <td id=\"T_d9d07_row60_col8\" class=\"data row60 col8\" >0.300000</td>\n",
       "      <td id=\"T_d9d07_row60_col9\" class=\"data row60 col9\" >1063.700000</td>\n",
       "      <td id=\"T_d9d07_row60_col10\" class=\"data row60 col10\" >11925.000000</td>\n",
       "      <td id=\"T_d9d07_row60_col11\" class=\"data row60 col11\" >7.280000</td>\n",
       "      <td id=\"T_d9d07_row60_col12\" class=\"data row60 col12\" >8.990000</td>\n",
       "      <td id=\"T_d9d07_row60_col13\" class=\"data row60 col13\" >Helen Wasserman</td>\n",
       "      <td id=\"T_d9d07_row60_col14\" class=\"data row60 col14\" >Bolivia</td>\n",
       "      <td id=\"T_d9d07_row60_col15\" class=\"data row60 col15\" >Negocio</td>\n",
       "      <td id=\"T_d9d07_row60_col16\" class=\"data row60 col16\" >Tecnologia</td>\n",
       "      <td id=\"T_d9d07_row60_col17\" class=\"data row60 col17\" >Monitor</td>\n",
       "    </tr>\n",
       "    <tr>\n",
       "      <th id=\"T_d9d07_level0_row61\" class=\"row_heading level0 row61\" >61</th>\n",
       "      <td id=\"T_d9d07_row61_col0\" class=\"data row61 col0\" >9</td>\n",
       "      <td id=\"T_d9d07_row61_col1\" class=\"data row61 col1\" >11/10/2024</td>\n",
       "      <td id=\"T_d9d07_row61_col2\" class=\"data row61 col2\" >nan</td>\n",
       "      <td id=\"T_d9d07_row61_col3\" class=\"data row61 col3\" >Critica</td>\n",
       "      <td id=\"T_d9d07_row61_col4\" class=\"data row61 col4\" >46</td>\n",
       "      <td id=\"T_d9d07_row61_col5\" class=\"data row61 col5\" >422253.720000</td>\n",
       "      <td id=\"T_d9d07_row61_col6\" class=\"data row61 col6\" >0.720000</td>\n",
       "      <td id=\"T_d9d07_row61_col7\" class=\"data row61 col7\" >Terrestre</td>\n",
       "      <td id=\"T_d9d07_row61_col8\" class=\"data row61 col8\" >0.210000</td>\n",
       "      <td id=\"T_d9d07_row61_col9\" class=\"data row61 col9\" >886.730000</td>\n",
       "      <td id=\"T_d9d07_row61_col10\" class=\"data row61 col10\" >9246.000000</td>\n",
       "      <td id=\"T_d9d07_row61_col11\" class=\"data row61 col11\" >155.990000</td>\n",
       "      <td id=\"T_d9d07_row61_col12\" class=\"data row61 col12\" >4.200000</td>\n",
       "      <td id=\"T_d9d07_row61_col13\" class=\"data row61 col13\" >Arthur Gainer</td>\n",
       "      <td id=\"T_d9d07_row61_col14\" class=\"data row61 col14\" >Bolivia</td>\n",
       "      <td id=\"T_d9d07_row61_col15\" class=\"data row61 col15\" >Corporativo</td>\n",
       "      <td id=\"T_d9d07_row61_col16\" class=\"data row61 col16\" >Tecnologia</td>\n",
       "      <td id=\"T_d9d07_row61_col17\" class=\"data row61 col17\" >Mouse</td>\n",
       "    </tr>\n",
       "    <tr>\n",
       "      <th id=\"T_d9d07_level0_row62\" class=\"row_heading level0 row62\" >62</th>\n",
       "      <td id=\"T_d9d07_row62_col0\" class=\"data row62 col0\" >12</td>\n",
       "      <td id=\"T_d9d07_row62_col1\" class=\"data row62 col1\" >10/10/2023</td>\n",
       "      <td id=\"T_d9d07_row62_col2\" class=\"data row62 col2\" >nan</td>\n",
       "      <td id=\"T_d9d07_row62_col3\" class=\"data row62 col3\" >Regular</td>\n",
       "      <td id=\"T_d9d07_row62_col4\" class=\"data row62 col4\" >42</td>\n",
       "      <td id=\"T_d9d07_row62_col5\" class=\"data row62 col5\" >217533.940000</td>\n",
       "      <td id=\"T_d9d07_row62_col6\" class=\"data row62 col6\" >0.930000</td>\n",
       "      <td id=\"T_d9d07_row62_col7\" class=\"data row62 col7\" >Aereo regular</td>\n",
       "      <td id=\"T_d9d07_row62_col8\" class=\"data row62 col8\" >0.400000</td>\n",
       "      <td id=\"T_d9d07_row62_col9\" class=\"data row62 col9\" >870.140000</td>\n",
       "      <td id=\"T_d9d07_row62_col10\" class=\"data row62 col10\" >5228.000000</td>\n",
       "      <td id=\"T_d9d07_row62_col11\" class=\"data row62 col11\" >1.680000</td>\n",
       "      <td id=\"T_d9d07_row62_col12\" class=\"data row62 col12\" >3.920000</td>\n",
       "      <td id=\"T_d9d07_row62_col13\" class=\"data row62 col13\" >Helen Wasserman</td>\n",
       "      <td id=\"T_d9d07_row62_col14\" class=\"data row62 col14\" >Argentina</td>\n",
       "      <td id=\"T_d9d07_row62_col15\" class=\"data row62 col15\" >Consumidor</td>\n",
       "      <td id=\"T_d9d07_row62_col16\" class=\"data row62 col16\" >Tecnologia</td>\n",
       "      <td id=\"T_d9d07_row62_col17\" class=\"data row62 col17\" >Mouse</td>\n",
       "    </tr>\n",
       "    <tr>\n",
       "      <th id=\"T_d9d07_level0_row63\" class=\"row_heading level0 row63\" >63</th>\n",
       "      <td id=\"T_d9d07_row63_col0\" class=\"data row63 col0\" >13</td>\n",
       "      <td id=\"T_d9d07_row63_col1\" class=\"data row63 col1\" >11/10/2023</td>\n",
       "      <td id=\"T_d9d07_row63_col2\" class=\"data row63 col2\" >nan</td>\n",
       "      <td id=\"T_d9d07_row63_col3\" class=\"data row63 col3\" >Baja</td>\n",
       "      <td id=\"T_d9d07_row63_col4\" class=\"data row63 col4\" >28</td>\n",
       "      <td id=\"T_d9d07_row63_col5\" class=\"data row63 col5\" >23137.630000</td>\n",
       "      <td id=\"T_d9d07_row63_col6\" class=\"data row63 col6\" >0.200000</td>\n",
       "      <td id=\"T_d9d07_row63_col7\" class=\"data row63 col7\" >Aereo regular</td>\n",
       "      <td id=\"T_d9d07_row63_col8\" class=\"data row63 col8\" >0.200000</td>\n",
       "      <td id=\"T_d9d07_row63_col9\" class=\"data row63 col9\" >46.280000</td>\n",
       "      <td id=\"T_d9d07_row63_col10\" class=\"data row63 col10\" >828.000000</td>\n",
       "      <td id=\"T_d9d07_row63_col11\" class=\"data row63 col11\" >205.990000</td>\n",
       "      <td id=\"T_d9d07_row63_col12\" class=\"data row63 col12\" >0.700000</td>\n",
       "      <td id=\"T_d9d07_row63_col13\" class=\"data row63 col13\" >Helen Wasserman</td>\n",
       "      <td id=\"T_d9d07_row63_col14\" class=\"data row63 col14\" >Bolivia</td>\n",
       "      <td id=\"T_d9d07_row63_col15\" class=\"data row63 col15\" >Consumidor</td>\n",
       "      <td id=\"T_d9d07_row63_col16\" class=\"data row63 col16\" >Tecnologia</td>\n",
       "      <td id=\"T_d9d07_row63_col17\" class=\"data row63 col17\" >Mouse</td>\n",
       "    </tr>\n",
       "    <tr>\n",
       "      <th id=\"T_d9d07_level0_row64\" class=\"row_heading level0 row64\" >64</th>\n",
       "      <td id=\"T_d9d07_row64_col0\" class=\"data row64 col0\" >6</td>\n",
       "      <td id=\"T_d9d07_row64_col1\" class=\"data row64 col1\" >29/10/2023</td>\n",
       "      <td id=\"T_d9d07_row64_col2\" class=\"data row64 col2\" >nan</td>\n",
       "      <td id=\"T_d9d07_row64_col3\" class=\"data row64 col3\" >Alta</td>\n",
       "      <td id=\"T_d9d07_row64_col4\" class=\"data row64 col4\" >23</td>\n",
       "      <td id=\"T_d9d07_row64_col5\" class=\"data row64 col5\" >63948.140000</td>\n",
       "      <td id=\"T_d9d07_row64_col6\" class=\"data row64 col6\" >0.310000</td>\n",
       "      <td id=\"T_d9d07_row64_col7\" class=\"data row64 col7\" >Aereo regular</td>\n",
       "      <td id=\"T_d9d07_row64_col8\" class=\"data row64 col8\" >0.290000</td>\n",
       "      <td id=\"T_d9d07_row64_col9\" class=\"data row64 col9\" >185.450000</td>\n",
       "      <td id=\"T_d9d07_row64_col10\" class=\"data row64 col10\" >2789.000000</td>\n",
       "      <td id=\"T_d9d07_row64_col11\" class=\"data row64 col11\" >70.890000</td>\n",
       "      <td id=\"T_d9d07_row64_col12\" class=\"data row64 col12\" >50.300000</td>\n",
       "      <td id=\"T_d9d07_row64_col13\" class=\"data row64 col13\" >Julie Creighton</td>\n",
       "      <td id=\"T_d9d07_row64_col14\" class=\"data row64 col14\" >Bolivia</td>\n",
       "      <td id=\"T_d9d07_row64_col15\" class=\"data row64 col15\" >Corporativo</td>\n",
       "      <td id=\"T_d9d07_row64_col16\" class=\"data row64 col16\" >Tecnologia</td>\n",
       "      <td id=\"T_d9d07_row64_col17\" class=\"data row64 col17\" >Mouse</td>\n",
       "    </tr>\n",
       "    <tr>\n",
       "      <th id=\"T_d9d07_level0_row65\" class=\"row_heading level0 row65\" >65</th>\n",
       "      <td id=\"T_d9d07_row65_col0\" class=\"data row65 col0\" >3</td>\n",
       "      <td id=\"T_d9d07_row65_col1\" class=\"data row65 col1\" >11/11/2023</td>\n",
       "      <td id=\"T_d9d07_row65_col2\" class=\"data row65 col2\" >nan</td>\n",
       "      <td id=\"T_d9d07_row65_col3\" class=\"data row65 col3\" >Alta</td>\n",
       "      <td id=\"T_d9d07_row65_col4\" class=\"data row65 col4\" >15</td>\n",
       "      <td id=\"T_d9d07_row65_col5\" class=\"data row65 col5\" >106579.730000</td>\n",
       "      <td id=\"T_d9d07_row65_col6\" class=\"data row65 col6\" >0.430000</td>\n",
       "      <td id=\"T_d9d07_row65_col7\" class=\"data row65 col7\" >Aereo regular</td>\n",
       "      <td id=\"T_d9d07_row65_col8\" class=\"data row65 col8\" >0.370000</td>\n",
       "      <td id=\"T_d9d07_row65_col9\" class=\"data row65 col9\" >394.340000</td>\n",
       "      <td id=\"T_d9d07_row65_col10\" class=\"data row65 col10\" >7136.000000</td>\n",
       "      <td id=\"T_d9d07_row65_col11\" class=\"data row65 col11\" >8.460000</td>\n",
       "      <td id=\"T_d9d07_row65_col12\" class=\"data row65 col12\" >8.990000</td>\n",
       "      <td id=\"T_d9d07_row65_col13\" class=\"data row65 col13\" >Liz Pelletier</td>\n",
       "      <td id=\"T_d9d07_row65_col14\" class=\"data row65 col14\" >Paraguay</td>\n",
       "      <td id=\"T_d9d07_row65_col15\" class=\"data row65 col15\" >Corporativo</td>\n",
       "      <td id=\"T_d9d07_row65_col16\" class=\"data row65 col16\" >Tecnologia</td>\n",
       "      <td id=\"T_d9d07_row65_col17\" class=\"data row65 col17\" >Mouse</td>\n",
       "    </tr>\n",
       "    <tr>\n",
       "      <th id=\"T_d9d07_level0_row66\" class=\"row_heading level0 row66\" >66</th>\n",
       "      <td id=\"T_d9d07_row66_col0\" class=\"data row66 col0\" >8</td>\n",
       "      <td id=\"T_d9d07_row66_col1\" class=\"data row66 col1\" >12/12/2023</td>\n",
       "      <td id=\"T_d9d07_row66_col2\" class=\"data row66 col2\" >nan</td>\n",
       "      <td id=\"T_d9d07_row66_col3\" class=\"data row66 col3\" >Regular</td>\n",
       "      <td id=\"T_d9d07_row66_col4\" class=\"data row66 col4\" >14</td>\n",
       "      <td id=\"T_d9d07_row66_col5\" class=\"data row66 col5\" >148042.970000</td>\n",
       "      <td id=\"T_d9d07_row66_col6\" class=\"data row66 col6\" >0.250000</td>\n",
       "      <td id=\"T_d9d07_row66_col7\" class=\"data row66 col7\" >Aereo regular</td>\n",
       "      <td id=\"T_d9d07_row66_col8\" class=\"data row66 col8\" >0.310000</td>\n",
       "      <td id=\"T_d9d07_row66_col9\" class=\"data row66 col9\" >458.930000</td>\n",
       "      <td id=\"T_d9d07_row66_col10\" class=\"data row66 col10\" >10601.000000</td>\n",
       "      <td id=\"T_d9d07_row66_col11\" class=\"data row66 col11\" >9.110000</td>\n",
       "      <td id=\"T_d9d07_row66_col12\" class=\"data row66 col12\" >8.990000</td>\n",
       "      <td id=\"T_d9d07_row66_col13\" class=\"data row66 col13\" >Tamara Dahiern</td>\n",
       "      <td id=\"T_d9d07_row66_col14\" class=\"data row66 col14\" >Bolivia</td>\n",
       "      <td id=\"T_d9d07_row66_col15\" class=\"data row66 col15\" >Corporativo</td>\n",
       "      <td id=\"T_d9d07_row66_col16\" class=\"data row66 col16\" >Tecnologia</td>\n",
       "      <td id=\"T_d9d07_row66_col17\" class=\"data row66 col17\" >Mouse</td>\n",
       "    </tr>\n",
       "    <tr>\n",
       "      <th id=\"T_d9d07_level0_row67\" class=\"row_heading level0 row67\" >67</th>\n",
       "      <td id=\"T_d9d07_row67_col0\" class=\"data row67 col0\" >61</td>\n",
       "      <td id=\"T_d9d07_row67_col1\" class=\"data row67 col1\" >30/5/2023</td>\n",
       "      <td id=\"T_d9d07_row67_col2\" class=\"data row67 col2\" >nan</td>\n",
       "      <td id=\"T_d9d07_row67_col3\" class=\"data row67 col3\" >Alta</td>\n",
       "      <td id=\"T_d9d07_row67_col4\" class=\"data row67 col4\" >48</td>\n",
       "      <td id=\"T_d9d07_row67_col5\" class=\"data row67 col5\" >35298.170000</td>\n",
       "      <td id=\"T_d9d07_row67_col6\" class=\"data row67 col6\" >0.220000</td>\n",
       "      <td id=\"T_d9d07_row67_col7\" class=\"data row67 col7\" >Aereo regular</td>\n",
       "      <td id=\"T_d9d07_row67_col8\" class=\"data row67 col8\" >0.300000</td>\n",
       "      <td id=\"T_d9d07_row67_col9\" class=\"data row67 col9\" >105.890000</td>\n",
       "      <td id=\"T_d9d07_row67_col10\" class=\"data row67 col10\" >737.000000</td>\n",
       "      <td id=\"T_d9d07_row67_col11\" class=\"data row67 col11\" >155.990000</td>\n",
       "      <td id=\"T_d9d07_row67_col12\" class=\"data row67 col12\" >35.000000</td>\n",
       "      <td id=\"T_d9d07_row67_col13\" class=\"data row67 col13\" >Craig Yedeab</td>\n",
       "      <td id=\"T_d9d07_row67_col14\" class=\"data row67 col14\" >Bolivia</td>\n",
       "      <td id=\"T_d9d07_row67_col15\" class=\"data row67 col15\" >Negocio</td>\n",
       "      <td id=\"T_d9d07_row67_col16\" class=\"data row67 col16\" >Tecnologia</td>\n",
       "      <td id=\"T_d9d07_row67_col17\" class=\"data row67 col17\" >Parlante</td>\n",
       "    </tr>\n",
       "    <tr>\n",
       "      <th id=\"T_d9d07_level0_row68\" class=\"row_heading level0 row68\" >68</th>\n",
       "      <td id=\"T_d9d07_row68_col0\" class=\"data row68 col0\" >74</td>\n",
       "      <td id=\"T_d9d07_row68_col1\" class=\"data row68 col1\" >30/5/2023</td>\n",
       "      <td id=\"T_d9d07_row68_col2\" class=\"data row68 col2\" >nan</td>\n",
       "      <td id=\"T_d9d07_row68_col3\" class=\"data row68 col3\" >Baja</td>\n",
       "      <td id=\"T_d9d07_row68_col4\" class=\"data row68 col4\" >7</td>\n",
       "      <td id=\"T_d9d07_row68_col5\" class=\"data row68 col5\" >91340.890000</td>\n",
       "      <td id=\"T_d9d07_row68_col6\" class=\"data row68 col6\" >0.460000</td>\n",
       "      <td id=\"T_d9d07_row68_col7\" class=\"data row68 col7\" >Aereo regular</td>\n",
       "      <td id=\"T_d9d07_row68_col8\" class=\"data row68 col8\" >0.400000</td>\n",
       "      <td id=\"T_d9d07_row68_col9\" class=\"data row68 col9\" >365.360000</td>\n",
       "      <td id=\"T_d9d07_row68_col10\" class=\"data row68 col10\" >13109.000000</td>\n",
       "      <td id=\"T_d9d07_row68_col11\" class=\"data row68 col11\" >95.990000</td>\n",
       "      <td id=\"T_d9d07_row68_col12\" class=\"data row68 col12\" >3.920000</td>\n",
       "      <td id=\"T_d9d07_row68_col13\" class=\"data row68 col13\" >Tamara Dahiern</td>\n",
       "      <td id=\"T_d9d07_row68_col14\" class=\"data row68 col14\" >Bolivia</td>\n",
       "      <td id=\"T_d9d07_row68_col15\" class=\"data row68 col15\" >Oficina en casa</td>\n",
       "      <td id=\"T_d9d07_row68_col16\" class=\"data row68 col16\" >Tecnologia</td>\n",
       "      <td id=\"T_d9d07_row68_col17\" class=\"data row68 col17\" >Parlante</td>\n",
       "    </tr>\n",
       "    <tr>\n",
       "      <th id=\"T_d9d07_level0_row69\" class=\"row_heading level0 row69\" >69</th>\n",
       "      <td id=\"T_d9d07_row69_col0\" class=\"data row69 col0\" >73</td>\n",
       "      <td id=\"T_d9d07_row69_col1\" class=\"data row69 col1\" >8/10/2023</td>\n",
       "      <td id=\"T_d9d07_row69_col2\" class=\"data row69 col2\" >nan</td>\n",
       "      <td id=\"T_d9d07_row69_col3\" class=\"data row69 col3\" >Normal</td>\n",
       "      <td id=\"T_d9d07_row69_col4\" class=\"data row69 col4\" >56</td>\n",
       "      <td id=\"T_d9d07_row69_col5\" class=\"data row69 col5\" >318417.620000</td>\n",
       "      <td id=\"T_d9d07_row69_col6\" class=\"data row69 col6\" >0.350000</td>\n",
       "      <td id=\"T_d9d07_row69_col7\" class=\"data row69 col7\" >Aereo regular</td>\n",
       "      <td id=\"T_d9d07_row69_col8\" class=\"data row69 col8\" >0.360000</td>\n",
       "      <td id=\"T_d9d07_row69_col9\" class=\"data row69 col9\" >1146.300000</td>\n",
       "      <td id=\"T_d9d07_row69_col10\" class=\"data row69 col10\" >5706.000000</td>\n",
       "      <td id=\"T_d9d07_row69_col11\" class=\"data row69 col11\" >7.990000</td>\n",
       "      <td id=\"T_d9d07_row69_col12\" class=\"data row69 col12\" >0.700000</td>\n",
       "      <td id=\"T_d9d07_row69_col13\" class=\"data row69 col13\" >Keith Sawkins</td>\n",
       "      <td id=\"T_d9d07_row69_col14\" class=\"data row69 col14\" >Ecuador</td>\n",
       "      <td id=\"T_d9d07_row69_col15\" class=\"data row69 col15\" >Oficina en casa</td>\n",
       "      <td id=\"T_d9d07_row69_col16\" class=\"data row69 col16\" >Tecnologia</td>\n",
       "      <td id=\"T_d9d07_row69_col17\" class=\"data row69 col17\" >Parlante</td>\n",
       "    </tr>\n",
       "    <tr>\n",
       "      <th id=\"T_d9d07_level0_row70\" class=\"row_heading level0 row70\" >70</th>\n",
       "      <td id=\"T_d9d07_row70_col0\" class=\"data row70 col0\" >71</td>\n",
       "      <td id=\"T_d9d07_row70_col1\" class=\"data row70 col1\" >2/11/2023</td>\n",
       "      <td id=\"T_d9d07_row70_col2\" class=\"data row70 col2\" >nan</td>\n",
       "      <td id=\"T_d9d07_row70_col3\" class=\"data row70 col3\" >Baja</td>\n",
       "      <td id=\"T_d9d07_row70_col4\" class=\"data row70 col4\" >34</td>\n",
       "      <td id=\"T_d9d07_row70_col5\" class=\"data row70 col5\" >377342.530000</td>\n",
       "      <td id=\"T_d9d07_row70_col6\" class=\"data row70 col6\" >0.410000</td>\n",
       "      <td id=\"T_d9d07_row70_col7\" class=\"data row70 col7\" >Aereo expreso</td>\n",
       "      <td id=\"T_d9d07_row70_col8\" class=\"data row70 col8\" >0.250000</td>\n",
       "      <td id=\"T_d9d07_row70_col9\" class=\"data row70 col9\" >943.360000</td>\n",
       "      <td id=\"T_d9d07_row70_col10\" class=\"data row70 col10\" >11144.000000</td>\n",
       "      <td id=\"T_d9d07_row70_col11\" class=\"data row70 col11\" >9.710000</td>\n",
       "      <td id=\"T_d9d07_row70_col12\" class=\"data row70 col12\" >0.700000</td>\n",
       "      <td id=\"T_d9d07_row70_col13\" class=\"data row70 col13\" >Justin Hirsh</td>\n",
       "      <td id=\"T_d9d07_row70_col14\" class=\"data row70 col14\" >Argentina</td>\n",
       "      <td id=\"T_d9d07_row70_col15\" class=\"data row70 col15\" >Corporativo</td>\n",
       "      <td id=\"T_d9d07_row70_col16\" class=\"data row70 col16\" >Tecnologia</td>\n",
       "      <td id=\"T_d9d07_row70_col17\" class=\"data row70 col17\" >Parlante</td>\n",
       "    </tr>\n",
       "    <tr>\n",
       "      <th id=\"T_d9d07_level0_row71\" class=\"row_heading level0 row71\" >71</th>\n",
       "      <td id=\"T_d9d07_row71_col0\" class=\"data row71 col0\" >68</td>\n",
       "      <td id=\"T_d9d07_row71_col1\" class=\"data row71 col1\" >24/11/2023</td>\n",
       "      <td id=\"T_d9d07_row71_col2\" class=\"data row71 col2\" >nan</td>\n",
       "      <td id=\"T_d9d07_row71_col3\" class=\"data row71 col3\" >Regular</td>\n",
       "      <td id=\"T_d9d07_row71_col4\" class=\"data row71 col4\" >29</td>\n",
       "      <td id=\"T_d9d07_row71_col5\" class=\"data row71 col5\" >126580.950000</td>\n",
       "      <td id=\"T_d9d07_row71_col6\" class=\"data row71 col6\" >0.550000</td>\n",
       "      <td id=\"T_d9d07_row71_col7\" class=\"data row71 col7\" >Aereo regular</td>\n",
       "      <td id=\"T_d9d07_row71_col8\" class=\"data row71 col8\" >0.400000</td>\n",
       "      <td id=\"T_d9d07_row71_col9\" class=\"data row71 col9\" >506.320000</td>\n",
       "      <td id=\"T_d9d07_row71_col10\" class=\"data row71 col10\" >4389.000000</td>\n",
       "      <td id=\"T_d9d07_row71_col11\" class=\"data row71 col11\" >6.480000</td>\n",
       "      <td id=\"T_d9d07_row71_col12\" class=\"data row71 col12\" >8.990000</td>\n",
       "      <td id=\"T_d9d07_row71_col13\" class=\"data row71 col13\" >Michael Dominguez</td>\n",
       "      <td id=\"T_d9d07_row71_col14\" class=\"data row71 col14\" >Paraguay</td>\n",
       "      <td id=\"T_d9d07_row71_col15\" class=\"data row71 col15\" >Corporativo</td>\n",
       "      <td id=\"T_d9d07_row71_col16\" class=\"data row71 col16\" >Tecnologia</td>\n",
       "      <td id=\"T_d9d07_row71_col17\" class=\"data row71 col17\" >Parlante</td>\n",
       "    </tr>\n",
       "    <tr>\n",
       "      <th id=\"T_d9d07_level0_row72\" class=\"row_heading level0 row72\" >72</th>\n",
       "      <td id=\"T_d9d07_row72_col0\" class=\"data row72 col0\" >77</td>\n",
       "      <td id=\"T_d9d07_row72_col1\" class=\"data row72 col1\" >28/11/2023</td>\n",
       "      <td id=\"T_d9d07_row72_col2\" class=\"data row72 col2\" >nan</td>\n",
       "      <td id=\"T_d9d07_row72_col3\" class=\"data row72 col3\" >Alta</td>\n",
       "      <td id=\"T_d9d07_row72_col4\" class=\"data row72 col4\" >65</td>\n",
       "      <td id=\"T_d9d07_row72_col5\" class=\"data row72 col5\" >356648.660000</td>\n",
       "      <td id=\"T_d9d07_row72_col6\" class=\"data row72 col6\" >0.020000</td>\n",
       "      <td id=\"T_d9d07_row72_col7\" class=\"data row72 col7\" >Terrestre</td>\n",
       "      <td id=\"T_d9d07_row72_col8\" class=\"data row72 col8\" >0.280000</td>\n",
       "      <td id=\"T_d9d07_row72_col9\" class=\"data row72 col9\" >998.620000</td>\n",
       "      <td id=\"T_d9d07_row72_col10\" class=\"data row72 col10\" >5488.000000</td>\n",
       "      <td id=\"T_d9d07_row72_col11\" class=\"data row72 col11\" >12.440000</td>\n",
       "      <td id=\"T_d9d07_row72_col12\" class=\"data row72 col12\" >5.990000</td>\n",
       "      <td id=\"T_d9d07_row72_col13\" class=\"data row72 col13\" >Jonathan Doherty</td>\n",
       "      <td id=\"T_d9d07_row72_col14\" class=\"data row72 col14\" >Bolivia</td>\n",
       "      <td id=\"T_d9d07_row72_col15\" class=\"data row72 col15\" >Consumidor</td>\n",
       "      <td id=\"T_d9d07_row72_col16\" class=\"data row72 col16\" >Tecnologia</td>\n",
       "      <td id=\"T_d9d07_row72_col17\" class=\"data row72 col17\" >Parlante</td>\n",
       "    </tr>\n",
       "    <tr>\n",
       "      <th id=\"T_d9d07_level0_row73\" class=\"row_heading level0 row73\" >73</th>\n",
       "      <td id=\"T_d9d07_row73_col0\" class=\"data row73 col0\" >64</td>\n",
       "      <td id=\"T_d9d07_row73_col1\" class=\"data row73 col1\" >3/12/2023</td>\n",
       "      <td id=\"T_d9d07_row73_col2\" class=\"data row73 col2\" >nan</td>\n",
       "      <td id=\"T_d9d07_row73_col3\" class=\"data row73 col3\" >Regular</td>\n",
       "      <td id=\"T_d9d07_row73_col4\" class=\"data row73 col4\" >68</td>\n",
       "      <td id=\"T_d9d07_row73_col5\" class=\"data row73 col5\" >17230.550000</td>\n",
       "      <td id=\"T_d9d07_row73_col6\" class=\"data row73 col6\" >0.240000</td>\n",
       "      <td id=\"T_d9d07_row73_col7\" class=\"data row73 col7\" >Aereo regular</td>\n",
       "      <td id=\"T_d9d07_row73_col8\" class=\"data row73 col8\" >0.210000</td>\n",
       "      <td id=\"T_d9d07_row73_col9\" class=\"data row73 col9\" >36.180000</td>\n",
       "      <td id=\"T_d9d07_row73_col10\" class=\"data row73 col10\" >254.000000</td>\n",
       "      <td id=\"T_d9d07_row73_col11\" class=\"data row73 col11\" >1.680000</td>\n",
       "      <td id=\"T_d9d07_row73_col12\" class=\"data row73 col12\" >5.810000</td>\n",
       "      <td id=\"T_d9d07_row73_col13\" class=\"data row73 col13\" >Roy Collins</td>\n",
       "      <td id=\"T_d9d07_row73_col14\" class=\"data row73 col14\" >Chile</td>\n",
       "      <td id=\"T_d9d07_row73_col15\" class=\"data row73 col15\" >Negocio</td>\n",
       "      <td id=\"T_d9d07_row73_col16\" class=\"data row73 col16\" >Tecnologia</td>\n",
       "      <td id=\"T_d9d07_row73_col17\" class=\"data row73 col17\" >Parlante</td>\n",
       "    </tr>\n",
       "    <tr>\n",
       "      <th id=\"T_d9d07_level0_row74\" class=\"row_heading level0 row74\" >74</th>\n",
       "      <td id=\"T_d9d07_row74_col0\" class=\"data row74 col0\" >65</td>\n",
       "      <td id=\"T_d9d07_row74_col1\" class=\"data row74 col1\" >4/12/2023</td>\n",
       "      <td id=\"T_d9d07_row74_col2\" class=\"data row74 col2\" >nan</td>\n",
       "      <td id=\"T_d9d07_row74_col3\" class=\"data row74 col3\" >Critica</td>\n",
       "      <td id=\"T_d9d07_row74_col4\" class=\"data row74 col4\" >60</td>\n",
       "      <td id=\"T_d9d07_row74_col5\" class=\"data row74 col5\" >407184.370000</td>\n",
       "      <td id=\"T_d9d07_row74_col6\" class=\"data row74 col6\" >0.740000</td>\n",
       "      <td id=\"T_d9d07_row74_col7\" class=\"data row74 col7\" >Aereo regular</td>\n",
       "      <td id=\"T_d9d07_row74_col8\" class=\"data row74 col8\" >0.280000</td>\n",
       "      <td id=\"T_d9d07_row74_col9\" class=\"data row74 col9\" >1140.120000</td>\n",
       "      <td id=\"T_d9d07_row74_col10\" class=\"data row74 col10\" >6837.000000</td>\n",
       "      <td id=\"T_d9d07_row74_col11\" class=\"data row74 col11\" >205.990000</td>\n",
       "      <td id=\"T_d9d07_row74_col12\" class=\"data row74 col12\" >89.300000</td>\n",
       "      <td id=\"T_d9d07_row74_col13\" class=\"data row74 col13\" >Roy Collins</td>\n",
       "      <td id=\"T_d9d07_row74_col14\" class=\"data row74 col14\" >Chile</td>\n",
       "      <td id=\"T_d9d07_row74_col15\" class=\"data row74 col15\" >Corporativo</td>\n",
       "      <td id=\"T_d9d07_row74_col16\" class=\"data row74 col16\" >Tecnologia</td>\n",
       "      <td id=\"T_d9d07_row74_col17\" class=\"data row74 col17\" >Parlante</td>\n",
       "    </tr>\n",
       "    <tr>\n",
       "      <th id=\"T_d9d07_level0_row75\" class=\"row_heading level0 row75\" >75</th>\n",
       "      <td id=\"T_d9d07_row75_col0\" class=\"data row75 col0\" >97</td>\n",
       "      <td id=\"T_d9d07_row75_col1\" class=\"data row75 col1\" >27/5/2023</td>\n",
       "      <td id=\"T_d9d07_row75_col2\" class=\"data row75 col2\" >nan</td>\n",
       "      <td id=\"T_d9d07_row75_col3\" class=\"data row75 col3\" >Baja</td>\n",
       "      <td id=\"T_d9d07_row75_col4\" class=\"data row75 col4\" >49</td>\n",
       "      <td id=\"T_d9d07_row75_col5\" class=\"data row75 col5\" >522722.140000</td>\n",
       "      <td id=\"T_d9d07_row75_col6\" class=\"data row75 col6\" >0.030000</td>\n",
       "      <td id=\"T_d9d07_row75_col7\" class=\"data row75 col7\" >Aereo expreso</td>\n",
       "      <td id=\"T_d9d07_row75_col8\" class=\"data row75 col8\" >0.340000</td>\n",
       "      <td id=\"T_d9d07_row75_col9\" class=\"data row75 col9\" >1777.260000</td>\n",
       "      <td id=\"T_d9d07_row75_col10\" class=\"data row75 col10\" >10671.000000</td>\n",
       "      <td id=\"T_d9d07_row75_col11\" class=\"data row75 col11\" >9.710000</td>\n",
       "      <td id=\"T_d9d07_row75_col12\" class=\"data row75 col12\" >2.250000</td>\n",
       "      <td id=\"T_d9d07_row75_col13\" class=\"data row75 col13\" >Arthur Gainer</td>\n",
       "      <td id=\"T_d9d07_row75_col14\" class=\"data row75 col14\" >Bolivia</td>\n",
       "      <td id=\"T_d9d07_row75_col15\" class=\"data row75 col15\" >Consumidor</td>\n",
       "      <td id=\"T_d9d07_row75_col16\" class=\"data row75 col16\" >Tecnologia</td>\n",
       "      <td id=\"T_d9d07_row75_col17\" class=\"data row75 col17\" >Router</td>\n",
       "    </tr>\n",
       "    <tr>\n",
       "      <th id=\"T_d9d07_level0_row76\" class=\"row_heading level0 row76\" >76</th>\n",
       "      <td id=\"T_d9d07_row76_col0\" class=\"data row76 col0\" >100</td>\n",
       "      <td id=\"T_d9d07_row76_col1\" class=\"data row76 col1\" >13/10/2023</td>\n",
       "      <td id=\"T_d9d07_row76_col2\" class=\"data row76 col2\" >nan</td>\n",
       "      <td id=\"T_d9d07_row76_col3\" class=\"data row76 col3\" >Alta</td>\n",
       "      <td id=\"T_d9d07_row76_col4\" class=\"data row76 col4\" >28</td>\n",
       "      <td id=\"T_d9d07_row76_col5\" class=\"data row76 col5\" >8380.740000</td>\n",
       "      <td id=\"T_d9d07_row76_col6\" class=\"data row76 col6\" >0.890000</td>\n",
       "      <td id=\"T_d9d07_row76_col7\" class=\"data row76 col7\" >Aereo regular</td>\n",
       "      <td id=\"T_d9d07_row76_col8\" class=\"data row76 col8\" >0.220000</td>\n",
       "      <td id=\"T_d9d07_row76_col9\" class=\"data row76 col9\" >18.440000</td>\n",
       "      <td id=\"T_d9d07_row76_col10\" class=\"data row76 col10\" >302.000000</td>\n",
       "      <td id=\"T_d9d07_row76_col11\" class=\"data row76 col11\" >95.990000</td>\n",
       "      <td id=\"T_d9d07_row76_col12\" class=\"data row76 col12\" >1.990000</td>\n",
       "      <td id=\"T_d9d07_row76_col13\" class=\"data row76 col13\" >Helen Wasserman</td>\n",
       "      <td id=\"T_d9d07_row76_col14\" class=\"data row76 col14\" >Argentina</td>\n",
       "      <td id=\"T_d9d07_row76_col15\" class=\"data row76 col15\" >Negocio</td>\n",
       "      <td id=\"T_d9d07_row76_col16\" class=\"data row76 col16\" >Tecnologia</td>\n",
       "      <td id=\"T_d9d07_row76_col17\" class=\"data row76 col17\" >Router</td>\n",
       "    </tr>\n",
       "    <tr>\n",
       "      <th id=\"T_d9d07_level0_row77\" class=\"row_heading level0 row77\" >77</th>\n",
       "      <td id=\"T_d9d07_row77_col0\" class=\"data row77 col0\" >99</td>\n",
       "      <td id=\"T_d9d07_row77_col1\" class=\"data row77 col1\" >19/10/2023</td>\n",
       "      <td id=\"T_d9d07_row77_col2\" class=\"data row77 col2\" >nan</td>\n",
       "      <td id=\"T_d9d07_row77_col3\" class=\"data row77 col3\" >Baja</td>\n",
       "      <td id=\"T_d9d07_row77_col4\" class=\"data row77 col4\" >14</td>\n",
       "      <td id=\"T_d9d07_row77_col5\" class=\"data row77 col5\" >193107.060000</td>\n",
       "      <td id=\"T_d9d07_row77_col6\" class=\"data row77 col6\" >0.810000</td>\n",
       "      <td id=\"T_d9d07_row77_col7\" class=\"data row77 col7\" >Aereo regular</td>\n",
       "      <td id=\"T_d9d07_row77_col8\" class=\"data row77 col8\" >0.390000</td>\n",
       "      <td id=\"T_d9d07_row77_col9\" class=\"data row77 col9\" >753.120000</td>\n",
       "      <td id=\"T_d9d07_row77_col10\" class=\"data row77 col10\" >13906.000000</td>\n",
       "      <td id=\"T_d9d07_row77_col11\" class=\"data row77 col11\" >7.990000</td>\n",
       "      <td id=\"T_d9d07_row77_col12\" class=\"data row77 col12\" >4.200000</td>\n",
       "      <td id=\"T_d9d07_row77_col13\" class=\"data row77 col13\" >Jonathan Doherty</td>\n",
       "      <td id=\"T_d9d07_row77_col14\" class=\"data row77 col14\" >Paraguay</td>\n",
       "      <td id=\"T_d9d07_row77_col15\" class=\"data row77 col15\" >Negocio</td>\n",
       "      <td id=\"T_d9d07_row77_col16\" class=\"data row77 col16\" >Tecnologia</td>\n",
       "      <td id=\"T_d9d07_row77_col17\" class=\"data row77 col17\" >Router</td>\n",
       "    </tr>\n",
       "    <tr>\n",
       "      <th id=\"T_d9d07_level0_row78\" class=\"row_heading level0 row78\" >78</th>\n",
       "      <td id=\"T_d9d07_row78_col0\" class=\"data row78 col0\" >94</td>\n",
       "      <td id=\"T_d9d07_row78_col1\" class=\"data row78 col1\" >31/10/2023</td>\n",
       "      <td id=\"T_d9d07_row78_col2\" class=\"data row78 col2\" >nan</td>\n",
       "      <td id=\"T_d9d07_row78_col3\" class=\"data row78 col3\" >Baja</td>\n",
       "      <td id=\"T_d9d07_row78_col4\" class=\"data row78 col4\" >62</td>\n",
       "      <td id=\"T_d9d07_row78_col5\" class=\"data row78 col5\" >592000.630000</td>\n",
       "      <td id=\"T_d9d07_row78_col6\" class=\"data row78 col6\" >0.610000</td>\n",
       "      <td id=\"T_d9d07_row78_col7\" class=\"data row78 col7\" >Aereo expreso</td>\n",
       "      <td id=\"T_d9d07_row78_col8\" class=\"data row78 col8\" >0.280000</td>\n",
       "      <td id=\"T_d9d07_row78_col9\" class=\"data row78 col9\" >1657.600000</td>\n",
       "      <td id=\"T_d9d07_row78_col10\" class=\"data row78 col10\" >9607.000000</td>\n",
       "      <td id=\"T_d9d07_row78_col11\" class=\"data row78 col11\" >6.480000</td>\n",
       "      <td id=\"T_d9d07_row78_col12\" class=\"data row78 col12\" >5.810000</td>\n",
       "      <td id=\"T_d9d07_row78_col13\" class=\"data row78 col13\" >Julie Creighton</td>\n",
       "      <td id=\"T_d9d07_row78_col14\" class=\"data row78 col14\" >Chile</td>\n",
       "      <td id=\"T_d9d07_row78_col15\" class=\"data row78 col15\" >Oficina en casa</td>\n",
       "      <td id=\"T_d9d07_row78_col16\" class=\"data row78 col16\" >Tecnologia</td>\n",
       "      <td id=\"T_d9d07_row78_col17\" class=\"data row78 col17\" >Router</td>\n",
       "    </tr>\n",
       "    <tr>\n",
       "      <th id=\"T_d9d07_level0_row79\" class=\"row_heading level0 row79\" >79</th>\n",
       "      <td id=\"T_d9d07_row79_col0\" class=\"data row79 col0\" >31</td>\n",
       "      <td id=\"T_d9d07_row79_col1\" class=\"data row79 col1\" >30/5/2023</td>\n",
       "      <td id=\"T_d9d07_row79_col2\" class=\"data row79 col2\" >nan</td>\n",
       "      <td id=\"T_d9d07_row79_col3\" class=\"data row79 col3\" >Alta</td>\n",
       "      <td id=\"T_d9d07_row79_col4\" class=\"data row79 col4\" >55</td>\n",
       "      <td id=\"T_d9d07_row79_col5\" class=\"data row79 col5\" >335286.560000</td>\n",
       "      <td id=\"T_d9d07_row79_col6\" class=\"data row79 col6\" >0.080000</td>\n",
       "      <td id=\"T_d9d07_row79_col7\" class=\"data row79 col7\" >Aereo regular</td>\n",
       "      <td id=\"T_d9d07_row79_col8\" class=\"data row79 col8\" >0.320000</td>\n",
       "      <td id=\"T_d9d07_row79_col9\" class=\"data row79 col9\" >1072.920000</td>\n",
       "      <td id=\"T_d9d07_row79_col10\" class=\"data row79 col10\" >6101.000000</td>\n",
       "      <td id=\"T_d9d07_row79_col11\" class=\"data row79 col11\" >107.530000</td>\n",
       "      <td id=\"T_d9d07_row79_col12\" class=\"data row79 col12\" >35.000000</td>\n",
       "      <td id=\"T_d9d07_row79_col13\" class=\"data row79 col13\" >Michael Dominguez</td>\n",
       "      <td id=\"T_d9d07_row79_col14\" class=\"data row79 col14\" >Bolivia</td>\n",
       "      <td id=\"T_d9d07_row79_col15\" class=\"data row79 col15\" >Oficina en casa</td>\n",
       "      <td id=\"T_d9d07_row79_col16\" class=\"data row79 col16\" >Muebles</td>\n",
       "      <td id=\"T_d9d07_row79_col17\" class=\"data row79 col17\" >Silla</td>\n",
       "    </tr>\n",
       "    <tr>\n",
       "      <th id=\"T_d9d07_level0_row80\" class=\"row_heading level0 row80\" >80</th>\n",
       "      <td id=\"T_d9d07_row80_col0\" class=\"data row80 col0\" >43</td>\n",
       "      <td id=\"T_d9d07_row80_col1\" class=\"data row80 col1\" >1/10/2023</td>\n",
       "      <td id=\"T_d9d07_row80_col2\" class=\"data row80 col2\" >nan</td>\n",
       "      <td id=\"T_d9d07_row80_col3\" class=\"data row80 col3\" >Baja</td>\n",
       "      <td id=\"T_d9d07_row80_col4\" class=\"data row80 col4\" >14</td>\n",
       "      <td id=\"T_d9d07_row80_col5\" class=\"data row80 col5\" >127042.560000</td>\n",
       "      <td id=\"T_d9d07_row80_col6\" class=\"data row80 col6\" >0.630000</td>\n",
       "      <td id=\"T_d9d07_row80_col7\" class=\"data row80 col7\" >Aereo expreso</td>\n",
       "      <td id=\"T_d9d07_row80_col8\" class=\"data row80 col8\" >0.290000</td>\n",
       "      <td id=\"T_d9d07_row80_col9\" class=\"data row80 col9\" >368.420000</td>\n",
       "      <td id=\"T_d9d07_row80_col10\" class=\"data row80 col10\" >9132.000000</td>\n",
       "      <td id=\"T_d9d07_row80_col11\" class=\"data row80 col11\" >150.980000</td>\n",
       "      <td id=\"T_d9d07_row80_col12\" class=\"data row80 col12\" >0.700000</td>\n",
       "      <td id=\"T_d9d07_row80_col13\" class=\"data row80 col13\" >Sofia albarado</td>\n",
       "      <td id=\"T_d9d07_row80_col14\" class=\"data row80 col14\" >Colombia</td>\n",
       "      <td id=\"T_d9d07_row80_col15\" class=\"data row80 col15\" >Negocio</td>\n",
       "      <td id=\"T_d9d07_row80_col16\" class=\"data row80 col16\" >Muebles</td>\n",
       "      <td id=\"T_d9d07_row80_col17\" class=\"data row80 col17\" >Silla</td>\n",
       "    </tr>\n",
       "    <tr>\n",
       "      <th id=\"T_d9d07_level0_row81\" class=\"row_heading level0 row81\" >81</th>\n",
       "      <td id=\"T_d9d07_row81_col0\" class=\"data row81 col0\" >36</td>\n",
       "      <td id=\"T_d9d07_row81_col1\" class=\"data row81 col1\" >22/10/2023</td>\n",
       "      <td id=\"T_d9d07_row81_col2\" class=\"data row81 col2\" >nan</td>\n",
       "      <td id=\"T_d9d07_row81_col3\" class=\"data row81 col3\" >Regular</td>\n",
       "      <td id=\"T_d9d07_row81_col4\" class=\"data row81 col4\" >31</td>\n",
       "      <td id=\"T_d9d07_row81_col5\" class=\"data row81 col5\" >190788.140000</td>\n",
       "      <td id=\"T_d9d07_row81_col6\" class=\"data row81 col6\" >0.090000</td>\n",
       "      <td id=\"T_d9d07_row81_col7\" class=\"data row81 col7\" >Aereo regular</td>\n",
       "      <td id=\"T_d9d07_row81_col8\" class=\"data row81 col8\" >0.310000</td>\n",
       "      <td id=\"T_d9d07_row81_col9\" class=\"data row81 col9\" >591.440000</td>\n",
       "      <td id=\"T_d9d07_row81_col10\" class=\"data row81 col10\" >6160.000000</td>\n",
       "      <td id=\"T_d9d07_row81_col11\" class=\"data row81 col11\" >2.880000</td>\n",
       "      <td id=\"T_d9d07_row81_col12\" class=\"data row81 col12\" >50.300000</td>\n",
       "      <td id=\"T_d9d07_row81_col13\" class=\"data row81 col13\" >Alexiz Pena</td>\n",
       "      <td id=\"T_d9d07_row81_col14\" class=\"data row81 col14\" >Argentina</td>\n",
       "      <td id=\"T_d9d07_row81_col15\" class=\"data row81 col15\" >Negocio</td>\n",
       "      <td id=\"T_d9d07_row81_col16\" class=\"data row81 col16\" >Muebles</td>\n",
       "      <td id=\"T_d9d07_row81_col17\" class=\"data row81 col17\" >Silla</td>\n",
       "    </tr>\n",
       "    <tr>\n",
       "      <th id=\"T_d9d07_level0_row82\" class=\"row_heading level0 row82\" >82</th>\n",
       "      <td id=\"T_d9d07_row82_col0\" class=\"data row82 col0\" >30</td>\n",
       "      <td id=\"T_d9d07_row82_col1\" class=\"data row82 col1\" >17/11/2023</td>\n",
       "      <td id=\"T_d9d07_row82_col2\" class=\"data row82 col2\" >nan</td>\n",
       "      <td id=\"T_d9d07_row82_col3\" class=\"data row82 col3\" >Regular</td>\n",
       "      <td id=\"T_d9d07_row82_col4\" class=\"data row82 col4\" >66</td>\n",
       "      <td id=\"T_d9d07_row82_col5\" class=\"data row82 col5\" >486486.960000</td>\n",
       "      <td id=\"T_d9d07_row82_col6\" class=\"data row82 col6\" >0.620000</td>\n",
       "      <td id=\"T_d9d07_row82_col7\" class=\"data row82 col7\" >Aereo regular</td>\n",
       "      <td id=\"T_d9d07_row82_col8\" class=\"data row82 col8\" >0.370000</td>\n",
       "      <td id=\"T_d9d07_row82_col9\" class=\"data row82 col9\" >1800.000000</td>\n",
       "      <td id=\"T_d9d07_row82_col10\" class=\"data row82 col10\" >7417.000000</td>\n",
       "      <td id=\"T_d9d07_row82_col11\" class=\"data row82 col11\" >5.810000</td>\n",
       "      <td id=\"T_d9d07_row82_col12\" class=\"data row82 col12\" >7.980000</td>\n",
       "      <td id=\"T_d9d07_row82_col13\" class=\"data row82 col13\" >Ramon Ilesio</td>\n",
       "      <td id=\"T_d9d07_row82_col14\" class=\"data row82 col14\" >Bolivia</td>\n",
       "      <td id=\"T_d9d07_row82_col15\" class=\"data row82 col15\" >Corporativo</td>\n",
       "      <td id=\"T_d9d07_row82_col16\" class=\"data row82 col16\" >Muebles</td>\n",
       "      <td id=\"T_d9d07_row82_col17\" class=\"data row82 col17\" >Silla</td>\n",
       "    </tr>\n",
       "    <tr>\n",
       "      <th id=\"T_d9d07_level0_row83\" class=\"row_heading level0 row83\" >83</th>\n",
       "      <td id=\"T_d9d07_row83_col0\" class=\"data row83 col0\" >23</td>\n",
       "      <td id=\"T_d9d07_row83_col1\" class=\"data row83 col1\" >23/11/2023</td>\n",
       "      <td id=\"T_d9d07_row83_col2\" class=\"data row83 col2\" >nan</td>\n",
       "      <td id=\"T_d9d07_row83_col3\" class=\"data row83 col3\" >Normal</td>\n",
       "      <td id=\"T_d9d07_row83_col4\" class=\"data row83 col4\" >27</td>\n",
       "      <td id=\"T_d9d07_row83_col5\" class=\"data row83 col5\" >173526.380000</td>\n",
       "      <td id=\"T_d9d07_row83_col6\" class=\"data row83 col6\" >0.850000</td>\n",
       "      <td id=\"T_d9d07_row83_col7\" class=\"data row83 col7\" >Aereo expreso</td>\n",
       "      <td id=\"T_d9d07_row83_col8\" class=\"data row83 col8\" >0.230000</td>\n",
       "      <td id=\"T_d9d07_row83_col9\" class=\"data row83 col9\" >399.110000</td>\n",
       "      <td id=\"T_d9d07_row83_col10\" class=\"data row83 col10\" >6482.000000</td>\n",
       "      <td id=\"T_d9d07_row83_col11\" class=\"data row83 col11\" >4.980000</td>\n",
       "      <td id=\"T_d9d07_row83_col12\" class=\"data row83 col12\" >9.450000</td>\n",
       "      <td id=\"T_d9d07_row83_col13\" class=\"data row83 col13\" >Fautisno Edmundo</td>\n",
       "      <td id=\"T_d9d07_row83_col14\" class=\"data row83 col14\" >Argentina</td>\n",
       "      <td id=\"T_d9d07_row83_col15\" class=\"data row83 col15\" >Corporativo</td>\n",
       "      <td id=\"T_d9d07_row83_col16\" class=\"data row83 col16\" >Muebles</td>\n",
       "      <td id=\"T_d9d07_row83_col17\" class=\"data row83 col17\" >Silla</td>\n",
       "    </tr>\n",
       "    <tr>\n",
       "      <th id=\"T_d9d07_level0_row84\" class=\"row_heading level0 row84\" >84</th>\n",
       "      <td id=\"T_d9d07_row84_col0\" class=\"data row84 col0\" >88</td>\n",
       "      <td id=\"T_d9d07_row84_col1\" class=\"data row84 col1\" >2/10/2023</td>\n",
       "      <td id=\"T_d9d07_row84_col2\" class=\"data row84 col2\" >nan</td>\n",
       "      <td id=\"T_d9d07_row84_col3\" class=\"data row84 col3\" >Alta</td>\n",
       "      <td id=\"T_d9d07_row84_col4\" class=\"data row84 col4\" >36</td>\n",
       "      <td id=\"T_d9d07_row84_col5\" class=\"data row84 col5\" >527561.280000</td>\n",
       "      <td id=\"T_d9d07_row84_col6\" class=\"data row84 col6\" >0.330000</td>\n",
       "      <td id=\"T_d9d07_row84_col7\" class=\"data row84 col7\" >Aereo expreso</td>\n",
       "      <td id=\"T_d9d07_row84_col8\" class=\"data row84 col8\" >0.360000</td>\n",
       "      <td id=\"T_d9d07_row84_col9\" class=\"data row84 col9\" >1899.220000</td>\n",
       "      <td id=\"T_d9d07_row84_col10\" class=\"data row84 col10\" >14703.000000</td>\n",
       "      <td id=\"T_d9d07_row84_col11\" class=\"data row84 col11\" >2.880000</td>\n",
       "      <td id=\"T_d9d07_row84_col12\" class=\"data row84 col12\" >8.990000</td>\n",
       "      <td id=\"T_d9d07_row84_col13\" class=\"data row84 col13\" >Craig Yedeab</td>\n",
       "      <td id=\"T_d9d07_row84_col14\" class=\"data row84 col14\" >Chile</td>\n",
       "      <td id=\"T_d9d07_row84_col15\" class=\"data row84 col15\" >Corporativo</td>\n",
       "      <td id=\"T_d9d07_row84_col16\" class=\"data row84 col16\" >Muebles</td>\n",
       "      <td id=\"T_d9d07_row84_col17\" class=\"data row84 col17\" >Sofa</td>\n",
       "    </tr>\n",
       "    <tr>\n",
       "      <th id=\"T_d9d07_level0_row85\" class=\"row_heading level0 row85\" >85</th>\n",
       "      <td id=\"T_d9d07_row85_col0\" class=\"data row85 col0\" >83</td>\n",
       "      <td id=\"T_d9d07_row85_col1\" class=\"data row85 col1\" >3/10/2023</td>\n",
       "      <td id=\"T_d9d07_row85_col2\" class=\"data row85 col2\" >nan</td>\n",
       "      <td id=\"T_d9d07_row85_col3\" class=\"data row85 col3\" >Critica</td>\n",
       "      <td id=\"T_d9d07_row85_col4\" class=\"data row85 col4\" >66</td>\n",
       "      <td id=\"T_d9d07_row85_col5\" class=\"data row85 col5\" >853709.990000</td>\n",
       "      <td id=\"T_d9d07_row85_col6\" class=\"data row85 col6\" >0.790000</td>\n",
       "      <td id=\"T_d9d07_row85_col7\" class=\"data row85 col7\" >Terrestre</td>\n",
       "      <td id=\"T_d9d07_row85_col8\" class=\"data row85 col8\" >0.310000</td>\n",
       "      <td id=\"T_d9d07_row85_col9\" class=\"data row85 col9\" >2646.500000</td>\n",
       "      <td id=\"T_d9d07_row85_col10\" class=\"data row85 col10\" >13038.000000</td>\n",
       "      <td id=\"T_d9d07_row85_col11\" class=\"data row85 col11\" >107.530000</td>\n",
       "      <td id=\"T_d9d07_row85_col12\" class=\"data row85 col12\" >9.450000</td>\n",
       "      <td id=\"T_d9d07_row85_col13\" class=\"data row85 col13\" >Alexiz Pena</td>\n",
       "      <td id=\"T_d9d07_row85_col14\" class=\"data row85 col14\" >Bolivia</td>\n",
       "      <td id=\"T_d9d07_row85_col15\" class=\"data row85 col15\" >Negocio</td>\n",
       "      <td id=\"T_d9d07_row85_col16\" class=\"data row85 col16\" >Muebles</td>\n",
       "      <td id=\"T_d9d07_row85_col17\" class=\"data row85 col17\" >Sofa</td>\n",
       "    </tr>\n",
       "    <tr>\n",
       "      <th id=\"T_d9d07_level0_row86\" class=\"row_heading level0 row86\" >86</th>\n",
       "      <td id=\"T_d9d07_row86_col0\" class=\"data row86 col0\" >82</td>\n",
       "      <td id=\"T_d9d07_row86_col1\" class=\"data row86 col1\" >21/10/2023</td>\n",
       "      <td id=\"T_d9d07_row86_col2\" class=\"data row86 col2\" >nan</td>\n",
       "      <td id=\"T_d9d07_row86_col3\" class=\"data row86 col3\" >Alta</td>\n",
       "      <td id=\"T_d9d07_row86_col4\" class=\"data row86 col4\" >7</td>\n",
       "      <td id=\"T_d9d07_row86_col5\" class=\"data row86 col5\" >68030.100000</td>\n",
       "      <td id=\"T_d9d07_row86_col6\" class=\"data row86 col6\" >0.770000</td>\n",
       "      <td id=\"T_d9d07_row86_col7\" class=\"data row86 col7\" >Terrestre</td>\n",
       "      <td id=\"T_d9d07_row86_col8\" class=\"data row86 col8\" >0.400000</td>\n",
       "      <td id=\"T_d9d07_row86_col9\" class=\"data row86 col9\" >272.120000</td>\n",
       "      <td id=\"T_d9d07_row86_col10\" class=\"data row86 col10\" >9794.000000</td>\n",
       "      <td id=\"T_d9d07_row86_col11\" class=\"data row86 col11\" >5.810000</td>\n",
       "      <td id=\"T_d9d07_row86_col12\" class=\"data row86 col12\" >9.030000</td>\n",
       "      <td id=\"T_d9d07_row86_col13\" class=\"data row86 col13\" >Ramon Ilesio</td>\n",
       "      <td id=\"T_d9d07_row86_col14\" class=\"data row86 col14\" >Bolivia</td>\n",
       "      <td id=\"T_d9d07_row86_col15\" class=\"data row86 col15\" >Negocio</td>\n",
       "      <td id=\"T_d9d07_row86_col16\" class=\"data row86 col16\" >Muebles</td>\n",
       "      <td id=\"T_d9d07_row86_col17\" class=\"data row86 col17\" >Sofa</td>\n",
       "    </tr>\n",
       "    <tr>\n",
       "      <th id=\"T_d9d07_level0_row87\" class=\"row_heading level0 row87\" >87</th>\n",
       "      <td id=\"T_d9d07_row87_col0\" class=\"data row87 col0\" >75</td>\n",
       "      <td id=\"T_d9d07_row87_col1\" class=\"data row87 col1\" >18/11/2023</td>\n",
       "      <td id=\"T_d9d07_row87_col2\" class=\"data row87 col2\" >nan</td>\n",
       "      <td id=\"T_d9d07_row87_col3\" class=\"data row87 col3\" >Alta</td>\n",
       "      <td id=\"T_d9d07_row87_col4\" class=\"data row87 col4\" >11</td>\n",
       "      <td id=\"T_d9d07_row87_col5\" class=\"data row87 col5\" >22668.460000</td>\n",
       "      <td id=\"T_d9d07_row87_col6\" class=\"data row87 col6\" >0.590000</td>\n",
       "      <td id=\"T_d9d07_row87_col7\" class=\"data row87 col7\" >Aereo regular</td>\n",
       "      <td id=\"T_d9d07_row87_col8\" class=\"data row87 col8\" >0.360000</td>\n",
       "      <td id=\"T_d9d07_row87_col9\" class=\"data row87 col9\" >81.610000</td>\n",
       "      <td id=\"T_d9d07_row87_col10\" class=\"data row87 col10\" >2073.000000</td>\n",
       "      <td id=\"T_d9d07_row87_col11\" class=\"data row87 col11\" >4.980000</td>\n",
       "      <td id=\"T_d9d07_row87_col12\" class=\"data row87 col12\" >0.700000</td>\n",
       "      <td id=\"T_d9d07_row87_col13\" class=\"data row87 col13\" >Fautisno Edmundo</td>\n",
       "      <td id=\"T_d9d07_row87_col14\" class=\"data row87 col14\" >Paraguay</td>\n",
       "      <td id=\"T_d9d07_row87_col15\" class=\"data row87 col15\" >Consumidor</td>\n",
       "      <td id=\"T_d9d07_row87_col16\" class=\"data row87 col16\" >Muebles</td>\n",
       "      <td id=\"T_d9d07_row87_col17\" class=\"data row87 col17\" >Sofa</td>\n",
       "    </tr>\n",
       "    <tr>\n",
       "      <th id=\"T_d9d07_level0_row88\" class=\"row_heading level0 row88\" >88</th>\n",
       "      <td id=\"T_d9d07_row88_col0\" class=\"data row88 col0\" >16</td>\n",
       "      <td id=\"T_d9d07_row88_col1\" class=\"data row88 col1\" >30/5/2023</td>\n",
       "      <td id=\"T_d9d07_row88_col2\" class=\"data row88 col2\" >nan</td>\n",
       "      <td id=\"T_d9d07_row88_col3\" class=\"data row88 col3\" >Alta</td>\n",
       "      <td id=\"T_d9d07_row88_col4\" class=\"data row88 col4\" >37</td>\n",
       "      <td id=\"T_d9d07_row88_col5\" class=\"data row88 col5\" >427409.830000</td>\n",
       "      <td id=\"T_d9d07_row88_col6\" class=\"data row88 col6\" >0.460000</td>\n",
       "      <td id=\"T_d9d07_row88_col7\" class=\"data row88 col7\" >Terrestre</td>\n",
       "      <td id=\"T_d9d07_row88_col8\" class=\"data row88 col8\" >0.310000</td>\n",
       "      <td id=\"T_d9d07_row88_col9\" class=\"data row88 col9\" >1324.970000</td>\n",
       "      <td id=\"T_d9d07_row88_col10\" class=\"data row88 col10\" >11605.000000</td>\n",
       "      <td id=\"T_d9d07_row88_col11\" class=\"data row88 col11\" >6.480000</td>\n",
       "      <td id=\"T_d9d07_row88_col12\" class=\"data row88 col12\" >2.580000</td>\n",
       "      <td id=\"T_d9d07_row88_col13\" class=\"data row88 col13\" >Craig Yedeab</td>\n",
       "      <td id=\"T_d9d07_row88_col14\" class=\"data row88 col14\" >Chile</td>\n",
       "      <td id=\"T_d9d07_row88_col15\" class=\"data row88 col15\" >Negocio</td>\n",
       "      <td id=\"T_d9d07_row88_col16\" class=\"data row88 col16\" >Tecnologia</td>\n",
       "      <td id=\"T_d9d07_row88_col17\" class=\"data row88 col17\" >Teclado</td>\n",
       "    </tr>\n",
       "    <tr>\n",
       "      <th id=\"T_d9d07_level0_row89\" class=\"row_heading level0 row89\" >89</th>\n",
       "      <td id=\"T_d9d07_row89_col0\" class=\"data row89 col0\" >29</td>\n",
       "      <td id=\"T_d9d07_row89_col1\" class=\"data row89 col1\" >30/5/2023</td>\n",
       "      <td id=\"T_d9d07_row89_col2\" class=\"data row89 col2\" >nan</td>\n",
       "      <td id=\"T_d9d07_row89_col3\" class=\"data row89 col3\" >Baja</td>\n",
       "      <td id=\"T_d9d07_row89_col4\" class=\"data row89 col4\" >27</td>\n",
       "      <td id=\"T_d9d07_row89_col5\" class=\"data row89 col5\" >224702.970000</td>\n",
       "      <td id=\"T_d9d07_row89_col6\" class=\"data row89 col6\" >0.140000</td>\n",
       "      <td id=\"T_d9d07_row89_col7\" class=\"data row89 col7\" >Aereo regular</td>\n",
       "      <td id=\"T_d9d07_row89_col8\" class=\"data row89 col8\" >0.240000</td>\n",
       "      <td id=\"T_d9d07_row89_col9\" class=\"data row89 col9\" >539.290000</td>\n",
       "      <td id=\"T_d9d07_row89_col10\" class=\"data row89 col10\" >8334.000000</td>\n",
       "      <td id=\"T_d9d07_row89_col11\" class=\"data row89 col11\" >8.460000</td>\n",
       "      <td id=\"T_d9d07_row89_col12\" class=\"data row89 col12\" >6.270000</td>\n",
       "      <td id=\"T_d9d07_row89_col13\" class=\"data row89 col13\" >Rosa Mendez</td>\n",
       "      <td id=\"T_d9d07_row89_col14\" class=\"data row89 col14\" >Bolivia</td>\n",
       "      <td id=\"T_d9d07_row89_col15\" class=\"data row89 col15\" >Corporativo</td>\n",
       "      <td id=\"T_d9d07_row89_col16\" class=\"data row89 col16\" >Tecnologia</td>\n",
       "      <td id=\"T_d9d07_row89_col17\" class=\"data row89 col17\" >Teclado</td>\n",
       "    </tr>\n",
       "    <tr>\n",
       "      <th id=\"T_d9d07_level0_row90\" class=\"row_heading level0 row90\" >90</th>\n",
       "      <td id=\"T_d9d07_row90_col0\" class=\"data row90 col0\" >21</td>\n",
       "      <td id=\"T_d9d07_row90_col1\" class=\"data row90 col1\" >29/9/2023</td>\n",
       "      <td id=\"T_d9d07_row90_col2\" class=\"data row90 col2\" >nan</td>\n",
       "      <td id=\"T_d9d07_row90_col3\" class=\"data row90 col3\" >Alta</td>\n",
       "      <td id=\"T_d9d07_row90_col4\" class=\"data row90 col4\" >23</td>\n",
       "      <td id=\"T_d9d07_row90_col5\" class=\"data row90 col5\" >121754.020000</td>\n",
       "      <td id=\"T_d9d07_row90_col6\" class=\"data row90 col6\" >0.570000</td>\n",
       "      <td id=\"T_d9d07_row90_col7\" class=\"data row90 col7\" >Aereo expreso</td>\n",
       "      <td id=\"T_d9d07_row90_col8\" class=\"data row90 col8\" >0.290000</td>\n",
       "      <td id=\"T_d9d07_row90_col9\" class=\"data row90 col9\" >353.090000</td>\n",
       "      <td id=\"T_d9d07_row90_col10\" class=\"data row90 col10\" >5324.000000</td>\n",
       "      <td id=\"T_d9d07_row90_col11\" class=\"data row90 col11\" >7.990000</td>\n",
       "      <td id=\"T_d9d07_row90_col12\" class=\"data row90 col12\" >13.990000</td>\n",
       "      <td id=\"T_d9d07_row90_col13\" class=\"data row90 col13\" >Emily Phan</td>\n",
       "      <td id=\"T_d9d07_row90_col14\" class=\"data row90 col14\" >Chile</td>\n",
       "      <td id=\"T_d9d07_row90_col15\" class=\"data row90 col15\" >Corporativo</td>\n",
       "      <td id=\"T_d9d07_row90_col16\" class=\"data row90 col16\" >Tecnologia</td>\n",
       "      <td id=\"T_d9d07_row90_col17\" class=\"data row90 col17\" >Teclado</td>\n",
       "    </tr>\n",
       "    <tr>\n",
       "      <th id=\"T_d9d07_level0_row91\" class=\"row_heading level0 row91\" >91</th>\n",
       "      <td id=\"T_d9d07_row91_col0\" class=\"data row91 col0\" >22</td>\n",
       "      <td id=\"T_d9d07_row91_col1\" class=\"data row91 col1\" >30/9/2023</td>\n",
       "      <td id=\"T_d9d07_row91_col2\" class=\"data row91 col2\" >nan</td>\n",
       "      <td id=\"T_d9d07_row91_col3\" class=\"data row91 col3\" >Normal</td>\n",
       "      <td id=\"T_d9d07_row91_col4\" class=\"data row91 col4\" >30</td>\n",
       "      <td id=\"T_d9d07_row91_col5\" class=\"data row91 col5\" >7151.360000</td>\n",
       "      <td id=\"T_d9d07_row91_col6\" class=\"data row91 col6\" >0.260000</td>\n",
       "      <td id=\"T_d9d07_row91_col7\" class=\"data row91 col7\" >Aereo expreso</td>\n",
       "      <td id=\"T_d9d07_row91_col8\" class=\"data row91 col8\" >0.340000</td>\n",
       "      <td id=\"T_d9d07_row91_col9\" class=\"data row91 col9\" >24.310000</td>\n",
       "      <td id=\"T_d9d07_row91_col10\" class=\"data row91 col10\" >239.000000</td>\n",
       "      <td id=\"T_d9d07_row91_col11\" class=\"data row91 col11\" >95.990000</td>\n",
       "      <td id=\"T_d9d07_row91_col12\" class=\"data row91 col12\" >9.030000</td>\n",
       "      <td id=\"T_d9d07_row91_col13\" class=\"data row91 col13\" >Emily Phan</td>\n",
       "      <td id=\"T_d9d07_row91_col14\" class=\"data row91 col14\" >Chile</td>\n",
       "      <td id=\"T_d9d07_row91_col15\" class=\"data row91 col15\" >Negocio</td>\n",
       "      <td id=\"T_d9d07_row91_col16\" class=\"data row91 col16\" >Tecnologia</td>\n",
       "      <td id=\"T_d9d07_row91_col17\" class=\"data row91 col17\" >Teclado</td>\n",
       "    </tr>\n",
       "    <tr>\n",
       "      <th id=\"T_d9d07_level0_row92\" class=\"row_heading level0 row92\" >92</th>\n",
       "      <td id=\"T_d9d07_row92_col0\" class=\"data row92 col0\" >26</td>\n",
       "      <td id=\"T_d9d07_row92_col1\" class=\"data row92 col1\" >1/11/2023</td>\n",
       "      <td id=\"T_d9d07_row92_col2\" class=\"data row92 col2\" >nan</td>\n",
       "      <td id=\"T_d9d07_row92_col3\" class=\"data row92 col3\" >Alta</td>\n",
       "      <td id=\"T_d9d07_row92_col4\" class=\"data row92 col4\" >10</td>\n",
       "      <td id=\"T_d9d07_row92_col5\" class=\"data row92 col5\" >113079.740000</td>\n",
       "      <td id=\"T_d9d07_row92_col6\" class=\"data row92 col6\" >0.300000</td>\n",
       "      <td id=\"T_d9d07_row92_col7\" class=\"data row92 col7\" >Terrestre</td>\n",
       "      <td id=\"T_d9d07_row92_col8\" class=\"data row92 col8\" >0.260000</td>\n",
       "      <td id=\"T_d9d07_row92_col9\" class=\"data row92 col9\" >294.010000</td>\n",
       "      <td id=\"T_d9d07_row92_col10\" class=\"data row92 col10\" >11342.000000</td>\n",
       "      <td id=\"T_d9d07_row92_col11\" class=\"data row92 col11\" >7.280000</td>\n",
       "      <td id=\"T_d9d07_row92_col12\" class=\"data row92 col12\" >35.000000</td>\n",
       "      <td id=\"T_d9d07_row92_col13\" class=\"data row92 col13\" >Justin Hirsh</td>\n",
       "      <td id=\"T_d9d07_row92_col14\" class=\"data row92 col14\" >Bolivia</td>\n",
       "      <td id=\"T_d9d07_row92_col15\" class=\"data row92 col15\" >Corporativo</td>\n",
       "      <td id=\"T_d9d07_row92_col16\" class=\"data row92 col16\" >Tecnologia</td>\n",
       "      <td id=\"T_d9d07_row92_col17\" class=\"data row92 col17\" >Teclado</td>\n",
       "    </tr>\n",
       "    <tr>\n",
       "      <th id=\"T_d9d07_level0_row93\" class=\"row_heading level0 row93\" >93</th>\n",
       "      <td id=\"T_d9d07_row93_col0\" class=\"data row93 col0\" >19</td>\n",
       "      <td id=\"T_d9d07_row93_col1\" class=\"data row93 col1\" >2/12/2023</td>\n",
       "      <td id=\"T_d9d07_row93_col2\" class=\"data row93 col2\" >nan</td>\n",
       "      <td id=\"T_d9d07_row93_col3\" class=\"data row93 col3\" >Alta</td>\n",
       "      <td id=\"T_d9d07_row93_col4\" class=\"data row93 col4\" >3</td>\n",
       "      <td id=\"T_d9d07_row93_col5\" class=\"data row93 col5\" >38631.850000</td>\n",
       "      <td id=\"T_d9d07_row93_col6\" class=\"data row93 col6\" >0.400000</td>\n",
       "      <td id=\"T_d9d07_row93_col7\" class=\"data row93 col7\" >Terrestre</td>\n",
       "      <td id=\"T_d9d07_row93_col8\" class=\"data row93 col8\" >0.300000</td>\n",
       "      <td id=\"T_d9d07_row93_col9\" class=\"data row93 col9\" >115.900000</td>\n",
       "      <td id=\"T_d9d07_row93_col10\" class=\"data row93 col10\" >12929.000000</td>\n",
       "      <td id=\"T_d9d07_row93_col11\" class=\"data row93 col11\" >9.710000</td>\n",
       "      <td id=\"T_d9d07_row93_col12\" class=\"data row93 col12\" >0.500000</td>\n",
       "      <td id=\"T_d9d07_row93_col13\" class=\"data row93 col13\" >Roy Collins</td>\n",
       "      <td id=\"T_d9d07_row93_col14\" class=\"data row93 col14\" >Colombia</td>\n",
       "      <td id=\"T_d9d07_row93_col15\" class=\"data row93 col15\" >Negocio</td>\n",
       "      <td id=\"T_d9d07_row93_col16\" class=\"data row93 col16\" >Tecnologia</td>\n",
       "      <td id=\"T_d9d07_row93_col17\" class=\"data row93 col17\" >Teclado</td>\n",
       "    </tr>\n",
       "    <tr>\n",
       "      <th id=\"T_d9d07_level0_row94\" class=\"row_heading level0 row94\" >94</th>\n",
       "      <td id=\"T_d9d07_row94_col0\" class=\"data row94 col0\" >25</td>\n",
       "      <td id=\"T_d9d07_row94_col1\" class=\"data row94 col1\" >14/12/2023</td>\n",
       "      <td id=\"T_d9d07_row94_col2\" class=\"data row94 col2\" >nan</td>\n",
       "      <td id=\"T_d9d07_row94_col3\" class=\"data row94 col3\" >Regular</td>\n",
       "      <td id=\"T_d9d07_row94_col4\" class=\"data row94 col4\" >25</td>\n",
       "      <td id=\"T_d9d07_row94_col5\" class=\"data row94 col5\" >332907.550000</td>\n",
       "      <td id=\"T_d9d07_row94_col6\" class=\"data row94 col6\" >0.230000</td>\n",
       "      <td id=\"T_d9d07_row94_col7\" class=\"data row94 col7\" >Terrestre</td>\n",
       "      <td id=\"T_d9d07_row94_col8\" class=\"data row94 col8\" >0.260000</td>\n",
       "      <td id=\"T_d9d07_row94_col9\" class=\"data row94 col9\" >865.560000</td>\n",
       "      <td id=\"T_d9d07_row94_col10\" class=\"data row94 col10\" >13347.000000</td>\n",
       "      <td id=\"T_d9d07_row94_col11\" class=\"data row94 col11\" >12.440000</td>\n",
       "      <td id=\"T_d9d07_row94_col12\" class=\"data row94 col12\" >5.030000</td>\n",
       "      <td id=\"T_d9d07_row94_col13\" class=\"data row94 col13\" >Valerie Takahito</td>\n",
       "      <td id=\"T_d9d07_row94_col14\" class=\"data row94 col14\" >Ecuador</td>\n",
       "      <td id=\"T_d9d07_row94_col15\" class=\"data row94 col15\" >Corporativo</td>\n",
       "      <td id=\"T_d9d07_row94_col16\" class=\"data row94 col16\" >Tecnologia</td>\n",
       "      <td id=\"T_d9d07_row94_col17\" class=\"data row94 col17\" >Teclado</td>\n",
       "    </tr>\n",
       "    <tr>\n",
       "      <th id=\"T_d9d07_level0_row95\" class=\"row_heading level0 row95\" >95</th>\n",
       "      <td id=\"T_d9d07_row95_col0\" class=\"data row95 col0\" >24</td>\n",
       "      <td id=\"T_d9d07_row95_col1\" class=\"data row95 col1\" >23/5/2023</td>\n",
       "      <td id=\"T_d9d07_row95_col2\" class=\"data row95 col2\" >nan</td>\n",
       "      <td id=\"T_d9d07_row95_col3\" class=\"data row95 col3\" >Regular</td>\n",
       "      <td id=\"T_d9d07_row95_col4\" class=\"data row95 col4\" >11</td>\n",
       "      <td id=\"T_d9d07_row95_col5\" class=\"data row95 col5\" >104129.430000</td>\n",
       "      <td id=\"T_d9d07_row95_col6\" class=\"data row95 col6\" >0.980000</td>\n",
       "      <td id=\"T_d9d07_row95_col7\" class=\"data row95 col7\" >Terrestre</td>\n",
       "      <td id=\"T_d9d07_row95_col8\" class=\"data row95 col8\" >0.290000</td>\n",
       "      <td id=\"T_d9d07_row95_col9\" class=\"data row95 col9\" >301.980000</td>\n",
       "      <td id=\"T_d9d07_row95_col10\" class=\"data row95 col10\" >9560.000000</td>\n",
       "      <td id=\"T_d9d07_row95_col11\" class=\"data row95 col11\" >65.990000</td>\n",
       "      <td id=\"T_d9d07_row95_col12\" class=\"data row95 col12\" >54.740000</td>\n",
       "      <td id=\"T_d9d07_row95_col13\" class=\"data row95 col13\" >Anne Pryre</td>\n",
       "      <td id=\"T_d9d07_row95_col14\" class=\"data row95 col14\" >Argentina</td>\n",
       "      <td id=\"T_d9d07_row95_col15\" class=\"data row95 col15\" >Corporativo</td>\n",
       "      <td id=\"T_d9d07_row95_col16\" class=\"data row95 col16\" >Elementos de oficina</td>\n",
       "      <td id=\"T_d9d07_row95_col17\" class=\"data row95 col17\" >Toner</td>\n",
       "    </tr>\n",
       "    <tr>\n",
       "      <th id=\"T_d9d07_level0_row96\" class=\"row_heading level0 row96\" >96</th>\n",
       "      <td id=\"T_d9d07_row96_col0\" class=\"data row96 col0\" >28</td>\n",
       "      <td id=\"T_d9d07_row96_col1\" class=\"data row96 col1\" >7/10/2023</td>\n",
       "      <td id=\"T_d9d07_row96_col2\" class=\"data row96 col2\" >nan</td>\n",
       "      <td id=\"T_d9d07_row96_col3\" class=\"data row96 col3\" >Normal</td>\n",
       "      <td id=\"T_d9d07_row96_col4\" class=\"data row96 col4\" >49</td>\n",
       "      <td id=\"T_d9d07_row96_col5\" class=\"data row96 col5\" >124067.850000</td>\n",
       "      <td id=\"T_d9d07_row96_col6\" class=\"data row96 col6\" >0.550000</td>\n",
       "      <td id=\"T_d9d07_row96_col7\" class=\"data row96 col7\" >Aereo regular</td>\n",
       "      <td id=\"T_d9d07_row96_col8\" class=\"data row96 col8\" >0.220000</td>\n",
       "      <td id=\"T_d9d07_row96_col9\" class=\"data row96 col9\" >272.950000</td>\n",
       "      <td id=\"T_d9d07_row96_col10\" class=\"data row96 col10\" >2546.000000</td>\n",
       "      <td id=\"T_d9d07_row96_col11\" class=\"data row96 col11\" >2.080000</td>\n",
       "      <td id=\"T_d9d07_row96_col12\" class=\"data row96 col12\" >8.990000</td>\n",
       "      <td id=\"T_d9d07_row96_col13\" class=\"data row96 col13\" >Anne Pryre</td>\n",
       "      <td id=\"T_d9d07_row96_col14\" class=\"data row96 col14\" >Bolivia</td>\n",
       "      <td id=\"T_d9d07_row96_col15\" class=\"data row96 col15\" >Corporativo</td>\n",
       "      <td id=\"T_d9d07_row96_col16\" class=\"data row96 col16\" >Elementos de oficina</td>\n",
       "      <td id=\"T_d9d07_row96_col17\" class=\"data row96 col17\" >Toner</td>\n",
       "    </tr>\n",
       "    <tr>\n",
       "      <th id=\"T_d9d07_level0_row97\" class=\"row_heading level0 row97\" >97</th>\n",
       "      <td id=\"T_d9d07_row97_col0\" class=\"data row97 col0\" >15</td>\n",
       "      <td id=\"T_d9d07_row97_col1\" class=\"data row97 col1\" >4/11/2023</td>\n",
       "      <td id=\"T_d9d07_row97_col2\" class=\"data row97 col2\" >nan</td>\n",
       "      <td id=\"T_d9d07_row97_col3\" class=\"data row97 col3\" >Baja</td>\n",
       "      <td id=\"T_d9d07_row97_col4\" class=\"data row97 col4\" >46</td>\n",
       "      <td id=\"T_d9d07_row97_col5\" class=\"data row97 col5\" >463520.800000</td>\n",
       "      <td id=\"T_d9d07_row97_col6\" class=\"data row97 col6\" >0.880000</td>\n",
       "      <td id=\"T_d9d07_row97_col7\" class=\"data row97 col7\" >Terrestre</td>\n",
       "      <td id=\"T_d9d07_row97_col8\" class=\"data row97 col8\" >0.350000</td>\n",
       "      <td id=\"T_d9d07_row97_col9\" class=\"data row97 col9\" >1622.320000</td>\n",
       "      <td id=\"T_d9d07_row97_col10\" class=\"data row97 col10\" >10166.000000</td>\n",
       "      <td id=\"T_d9d07_row97_col11\" class=\"data row97 col11\" >2.890000</td>\n",
       "      <td id=\"T_d9d07_row97_col12\" class=\"data row97 col12\" >0.700000</td>\n",
       "      <td id=\"T_d9d07_row97_col13\" class=\"data row97 col13\" >Keith Sawkins</td>\n",
       "      <td id=\"T_d9d07_row97_col14\" class=\"data row97 col14\" >Paraguay</td>\n",
       "      <td id=\"T_d9d07_row97_col15\" class=\"data row97 col15\" >Negocio</td>\n",
       "      <td id=\"T_d9d07_row97_col16\" class=\"data row97 col16\" >Elementos de oficina</td>\n",
       "      <td id=\"T_d9d07_row97_col17\" class=\"data row97 col17\" >Toner</td>\n",
       "    </tr>\n",
       "    <tr>\n",
       "      <th id=\"T_d9d07_level0_row98\" class=\"row_heading level0 row98\" >98</th>\n",
       "      <td id=\"T_d9d07_row98_col0\" class=\"data row98 col0\" >27</td>\n",
       "      <td id=\"T_d9d07_row98_col1\" class=\"data row98 col1\" >19/11/2023</td>\n",
       "      <td id=\"T_d9d07_row98_col2\" class=\"data row98 col2\" >nan</td>\n",
       "      <td id=\"T_d9d07_row98_col3\" class=\"data row98 col3\" >Critica</td>\n",
       "      <td id=\"T_d9d07_row98_col4\" class=\"data row98 col4\" >14</td>\n",
       "      <td id=\"T_d9d07_row98_col5\" class=\"data row98 col5\" >125185.090000</td>\n",
       "      <td id=\"T_d9d07_row98_col6\" class=\"data row98 col6\" >0.270000</td>\n",
       "      <td id=\"T_d9d07_row98_col7\" class=\"data row98 col7\" >Aereo regular</td>\n",
       "      <td id=\"T_d9d07_row98_col8\" class=\"data row98 col8\" >0.370000</td>\n",
       "      <td id=\"T_d9d07_row98_col9\" class=\"data row98 col9\" >463.180000</td>\n",
       "      <td id=\"T_d9d07_row98_col10\" class=\"data row98 col10\" >8966.000000</td>\n",
       "      <td id=\"T_d9d07_row98_col11\" class=\"data row98 col11\" >38.940000</td>\n",
       "      <td id=\"T_d9d07_row98_col12\" class=\"data row98 col12\" >4.620000</td>\n",
       "      <td id=\"T_d9d07_row98_col13\" class=\"data row98 col13\" >Maria Zettner</td>\n",
       "      <td id=\"T_d9d07_row98_col14\" class=\"data row98 col14\" >Paraguay</td>\n",
       "      <td id=\"T_d9d07_row98_col15\" class=\"data row98 col15\" >Corporativo</td>\n",
       "      <td id=\"T_d9d07_row98_col16\" class=\"data row98 col16\" >Elementos de oficina</td>\n",
       "      <td id=\"T_d9d07_row98_col17\" class=\"data row98 col17\" >Toner</td>\n",
       "    </tr>\n",
       "    <tr>\n",
       "      <th id=\"T_d9d07_level0_row99\" class=\"row_heading level0 row99\" >99</th>\n",
       "      <td id=\"T_d9d07_row99_col0\" class=\"data row99 col0\" >20</td>\n",
       "      <td id=\"T_d9d07_row99_col1\" class=\"data row99 col1\" >29/11/2023</td>\n",
       "      <td id=\"T_d9d07_row99_col2\" class=\"data row99 col2\" >nan</td>\n",
       "      <td id=\"T_d9d07_row99_col3\" class=\"data row99 col3\" >Alta</td>\n",
       "      <td id=\"T_d9d07_row99_col4\" class=\"data row99 col4\" >29</td>\n",
       "      <td id=\"T_d9d07_row99_col5\" class=\"data row99 col5\" >386734.050000</td>\n",
       "      <td id=\"T_d9d07_row99_col6\" class=\"data row99 col6\" >0.990000</td>\n",
       "      <td id=\"T_d9d07_row99_col7\" class=\"data row99 col7\" >Aereo expreso</td>\n",
       "      <td id=\"T_d9d07_row99_col8\" class=\"data row99 col8\" >0.270000</td>\n",
       "      <td id=\"T_d9d07_row99_col9\" class=\"data row99 col9\" >1044.180000</td>\n",
       "      <td id=\"T_d9d07_row99_col10\" class=\"data row99 col10\" >13469.000000</td>\n",
       "      <td id=\"T_d9d07_row99_col11\" class=\"data row99 col11\" >130.980000</td>\n",
       "      <td id=\"T_d9d07_row99_col12\" class=\"data row99 col12\" >8.190000</td>\n",
       "      <td id=\"T_d9d07_row99_col13\" class=\"data row99 col13\" >Roy Collins</td>\n",
       "      <td id=\"T_d9d07_row99_col14\" class=\"data row99 col14\" >Paraguay</td>\n",
       "      <td id=\"T_d9d07_row99_col15\" class=\"data row99 col15\" >Negocio</td>\n",
       "      <td id=\"T_d9d07_row99_col16\" class=\"data row99 col16\" >Elementos de oficina</td>\n",
       "      <td id=\"T_d9d07_row99_col17\" class=\"data row99 col17\" >Toner</td>\n",
       "    </tr>\n",
       "  </tbody>\n",
       "</table>\n"
      ],
      "text/plain": [
       "<pandas.io.formats.style.Styler at 0x19087a77710>"
      ]
     },
     "execution_count": 3,
     "metadata": {},
     "output_type": "execute_result"
    }
   ],
   "source": [
    "df.style.bar(subset=['Ventas'], color='green')\n"
   ]
  },
  {
   "cell_type": "code",
   "execution_count": 3,
   "metadata": {},
   "outputs": [
    {
     "data": {
      "text/plain": [
       "0    2020-09-24\n",
       "1    2020-09-25\n",
       "2    2020-09-26\n",
       "3    2020-09-27\n",
       "4    2020-09-28\n",
       "        ...    \n",
       "95   2023-05-23\n",
       "96   2023-10-07\n",
       "97   2023-11-04\n",
       "98   2023-11-19\n",
       "99   2023-11-29\n",
       "Name: fecha_envio, Length: 100, dtype: datetime64[ns]"
      ]
     },
     "execution_count": 3,
     "metadata": {},
     "output_type": "execute_result"
    }
   ],
   "source": [
    "df['fecha_envio'] = pd.to_datetime(df['fecha_envio'], format= '%d/%m/%Y')\n",
    "df_sorted = df.sort_values('fecha_envio')\n",
    "df['fecha_envio']"
   ]
  },
  {
   "cell_type": "markdown",
   "metadata": {},
   "source": [
    "Graphics"
   ]
  },
  {
   "cell_type": "code",
   "execution_count": 16,
   "metadata": {},
   "outputs": [
    {
     "data": {
      "application/vnd.plotly.v1+json": {
       "config": {
        "plotlyServerURL": "https://plot.ly"
       },
       "data": [
        {
         "branchvalues": "total",
         "customdata": [
          [
           472036.69
          ],
          [
           519064.34
          ],
          [
           146086.92
          ],
          [
           258514.47
          ],
          [
           13514.77
          ],
          [
           699909.1
          ],
          [
           75551.23
          ],
          [
           217533.94
          ],
          [
           377342.53
          ],
          [
           8380.74
          ],
          [
           173526.38
          ],
          [
           190788.14
          ],
          [
           104129.43000000001
          ],
          [
           37216.74
          ],
          [
           134092.35
          ],
          [
           198889.49999999997
          ],
          [
           880050.05
          ],
          [
           226771.2
          ],
          [
           60853.89
          ],
          [
           150248.67
          ],
          [
           13834.09
          ],
          [
           12648.77
          ],
          [
           542155.32
          ],
          [
           282498.93
          ],
          [
           58222.66
          ],
          [
           12049.11
          ],
          [
           140025.87
          ],
          [
           84143.38
          ],
          [
           15656.4
          ],
          [
           328923.7
          ],
          [
           516056.73
          ],
          [
           71570.12
          ],
          [
           103453.23
          ],
          [
           454610.18
          ],
          [
           287757.31
          ],
          [
           25675.160000000003
          ],
          [
           36272.06
          ],
          [
           354566.03
          ],
          [
           778810.9
          ],
          [
           148042.97
          ],
          [
           63948.14
          ],
          [
           23137.63
          ],
          [
           422253.72
          ],
          [
           91340.89
          ],
          [
           35298.17
          ],
          [
           356648.66
          ],
          [
           522722.13999999996
          ],
          [
           335286.56
          ],
          [
           486486.96
          ],
          [
           68030.1
          ],
          [
           853709.99
          ],
          [
           113079.74
          ],
          [
           224702.97
          ],
          [
           124067.84999999999
          ],
          [
           277921.48
          ],
          [
           208401.2
          ],
          [
           607897.62
          ],
          [
           866860.16
          ],
          [
           683824.51
          ],
          [
           732702.8
          ],
          [
           41773.38
          ],
          [
           17584.53
          ],
          [
           126922.22
          ],
          [
           134535.02
          ],
          [
           407184.37
          ],
          [
           17230.55
          ],
          [
           592000.63
          ],
          [
           527561.28
          ],
          [
           121754.02
          ],
          [
           7151.36
          ],
          [
           427409.83
          ],
          [
           331576.63
          ],
          [
           179519.04
          ],
          [
           127042.55999999998
          ],
          [
           38631.85
          ],
          [
           999484.29
          ],
          [
           407.81
          ],
          [
           318417.62
          ],
          [
           332907.55
          ],
          [
           274094.3
          ],
          [
           176785.27
          ],
          [
           310090.85
          ],
          [
           81576.25
          ],
          [
           152397.23
          ],
          [
           535383.9
          ],
          [
           91909.36999999998
          ],
          [
           580616.06
          ],
          [
           306507.75
          ],
          [
           301835.26
          ],
          [
           106579.73
          ],
          [
           126580.95000000001
          ],
          [
           193107.06
          ],
          [
           22668.46
          ],
          [
           125185.09
          ],
          [
           386734.05
          ],
          [
           463520.80000000005
          ],
          [
           259435.04
          ],
          [
           61374.84
          ],
          [
           32864.04
          ],
          [
           39477.27
          ],
          [
           37216.74
          ],
          [
           208401.2
          ],
          [
           274094.3
          ],
          [
           277921.48
          ],
          [
           607897.62
          ],
          [
           176785.27
          ],
          [
           134092.35
          ],
          [
           198889.49999999997
          ],
          [
           310090.85
          ],
          [
           259435.04
          ],
          [
           880050.05
          ],
          [
           866860.16
          ],
          [
           472036.69
          ],
          [
           519064.34
          ],
          [
           146086.92
          ],
          [
           226771.2
          ],
          [
           60853.89
          ],
          [
           150248.67
          ],
          [
           13834.09
          ],
          [
           81576.25
          ],
          [
           61374.84
          ],
          [
           331576.63
          ],
          [
           12648.77
          ],
          [
           542155.32
          ],
          [
           282498.93
          ],
          [
           152397.23
          ],
          [
           683824.51
          ],
          [
           732702.8
          ],
          [
           58222.66
          ],
          [
           535383.9
          ],
          [
           999484.29
          ],
          [
           12049.11
          ],
          [
           91909.36999999998
          ],
          [
           140025.87
          ],
          [
           258514.47
          ],
          [
           84143.38
          ],
          [
           13514.77
          ],
          [
           699909.1
          ],
          [
           15656.4
          ],
          [
           407.81
          ],
          [
           328923.7
          ],
          [
           516056.73
          ],
          [
           580616.06
          ],
          [
           71570.12
          ],
          [
           41773.38
          ],
          [
           17584.53
          ],
          [
           103453.23
          ],
          [
           126922.22
          ],
          [
           454610.18
          ],
          [
           32864.04
          ],
          [
           287757.31
          ],
          [
           25675.160000000003
          ],
          [
           134535.02
          ],
          [
           36272.06
          ],
          [
           75551.23
          ],
          [
           179519.04
          ],
          [
           354566.03
          ],
          [
           306507.75
          ],
          [
           301835.26
          ],
          [
           39477.27
          ],
          [
           778810.9
          ],
          [
           148042.97
          ],
          [
           106579.73
          ],
          [
           63948.14
          ],
          [
           23137.63
          ],
          [
           217533.94
          ],
          [
           422253.72
          ],
          [
           91340.89
          ],
          [
           126580.95000000001
          ],
          [
           377342.53
          ],
          [
           35298.17
          ],
          [
           318417.62
          ],
          [
           407184.37
          ],
          [
           356648.66
          ],
          [
           17230.55
          ],
          [
           193107.06
          ],
          [
           8380.74
          ],
          [
           522722.13999999996
          ],
          [
           592000.63
          ],
          [
           127042.55999999998
          ],
          [
           173526.38
          ],
          [
           190788.14
          ],
          [
           335286.56
          ],
          [
           486486.96
          ],
          [
           68030.1
          ],
          [
           22668.46
          ],
          [
           527561.28
          ],
          [
           853709.99
          ],
          [
           38631.85
          ],
          [
           113079.74
          ],
          [
           121754.02
          ],
          [
           332907.55
          ],
          [
           224702.97
          ],
          [
           7151.36
          ],
          [
           427409.83
          ],
          [
           104129.43000000001
          ],
          [
           125185.09
          ],
          [
           386734.05
          ],
          [
           463520.80000000005
          ],
          [
           124067.84999999999
          ],
          [
           15656.4
          ],
          [
           38631.85
          ],
          [
           32864.04
          ],
          [
           407.81
          ],
          [
           12049.11
          ],
          [
           68030.1
          ],
          [
           91340.89
          ],
          [
           13834.09
          ],
          [
           71570.12
          ],
          [
           81576.25
          ],
          [
           37216.74
          ],
          [
           113079.74
          ],
          [
           104129.43000000001
          ],
          [
           22668.46
          ],
          [
           146086.92
          ],
          [
           91909.36999999998
          ],
          [
           125185.09
          ],
          [
           41773.38
          ],
          [
           127042.55999999998
          ],
          [
           193107.06
          ],
          [
           148042.97
          ],
          [
           106579.73
          ],
          [
           61374.84
          ],
          [
           140025.87
          ],
          [
           176785.27
          ],
          [
           208401.2
          ],
          [
           17584.53
          ],
          [
           134092.35
          ],
          [
           198889.49999999997
          ],
          [
           282498.93
          ],
          [
           152397.23
          ],
          [
           75551.23
          ],
          [
           258514.47
          ],
          [
           103453.23
          ],
          [
           274094.3
          ],
          [
           121754.02
          ],
          [
           63948.14
          ],
          [
           287757.31
          ],
          [
           179519.04
          ],
          [
           332907.55
          ],
          [
           25675.160000000003
          ],
          [
           134535.02
          ],
          [
           173526.38
          ],
          [
           224702.97
          ],
          [
           23137.63
          ],
          [
           8380.74
          ],
          [
           331576.63
          ],
          [
           386734.05
          ],
          [
           126580.95000000001
          ],
          [
           12648.77
          ],
          [
           126922.22
          ],
          [
           328923.7
          ],
          [
           7151.36
          ],
          [
           354566.03
          ],
          [
           306507.75
          ],
          [
           190788.14
          ],
          [
           36272.06
          ],
          [
           84143.38
          ],
          [
           377342.53
          ],
          [
           472036.69
          ],
          [
           527561.28
          ],
          [
           427409.83
          ],
          [
           454610.18
          ],
          [
           516056.73
          ],
          [
           217533.94
          ],
          [
           310090.85
          ],
          [
           259435.04
          ],
          [
           463520.80000000005
          ],
          [
           422253.72
          ],
          [
           580616.06
          ],
          [
           35298.17
          ],
          [
           124067.84999999999
          ],
          [
           522722.13999999996
          ],
          [
           226771.2
          ],
          [
           13514.77
          ],
          [
           699909.1
          ],
          [
           683824.51
          ],
          [
           542155.32
          ],
          [
           732702.8
          ],
          [
           277921.48
          ],
          [
           335286.56
          ],
          [
           318417.62
          ],
          [
           880050.05
          ],
          [
           407184.37
          ],
          [
           301835.26
          ],
          [
           607897.62
          ],
          [
           592000.63
          ],
          [
           58222.66
          ],
          [
           535383.9
          ],
          [
           866860.16
          ],
          [
           39477.27
          ],
          [
           519064.34
          ],
          [
           356648.66
          ],
          [
           853709.99
          ],
          [
           486486.96
          ],
          [
           60853.89
          ],
          [
           778810.9
          ],
          [
           17230.55
          ],
          [
           150248.67
          ],
          [
           999484.29
          ],
          [
           104129.43000000001
          ],
          [
           124067.84999999999
          ],
          [
           13834.09
          ],
          [
           150248.67
          ],
          [
           61374.84
          ],
          [
           331576.63
          ],
          [
           37216.74
          ],
          [
           71570.12
          ],
          [
           516056.73
          ],
          [
           277921.48
          ],
          [
           607897.62
          ],
          [
           146086.92
          ],
          [
           60853.89
          ],
          [
           454610.18
          ],
          [
           208401.2
          ],
          [
           12648.77
          ],
          [
           580616.06
          ],
          [
           463520.80000000005
          ],
          [
           103453.23
          ],
          [
           274094.3
          ],
          [
           15656.4
          ],
          [
           125185.09
          ],
          [
           41773.38
          ],
          [
           81576.25
          ],
          [
           386734.05
          ],
          [
           126922.22
          ],
          [
           407.81
          ],
          [
           328923.7
          ],
          [
           226771.2
          ],
          [
           542155.32
          ],
          [
           17584.53
          ],
          [
           190788.14
          ],
          [
           853709.99
          ],
          [
           683824.51
          ],
          [
           527561.28
          ],
          [
           22668.46
          ],
          [
           173526.38
          ],
          [
           58222.66
          ],
          [
           282498.93
          ],
          [
           36272.06
          ],
          [
           287757.31
          ],
          [
           25675.160000000003
          ],
          [
           999484.29
          ],
          [
           335286.56
          ],
          [
           134535.02
          ],
          [
           535383.9
          ],
          [
           486486.96
          ],
          [
           68030.1
          ],
          [
           152397.23
          ],
          [
           32864.04
          ],
          [
           519064.34
          ],
          [
           127042.55999999998
          ],
          [
           472036.69
          ],
          [
           732702.8
          ],
          [
           259435.04
          ],
          [
           422253.72
          ],
          [
           522722.13999999996
          ],
          [
           62218.02318786589
          ],
          [
           866860.16
          ],
          [
           121754.02
          ],
          [
           7151.36
          ],
          [
           217533.94
          ],
          [
           354566.03
          ],
          [
           23137.63
          ],
          [
           8380.74
          ],
          [
           140025.87
          ],
          [
           193107.06
          ],
          [
           356648.66
          ],
          [
           84143.38
          ],
          [
           75551.23
          ],
          [
           310090.85
          ],
          [
           176785.27
          ],
          [
           63948.14
          ],
          [
           91909.36999999998
          ],
          [
           592000.63
          ],
          [
           39477.27
          ],
          [
           113079.74
          ],
          [
           377342.53
          ],
          [
           258514.47
          ],
          [
           318417.62
          ],
          [
           106579.73
          ],
          [
           13514.77
          ],
          [
           699909.1
          ],
          [
           306507.75
          ],
          [
           126580.95000000001
          ],
          [
           134092.35
          ],
          [
           778810.9
          ],
          [
           880050.05
          ],
          [
           224702.97
          ],
          [
           38631.85
          ],
          [
           17230.55
          ],
          [
           407184.37
          ],
          [
           179519.04
          ],
          [
           301835.26
          ],
          [
           12049.11
          ],
          [
           198889.49999999997
          ],
          [
           148042.97
          ],
          [
           91340.89
          ],
          [
           332907.55
          ],
          [
           190788.14
          ],
          [
           853709.99
          ],
          [
           259435.04
          ],
          [
           683824.51
          ],
          [
           104129.43000000001
          ],
          [
           124067.84999999999
          ],
          [
           422253.72
          ],
          [
           13834.09
          ],
          [
           522722.13999999996
          ],
          [
           527561.28
          ],
          [
           62218.02318786589
          ],
          [
           866860.16
          ],
          [
           150248.67
          ],
          [
           61374.84
          ],
          [
           331576.63
          ],
          [
           121754.02
          ],
          [
           7151.36
          ],
          [
           37216.74
          ],
          [
           22668.46
          ],
          [
           173526.38
          ],
          [
           217533.94
          ],
          [
           354566.03
          ],
          [
           23137.63
          ],
          [
           8380.74
          ],
          [
           58222.66
          ],
          [
           71570.12
          ],
          [
           140025.87
          ],
          [
           516056.73
          ],
          [
           193107.06
          ],
          [
           282498.93
          ],
          [
           277921.48
          ],
          [
           356648.66
          ],
          [
           36272.06
          ],
          [
           84143.38
          ],
          [
           75551.23
          ],
          [
           607897.62
          ],
          [
           146086.92
          ],
          [
           310090.85
          ],
          [
           176785.27
          ],
          [
           60853.89
          ],
          [
           454610.18
          ],
          [
           208401.2
          ],
          [
           63948.14
          ],
          [
           287757.31
          ],
          [
           91909.36999999998
          ],
          [
           592000.63
          ],
          [
           39477.27
          ],
          [
           113079.74
          ],
          [
           377342.53
          ],
          [
           12648.77
          ],
          [
           580616.06
          ],
          [
           463520.80000000005
          ],
          [
           258514.47
          ],
          [
           318417.62
          ],
          [
           25675.160000000003
          ],
          [
           106579.73
          ],
          [
           13514.77
          ],
          [
           699909.1
          ],
          [
           999484.29
          ],
          [
           103453.23
          ],
          [
           274094.3
          ],
          [
           306507.75
          ],
          [
           15656.4
          ],
          [
           125185.09
          ],
          [
           126580.95000000001
          ],
          [
           335286.56
          ],
          [
           134092.35
          ],
          [
           134535.02
          ],
          [
           41773.38
          ],
          [
           535383.9
          ],
          [
           778810.9
          ],
          [
           486486.96
          ],
          [
           68030.1
          ],
          [
           880050.05
          ],
          [
           224702.97
          ],
          [
           38631.85
          ],
          [
           81576.25
          ],
          [
           152397.23
          ],
          [
           386734.05
          ],
          [
           32864.04
          ],
          [
           17230.55
          ],
          [
           407184.37
          ],
          [
           179519.04
          ],
          [
           126922.22
          ],
          [
           301835.26
          ],
          [
           407.81
          ],
          [
           519064.34
          ],
          [
           328923.7
          ],
          [
           12049.11
          ],
          [
           127042.55999999998
          ],
          [
           226771.2
          ],
          [
           198889.49999999997
          ],
          [
           148042.97
          ],
          [
           542155.32
          ],
          [
           91340.89
          ],
          [
           472036.69
          ],
          [
           332907.55
          ],
          [
           17584.53
          ],
          [
           732702.8
          ],
          [
           866860.16
          ],
          [
           127042.55999999998
          ],
          [
           25675.160000000003
          ],
          [
           113079.74
          ],
          [
           217533.94
          ],
          [
           354566.03
          ],
          [
           23137.63
          ],
          [
           422253.72
          ],
          [
           106579.73
          ],
          [
           13514.77
          ],
          [
           148042.97
          ],
          [
           8380.74
          ],
          [
           699909.1
          ],
          [
           516056.73
          ],
          [
           332907.55
          ],
          [
           226771.2
          ],
          [
           146086.92
          ],
          [
           13834.09
          ],
          [
           486486.96
          ],
          [
           61374.84
          ],
          [
           22668.46
          ],
          [
           193107.06
          ],
          [
           331576.63
          ],
          [
           125185.09
          ],
          [
           198889.49999999997
          ],
          [
           527561.28
          ],
          [
           134535.02
          ],
          [
           377342.53
          ],
          [
           38631.85
          ],
          [
           12648.77
          ],
          [
           68030.1
          ],
          [
           81576.25
          ],
          [
           190788.14
          ],
          [
           542155.32
          ],
          [
           683824.51
          ],
          [
           173526.38
          ],
          [
           104129.43000000001
          ],
          [
           41773.38
          ],
          [
           58222.66
          ],
          [
           126580.95000000001
          ],
          [
           37216.74
          ],
          [
           17584.53
          ],
          [
           152397.23
          ],
          [
           282498.93
          ],
          [
           277921.48
          ],
          [
           71570.12
          ],
          [
           999484.29
          ],
          [
           607897.62
          ],
          [
           454610.18
          ],
          [
           535383.9
          ],
          [
           522722.13999999996
          ],
          [
           208401.2
          ],
          [
           103453.23
          ],
          [
           732702.8
          ],
          [
           356648.66
          ],
          [
           274094.3
          ],
          [
           126922.22
          ],
          [
           140025.87
          ],
          [
           63948.14
          ],
          [
           386734.05
          ],
          [
           259435.04
          ],
          [
           121754.02
          ],
          [
           36272.06
          ],
          [
           310090.85
          ],
          [
           853709.99
          ],
          [
           32864.04
          ],
          [
           580616.06
          ],
          [
           17230.55
          ],
          [
           84143.38
          ],
          [
           191375.21834118644
          ],
          [
           176785.27
          ],
          [
           7151.36
          ],
          [
           287757.31
          ],
          [
           91909.36999999998
          ],
          [
           592000.63
          ],
          [
           134092.35
          ],
          [
           301835.26
          ],
          [
           463520.80000000005
          ],
          [
           407184.37
          ],
          [
           880050.05
          ],
          [
           75551.23
          ],
          [
           407.81
          ],
          [
           519064.34
          ],
          [
           39477.27
          ],
          [
           258514.47
          ],
          [
           472036.69
          ],
          [
           124067.84999999999
          ],
          [
           306507.75
          ],
          [
           15656.4
          ],
          [
           328923.7
          ],
          [
           60853.89
          ],
          [
           318417.62
          ],
          [
           778810.9
          ],
          [
           150248.67
          ],
          [
           179519.04
          ],
          [
           12049.11
          ]
         ],
         "domain": {
          "x": [
           0,
           1
          ],
          "y": [
           0,
           1
          ]
         },
         "hovertemplate": "labels=%{label}<br>Costo_envio=%{value}<br>parent=%{parent}<br>id=%{id}<br>Ventas=%{color}<extra></extra>",
         "ids": [
          "7/10/2020/Tamara Dahiern/Muebles/35/Cama/Argentina",
          "6/10/2020/Sampie Company A/Muebles/65/Cama/Argentina",
          "16/11/2021/Juan Solis/Elementos de oficina/12/Click/Argentina",
          "6/11/2023/Keith Sawkins/Tecnologia/21/Fuente/Argentina",
          "12/11/2023/Liz Pelletier/Tecnologia/50/Fuente/Argentina",
          "13/11/2023/Liz Pelletier/Tecnologia/50/Fuente/Argentina",
          "5/10/2024/Jonathan Doherty/Tecnologia/21/Monitor/Argentina",
          "10/10/2023/Helen Wasserman/Tecnologia/42/Mouse/Argentina",
          "2/11/2023/Justin Hirsh/Tecnologia/34/Parlante/Argentina",
          "13/10/2023/Helen Wasserman/Tecnologia/28/Router/Argentina",
          "23/11/2023/Fautisno Edmundo/Muebles/27/Silla/Argentina",
          "22/10/2023/Alexiz Pena/Muebles/31/Silla/Argentina",
          "23/5/2023/Anne Pryre/Elementos de oficina/11/Toner/Argentina",
          "24/9/2020/Eugenia escobar/Elementos de oficina/10/Anotador/Bolivia",
          "4/10/2020/Octavia Muoz/Tecnologia/18/Cable de red/Bolivia",
          "2/10/2020/Sonia Valdez/Tecnologia/19/Cable de red/Bolivia",
          "5/10/2020/Roque Sanz/Tecnologia/59/Cable de red/Bolivia",
          "15/11/2021/Sonia Valdez/Elementos de oficina/50/Click/Bolivia",
          "8/10/2020/Juana Beatriz/Elementos de oficina/67/Click/Bolivia",
          "9/10/2020/Eduardo Perez/Elementos de oficina/69/Click/Bolivia",
          "17/11/2021/Arthur Gainer/Elementos de oficina/8/Cuaderno/Bolivia",
          "20/11/2021/Keith Sawkins/Elementos de oficina/30/Cuaderno/Bolivia",
          "22/11/2021/Tamara Dahiern/Elementos de oficina/53/Cuaderno/Bolivia",
          "25/11/2021/Jonathan Doherty/Muebles/20/Escritorio/Bolivia",
          "24/11/2021/Helen Wasserman/Muebles/63/Escritorio/Bolivia",
          "9/12/2023/Sampie Company A/Tecnologia/6/Fuente/Bolivia",
          "29/10/2022/Helen Wasserman/Tecnologia/16/Fuente/Bolivia",
          "30/10/2022/Jonathan Doherty/Tecnologia/34/Fuente/Bolivia",
          "7/11/2023/Liz Pelletier/Elementos de oficina/2/Hojas A4/Bolivia",
          "7/12/2023/Sampie Company A/Elementos de oficina/30/Hojas A4/Bolivia",
          "14/10/2023/Jonathan Doherty/Elementos de oficina/41/Hojas A4/Bolivia",
          "25/9/2024/Helen Wasserman/Elementos de oficina/9/Lapicera/Bolivia",
          "27/9/2024/Liz Pelletier/Elementos de oficina/22/Lapicera/Bolivia",
          "26/9/2024/Julie Creighton/Elementos de oficina/40/Lapicera/Bolivia",
          "30/9/2024/Julie Creighton/Muebles/24/Mesa/Bolivia",
          "1/10/2024/Liz Pelletier/Muebles/26/Mesa/Bolivia",
          "29/9/2024/Jonathan Doherty/Muebles/32/Mesa/Bolivia",
          "10/10/2024/Helen Wasserman/Tecnologia/30/Monitor/Bolivia",
          "8/10/2024/Pauline Chand/Tecnologia/68/Monitor/Bolivia",
          "12/12/2023/Tamara Dahiern/Tecnologia/14/Mouse/Bolivia",
          "29/10/2023/Julie Creighton/Tecnologia/23/Mouse/Bolivia",
          "11/10/2023/Helen Wasserman/Tecnologia/28/Mouse/Bolivia",
          "11/10/2024/Arthur Gainer/Tecnologia/46/Mouse/Bolivia",
          "30/5/2023/Tamara Dahiern/Tecnologia/7/Parlante/Bolivia",
          "30/5/2023/Craig Yedeab/Tecnologia/48/Parlante/Bolivia",
          "28/11/2023/Jonathan Doherty/Tecnologia/65/Parlante/Bolivia",
          "27/5/2023/Arthur Gainer/Tecnologia/49/Router/Bolivia",
          "30/5/2023/Michael Dominguez/Muebles/55/Silla/Bolivia",
          "17/11/2023/Ramon Ilesio/Muebles/66/Silla/Bolivia",
          "21/10/2023/Ramon Ilesio/Muebles/7/Sofa/Bolivia",
          "3/10/2023/Alexiz Pena/Muebles/66/Sofa/Bolivia",
          "1/11/2023/Justin Hirsh/Tecnologia/10/Teclado/Bolivia",
          "30/5/2023/Rosa Mendez/Tecnologia/27/Teclado/Bolivia",
          "7/10/2023/Anne Pryre/Elementos de oficina/49/Toner/Bolivia",
          "25/9/2020/Jonathan Doherty/Elementos de oficina/55/Anotador/Brasil",
          "27/9/2020/Julie Creighton/Elementos de oficina/17/Anotador/Chile",
          "26/9/2020/Josias Mendez/Elementos de oficina/62/Anotador/Chile",
          "1/10/2020/Eduardo Perez/Tecnologia/63/Cable de red/Chile",
          "23/11/2021/Anne Pryre/Muebles/51/Escritorio/Chile",
          "28/10/2022/Valerie Takahito/Muebles/54/Escritorio/Chile",
          "23/9/2024/Pauline Chand/Elementos de oficina/14/Lapicera/Chile",
          "24/9/2024/Valerie Takahito/Elementos de oficina/17/Lapicera/Chile",
          "28/9/2024/Ruben Dartf/Elementos de oficina/30/Lapicera/Chile",
          "2/10/2024/Pauline Chand/Muebles/26/Mesa/Chile",
          "4/12/2023/Roy Collins/Tecnologia/60/Parlante/Chile",
          "3/12/2023/Roy Collins/Tecnologia/68/Parlante/Chile",
          "31/10/2023/Julie Creighton/Tecnologia/62/Router/Chile",
          "2/10/2023/Craig Yedeab/Muebles/36/Sofa/Chile",
          "29/9/2023/Emily Phan/Tecnologia/23/Teclado/Chile",
          "30/9/2023/Emily Phan/Tecnologia/30/Teclado/Chile",
          "30/5/2023/Craig Yedeab/Tecnologia/37/Teclado/Chile",
          "19/11/2021/Emily Phan/Elementos de oficina/29/Cuaderno/Colombia",
          "9/10/2024/Roy Collins/Tecnologia/24/Monitor/Colombia",
          "1/10/2023/Sofia albarado/Muebles/14/Silla/Colombia",
          "2/12/2023/Roy Collins/Tecnologia/3/Teclado/Colombia",
          "26/10/2022/Liz Pelletier/Muebles/70/Escritorio/Ecuador",
          "5/12/2023/Ruben Dartf/Elementos de oficina/6/Hojas A4/Ecuador",
          "8/10/2023/Keith Sawkins/Tecnologia/56/Parlante/Ecuador",
          "14/12/2023/Valerie Takahito/Tecnologia/25/Teclado/Ecuador",
          "28/9/2020/Liz Pelletier/Elementos de oficina/23/Anotador/Paraguay",
          "30/9/2020/Juana Beatriz/Tecnologia/16/Cable de red/Paraguay",
          "3/10/2020/Juan Solis/Tecnologia/42/Cable de red/Paraguay",
          "21/11/2021/Roy Collins/Elementos de oficina/9/Cuaderno/Paraguay",
          "25/10/2022/Roy Collins/Muebles/20/Escritorio/Paraguay",
          "27/10/2022/Pauline Chand/Muebles/63/Escritorio/Paraguay",
          "31/10/2022/Julie Creighton/Tecnologia/12/Fuente/Paraguay",
          "3/11/2023/Keith Sawkins/Elementos de oficina/48/Hojas A4/Paraguay",
          "7/10/2024/Liz Pelletier/Tecnologia/30/Monitor/Paraguay",
          "4/10/2024/Ruben Dartf/Tecnologia/61/Monitor/Paraguay",
          "11/11/2023/Liz Pelletier/Tecnologia/15/Mouse/Paraguay",
          "24/11/2023/Michael Dominguez/Tecnologia/29/Parlante/Paraguay",
          "19/10/2023/Jonathan Doherty/Tecnologia/14/Router/Paraguay",
          "18/11/2023/Fautisno Edmundo/Muebles/11/Sofa/Paraguay",
          "19/11/2023/Maria Zettner/Elementos de oficina/14/Toner/Paraguay",
          "29/11/2023/Roy Collins/Elementos de oficina/29/Toner/Paraguay",
          "4/11/2023/Keith Sawkins/Elementos de oficina/46/Toner/Paraguay",
          "29/9/2020/Andrea Uribes/Tecnologia/44/Cable de red/Peru",
          "18/11/2021/Emily Phan/Elementos de oficina/16/Cuaderno/Peru",
          "3/10/2024/Roy Collins/Muebles/4/Mesa/Peru",
          "6/10/2024/Julie Creighton/Tecnologia/64/Monitor/Peru",
          "24/9/2020/Eugenia escobar/Elementos de oficina/10/Anotador",
          "27/9/2020/Julie Creighton/Elementos de oficina/17/Anotador",
          "28/9/2020/Liz Pelletier/Elementos de oficina/23/Anotador",
          "25/9/2020/Jonathan Doherty/Elementos de oficina/55/Anotador",
          "26/9/2020/Josias Mendez/Elementos de oficina/62/Anotador",
          "30/9/2020/Juana Beatriz/Tecnologia/16/Cable de red",
          "4/10/2020/Octavia Muoz/Tecnologia/18/Cable de red",
          "2/10/2020/Sonia Valdez/Tecnologia/19/Cable de red",
          "3/10/2020/Juan Solis/Tecnologia/42/Cable de red",
          "29/9/2020/Andrea Uribes/Tecnologia/44/Cable de red",
          "5/10/2020/Roque Sanz/Tecnologia/59/Cable de red",
          "1/10/2020/Eduardo Perez/Tecnologia/63/Cable de red",
          "7/10/2020/Tamara Dahiern/Muebles/35/Cama",
          "6/10/2020/Sampie Company A/Muebles/65/Cama",
          "16/11/2021/Juan Solis/Elementos de oficina/12/Click",
          "15/11/2021/Sonia Valdez/Elementos de oficina/50/Click",
          "8/10/2020/Juana Beatriz/Elementos de oficina/67/Click",
          "9/10/2020/Eduardo Perez/Elementos de oficina/69/Click",
          "17/11/2021/Arthur Gainer/Elementos de oficina/8/Cuaderno",
          "21/11/2021/Roy Collins/Elementos de oficina/9/Cuaderno",
          "18/11/2021/Emily Phan/Elementos de oficina/16/Cuaderno",
          "19/11/2021/Emily Phan/Elementos de oficina/29/Cuaderno",
          "20/11/2021/Keith Sawkins/Elementos de oficina/30/Cuaderno",
          "22/11/2021/Tamara Dahiern/Elementos de oficina/53/Cuaderno",
          "25/11/2021/Jonathan Doherty/Muebles/20/Escritorio",
          "25/10/2022/Roy Collins/Muebles/20/Escritorio",
          "23/11/2021/Anne Pryre/Muebles/51/Escritorio",
          "28/10/2022/Valerie Takahito/Muebles/54/Escritorio",
          "24/11/2021/Helen Wasserman/Muebles/63/Escritorio",
          "27/10/2022/Pauline Chand/Muebles/63/Escritorio",
          "26/10/2022/Liz Pelletier/Muebles/70/Escritorio",
          "9/12/2023/Sampie Company A/Tecnologia/6/Fuente",
          "31/10/2022/Julie Creighton/Tecnologia/12/Fuente",
          "29/10/2022/Helen Wasserman/Tecnologia/16/Fuente",
          "6/11/2023/Keith Sawkins/Tecnologia/21/Fuente",
          "30/10/2022/Jonathan Doherty/Tecnologia/34/Fuente",
          "12/11/2023/Liz Pelletier/Tecnologia/50/Fuente",
          "13/11/2023/Liz Pelletier/Tecnologia/50/Fuente",
          "7/11/2023/Liz Pelletier/Elementos de oficina/2/Hojas A4",
          "5/12/2023/Ruben Dartf/Elementos de oficina/6/Hojas A4",
          "7/12/2023/Sampie Company A/Elementos de oficina/30/Hojas A4",
          "14/10/2023/Jonathan Doherty/Elementos de oficina/41/Hojas A4",
          "3/11/2023/Keith Sawkins/Elementos de oficina/48/Hojas A4",
          "25/9/2024/Helen Wasserman/Elementos de oficina/9/Lapicera",
          "23/9/2024/Pauline Chand/Elementos de oficina/14/Lapicera",
          "24/9/2024/Valerie Takahito/Elementos de oficina/17/Lapicera",
          "27/9/2024/Liz Pelletier/Elementos de oficina/22/Lapicera",
          "28/9/2024/Ruben Dartf/Elementos de oficina/30/Lapicera",
          "26/9/2024/Julie Creighton/Elementos de oficina/40/Lapicera",
          "3/10/2024/Roy Collins/Muebles/4/Mesa",
          "30/9/2024/Julie Creighton/Muebles/24/Mesa",
          "1/10/2024/Liz Pelletier/Muebles/26/Mesa",
          "2/10/2024/Pauline Chand/Muebles/26/Mesa",
          "29/9/2024/Jonathan Doherty/Muebles/32/Mesa",
          "5/10/2024/Jonathan Doherty/Tecnologia/21/Monitor",
          "9/10/2024/Roy Collins/Tecnologia/24/Monitor",
          "10/10/2024/Helen Wasserman/Tecnologia/30/Monitor",
          "7/10/2024/Liz Pelletier/Tecnologia/30/Monitor",
          "4/10/2024/Ruben Dartf/Tecnologia/61/Monitor",
          "6/10/2024/Julie Creighton/Tecnologia/64/Monitor",
          "8/10/2024/Pauline Chand/Tecnologia/68/Monitor",
          "12/12/2023/Tamara Dahiern/Tecnologia/14/Mouse",
          "11/11/2023/Liz Pelletier/Tecnologia/15/Mouse",
          "29/10/2023/Julie Creighton/Tecnologia/23/Mouse",
          "11/10/2023/Helen Wasserman/Tecnologia/28/Mouse",
          "10/10/2023/Helen Wasserman/Tecnologia/42/Mouse",
          "11/10/2024/Arthur Gainer/Tecnologia/46/Mouse",
          "30/5/2023/Tamara Dahiern/Tecnologia/7/Parlante",
          "24/11/2023/Michael Dominguez/Tecnologia/29/Parlante",
          "2/11/2023/Justin Hirsh/Tecnologia/34/Parlante",
          "30/5/2023/Craig Yedeab/Tecnologia/48/Parlante",
          "8/10/2023/Keith Sawkins/Tecnologia/56/Parlante",
          "4/12/2023/Roy Collins/Tecnologia/60/Parlante",
          "28/11/2023/Jonathan Doherty/Tecnologia/65/Parlante",
          "3/12/2023/Roy Collins/Tecnologia/68/Parlante",
          "19/10/2023/Jonathan Doherty/Tecnologia/14/Router",
          "13/10/2023/Helen Wasserman/Tecnologia/28/Router",
          "27/5/2023/Arthur Gainer/Tecnologia/49/Router",
          "31/10/2023/Julie Creighton/Tecnologia/62/Router",
          "1/10/2023/Sofia albarado/Muebles/14/Silla",
          "23/11/2023/Fautisno Edmundo/Muebles/27/Silla",
          "22/10/2023/Alexiz Pena/Muebles/31/Silla",
          "30/5/2023/Michael Dominguez/Muebles/55/Silla",
          "17/11/2023/Ramon Ilesio/Muebles/66/Silla",
          "21/10/2023/Ramon Ilesio/Muebles/7/Sofa",
          "18/11/2023/Fautisno Edmundo/Muebles/11/Sofa",
          "2/10/2023/Craig Yedeab/Muebles/36/Sofa",
          "3/10/2023/Alexiz Pena/Muebles/66/Sofa",
          "2/12/2023/Roy Collins/Tecnologia/3/Teclado",
          "1/11/2023/Justin Hirsh/Tecnologia/10/Teclado",
          "29/9/2023/Emily Phan/Tecnologia/23/Teclado",
          "14/12/2023/Valerie Takahito/Tecnologia/25/Teclado",
          "30/5/2023/Rosa Mendez/Tecnologia/27/Teclado",
          "30/9/2023/Emily Phan/Tecnologia/30/Teclado",
          "30/5/2023/Craig Yedeab/Tecnologia/37/Teclado",
          "23/5/2023/Anne Pryre/Elementos de oficina/11/Toner",
          "19/11/2023/Maria Zettner/Elementos de oficina/14/Toner",
          "29/11/2023/Roy Collins/Elementos de oficina/29/Toner",
          "4/11/2023/Keith Sawkins/Elementos de oficina/46/Toner",
          "7/10/2023/Anne Pryre/Elementos de oficina/49/Toner",
          "7/11/2023/Liz Pelletier/Elementos de oficina/2",
          "2/12/2023/Roy Collins/Tecnologia/3",
          "3/10/2024/Roy Collins/Muebles/4",
          "5/12/2023/Ruben Dartf/Elementos de oficina/6",
          "9/12/2023/Sampie Company A/Tecnologia/6",
          "21/10/2023/Ramon Ilesio/Muebles/7",
          "30/5/2023/Tamara Dahiern/Tecnologia/7",
          "17/11/2021/Arthur Gainer/Elementos de oficina/8",
          "25/9/2024/Helen Wasserman/Elementos de oficina/9",
          "21/11/2021/Roy Collins/Elementos de oficina/9",
          "24/9/2020/Eugenia escobar/Elementos de oficina/10",
          "1/11/2023/Justin Hirsh/Tecnologia/10",
          "23/5/2023/Anne Pryre/Elementos de oficina/11",
          "18/11/2023/Fautisno Edmundo/Muebles/11",
          "16/11/2021/Juan Solis/Elementos de oficina/12",
          "31/10/2022/Julie Creighton/Tecnologia/12",
          "19/11/2023/Maria Zettner/Elementos de oficina/14",
          "23/9/2024/Pauline Chand/Elementos de oficina/14",
          "1/10/2023/Sofia albarado/Muebles/14",
          "19/10/2023/Jonathan Doherty/Tecnologia/14",
          "12/12/2023/Tamara Dahiern/Tecnologia/14",
          "11/11/2023/Liz Pelletier/Tecnologia/15",
          "18/11/2021/Emily Phan/Elementos de oficina/16",
          "29/10/2022/Helen Wasserman/Tecnologia/16",
          "30/9/2020/Juana Beatriz/Tecnologia/16",
          "27/9/2020/Julie Creighton/Elementos de oficina/17",
          "24/9/2024/Valerie Takahito/Elementos de oficina/17",
          "4/10/2020/Octavia Muoz/Tecnologia/18",
          "2/10/2020/Sonia Valdez/Tecnologia/19",
          "25/11/2021/Jonathan Doherty/Muebles/20",
          "25/10/2022/Roy Collins/Muebles/20",
          "5/10/2024/Jonathan Doherty/Tecnologia/21",
          "6/11/2023/Keith Sawkins/Tecnologia/21",
          "27/9/2024/Liz Pelletier/Elementos de oficina/22",
          "28/9/2020/Liz Pelletier/Elementos de oficina/23",
          "29/9/2023/Emily Phan/Tecnologia/23",
          "29/10/2023/Julie Creighton/Tecnologia/23",
          "30/9/2024/Julie Creighton/Muebles/24",
          "9/10/2024/Roy Collins/Tecnologia/24",
          "14/12/2023/Valerie Takahito/Tecnologia/25",
          "1/10/2024/Liz Pelletier/Muebles/26",
          "2/10/2024/Pauline Chand/Muebles/26",
          "23/11/2023/Fautisno Edmundo/Muebles/27",
          "30/5/2023/Rosa Mendez/Tecnologia/27",
          "11/10/2023/Helen Wasserman/Tecnologia/28",
          "13/10/2023/Helen Wasserman/Tecnologia/28",
          "19/11/2021/Emily Phan/Elementos de oficina/29",
          "29/11/2023/Roy Collins/Elementos de oficina/29",
          "24/11/2023/Michael Dominguez/Tecnologia/29",
          "20/11/2021/Keith Sawkins/Elementos de oficina/30",
          "28/9/2024/Ruben Dartf/Elementos de oficina/30",
          "7/12/2023/Sampie Company A/Elementos de oficina/30",
          "30/9/2023/Emily Phan/Tecnologia/30",
          "10/10/2024/Helen Wasserman/Tecnologia/30",
          "7/10/2024/Liz Pelletier/Tecnologia/30",
          "22/10/2023/Alexiz Pena/Muebles/31",
          "29/9/2024/Jonathan Doherty/Muebles/32",
          "30/10/2022/Jonathan Doherty/Tecnologia/34",
          "2/11/2023/Justin Hirsh/Tecnologia/34",
          "7/10/2020/Tamara Dahiern/Muebles/35",
          "2/10/2023/Craig Yedeab/Muebles/36",
          "30/5/2023/Craig Yedeab/Tecnologia/37",
          "26/9/2024/Julie Creighton/Elementos de oficina/40",
          "14/10/2023/Jonathan Doherty/Elementos de oficina/41",
          "10/10/2023/Helen Wasserman/Tecnologia/42",
          "3/10/2020/Juan Solis/Tecnologia/42",
          "29/9/2020/Andrea Uribes/Tecnologia/44",
          "4/11/2023/Keith Sawkins/Elementos de oficina/46",
          "11/10/2024/Arthur Gainer/Tecnologia/46",
          "3/11/2023/Keith Sawkins/Elementos de oficina/48",
          "30/5/2023/Craig Yedeab/Tecnologia/48",
          "7/10/2023/Anne Pryre/Elementos de oficina/49",
          "27/5/2023/Arthur Gainer/Tecnologia/49",
          "15/11/2021/Sonia Valdez/Elementos de oficina/50",
          "12/11/2023/Liz Pelletier/Tecnologia/50",
          "13/11/2023/Liz Pelletier/Tecnologia/50",
          "23/11/2021/Anne Pryre/Muebles/51",
          "22/11/2021/Tamara Dahiern/Elementos de oficina/53",
          "28/10/2022/Valerie Takahito/Muebles/54",
          "25/9/2020/Jonathan Doherty/Elementos de oficina/55",
          "30/5/2023/Michael Dominguez/Muebles/55",
          "8/10/2023/Keith Sawkins/Tecnologia/56",
          "5/10/2020/Roque Sanz/Tecnologia/59",
          "4/12/2023/Roy Collins/Tecnologia/60",
          "4/10/2024/Ruben Dartf/Tecnologia/61",
          "26/9/2020/Josias Mendez/Elementos de oficina/62",
          "31/10/2023/Julie Creighton/Tecnologia/62",
          "24/11/2021/Helen Wasserman/Muebles/63",
          "27/10/2022/Pauline Chand/Muebles/63",
          "1/10/2020/Eduardo Perez/Tecnologia/63",
          "6/10/2024/Julie Creighton/Tecnologia/64",
          "6/10/2020/Sampie Company A/Muebles/65",
          "28/11/2023/Jonathan Doherty/Tecnologia/65",
          "3/10/2023/Alexiz Pena/Muebles/66",
          "17/11/2023/Ramon Ilesio/Muebles/66",
          "8/10/2020/Juana Beatriz/Elementos de oficina/67",
          "8/10/2024/Pauline Chand/Tecnologia/68",
          "3/12/2023/Roy Collins/Tecnologia/68",
          "9/10/2020/Eduardo Perez/Elementos de oficina/69",
          "26/10/2022/Liz Pelletier/Muebles/70",
          "23/5/2023/Anne Pryre/Elementos de oficina",
          "7/10/2023/Anne Pryre/Elementos de oficina",
          "17/11/2021/Arthur Gainer/Elementos de oficina",
          "9/10/2020/Eduardo Perez/Elementos de oficina",
          "18/11/2021/Emily Phan/Elementos de oficina",
          "19/11/2021/Emily Phan/Elementos de oficina",
          "24/9/2020/Eugenia escobar/Elementos de oficina",
          "25/9/2024/Helen Wasserman/Elementos de oficina",
          "14/10/2023/Jonathan Doherty/Elementos de oficina",
          "25/9/2020/Jonathan Doherty/Elementos de oficina",
          "26/9/2020/Josias Mendez/Elementos de oficina",
          "16/11/2021/Juan Solis/Elementos de oficina",
          "8/10/2020/Juana Beatriz/Elementos de oficina",
          "26/9/2024/Julie Creighton/Elementos de oficina",
          "27/9/2020/Julie Creighton/Elementos de oficina",
          "20/11/2021/Keith Sawkins/Elementos de oficina",
          "3/11/2023/Keith Sawkins/Elementos de oficina",
          "4/11/2023/Keith Sawkins/Elementos de oficina",
          "27/9/2024/Liz Pelletier/Elementos de oficina",
          "28/9/2020/Liz Pelletier/Elementos de oficina",
          "7/11/2023/Liz Pelletier/Elementos de oficina",
          "19/11/2023/Maria Zettner/Elementos de oficina",
          "23/9/2024/Pauline Chand/Elementos de oficina",
          "21/11/2021/Roy Collins/Elementos de oficina",
          "29/11/2023/Roy Collins/Elementos de oficina",
          "28/9/2024/Ruben Dartf/Elementos de oficina",
          "5/12/2023/Ruben Dartf/Elementos de oficina",
          "7/12/2023/Sampie Company A/Elementos de oficina",
          "15/11/2021/Sonia Valdez/Elementos de oficina",
          "22/11/2021/Tamara Dahiern/Elementos de oficina",
          "24/9/2024/Valerie Takahito/Elementos de oficina",
          "22/10/2023/Alexiz Pena/Muebles",
          "3/10/2023/Alexiz Pena/Muebles",
          "23/11/2021/Anne Pryre/Muebles",
          "2/10/2023/Craig Yedeab/Muebles",
          "18/11/2023/Fautisno Edmundo/Muebles",
          "23/11/2023/Fautisno Edmundo/Muebles",
          "24/11/2021/Helen Wasserman/Muebles",
          "25/11/2021/Jonathan Doherty/Muebles",
          "29/9/2024/Jonathan Doherty/Muebles",
          "30/9/2024/Julie Creighton/Muebles",
          "1/10/2024/Liz Pelletier/Muebles",
          "26/10/2022/Liz Pelletier/Muebles",
          "30/5/2023/Michael Dominguez/Muebles",
          "2/10/2024/Pauline Chand/Muebles",
          "27/10/2022/Pauline Chand/Muebles",
          "17/11/2023/Ramon Ilesio/Muebles",
          "21/10/2023/Ramon Ilesio/Muebles",
          "25/10/2022/Roy Collins/Muebles",
          "3/10/2024/Roy Collins/Muebles",
          "6/10/2020/Sampie Company A/Muebles",
          "1/10/2023/Sofia albarado/Muebles",
          "7/10/2020/Tamara Dahiern/Muebles",
          "28/10/2022/Valerie Takahito/Muebles",
          "29/9/2020/Andrea Uribes/Tecnologia",
          "11/10/2024/Arthur Gainer/Tecnologia",
          "27/5/2023/Arthur Gainer/Tecnologia",
          "30/5/2023/Craig Yedeab/Tecnologia",
          "1/10/2020/Eduardo Perez/Tecnologia",
          "29/9/2023/Emily Phan/Tecnologia",
          "30/9/2023/Emily Phan/Tecnologia",
          "10/10/2023/Helen Wasserman/Tecnologia",
          "10/10/2024/Helen Wasserman/Tecnologia",
          "11/10/2023/Helen Wasserman/Tecnologia",
          "13/10/2023/Helen Wasserman/Tecnologia",
          "29/10/2022/Helen Wasserman/Tecnologia",
          "19/10/2023/Jonathan Doherty/Tecnologia",
          "28/11/2023/Jonathan Doherty/Tecnologia",
          "30/10/2022/Jonathan Doherty/Tecnologia",
          "5/10/2024/Jonathan Doherty/Tecnologia",
          "3/10/2020/Juan Solis/Tecnologia",
          "30/9/2020/Juana Beatriz/Tecnologia",
          "29/10/2023/Julie Creighton/Tecnologia",
          "31/10/2022/Julie Creighton/Tecnologia",
          "31/10/2023/Julie Creighton/Tecnologia",
          "6/10/2024/Julie Creighton/Tecnologia",
          "1/11/2023/Justin Hirsh/Tecnologia",
          "2/11/2023/Justin Hirsh/Tecnologia",
          "6/11/2023/Keith Sawkins/Tecnologia",
          "8/10/2023/Keith Sawkins/Tecnologia",
          "11/11/2023/Liz Pelletier/Tecnologia",
          "12/11/2023/Liz Pelletier/Tecnologia",
          "13/11/2023/Liz Pelletier/Tecnologia",
          "7/10/2024/Liz Pelletier/Tecnologia",
          "24/11/2023/Michael Dominguez/Tecnologia",
          "4/10/2020/Octavia Muoz/Tecnologia",
          "8/10/2024/Pauline Chand/Tecnologia",
          "5/10/2020/Roque Sanz/Tecnologia",
          "30/5/2023/Rosa Mendez/Tecnologia",
          "2/12/2023/Roy Collins/Tecnologia",
          "3/12/2023/Roy Collins/Tecnologia",
          "4/12/2023/Roy Collins/Tecnologia",
          "9/10/2024/Roy Collins/Tecnologia",
          "4/10/2024/Ruben Dartf/Tecnologia",
          "9/12/2023/Sampie Company A/Tecnologia",
          "2/10/2020/Sonia Valdez/Tecnologia",
          "12/12/2023/Tamara Dahiern/Tecnologia",
          "30/5/2023/Tamara Dahiern/Tecnologia",
          "14/12/2023/Valerie Takahito/Tecnologia",
          "22/10/2023/Alexiz Pena",
          "3/10/2023/Alexiz Pena",
          "29/9/2020/Andrea Uribes",
          "23/11/2021/Anne Pryre",
          "23/5/2023/Anne Pryre",
          "7/10/2023/Anne Pryre",
          "11/10/2024/Arthur Gainer",
          "17/11/2021/Arthur Gainer",
          "27/5/2023/Arthur Gainer",
          "2/10/2023/Craig Yedeab",
          "30/5/2023/Craig Yedeab",
          "1/10/2020/Eduardo Perez",
          "9/10/2020/Eduardo Perez",
          "18/11/2021/Emily Phan",
          "19/11/2021/Emily Phan",
          "29/9/2023/Emily Phan",
          "30/9/2023/Emily Phan",
          "24/9/2020/Eugenia escobar",
          "18/11/2023/Fautisno Edmundo",
          "23/11/2023/Fautisno Edmundo",
          "10/10/2023/Helen Wasserman",
          "10/10/2024/Helen Wasserman",
          "11/10/2023/Helen Wasserman",
          "13/10/2023/Helen Wasserman",
          "24/11/2021/Helen Wasserman",
          "25/9/2024/Helen Wasserman",
          "29/10/2022/Helen Wasserman",
          "14/10/2023/Jonathan Doherty",
          "19/10/2023/Jonathan Doherty",
          "25/11/2021/Jonathan Doherty",
          "25/9/2020/Jonathan Doherty",
          "28/11/2023/Jonathan Doherty",
          "29/9/2024/Jonathan Doherty",
          "30/10/2022/Jonathan Doherty",
          "5/10/2024/Jonathan Doherty",
          "26/9/2020/Josias Mendez",
          "16/11/2021/Juan Solis",
          "3/10/2020/Juan Solis",
          "30/9/2020/Juana Beatriz",
          "8/10/2020/Juana Beatriz",
          "26/9/2024/Julie Creighton",
          "27/9/2020/Julie Creighton",
          "29/10/2023/Julie Creighton",
          "30/9/2024/Julie Creighton",
          "31/10/2022/Julie Creighton",
          "31/10/2023/Julie Creighton",
          "6/10/2024/Julie Creighton",
          "1/11/2023/Justin Hirsh",
          "2/11/2023/Justin Hirsh",
          "20/11/2021/Keith Sawkins",
          "3/11/2023/Keith Sawkins",
          "4/11/2023/Keith Sawkins",
          "6/11/2023/Keith Sawkins",
          "8/10/2023/Keith Sawkins",
          "1/10/2024/Liz Pelletier",
          "11/11/2023/Liz Pelletier",
          "12/11/2023/Liz Pelletier",
          "13/11/2023/Liz Pelletier",
          "26/10/2022/Liz Pelletier",
          "27/9/2024/Liz Pelletier",
          "28/9/2020/Liz Pelletier",
          "7/10/2024/Liz Pelletier",
          "7/11/2023/Liz Pelletier",
          "19/11/2023/Maria Zettner",
          "24/11/2023/Michael Dominguez",
          "30/5/2023/Michael Dominguez",
          "4/10/2020/Octavia Muoz",
          "2/10/2024/Pauline Chand",
          "23/9/2024/Pauline Chand",
          "27/10/2022/Pauline Chand",
          "8/10/2024/Pauline Chand",
          "17/11/2023/Ramon Ilesio",
          "21/10/2023/Ramon Ilesio",
          "5/10/2020/Roque Sanz",
          "30/5/2023/Rosa Mendez",
          "2/12/2023/Roy Collins",
          "21/11/2021/Roy Collins",
          "25/10/2022/Roy Collins",
          "29/11/2023/Roy Collins",
          "3/10/2024/Roy Collins",
          "3/12/2023/Roy Collins",
          "4/12/2023/Roy Collins",
          "9/10/2024/Roy Collins",
          "28/9/2024/Ruben Dartf",
          "4/10/2024/Ruben Dartf",
          "5/12/2023/Ruben Dartf",
          "6/10/2020/Sampie Company A",
          "7/12/2023/Sampie Company A",
          "9/12/2023/Sampie Company A",
          "1/10/2023/Sofia albarado",
          "15/11/2021/Sonia Valdez",
          "2/10/2020/Sonia Valdez",
          "12/12/2023/Tamara Dahiern",
          "22/11/2021/Tamara Dahiern",
          "30/5/2023/Tamara Dahiern",
          "7/10/2020/Tamara Dahiern",
          "14/12/2023/Valerie Takahito",
          "24/9/2024/Valerie Takahito",
          "28/10/2022/Valerie Takahito",
          "1/10/2020",
          "1/10/2023",
          "1/10/2024",
          "1/11/2023",
          "10/10/2023",
          "10/10/2024",
          "11/10/2023",
          "11/10/2024",
          "11/11/2023",
          "12/11/2023",
          "12/12/2023",
          "13/10/2023",
          "13/11/2023",
          "14/10/2023",
          "14/12/2023",
          "15/11/2021",
          "16/11/2021",
          "17/11/2021",
          "17/11/2023",
          "18/11/2021",
          "18/11/2023",
          "19/10/2023",
          "19/11/2021",
          "19/11/2023",
          "2/10/2020",
          "2/10/2023",
          "2/10/2024",
          "2/11/2023",
          "2/12/2023",
          "20/11/2021",
          "21/10/2023",
          "21/11/2021",
          "22/10/2023",
          "22/11/2021",
          "23/11/2021",
          "23/11/2023",
          "23/5/2023",
          "23/9/2024",
          "24/11/2021",
          "24/11/2023",
          "24/9/2020",
          "24/9/2024",
          "25/10/2022",
          "25/11/2021",
          "25/9/2020",
          "25/9/2024",
          "26/10/2022",
          "26/9/2020",
          "26/9/2024",
          "27/10/2022",
          "27/5/2023",
          "27/9/2020",
          "27/9/2024",
          "28/10/2022",
          "28/11/2023",
          "28/9/2020",
          "28/9/2024",
          "29/10/2022",
          "29/10/2023",
          "29/11/2023",
          "29/9/2020",
          "29/9/2023",
          "29/9/2024",
          "3/10/2020",
          "3/10/2023",
          "3/10/2024",
          "3/11/2023",
          "3/12/2023",
          "30/10/2022",
          "30/5/2023",
          "30/9/2020",
          "30/9/2023",
          "30/9/2024",
          "31/10/2022",
          "31/10/2023",
          "4/10/2020",
          "4/10/2024",
          "4/11/2023",
          "4/12/2023",
          "5/10/2020",
          "5/10/2024",
          "5/12/2023",
          "6/10/2020",
          "6/10/2024",
          "6/11/2023",
          "7/10/2020",
          "7/10/2023",
          "7/10/2024",
          "7/11/2023",
          "7/12/2023",
          "8/10/2020",
          "8/10/2023",
          "8/10/2024",
          "9/10/2020",
          "9/10/2024",
          "9/12/2023"
         ],
         "labels": [
          "Argentina",
          "Argentina",
          "Argentina",
          "Argentina",
          "Argentina",
          "Argentina",
          "Argentina",
          "Argentina",
          "Argentina",
          "Argentina",
          "Argentina",
          "Argentina",
          "Argentina",
          "Bolivia",
          "Bolivia",
          "Bolivia",
          "Bolivia",
          "Bolivia",
          "Bolivia",
          "Bolivia",
          "Bolivia",
          "Bolivia",
          "Bolivia",
          "Bolivia",
          "Bolivia",
          "Bolivia",
          "Bolivia",
          "Bolivia",
          "Bolivia",
          "Bolivia",
          "Bolivia",
          "Bolivia",
          "Bolivia",
          "Bolivia",
          "Bolivia",
          "Bolivia",
          "Bolivia",
          "Bolivia",
          "Bolivia",
          "Bolivia",
          "Bolivia",
          "Bolivia",
          "Bolivia",
          "Bolivia",
          "Bolivia",
          "Bolivia",
          "Bolivia",
          "Bolivia",
          "Bolivia",
          "Bolivia",
          "Bolivia",
          "Bolivia",
          "Bolivia",
          "Bolivia",
          "Brasil",
          "Chile",
          "Chile",
          "Chile",
          "Chile",
          "Chile",
          "Chile",
          "Chile",
          "Chile",
          "Chile",
          "Chile",
          "Chile",
          "Chile",
          "Chile",
          "Chile",
          "Chile",
          "Chile",
          "Colombia",
          "Colombia",
          "Colombia",
          "Colombia",
          "Ecuador",
          "Ecuador",
          "Ecuador",
          "Ecuador",
          "Paraguay",
          "Paraguay",
          "Paraguay",
          "Paraguay",
          "Paraguay",
          "Paraguay",
          "Paraguay",
          "Paraguay",
          "Paraguay",
          "Paraguay",
          "Paraguay",
          "Paraguay",
          "Paraguay",
          "Paraguay",
          "Paraguay",
          "Paraguay",
          "Paraguay",
          "Peru",
          "Peru",
          "Peru",
          "Peru",
          "Anotador",
          "Anotador",
          "Anotador",
          "Anotador",
          "Anotador",
          "Cable de red",
          "Cable de red",
          "Cable de red",
          "Cable de red",
          "Cable de red",
          "Cable de red",
          "Cable de red",
          "Cama",
          "Cama",
          "Click",
          "Click",
          "Click",
          "Click",
          "Cuaderno",
          "Cuaderno",
          "Cuaderno",
          "Cuaderno",
          "Cuaderno",
          "Cuaderno",
          "Escritorio",
          "Escritorio",
          "Escritorio",
          "Escritorio",
          "Escritorio",
          "Escritorio",
          "Escritorio",
          "Fuente",
          "Fuente",
          "Fuente",
          "Fuente",
          "Fuente",
          "Fuente",
          "Fuente",
          "Hojas A4",
          "Hojas A4",
          "Hojas A4",
          "Hojas A4",
          "Hojas A4",
          "Lapicera",
          "Lapicera",
          "Lapicera",
          "Lapicera",
          "Lapicera",
          "Lapicera",
          "Mesa",
          "Mesa",
          "Mesa",
          "Mesa",
          "Mesa",
          "Monitor",
          "Monitor",
          "Monitor",
          "Monitor",
          "Monitor",
          "Monitor",
          "Monitor",
          "Mouse",
          "Mouse",
          "Mouse",
          "Mouse",
          "Mouse",
          "Mouse",
          "Parlante",
          "Parlante",
          "Parlante",
          "Parlante",
          "Parlante",
          "Parlante",
          "Parlante",
          "Parlante",
          "Router",
          "Router",
          "Router",
          "Router",
          "Silla",
          "Silla",
          "Silla",
          "Silla",
          "Silla",
          "Sofa",
          "Sofa",
          "Sofa",
          "Sofa",
          "Teclado",
          "Teclado",
          "Teclado",
          "Teclado",
          "Teclado",
          "Teclado",
          "Teclado",
          "Toner",
          "Toner",
          "Toner",
          "Toner",
          "Toner",
          "2",
          "3",
          "4",
          "6",
          "6",
          "7",
          "7",
          "8",
          "9",
          "9",
          "10",
          "10",
          "11",
          "11",
          "12",
          "12",
          "14",
          "14",
          "14",
          "14",
          "14",
          "15",
          "16",
          "16",
          "16",
          "17",
          "17",
          "18",
          "19",
          "20",
          "20",
          "21",
          "21",
          "22",
          "23",
          "23",
          "23",
          "24",
          "24",
          "25",
          "26",
          "26",
          "27",
          "27",
          "28",
          "28",
          "29",
          "29",
          "29",
          "30",
          "30",
          "30",
          "30",
          "30",
          "30",
          "31",
          "32",
          "34",
          "34",
          "35",
          "36",
          "37",
          "40",
          "41",
          "42",
          "42",
          "44",
          "46",
          "46",
          "48",
          "48",
          "49",
          "49",
          "50",
          "50",
          "50",
          "51",
          "53",
          "54",
          "55",
          "55",
          "56",
          "59",
          "60",
          "61",
          "62",
          "62",
          "63",
          "63",
          "63",
          "64",
          "65",
          "65",
          "66",
          "66",
          "67",
          "68",
          "68",
          "69",
          "70",
          "Elementos de oficina",
          "Elementos de oficina",
          "Elementos de oficina",
          "Elementos de oficina",
          "Elementos de oficina",
          "Elementos de oficina",
          "Elementos de oficina",
          "Elementos de oficina",
          "Elementos de oficina",
          "Elementos de oficina",
          "Elementos de oficina",
          "Elementos de oficina",
          "Elementos de oficina",
          "Elementos de oficina",
          "Elementos de oficina",
          "Elementos de oficina",
          "Elementos de oficina",
          "Elementos de oficina",
          "Elementos de oficina",
          "Elementos de oficina",
          "Elementos de oficina",
          "Elementos de oficina",
          "Elementos de oficina",
          "Elementos de oficina",
          "Elementos de oficina",
          "Elementos de oficina",
          "Elementos de oficina",
          "Elementos de oficina",
          "Elementos de oficina",
          "Elementos de oficina",
          "Elementos de oficina",
          "Muebles",
          "Muebles",
          "Muebles",
          "Muebles",
          "Muebles",
          "Muebles",
          "Muebles",
          "Muebles",
          "Muebles",
          "Muebles",
          "Muebles",
          "Muebles",
          "Muebles",
          "Muebles",
          "Muebles",
          "Muebles",
          "Muebles",
          "Muebles",
          "Muebles",
          "Muebles",
          "Muebles",
          "Muebles",
          "Muebles",
          "Tecnologia",
          "Tecnologia",
          "Tecnologia",
          "Tecnologia",
          "Tecnologia",
          "Tecnologia",
          "Tecnologia",
          "Tecnologia",
          "Tecnologia",
          "Tecnologia",
          "Tecnologia",
          "Tecnologia",
          "Tecnologia",
          "Tecnologia",
          "Tecnologia",
          "Tecnologia",
          "Tecnologia",
          "Tecnologia",
          "Tecnologia",
          "Tecnologia",
          "Tecnologia",
          "Tecnologia",
          "Tecnologia",
          "Tecnologia",
          "Tecnologia",
          "Tecnologia",
          "Tecnologia",
          "Tecnologia",
          "Tecnologia",
          "Tecnologia",
          "Tecnologia",
          "Tecnologia",
          "Tecnologia",
          "Tecnologia",
          "Tecnologia",
          "Tecnologia",
          "Tecnologia",
          "Tecnologia",
          "Tecnologia",
          "Tecnologia",
          "Tecnologia",
          "Tecnologia",
          "Tecnologia",
          "Tecnologia",
          "Tecnologia",
          "Alexiz Pena",
          "Alexiz Pena",
          "Andrea Uribes",
          "Anne Pryre",
          "Anne Pryre",
          "Anne Pryre",
          "Arthur Gainer",
          "Arthur Gainer",
          "Arthur Gainer",
          "Craig Yedeab",
          "Craig Yedeab",
          "Eduardo Perez",
          "Eduardo Perez",
          "Emily Phan",
          "Emily Phan",
          "Emily Phan",
          "Emily Phan",
          "Eugenia escobar",
          "Fautisno Edmundo",
          "Fautisno Edmundo",
          "Helen Wasserman",
          "Helen Wasserman",
          "Helen Wasserman",
          "Helen Wasserman",
          "Helen Wasserman",
          "Helen Wasserman",
          "Helen Wasserman",
          "Jonathan Doherty",
          "Jonathan Doherty",
          "Jonathan Doherty",
          "Jonathan Doherty",
          "Jonathan Doherty",
          "Jonathan Doherty",
          "Jonathan Doherty",
          "Jonathan Doherty",
          "Josias Mendez",
          "Juan Solis",
          "Juan Solis",
          "Juana Beatriz",
          "Juana Beatriz",
          "Julie Creighton",
          "Julie Creighton",
          "Julie Creighton",
          "Julie Creighton",
          "Julie Creighton",
          "Julie Creighton",
          "Julie Creighton",
          "Justin Hirsh",
          "Justin Hirsh",
          "Keith Sawkins",
          "Keith Sawkins",
          "Keith Sawkins",
          "Keith Sawkins",
          "Keith Sawkins",
          "Liz Pelletier",
          "Liz Pelletier",
          "Liz Pelletier",
          "Liz Pelletier",
          "Liz Pelletier",
          "Liz Pelletier",
          "Liz Pelletier",
          "Liz Pelletier",
          "Liz Pelletier",
          "Maria Zettner",
          "Michael Dominguez",
          "Michael Dominguez",
          "Octavia Muoz",
          "Pauline Chand",
          "Pauline Chand",
          "Pauline Chand",
          "Pauline Chand",
          "Ramon Ilesio",
          "Ramon Ilesio",
          "Roque Sanz",
          "Rosa Mendez",
          "Roy Collins",
          "Roy Collins",
          "Roy Collins",
          "Roy Collins",
          "Roy Collins",
          "Roy Collins",
          "Roy Collins",
          "Roy Collins",
          "Ruben Dartf",
          "Ruben Dartf",
          "Ruben Dartf",
          "Sampie Company A",
          "Sampie Company A",
          "Sampie Company A",
          "Sofia albarado",
          "Sonia Valdez",
          "Sonia Valdez",
          "Tamara Dahiern",
          "Tamara Dahiern",
          "Tamara Dahiern",
          "Tamara Dahiern",
          "Valerie Takahito",
          "Valerie Takahito",
          "Valerie Takahito",
          "1/10/2020",
          "1/10/2023",
          "1/10/2024",
          "1/11/2023",
          "10/10/2023",
          "10/10/2024",
          "11/10/2023",
          "11/10/2024",
          "11/11/2023",
          "12/11/2023",
          "12/12/2023",
          "13/10/2023",
          "13/11/2023",
          "14/10/2023",
          "14/12/2023",
          "15/11/2021",
          "16/11/2021",
          "17/11/2021",
          "17/11/2023",
          "18/11/2021",
          "18/11/2023",
          "19/10/2023",
          "19/11/2021",
          "19/11/2023",
          "2/10/2020",
          "2/10/2023",
          "2/10/2024",
          "2/11/2023",
          "2/12/2023",
          "20/11/2021",
          "21/10/2023",
          "21/11/2021",
          "22/10/2023",
          "22/11/2021",
          "23/11/2021",
          "23/11/2023",
          "23/5/2023",
          "23/9/2024",
          "24/11/2021",
          "24/11/2023",
          "24/9/2020",
          "24/9/2024",
          "25/10/2022",
          "25/11/2021",
          "25/9/2020",
          "25/9/2024",
          "26/10/2022",
          "26/9/2020",
          "26/9/2024",
          "27/10/2022",
          "27/5/2023",
          "27/9/2020",
          "27/9/2024",
          "28/10/2022",
          "28/11/2023",
          "28/9/2020",
          "28/9/2024",
          "29/10/2022",
          "29/10/2023",
          "29/11/2023",
          "29/9/2020",
          "29/9/2023",
          "29/9/2024",
          "3/10/2020",
          "3/10/2023",
          "3/10/2024",
          "3/11/2023",
          "3/12/2023",
          "30/10/2022",
          "30/5/2023",
          "30/9/2020",
          "30/9/2023",
          "30/9/2024",
          "31/10/2022",
          "31/10/2023",
          "4/10/2020",
          "4/10/2024",
          "4/11/2023",
          "4/12/2023",
          "5/10/2020",
          "5/10/2024",
          "5/12/2023",
          "6/10/2020",
          "6/10/2024",
          "6/11/2023",
          "7/10/2020",
          "7/10/2023",
          "7/10/2024",
          "7/11/2023",
          "7/12/2023",
          "8/10/2020",
          "8/10/2023",
          "8/10/2024",
          "9/10/2020",
          "9/10/2024",
          "9/12/2023"
         ],
         "marker": {
          "coloraxis": "coloraxis",
          "colors": [
           472036.69,
           519064.34,
           146086.92,
           258514.47,
           13514.77,
           699909.1,
           75551.23,
           217533.94,
           377342.53,
           8380.74,
           173526.38,
           190788.14,
           104129.43000000001,
           37216.74,
           134092.35,
           198889.49999999997,
           880050.05,
           226771.2,
           60853.89,
           150248.67,
           13834.09,
           12648.77,
           542155.32,
           282498.93,
           58222.66,
           12049.11,
           140025.87,
           84143.38,
           15656.4,
           328923.7,
           516056.73,
           71570.12,
           103453.23,
           454610.18,
           287757.31,
           25675.160000000003,
           36272.06,
           354566.03,
           778810.9,
           148042.97,
           63948.14,
           23137.63,
           422253.72,
           91340.89,
           35298.17,
           356648.66,
           522722.13999999996,
           335286.56,
           486486.96,
           68030.1,
           853709.99,
           113079.74,
           224702.97,
           124067.84999999999,
           277921.48,
           208401.2,
           607897.62,
           866860.16,
           683824.51,
           732702.8,
           41773.38,
           17584.53,
           126922.22,
           134535.02,
           407184.37,
           17230.55,
           592000.63,
           527561.28,
           121754.02,
           7151.36,
           427409.83,
           331576.63,
           179519.04,
           127042.55999999998,
           38631.85,
           999484.29,
           407.81,
           318417.62,
           332907.55,
           274094.3,
           176785.27,
           310090.85,
           81576.25,
           152397.23,
           535383.9,
           91909.36999999998,
           580616.06,
           306507.75,
           301835.26,
           106579.73,
           126580.95000000001,
           193107.06,
           22668.46,
           125185.09,
           386734.05,
           463520.80000000005,
           259435.04,
           61374.84,
           32864.04,
           39477.27,
           37216.74,
           208401.2,
           274094.3,
           277921.48,
           607897.62,
           176785.27,
           134092.35,
           198889.49999999997,
           310090.85,
           259435.04,
           880050.05,
           866860.16,
           472036.69,
           519064.34,
           146086.92,
           226771.2,
           60853.89,
           150248.67,
           13834.09,
           81576.25,
           61374.84,
           331576.63,
           12648.77,
           542155.32,
           282498.93,
           152397.23,
           683824.51,
           732702.8,
           58222.66,
           535383.9,
           999484.29,
           12049.11,
           91909.36999999998,
           140025.87,
           258514.47,
           84143.38,
           13514.77,
           699909.1,
           15656.4,
           407.81,
           328923.7,
           516056.73,
           580616.06,
           71570.12,
           41773.38,
           17584.53,
           103453.23,
           126922.22,
           454610.18,
           32864.04,
           287757.31,
           25675.160000000003,
           134535.02,
           36272.06,
           75551.23,
           179519.04,
           354566.03,
           306507.75,
           301835.26,
           39477.27,
           778810.9,
           148042.97,
           106579.73,
           63948.14,
           23137.63,
           217533.94,
           422253.72,
           91340.89,
           126580.95000000001,
           377342.53,
           35298.17,
           318417.62,
           407184.37,
           356648.66,
           17230.55,
           193107.06,
           8380.74,
           522722.13999999996,
           592000.63,
           127042.55999999998,
           173526.38,
           190788.14,
           335286.56,
           486486.96,
           68030.1,
           22668.46,
           527561.28,
           853709.99,
           38631.85,
           113079.74,
           121754.02,
           332907.55,
           224702.97,
           7151.36,
           427409.83,
           104129.43000000001,
           125185.09,
           386734.05,
           463520.80000000005,
           124067.84999999999,
           15656.4,
           38631.85,
           32864.04,
           407.81,
           12049.11,
           68030.1,
           91340.89,
           13834.09,
           71570.12,
           81576.25,
           37216.74,
           113079.74,
           104129.43000000001,
           22668.46,
           146086.92,
           91909.36999999998,
           125185.09,
           41773.38,
           127042.55999999998,
           193107.06,
           148042.97,
           106579.73,
           61374.84,
           140025.87,
           176785.27,
           208401.2,
           17584.53,
           134092.35,
           198889.49999999997,
           282498.93,
           152397.23,
           75551.23,
           258514.47,
           103453.23,
           274094.3,
           121754.02,
           63948.14,
           287757.31,
           179519.04,
           332907.55,
           25675.160000000003,
           134535.02,
           173526.38,
           224702.97,
           23137.63,
           8380.74,
           331576.63,
           386734.05,
           126580.95000000001,
           12648.77,
           126922.22,
           328923.7,
           7151.36,
           354566.03,
           306507.75,
           190788.14,
           36272.06,
           84143.38,
           377342.53,
           472036.69,
           527561.28,
           427409.83,
           454610.18,
           516056.73,
           217533.94,
           310090.85,
           259435.04,
           463520.80000000005,
           422253.72,
           580616.06,
           35298.17,
           124067.84999999999,
           522722.13999999996,
           226771.2,
           13514.77,
           699909.1,
           683824.51,
           542155.32,
           732702.8,
           277921.48,
           335286.56,
           318417.62,
           880050.05,
           407184.37,
           301835.26,
           607897.62,
           592000.63,
           58222.66,
           535383.9,
           866860.16,
           39477.27,
           519064.34,
           356648.66,
           853709.99,
           486486.96,
           60853.89,
           778810.9,
           17230.55,
           150248.67,
           999484.29,
           104129.43000000001,
           124067.84999999999,
           13834.09,
           150248.67,
           61374.84,
           331576.63,
           37216.74,
           71570.12,
           516056.73,
           277921.48,
           607897.62,
           146086.92,
           60853.89,
           454610.18,
           208401.2,
           12648.77,
           580616.06,
           463520.80000000005,
           103453.23,
           274094.3,
           15656.4,
           125185.09,
           41773.38,
           81576.25,
           386734.05,
           126922.22,
           407.81,
           328923.7,
           226771.2,
           542155.32,
           17584.53,
           190788.14,
           853709.99,
           683824.51,
           527561.28,
           22668.46,
           173526.38,
           58222.66,
           282498.93,
           36272.06,
           287757.31,
           25675.160000000003,
           999484.29,
           335286.56,
           134535.02,
           535383.9,
           486486.96,
           68030.1,
           152397.23,
           32864.04,
           519064.34,
           127042.55999999998,
           472036.69,
           732702.8,
           259435.04,
           422253.72,
           522722.13999999996,
           62218.02318786589,
           866860.16,
           121754.02,
           7151.36,
           217533.94,
           354566.03,
           23137.63,
           8380.74,
           140025.87,
           193107.06,
           356648.66,
           84143.38,
           75551.23,
           310090.85,
           176785.27,
           63948.14,
           91909.36999999998,
           592000.63,
           39477.27,
           113079.74,
           377342.53,
           258514.47,
           318417.62,
           106579.73,
           13514.77,
           699909.1,
           306507.75,
           126580.95000000001,
           134092.35,
           778810.9,
           880050.05,
           224702.97,
           38631.85,
           17230.55,
           407184.37,
           179519.04,
           301835.26,
           12049.11,
           198889.49999999997,
           148042.97,
           91340.89,
           332907.55,
           190788.14,
           853709.99,
           259435.04,
           683824.51,
           104129.43000000001,
           124067.84999999999,
           422253.72,
           13834.09,
           522722.13999999996,
           527561.28,
           62218.02318786589,
           866860.16,
           150248.67,
           61374.84,
           331576.63,
           121754.02,
           7151.36,
           37216.74,
           22668.46,
           173526.38,
           217533.94,
           354566.03,
           23137.63,
           8380.74,
           58222.66,
           71570.12,
           140025.87,
           516056.73,
           193107.06,
           282498.93,
           277921.48,
           356648.66,
           36272.06,
           84143.38,
           75551.23,
           607897.62,
           146086.92,
           310090.85,
           176785.27,
           60853.89,
           454610.18,
           208401.2,
           63948.14,
           287757.31,
           91909.36999999998,
           592000.63,
           39477.27,
           113079.74,
           377342.53,
           12648.77,
           580616.06,
           463520.80000000005,
           258514.47,
           318417.62,
           25675.160000000003,
           106579.73,
           13514.77,
           699909.1,
           999484.29,
           103453.23,
           274094.3,
           306507.75,
           15656.4,
           125185.09,
           126580.95000000001,
           335286.56,
           134092.35,
           134535.02,
           41773.38,
           535383.9,
           778810.9,
           486486.96,
           68030.1,
           880050.05,
           224702.97,
           38631.85,
           81576.25,
           152397.23,
           386734.05,
           32864.04,
           17230.55,
           407184.37,
           179519.04,
           126922.22,
           301835.26,
           407.81,
           519064.34,
           328923.7,
           12049.11,
           127042.55999999998,
           226771.2,
           198889.49999999997,
           148042.97,
           542155.32,
           91340.89,
           472036.69,
           332907.55,
           17584.53,
           732702.8,
           866860.16,
           127042.55999999998,
           25675.160000000003,
           113079.74,
           217533.94,
           354566.03,
           23137.63,
           422253.72,
           106579.73,
           13514.77,
           148042.97,
           8380.74,
           699909.1,
           516056.73,
           332907.55,
           226771.2,
           146086.92,
           13834.09,
           486486.96,
           61374.84,
           22668.46,
           193107.06,
           331576.63,
           125185.09,
           198889.49999999997,
           527561.28,
           134535.02,
           377342.53,
           38631.85,
           12648.77,
           68030.1,
           81576.25,
           190788.14,
           542155.32,
           683824.51,
           173526.38,
           104129.43000000001,
           41773.38,
           58222.66,
           126580.95000000001,
           37216.74,
           17584.53,
           152397.23,
           282498.93,
           277921.48,
           71570.12,
           999484.29,
           607897.62,
           454610.18,
           535383.9,
           522722.13999999996,
           208401.2,
           103453.23,
           732702.8,
           356648.66,
           274094.3,
           126922.22,
           140025.87,
           63948.14,
           386734.05,
           259435.04,
           121754.02,
           36272.06,
           310090.85,
           853709.99,
           32864.04,
           580616.06,
           17230.55,
           84143.38,
           191375.21834118644,
           176785.27,
           7151.36,
           287757.31,
           91909.36999999998,
           592000.63,
           134092.35,
           301835.26,
           463520.80000000005,
           407184.37,
           880050.05,
           75551.23,
           407.81,
           519064.34,
           39477.27,
           258514.47,
           472036.69,
           124067.84999999999,
           306507.75,
           15656.4,
           328923.7,
           60853.89,
           318417.62,
           778810.9,
           150248.67,
           179519.04,
           12049.11
          ]
         },
         "name": "",
         "parents": [
          "7/10/2020/Tamara Dahiern/Muebles/35/Cama",
          "6/10/2020/Sampie Company A/Muebles/65/Cama",
          "16/11/2021/Juan Solis/Elementos de oficina/12/Click",
          "6/11/2023/Keith Sawkins/Tecnologia/21/Fuente",
          "12/11/2023/Liz Pelletier/Tecnologia/50/Fuente",
          "13/11/2023/Liz Pelletier/Tecnologia/50/Fuente",
          "5/10/2024/Jonathan Doherty/Tecnologia/21/Monitor",
          "10/10/2023/Helen Wasserman/Tecnologia/42/Mouse",
          "2/11/2023/Justin Hirsh/Tecnologia/34/Parlante",
          "13/10/2023/Helen Wasserman/Tecnologia/28/Router",
          "23/11/2023/Fautisno Edmundo/Muebles/27/Silla",
          "22/10/2023/Alexiz Pena/Muebles/31/Silla",
          "23/5/2023/Anne Pryre/Elementos de oficina/11/Toner",
          "24/9/2020/Eugenia escobar/Elementos de oficina/10/Anotador",
          "4/10/2020/Octavia Muoz/Tecnologia/18/Cable de red",
          "2/10/2020/Sonia Valdez/Tecnologia/19/Cable de red",
          "5/10/2020/Roque Sanz/Tecnologia/59/Cable de red",
          "15/11/2021/Sonia Valdez/Elementos de oficina/50/Click",
          "8/10/2020/Juana Beatriz/Elementos de oficina/67/Click",
          "9/10/2020/Eduardo Perez/Elementos de oficina/69/Click",
          "17/11/2021/Arthur Gainer/Elementos de oficina/8/Cuaderno",
          "20/11/2021/Keith Sawkins/Elementos de oficina/30/Cuaderno",
          "22/11/2021/Tamara Dahiern/Elementos de oficina/53/Cuaderno",
          "25/11/2021/Jonathan Doherty/Muebles/20/Escritorio",
          "24/11/2021/Helen Wasserman/Muebles/63/Escritorio",
          "9/12/2023/Sampie Company A/Tecnologia/6/Fuente",
          "29/10/2022/Helen Wasserman/Tecnologia/16/Fuente",
          "30/10/2022/Jonathan Doherty/Tecnologia/34/Fuente",
          "7/11/2023/Liz Pelletier/Elementos de oficina/2/Hojas A4",
          "7/12/2023/Sampie Company A/Elementos de oficina/30/Hojas A4",
          "14/10/2023/Jonathan Doherty/Elementos de oficina/41/Hojas A4",
          "25/9/2024/Helen Wasserman/Elementos de oficina/9/Lapicera",
          "27/9/2024/Liz Pelletier/Elementos de oficina/22/Lapicera",
          "26/9/2024/Julie Creighton/Elementos de oficina/40/Lapicera",
          "30/9/2024/Julie Creighton/Muebles/24/Mesa",
          "1/10/2024/Liz Pelletier/Muebles/26/Mesa",
          "29/9/2024/Jonathan Doherty/Muebles/32/Mesa",
          "10/10/2024/Helen Wasserman/Tecnologia/30/Monitor",
          "8/10/2024/Pauline Chand/Tecnologia/68/Monitor",
          "12/12/2023/Tamara Dahiern/Tecnologia/14/Mouse",
          "29/10/2023/Julie Creighton/Tecnologia/23/Mouse",
          "11/10/2023/Helen Wasserman/Tecnologia/28/Mouse",
          "11/10/2024/Arthur Gainer/Tecnologia/46/Mouse",
          "30/5/2023/Tamara Dahiern/Tecnologia/7/Parlante",
          "30/5/2023/Craig Yedeab/Tecnologia/48/Parlante",
          "28/11/2023/Jonathan Doherty/Tecnologia/65/Parlante",
          "27/5/2023/Arthur Gainer/Tecnologia/49/Router",
          "30/5/2023/Michael Dominguez/Muebles/55/Silla",
          "17/11/2023/Ramon Ilesio/Muebles/66/Silla",
          "21/10/2023/Ramon Ilesio/Muebles/7/Sofa",
          "3/10/2023/Alexiz Pena/Muebles/66/Sofa",
          "1/11/2023/Justin Hirsh/Tecnologia/10/Teclado",
          "30/5/2023/Rosa Mendez/Tecnologia/27/Teclado",
          "7/10/2023/Anne Pryre/Elementos de oficina/49/Toner",
          "25/9/2020/Jonathan Doherty/Elementos de oficina/55/Anotador",
          "27/9/2020/Julie Creighton/Elementos de oficina/17/Anotador",
          "26/9/2020/Josias Mendez/Elementos de oficina/62/Anotador",
          "1/10/2020/Eduardo Perez/Tecnologia/63/Cable de red",
          "23/11/2021/Anne Pryre/Muebles/51/Escritorio",
          "28/10/2022/Valerie Takahito/Muebles/54/Escritorio",
          "23/9/2024/Pauline Chand/Elementos de oficina/14/Lapicera",
          "24/9/2024/Valerie Takahito/Elementos de oficina/17/Lapicera",
          "28/9/2024/Ruben Dartf/Elementos de oficina/30/Lapicera",
          "2/10/2024/Pauline Chand/Muebles/26/Mesa",
          "4/12/2023/Roy Collins/Tecnologia/60/Parlante",
          "3/12/2023/Roy Collins/Tecnologia/68/Parlante",
          "31/10/2023/Julie Creighton/Tecnologia/62/Router",
          "2/10/2023/Craig Yedeab/Muebles/36/Sofa",
          "29/9/2023/Emily Phan/Tecnologia/23/Teclado",
          "30/9/2023/Emily Phan/Tecnologia/30/Teclado",
          "30/5/2023/Craig Yedeab/Tecnologia/37/Teclado",
          "19/11/2021/Emily Phan/Elementos de oficina/29/Cuaderno",
          "9/10/2024/Roy Collins/Tecnologia/24/Monitor",
          "1/10/2023/Sofia albarado/Muebles/14/Silla",
          "2/12/2023/Roy Collins/Tecnologia/3/Teclado",
          "26/10/2022/Liz Pelletier/Muebles/70/Escritorio",
          "5/12/2023/Ruben Dartf/Elementos de oficina/6/Hojas A4",
          "8/10/2023/Keith Sawkins/Tecnologia/56/Parlante",
          "14/12/2023/Valerie Takahito/Tecnologia/25/Teclado",
          "28/9/2020/Liz Pelletier/Elementos de oficina/23/Anotador",
          "30/9/2020/Juana Beatriz/Tecnologia/16/Cable de red",
          "3/10/2020/Juan Solis/Tecnologia/42/Cable de red",
          "21/11/2021/Roy Collins/Elementos de oficina/9/Cuaderno",
          "25/10/2022/Roy Collins/Muebles/20/Escritorio",
          "27/10/2022/Pauline Chand/Muebles/63/Escritorio",
          "31/10/2022/Julie Creighton/Tecnologia/12/Fuente",
          "3/11/2023/Keith Sawkins/Elementos de oficina/48/Hojas A4",
          "7/10/2024/Liz Pelletier/Tecnologia/30/Monitor",
          "4/10/2024/Ruben Dartf/Tecnologia/61/Monitor",
          "11/11/2023/Liz Pelletier/Tecnologia/15/Mouse",
          "24/11/2023/Michael Dominguez/Tecnologia/29/Parlante",
          "19/10/2023/Jonathan Doherty/Tecnologia/14/Router",
          "18/11/2023/Fautisno Edmundo/Muebles/11/Sofa",
          "19/11/2023/Maria Zettner/Elementos de oficina/14/Toner",
          "29/11/2023/Roy Collins/Elementos de oficina/29/Toner",
          "4/11/2023/Keith Sawkins/Elementos de oficina/46/Toner",
          "29/9/2020/Andrea Uribes/Tecnologia/44/Cable de red",
          "18/11/2021/Emily Phan/Elementos de oficina/16/Cuaderno",
          "3/10/2024/Roy Collins/Muebles/4/Mesa",
          "6/10/2024/Julie Creighton/Tecnologia/64/Monitor",
          "24/9/2020/Eugenia escobar/Elementos de oficina/10",
          "27/9/2020/Julie Creighton/Elementos de oficina/17",
          "28/9/2020/Liz Pelletier/Elementos de oficina/23",
          "25/9/2020/Jonathan Doherty/Elementos de oficina/55",
          "26/9/2020/Josias Mendez/Elementos de oficina/62",
          "30/9/2020/Juana Beatriz/Tecnologia/16",
          "4/10/2020/Octavia Muoz/Tecnologia/18",
          "2/10/2020/Sonia Valdez/Tecnologia/19",
          "3/10/2020/Juan Solis/Tecnologia/42",
          "29/9/2020/Andrea Uribes/Tecnologia/44",
          "5/10/2020/Roque Sanz/Tecnologia/59",
          "1/10/2020/Eduardo Perez/Tecnologia/63",
          "7/10/2020/Tamara Dahiern/Muebles/35",
          "6/10/2020/Sampie Company A/Muebles/65",
          "16/11/2021/Juan Solis/Elementos de oficina/12",
          "15/11/2021/Sonia Valdez/Elementos de oficina/50",
          "8/10/2020/Juana Beatriz/Elementos de oficina/67",
          "9/10/2020/Eduardo Perez/Elementos de oficina/69",
          "17/11/2021/Arthur Gainer/Elementos de oficina/8",
          "21/11/2021/Roy Collins/Elementos de oficina/9",
          "18/11/2021/Emily Phan/Elementos de oficina/16",
          "19/11/2021/Emily Phan/Elementos de oficina/29",
          "20/11/2021/Keith Sawkins/Elementos de oficina/30",
          "22/11/2021/Tamara Dahiern/Elementos de oficina/53",
          "25/11/2021/Jonathan Doherty/Muebles/20",
          "25/10/2022/Roy Collins/Muebles/20",
          "23/11/2021/Anne Pryre/Muebles/51",
          "28/10/2022/Valerie Takahito/Muebles/54",
          "24/11/2021/Helen Wasserman/Muebles/63",
          "27/10/2022/Pauline Chand/Muebles/63",
          "26/10/2022/Liz Pelletier/Muebles/70",
          "9/12/2023/Sampie Company A/Tecnologia/6",
          "31/10/2022/Julie Creighton/Tecnologia/12",
          "29/10/2022/Helen Wasserman/Tecnologia/16",
          "6/11/2023/Keith Sawkins/Tecnologia/21",
          "30/10/2022/Jonathan Doherty/Tecnologia/34",
          "12/11/2023/Liz Pelletier/Tecnologia/50",
          "13/11/2023/Liz Pelletier/Tecnologia/50",
          "7/11/2023/Liz Pelletier/Elementos de oficina/2",
          "5/12/2023/Ruben Dartf/Elementos de oficina/6",
          "7/12/2023/Sampie Company A/Elementos de oficina/30",
          "14/10/2023/Jonathan Doherty/Elementos de oficina/41",
          "3/11/2023/Keith Sawkins/Elementos de oficina/48",
          "25/9/2024/Helen Wasserman/Elementos de oficina/9",
          "23/9/2024/Pauline Chand/Elementos de oficina/14",
          "24/9/2024/Valerie Takahito/Elementos de oficina/17",
          "27/9/2024/Liz Pelletier/Elementos de oficina/22",
          "28/9/2024/Ruben Dartf/Elementos de oficina/30",
          "26/9/2024/Julie Creighton/Elementos de oficina/40",
          "3/10/2024/Roy Collins/Muebles/4",
          "30/9/2024/Julie Creighton/Muebles/24",
          "1/10/2024/Liz Pelletier/Muebles/26",
          "2/10/2024/Pauline Chand/Muebles/26",
          "29/9/2024/Jonathan Doherty/Muebles/32",
          "5/10/2024/Jonathan Doherty/Tecnologia/21",
          "9/10/2024/Roy Collins/Tecnologia/24",
          "10/10/2024/Helen Wasserman/Tecnologia/30",
          "7/10/2024/Liz Pelletier/Tecnologia/30",
          "4/10/2024/Ruben Dartf/Tecnologia/61",
          "6/10/2024/Julie Creighton/Tecnologia/64",
          "8/10/2024/Pauline Chand/Tecnologia/68",
          "12/12/2023/Tamara Dahiern/Tecnologia/14",
          "11/11/2023/Liz Pelletier/Tecnologia/15",
          "29/10/2023/Julie Creighton/Tecnologia/23",
          "11/10/2023/Helen Wasserman/Tecnologia/28",
          "10/10/2023/Helen Wasserman/Tecnologia/42",
          "11/10/2024/Arthur Gainer/Tecnologia/46",
          "30/5/2023/Tamara Dahiern/Tecnologia/7",
          "24/11/2023/Michael Dominguez/Tecnologia/29",
          "2/11/2023/Justin Hirsh/Tecnologia/34",
          "30/5/2023/Craig Yedeab/Tecnologia/48",
          "8/10/2023/Keith Sawkins/Tecnologia/56",
          "4/12/2023/Roy Collins/Tecnologia/60",
          "28/11/2023/Jonathan Doherty/Tecnologia/65",
          "3/12/2023/Roy Collins/Tecnologia/68",
          "19/10/2023/Jonathan Doherty/Tecnologia/14",
          "13/10/2023/Helen Wasserman/Tecnologia/28",
          "27/5/2023/Arthur Gainer/Tecnologia/49",
          "31/10/2023/Julie Creighton/Tecnologia/62",
          "1/10/2023/Sofia albarado/Muebles/14",
          "23/11/2023/Fautisno Edmundo/Muebles/27",
          "22/10/2023/Alexiz Pena/Muebles/31",
          "30/5/2023/Michael Dominguez/Muebles/55",
          "17/11/2023/Ramon Ilesio/Muebles/66",
          "21/10/2023/Ramon Ilesio/Muebles/7",
          "18/11/2023/Fautisno Edmundo/Muebles/11",
          "2/10/2023/Craig Yedeab/Muebles/36",
          "3/10/2023/Alexiz Pena/Muebles/66",
          "2/12/2023/Roy Collins/Tecnologia/3",
          "1/11/2023/Justin Hirsh/Tecnologia/10",
          "29/9/2023/Emily Phan/Tecnologia/23",
          "14/12/2023/Valerie Takahito/Tecnologia/25",
          "30/5/2023/Rosa Mendez/Tecnologia/27",
          "30/9/2023/Emily Phan/Tecnologia/30",
          "30/5/2023/Craig Yedeab/Tecnologia/37",
          "23/5/2023/Anne Pryre/Elementos de oficina/11",
          "19/11/2023/Maria Zettner/Elementos de oficina/14",
          "29/11/2023/Roy Collins/Elementos de oficina/29",
          "4/11/2023/Keith Sawkins/Elementos de oficina/46",
          "7/10/2023/Anne Pryre/Elementos de oficina/49",
          "7/11/2023/Liz Pelletier/Elementos de oficina",
          "2/12/2023/Roy Collins/Tecnologia",
          "3/10/2024/Roy Collins/Muebles",
          "5/12/2023/Ruben Dartf/Elementos de oficina",
          "9/12/2023/Sampie Company A/Tecnologia",
          "21/10/2023/Ramon Ilesio/Muebles",
          "30/5/2023/Tamara Dahiern/Tecnologia",
          "17/11/2021/Arthur Gainer/Elementos de oficina",
          "25/9/2024/Helen Wasserman/Elementos de oficina",
          "21/11/2021/Roy Collins/Elementos de oficina",
          "24/9/2020/Eugenia escobar/Elementos de oficina",
          "1/11/2023/Justin Hirsh/Tecnologia",
          "23/5/2023/Anne Pryre/Elementos de oficina",
          "18/11/2023/Fautisno Edmundo/Muebles",
          "16/11/2021/Juan Solis/Elementos de oficina",
          "31/10/2022/Julie Creighton/Tecnologia",
          "19/11/2023/Maria Zettner/Elementos de oficina",
          "23/9/2024/Pauline Chand/Elementos de oficina",
          "1/10/2023/Sofia albarado/Muebles",
          "19/10/2023/Jonathan Doherty/Tecnologia",
          "12/12/2023/Tamara Dahiern/Tecnologia",
          "11/11/2023/Liz Pelletier/Tecnologia",
          "18/11/2021/Emily Phan/Elementos de oficina",
          "29/10/2022/Helen Wasserman/Tecnologia",
          "30/9/2020/Juana Beatriz/Tecnologia",
          "27/9/2020/Julie Creighton/Elementos de oficina",
          "24/9/2024/Valerie Takahito/Elementos de oficina",
          "4/10/2020/Octavia Muoz/Tecnologia",
          "2/10/2020/Sonia Valdez/Tecnologia",
          "25/11/2021/Jonathan Doherty/Muebles",
          "25/10/2022/Roy Collins/Muebles",
          "5/10/2024/Jonathan Doherty/Tecnologia",
          "6/11/2023/Keith Sawkins/Tecnologia",
          "27/9/2024/Liz Pelletier/Elementos de oficina",
          "28/9/2020/Liz Pelletier/Elementos de oficina",
          "29/9/2023/Emily Phan/Tecnologia",
          "29/10/2023/Julie Creighton/Tecnologia",
          "30/9/2024/Julie Creighton/Muebles",
          "9/10/2024/Roy Collins/Tecnologia",
          "14/12/2023/Valerie Takahito/Tecnologia",
          "1/10/2024/Liz Pelletier/Muebles",
          "2/10/2024/Pauline Chand/Muebles",
          "23/11/2023/Fautisno Edmundo/Muebles",
          "30/5/2023/Rosa Mendez/Tecnologia",
          "11/10/2023/Helen Wasserman/Tecnologia",
          "13/10/2023/Helen Wasserman/Tecnologia",
          "19/11/2021/Emily Phan/Elementos de oficina",
          "29/11/2023/Roy Collins/Elementos de oficina",
          "24/11/2023/Michael Dominguez/Tecnologia",
          "20/11/2021/Keith Sawkins/Elementos de oficina",
          "28/9/2024/Ruben Dartf/Elementos de oficina",
          "7/12/2023/Sampie Company A/Elementos de oficina",
          "30/9/2023/Emily Phan/Tecnologia",
          "10/10/2024/Helen Wasserman/Tecnologia",
          "7/10/2024/Liz Pelletier/Tecnologia",
          "22/10/2023/Alexiz Pena/Muebles",
          "29/9/2024/Jonathan Doherty/Muebles",
          "30/10/2022/Jonathan Doherty/Tecnologia",
          "2/11/2023/Justin Hirsh/Tecnologia",
          "7/10/2020/Tamara Dahiern/Muebles",
          "2/10/2023/Craig Yedeab/Muebles",
          "30/5/2023/Craig Yedeab/Tecnologia",
          "26/9/2024/Julie Creighton/Elementos de oficina",
          "14/10/2023/Jonathan Doherty/Elementos de oficina",
          "10/10/2023/Helen Wasserman/Tecnologia",
          "3/10/2020/Juan Solis/Tecnologia",
          "29/9/2020/Andrea Uribes/Tecnologia",
          "4/11/2023/Keith Sawkins/Elementos de oficina",
          "11/10/2024/Arthur Gainer/Tecnologia",
          "3/11/2023/Keith Sawkins/Elementos de oficina",
          "30/5/2023/Craig Yedeab/Tecnologia",
          "7/10/2023/Anne Pryre/Elementos de oficina",
          "27/5/2023/Arthur Gainer/Tecnologia",
          "15/11/2021/Sonia Valdez/Elementos de oficina",
          "12/11/2023/Liz Pelletier/Tecnologia",
          "13/11/2023/Liz Pelletier/Tecnologia",
          "23/11/2021/Anne Pryre/Muebles",
          "22/11/2021/Tamara Dahiern/Elementos de oficina",
          "28/10/2022/Valerie Takahito/Muebles",
          "25/9/2020/Jonathan Doherty/Elementos de oficina",
          "30/5/2023/Michael Dominguez/Muebles",
          "8/10/2023/Keith Sawkins/Tecnologia",
          "5/10/2020/Roque Sanz/Tecnologia",
          "4/12/2023/Roy Collins/Tecnologia",
          "4/10/2024/Ruben Dartf/Tecnologia",
          "26/9/2020/Josias Mendez/Elementos de oficina",
          "31/10/2023/Julie Creighton/Tecnologia",
          "24/11/2021/Helen Wasserman/Muebles",
          "27/10/2022/Pauline Chand/Muebles",
          "1/10/2020/Eduardo Perez/Tecnologia",
          "6/10/2024/Julie Creighton/Tecnologia",
          "6/10/2020/Sampie Company A/Muebles",
          "28/11/2023/Jonathan Doherty/Tecnologia",
          "3/10/2023/Alexiz Pena/Muebles",
          "17/11/2023/Ramon Ilesio/Muebles",
          "8/10/2020/Juana Beatriz/Elementos de oficina",
          "8/10/2024/Pauline Chand/Tecnologia",
          "3/12/2023/Roy Collins/Tecnologia",
          "9/10/2020/Eduardo Perez/Elementos de oficina",
          "26/10/2022/Liz Pelletier/Muebles",
          "23/5/2023/Anne Pryre",
          "7/10/2023/Anne Pryre",
          "17/11/2021/Arthur Gainer",
          "9/10/2020/Eduardo Perez",
          "18/11/2021/Emily Phan",
          "19/11/2021/Emily Phan",
          "24/9/2020/Eugenia escobar",
          "25/9/2024/Helen Wasserman",
          "14/10/2023/Jonathan Doherty",
          "25/9/2020/Jonathan Doherty",
          "26/9/2020/Josias Mendez",
          "16/11/2021/Juan Solis",
          "8/10/2020/Juana Beatriz",
          "26/9/2024/Julie Creighton",
          "27/9/2020/Julie Creighton",
          "20/11/2021/Keith Sawkins",
          "3/11/2023/Keith Sawkins",
          "4/11/2023/Keith Sawkins",
          "27/9/2024/Liz Pelletier",
          "28/9/2020/Liz Pelletier",
          "7/11/2023/Liz Pelletier",
          "19/11/2023/Maria Zettner",
          "23/9/2024/Pauline Chand",
          "21/11/2021/Roy Collins",
          "29/11/2023/Roy Collins",
          "28/9/2024/Ruben Dartf",
          "5/12/2023/Ruben Dartf",
          "7/12/2023/Sampie Company A",
          "15/11/2021/Sonia Valdez",
          "22/11/2021/Tamara Dahiern",
          "24/9/2024/Valerie Takahito",
          "22/10/2023/Alexiz Pena",
          "3/10/2023/Alexiz Pena",
          "23/11/2021/Anne Pryre",
          "2/10/2023/Craig Yedeab",
          "18/11/2023/Fautisno Edmundo",
          "23/11/2023/Fautisno Edmundo",
          "24/11/2021/Helen Wasserman",
          "25/11/2021/Jonathan Doherty",
          "29/9/2024/Jonathan Doherty",
          "30/9/2024/Julie Creighton",
          "1/10/2024/Liz Pelletier",
          "26/10/2022/Liz Pelletier",
          "30/5/2023/Michael Dominguez",
          "2/10/2024/Pauline Chand",
          "27/10/2022/Pauline Chand",
          "17/11/2023/Ramon Ilesio",
          "21/10/2023/Ramon Ilesio",
          "25/10/2022/Roy Collins",
          "3/10/2024/Roy Collins",
          "6/10/2020/Sampie Company A",
          "1/10/2023/Sofia albarado",
          "7/10/2020/Tamara Dahiern",
          "28/10/2022/Valerie Takahito",
          "29/9/2020/Andrea Uribes",
          "11/10/2024/Arthur Gainer",
          "27/5/2023/Arthur Gainer",
          "30/5/2023/Craig Yedeab",
          "1/10/2020/Eduardo Perez",
          "29/9/2023/Emily Phan",
          "30/9/2023/Emily Phan",
          "10/10/2023/Helen Wasserman",
          "10/10/2024/Helen Wasserman",
          "11/10/2023/Helen Wasserman",
          "13/10/2023/Helen Wasserman",
          "29/10/2022/Helen Wasserman",
          "19/10/2023/Jonathan Doherty",
          "28/11/2023/Jonathan Doherty",
          "30/10/2022/Jonathan Doherty",
          "5/10/2024/Jonathan Doherty",
          "3/10/2020/Juan Solis",
          "30/9/2020/Juana Beatriz",
          "29/10/2023/Julie Creighton",
          "31/10/2022/Julie Creighton",
          "31/10/2023/Julie Creighton",
          "6/10/2024/Julie Creighton",
          "1/11/2023/Justin Hirsh",
          "2/11/2023/Justin Hirsh",
          "6/11/2023/Keith Sawkins",
          "8/10/2023/Keith Sawkins",
          "11/11/2023/Liz Pelletier",
          "12/11/2023/Liz Pelletier",
          "13/11/2023/Liz Pelletier",
          "7/10/2024/Liz Pelletier",
          "24/11/2023/Michael Dominguez",
          "4/10/2020/Octavia Muoz",
          "8/10/2024/Pauline Chand",
          "5/10/2020/Roque Sanz",
          "30/5/2023/Rosa Mendez",
          "2/12/2023/Roy Collins",
          "3/12/2023/Roy Collins",
          "4/12/2023/Roy Collins",
          "9/10/2024/Roy Collins",
          "4/10/2024/Ruben Dartf",
          "9/12/2023/Sampie Company A",
          "2/10/2020/Sonia Valdez",
          "12/12/2023/Tamara Dahiern",
          "30/5/2023/Tamara Dahiern",
          "14/12/2023/Valerie Takahito",
          "22/10/2023",
          "3/10/2023",
          "29/9/2020",
          "23/11/2021",
          "23/5/2023",
          "7/10/2023",
          "11/10/2024",
          "17/11/2021",
          "27/5/2023",
          "2/10/2023",
          "30/5/2023",
          "1/10/2020",
          "9/10/2020",
          "18/11/2021",
          "19/11/2021",
          "29/9/2023",
          "30/9/2023",
          "24/9/2020",
          "18/11/2023",
          "23/11/2023",
          "10/10/2023",
          "10/10/2024",
          "11/10/2023",
          "13/10/2023",
          "24/11/2021",
          "25/9/2024",
          "29/10/2022",
          "14/10/2023",
          "19/10/2023",
          "25/11/2021",
          "25/9/2020",
          "28/11/2023",
          "29/9/2024",
          "30/10/2022",
          "5/10/2024",
          "26/9/2020",
          "16/11/2021",
          "3/10/2020",
          "30/9/2020",
          "8/10/2020",
          "26/9/2024",
          "27/9/2020",
          "29/10/2023",
          "30/9/2024",
          "31/10/2022",
          "31/10/2023",
          "6/10/2024",
          "1/11/2023",
          "2/11/2023",
          "20/11/2021",
          "3/11/2023",
          "4/11/2023",
          "6/11/2023",
          "8/10/2023",
          "1/10/2024",
          "11/11/2023",
          "12/11/2023",
          "13/11/2023",
          "26/10/2022",
          "27/9/2024",
          "28/9/2020",
          "7/10/2024",
          "7/11/2023",
          "19/11/2023",
          "24/11/2023",
          "30/5/2023",
          "4/10/2020",
          "2/10/2024",
          "23/9/2024",
          "27/10/2022",
          "8/10/2024",
          "17/11/2023",
          "21/10/2023",
          "5/10/2020",
          "30/5/2023",
          "2/12/2023",
          "21/11/2021",
          "25/10/2022",
          "29/11/2023",
          "3/10/2024",
          "3/12/2023",
          "4/12/2023",
          "9/10/2024",
          "28/9/2024",
          "4/10/2024",
          "5/12/2023",
          "6/10/2020",
          "7/12/2023",
          "9/12/2023",
          "1/10/2023",
          "15/11/2021",
          "2/10/2020",
          "12/12/2023",
          "22/11/2021",
          "30/5/2023",
          "7/10/2020",
          "14/12/2023",
          "24/9/2024",
          "28/10/2022",
          "",
          "",
          "",
          "",
          "",
          "",
          "",
          "",
          "",
          "",
          "",
          "",
          "",
          "",
          "",
          "",
          "",
          "",
          "",
          "",
          "",
          "",
          "",
          "",
          "",
          "",
          "",
          "",
          "",
          "",
          "",
          "",
          "",
          "",
          "",
          "",
          "",
          "",
          "",
          "",
          "",
          "",
          "",
          "",
          "",
          "",
          "",
          "",
          "",
          "",
          "",
          "",
          "",
          "",
          "",
          "",
          "",
          "",
          "",
          "",
          "",
          "",
          "",
          "",
          "",
          "",
          "",
          "",
          "",
          "",
          "",
          "",
          "",
          "",
          "",
          "",
          "",
          "",
          "",
          "",
          "",
          "",
          "",
          "",
          "",
          "",
          "",
          "",
          "",
          "",
          "",
          "",
          "",
          "",
          "",
          ""
         ],
         "type": "treemap",
         "values": [
          50.3,
          89.3,
          3.92,
          7.98,
          5.99,
          8.99,
          54.74,
          3.92,
          0.7,
          1.99,
          9.45,
          50.3,
          54.74,
          5.03,
          5.81,
          89.3,
          2.56,
          0.5,
          2.58,
          8.19,
          54.74,
          6.27,
          9.45,
          35,
          4.62,
          9.03,
          8.99,
          5.03,
          2.56,
          2.25,
          0.7,
          2.25,
          8.99,
          8.19,
          89.3,
          5.81,
          1.99,
          8.99,
          13.99,
          8.99,
          50.3,
          0.7,
          4.2,
          3.92,
          35,
          5.99,
          2.25,
          35,
          7.98,
          9.03,
          9.45,
          35,
          6.27,
          8.99,
          8.99,
          8.99,
          6.27,
          0.7,
          4.2,
          1.99,
          1.99,
          0.7,
          2.58,
          5.99,
          89.3,
          5.81,
          5.81,
          8.99,
          13.99,
          9.03,
          2.58,
          2.25,
          35,
          0.7,
          0.5,
          0.5,
          35,
          0.7,
          5.03,
          2.56,
          4.2,
          8.99,
          8.99,
          3.92,
          2.56,
          13.99,
          3.92,
          35,
          4.62,
          8.99,
          8.99,
          4.2,
          0.7,
          4.62,
          8.19,
          0.7,
          3.92,
          50.3,
          8.99,
          7.98,
          5.03,
          8.99,
          2.56,
          8.99,
          6.27,
          4.2,
          5.81,
          89.3,
          8.99,
          3.92,
          2.56,
          0.7,
          50.3,
          89.3,
          3.92,
          0.5,
          2.58,
          8.19,
          54.74,
          8.99,
          50.3,
          2.25,
          6.27,
          9.45,
          35,
          3.92,
          4.2,
          1.99,
          4.62,
          2.56,
          0.5,
          9.03,
          13.99,
          8.99,
          7.98,
          5.03,
          5.99,
          8.99,
          2.56,
          35,
          2.25,
          0.7,
          3.92,
          2.25,
          1.99,
          0.7,
          8.99,
          2.58,
          8.19,
          8.99,
          89.3,
          5.81,
          5.99,
          1.99,
          54.74,
          35,
          8.99,
          35,
          4.62,
          7.98,
          13.99,
          8.99,
          8.99,
          50.3,
          0.7,
          3.92,
          4.2,
          3.92,
          8.99,
          0.7,
          35,
          0.7,
          89.3,
          5.99,
          5.81,
          4.2,
          1.99,
          2.25,
          5.81,
          0.7,
          9.45,
          50.3,
          35,
          7.98,
          9.03,
          0.7,
          8.99,
          9.45,
          0.5,
          35,
          13.99,
          5.03,
          6.27,
          9.03,
          2.58,
          54.74,
          4.62,
          8.19,
          0.7,
          8.99,
          2.56,
          0.5,
          8.99,
          35,
          9.03,
          9.03,
          3.92,
          54.74,
          2.25,
          8.99,
          5.03,
          35,
          54.74,
          0.7,
          3.92,
          13.99,
          4.62,
          1.99,
          0.7,
          4.2,
          8.99,
          8.99,
          50.3,
          8.99,
          4.2,
          8.99,
          0.7,
          5.81,
          89.3,
          35,
          3.92,
          54.74,
          7.98,
          8.99,
          2.56,
          13.99,
          50.3,
          89.3,
          35,
          5.03,
          5.81,
          5.99,
          9.45,
          6.27,
          0.7,
          1.99,
          2.25,
          8.19,
          8.99,
          6.27,
          2.58,
          2.25,
          9.03,
          8.99,
          35,
          50.3,
          1.99,
          5.03,
          0.7,
          50.3,
          8.99,
          2.58,
          8.19,
          0.7,
          3.92,
          8.99,
          3.92,
          0.7,
          4.2,
          3.92,
          35,
          8.99,
          2.25,
          0.5,
          5.99,
          8.99,
          4.2,
          9.45,
          1.99,
          8.99,
          35,
          0.7,
          2.56,
          89.3,
          4.62,
          6.27,
          5.81,
          4.62,
          2.56,
          0.7,
          7.98,
          89.3,
          5.99,
          9.45,
          7.98,
          2.58,
          13.99,
          5.81,
          8.19,
          0.5,
          54.74,
          8.99,
          54.74,
          8.19,
          50.3,
          2.25,
          5.03,
          2.25,
          0.7,
          8.99,
          6.27,
          3.92,
          2.58,
          8.19,
          8.99,
          6.27,
          3.92,
          0.7,
          8.99,
          2.56,
          2.56,
          4.62,
          1.99,
          8.99,
          8.19,
          2.58,
          35,
          2.25,
          0.5,
          9.45,
          0.7,
          50.3,
          9.45,
          4.2,
          8.99,
          0.7,
          9.45,
          4.62,
          35,
          1.99,
          89.3,
          5.81,
          0.5,
          35,
          5.99,
          2.56,
          7.98,
          9.03,
          3.92,
          8.99,
          89.3,
          0.7,
          50.3,
          1.99,
          3.92,
          4.2,
          2.25,
          37.58,
          0.7,
          13.99,
          9.03,
          3.92,
          8.99,
          0.7,
          1.99,
          8.99,
          4.2,
          5.99,
          5.03,
          54.74,
          8.99,
          4.2,
          50.3,
          13.99,
          5.81,
          7.98,
          35,
          0.7,
          7.98,
          0.7,
          8.99,
          5.99,
          8.99,
          35,
          8.99,
          5.81,
          13.99,
          2.56,
          6.27,
          0.5,
          5.81,
          89.3,
          35,
          4.62,
          9.03,
          89.3,
          8.99,
          3.92,
          5.03,
          50.3,
          9.45,
          3.92,
          4.2,
          54.74,
          8.99,
          4.2,
          54.74,
          2.25,
          8.99,
          37.58,
          0.7,
          8.19,
          50.3,
          2.25,
          13.99,
          9.03,
          5.03,
          0.7,
          9.45,
          3.92,
          8.99,
          0.7,
          1.99,
          4.62,
          2.25,
          8.99,
          0.7,
          4.2,
          35,
          8.99,
          5.99,
          1.99,
          5.03,
          54.74,
          6.27,
          3.92,
          8.99,
          4.2,
          2.58,
          8.19,
          8.99,
          50.3,
          89.3,
          13.99,
          5.81,
          7.98,
          35,
          0.7,
          6.27,
          3.92,
          0.7,
          7.98,
          0.7,
          5.81,
          8.99,
          5.99,
          8.99,
          0.5,
          8.99,
          2.56,
          35,
          2.56,
          4.62,
          8.99,
          35,
          5.81,
          5.99,
          1.99,
          2.56,
          13.99,
          7.98,
          9.03,
          2.56,
          6.27,
          0.5,
          8.99,
          3.92,
          8.19,
          8.99,
          5.81,
          89.3,
          35,
          2.58,
          4.62,
          35,
          89.3,
          2.25,
          9.03,
          0.7,
          0.5,
          89.3,
          8.99,
          9.45,
          3.92,
          50.3,
          5.03,
          0.7,
          1.99,
          0.7,
          0.7,
          5.81,
          35,
          3.92,
          8.99,
          0.7,
          4.2,
          8.99,
          5.99,
          8.99,
          1.99,
          8.99,
          0.7,
          5.03,
          0.5,
          3.92,
          54.74,
          7.98,
          50.3,
          0.7,
          4.2,
          2.25,
          4.62,
          89.3,
          8.99,
          5.99,
          0.7,
          0.5,
          6.27,
          9.03,
          8.99,
          50.3,
          9.45,
          4.2,
          9.45,
          54.74,
          1.99,
          4.62,
          8.99,
          5.03,
          0.7,
          3.92,
          35,
          8.99,
          2.25,
          0.5,
          6.27,
          8.19,
          2.56,
          2.25,
          8.99,
          8.99,
          1.99,
          5.99,
          2.56,
          2.58,
          8.99,
          50.3,
          8.19,
          3.92,
          13.99,
          1.99,
          8.99,
          9.45,
          8.99,
          3.92,
          5.81,
          5.03,
          82.77,
          4.2,
          9.03,
          89.3,
          13.99,
          5.81,
          5.81,
          4.62,
          0.7,
          89.3,
          2.56,
          54.74,
          35,
          89.3,
          7.98,
          7.98,
          50.3,
          8.99,
          35,
          2.56,
          2.25,
          2.58,
          0.7,
          13.99,
          8.19,
          35,
          9.03
         ]
        }
       ],
       "layout": {
        "coloraxis": {
         "colorbar": {
          "title": {
           "text": "Ventas"
          }
         },
         "colorscale": [
          [
           0,
           "#440154"
          ],
          [
           0.1111111111111111,
           "#482878"
          ],
          [
           0.2222222222222222,
           "#3e4989"
          ],
          [
           0.3333333333333333,
           "#31688e"
          ],
          [
           0.4444444444444444,
           "#26828e"
          ],
          [
           0.5555555555555556,
           "#1f9e89"
          ],
          [
           0.6666666666666666,
           "#35b779"
          ],
          [
           0.7777777777777778,
           "#6ece58"
          ],
          [
           0.8888888888888888,
           "#b5de2b"
          ],
          [
           1,
           "#fde725"
          ]
         ]
        },
        "legend": {
         "tracegroupgap": 0
        },
        "template": {
         "data": {
          "bar": [
           {
            "error_x": {
             "color": "#2a3f5f"
            },
            "error_y": {
             "color": "#2a3f5f"
            },
            "marker": {
             "line": {
              "color": "#E5ECF6",
              "width": 0.5
             },
             "pattern": {
              "fillmode": "overlay",
              "size": 10,
              "solidity": 0.2
             }
            },
            "type": "bar"
           }
          ],
          "barpolar": [
           {
            "marker": {
             "line": {
              "color": "#E5ECF6",
              "width": 0.5
             },
             "pattern": {
              "fillmode": "overlay",
              "size": 10,
              "solidity": 0.2
             }
            },
            "type": "barpolar"
           }
          ],
          "carpet": [
           {
            "aaxis": {
             "endlinecolor": "#2a3f5f",
             "gridcolor": "white",
             "linecolor": "white",
             "minorgridcolor": "white",
             "startlinecolor": "#2a3f5f"
            },
            "baxis": {
             "endlinecolor": "#2a3f5f",
             "gridcolor": "white",
             "linecolor": "white",
             "minorgridcolor": "white",
             "startlinecolor": "#2a3f5f"
            },
            "type": "carpet"
           }
          ],
          "choropleth": [
           {
            "colorbar": {
             "outlinewidth": 0,
             "ticks": ""
            },
            "type": "choropleth"
           }
          ],
          "contour": [
           {
            "colorbar": {
             "outlinewidth": 0,
             "ticks": ""
            },
            "colorscale": [
             [
              0,
              "#0d0887"
             ],
             [
              0.1111111111111111,
              "#46039f"
             ],
             [
              0.2222222222222222,
              "#7201a8"
             ],
             [
              0.3333333333333333,
              "#9c179e"
             ],
             [
              0.4444444444444444,
              "#bd3786"
             ],
             [
              0.5555555555555556,
              "#d8576b"
             ],
             [
              0.6666666666666666,
              "#ed7953"
             ],
             [
              0.7777777777777778,
              "#fb9f3a"
             ],
             [
              0.8888888888888888,
              "#fdca26"
             ],
             [
              1,
              "#f0f921"
             ]
            ],
            "type": "contour"
           }
          ],
          "contourcarpet": [
           {
            "colorbar": {
             "outlinewidth": 0,
             "ticks": ""
            },
            "type": "contourcarpet"
           }
          ],
          "heatmap": [
           {
            "colorbar": {
             "outlinewidth": 0,
             "ticks": ""
            },
            "colorscale": [
             [
              0,
              "#0d0887"
             ],
             [
              0.1111111111111111,
              "#46039f"
             ],
             [
              0.2222222222222222,
              "#7201a8"
             ],
             [
              0.3333333333333333,
              "#9c179e"
             ],
             [
              0.4444444444444444,
              "#bd3786"
             ],
             [
              0.5555555555555556,
              "#d8576b"
             ],
             [
              0.6666666666666666,
              "#ed7953"
             ],
             [
              0.7777777777777778,
              "#fb9f3a"
             ],
             [
              0.8888888888888888,
              "#fdca26"
             ],
             [
              1,
              "#f0f921"
             ]
            ],
            "type": "heatmap"
           }
          ],
          "heatmapgl": [
           {
            "colorbar": {
             "outlinewidth": 0,
             "ticks": ""
            },
            "colorscale": [
             [
              0,
              "#0d0887"
             ],
             [
              0.1111111111111111,
              "#46039f"
             ],
             [
              0.2222222222222222,
              "#7201a8"
             ],
             [
              0.3333333333333333,
              "#9c179e"
             ],
             [
              0.4444444444444444,
              "#bd3786"
             ],
             [
              0.5555555555555556,
              "#d8576b"
             ],
             [
              0.6666666666666666,
              "#ed7953"
             ],
             [
              0.7777777777777778,
              "#fb9f3a"
             ],
             [
              0.8888888888888888,
              "#fdca26"
             ],
             [
              1,
              "#f0f921"
             ]
            ],
            "type": "heatmapgl"
           }
          ],
          "histogram": [
           {
            "marker": {
             "pattern": {
              "fillmode": "overlay",
              "size": 10,
              "solidity": 0.2
             }
            },
            "type": "histogram"
           }
          ],
          "histogram2d": [
           {
            "colorbar": {
             "outlinewidth": 0,
             "ticks": ""
            },
            "colorscale": [
             [
              0,
              "#0d0887"
             ],
             [
              0.1111111111111111,
              "#46039f"
             ],
             [
              0.2222222222222222,
              "#7201a8"
             ],
             [
              0.3333333333333333,
              "#9c179e"
             ],
             [
              0.4444444444444444,
              "#bd3786"
             ],
             [
              0.5555555555555556,
              "#d8576b"
             ],
             [
              0.6666666666666666,
              "#ed7953"
             ],
             [
              0.7777777777777778,
              "#fb9f3a"
             ],
             [
              0.8888888888888888,
              "#fdca26"
             ],
             [
              1,
              "#f0f921"
             ]
            ],
            "type": "histogram2d"
           }
          ],
          "histogram2dcontour": [
           {
            "colorbar": {
             "outlinewidth": 0,
             "ticks": ""
            },
            "colorscale": [
             [
              0,
              "#0d0887"
             ],
             [
              0.1111111111111111,
              "#46039f"
             ],
             [
              0.2222222222222222,
              "#7201a8"
             ],
             [
              0.3333333333333333,
              "#9c179e"
             ],
             [
              0.4444444444444444,
              "#bd3786"
             ],
             [
              0.5555555555555556,
              "#d8576b"
             ],
             [
              0.6666666666666666,
              "#ed7953"
             ],
             [
              0.7777777777777778,
              "#fb9f3a"
             ],
             [
              0.8888888888888888,
              "#fdca26"
             ],
             [
              1,
              "#f0f921"
             ]
            ],
            "type": "histogram2dcontour"
           }
          ],
          "mesh3d": [
           {
            "colorbar": {
             "outlinewidth": 0,
             "ticks": ""
            },
            "type": "mesh3d"
           }
          ],
          "parcoords": [
           {
            "line": {
             "colorbar": {
              "outlinewidth": 0,
              "ticks": ""
             }
            },
            "type": "parcoords"
           }
          ],
          "pie": [
           {
            "automargin": true,
            "type": "pie"
           }
          ],
          "scatter": [
           {
            "fillpattern": {
             "fillmode": "overlay",
             "size": 10,
             "solidity": 0.2
            },
            "type": "scatter"
           }
          ],
          "scatter3d": [
           {
            "line": {
             "colorbar": {
              "outlinewidth": 0,
              "ticks": ""
             }
            },
            "marker": {
             "colorbar": {
              "outlinewidth": 0,
              "ticks": ""
             }
            },
            "type": "scatter3d"
           }
          ],
          "scattercarpet": [
           {
            "marker": {
             "colorbar": {
              "outlinewidth": 0,
              "ticks": ""
             }
            },
            "type": "scattercarpet"
           }
          ],
          "scattergeo": [
           {
            "marker": {
             "colorbar": {
              "outlinewidth": 0,
              "ticks": ""
             }
            },
            "type": "scattergeo"
           }
          ],
          "scattergl": [
           {
            "marker": {
             "colorbar": {
              "outlinewidth": 0,
              "ticks": ""
             }
            },
            "type": "scattergl"
           }
          ],
          "scattermapbox": [
           {
            "marker": {
             "colorbar": {
              "outlinewidth": 0,
              "ticks": ""
             }
            },
            "type": "scattermapbox"
           }
          ],
          "scatterpolar": [
           {
            "marker": {
             "colorbar": {
              "outlinewidth": 0,
              "ticks": ""
             }
            },
            "type": "scatterpolar"
           }
          ],
          "scatterpolargl": [
           {
            "marker": {
             "colorbar": {
              "outlinewidth": 0,
              "ticks": ""
             }
            },
            "type": "scatterpolargl"
           }
          ],
          "scatterternary": [
           {
            "marker": {
             "colorbar": {
              "outlinewidth": 0,
              "ticks": ""
             }
            },
            "type": "scatterternary"
           }
          ],
          "surface": [
           {
            "colorbar": {
             "outlinewidth": 0,
             "ticks": ""
            },
            "colorscale": [
             [
              0,
              "#0d0887"
             ],
             [
              0.1111111111111111,
              "#46039f"
             ],
             [
              0.2222222222222222,
              "#7201a8"
             ],
             [
              0.3333333333333333,
              "#9c179e"
             ],
             [
              0.4444444444444444,
              "#bd3786"
             ],
             [
              0.5555555555555556,
              "#d8576b"
             ],
             [
              0.6666666666666666,
              "#ed7953"
             ],
             [
              0.7777777777777778,
              "#fb9f3a"
             ],
             [
              0.8888888888888888,
              "#fdca26"
             ],
             [
              1,
              "#f0f921"
             ]
            ],
            "type": "surface"
           }
          ],
          "table": [
           {
            "cells": {
             "fill": {
              "color": "#EBF0F8"
             },
             "line": {
              "color": "white"
             }
            },
            "header": {
             "fill": {
              "color": "#C8D4E3"
             },
             "line": {
              "color": "white"
             }
            },
            "type": "table"
           }
          ]
         },
         "layout": {
          "annotationdefaults": {
           "arrowcolor": "#2a3f5f",
           "arrowhead": 0,
           "arrowwidth": 1
          },
          "autotypenumbers": "strict",
          "coloraxis": {
           "colorbar": {
            "outlinewidth": 0,
            "ticks": ""
           }
          },
          "colorscale": {
           "diverging": [
            [
             0,
             "#8e0152"
            ],
            [
             0.1,
             "#c51b7d"
            ],
            [
             0.2,
             "#de77ae"
            ],
            [
             0.3,
             "#f1b6da"
            ],
            [
             0.4,
             "#fde0ef"
            ],
            [
             0.5,
             "#f7f7f7"
            ],
            [
             0.6,
             "#e6f5d0"
            ],
            [
             0.7,
             "#b8e186"
            ],
            [
             0.8,
             "#7fbc41"
            ],
            [
             0.9,
             "#4d9221"
            ],
            [
             1,
             "#276419"
            ]
           ],
           "sequential": [
            [
             0,
             "#0d0887"
            ],
            [
             0.1111111111111111,
             "#46039f"
            ],
            [
             0.2222222222222222,
             "#7201a8"
            ],
            [
             0.3333333333333333,
             "#9c179e"
            ],
            [
             0.4444444444444444,
             "#bd3786"
            ],
            [
             0.5555555555555556,
             "#d8576b"
            ],
            [
             0.6666666666666666,
             "#ed7953"
            ],
            [
             0.7777777777777778,
             "#fb9f3a"
            ],
            [
             0.8888888888888888,
             "#fdca26"
            ],
            [
             1,
             "#f0f921"
            ]
           ],
           "sequentialminus": [
            [
             0,
             "#0d0887"
            ],
            [
             0.1111111111111111,
             "#46039f"
            ],
            [
             0.2222222222222222,
             "#7201a8"
            ],
            [
             0.3333333333333333,
             "#9c179e"
            ],
            [
             0.4444444444444444,
             "#bd3786"
            ],
            [
             0.5555555555555556,
             "#d8576b"
            ],
            [
             0.6666666666666666,
             "#ed7953"
            ],
            [
             0.7777777777777778,
             "#fb9f3a"
            ],
            [
             0.8888888888888888,
             "#fdca26"
            ],
            [
             1,
             "#f0f921"
            ]
           ]
          },
          "colorway": [
           "#636efa",
           "#EF553B",
           "#00cc96",
           "#ab63fa",
           "#FFA15A",
           "#19d3f3",
           "#FF6692",
           "#B6E880",
           "#FF97FF",
           "#FECB52"
          ],
          "font": {
           "color": "#2a3f5f"
          },
          "geo": {
           "bgcolor": "white",
           "lakecolor": "white",
           "landcolor": "#E5ECF6",
           "showlakes": true,
           "showland": true,
           "subunitcolor": "white"
          },
          "hoverlabel": {
           "align": "left"
          },
          "hovermode": "closest",
          "mapbox": {
           "style": "light"
          },
          "paper_bgcolor": "white",
          "plot_bgcolor": "#E5ECF6",
          "polar": {
           "angularaxis": {
            "gridcolor": "white",
            "linecolor": "white",
            "ticks": ""
           },
           "bgcolor": "#E5ECF6",
           "radialaxis": {
            "gridcolor": "white",
            "linecolor": "white",
            "ticks": ""
           }
          },
          "scene": {
           "xaxis": {
            "backgroundcolor": "#E5ECF6",
            "gridcolor": "white",
            "gridwidth": 2,
            "linecolor": "white",
            "showbackground": true,
            "ticks": "",
            "zerolinecolor": "white"
           },
           "yaxis": {
            "backgroundcolor": "#E5ECF6",
            "gridcolor": "white",
            "gridwidth": 2,
            "linecolor": "white",
            "showbackground": true,
            "ticks": "",
            "zerolinecolor": "white"
           },
           "zaxis": {
            "backgroundcolor": "#E5ECF6",
            "gridcolor": "white",
            "gridwidth": 2,
            "linecolor": "white",
            "showbackground": true,
            "ticks": "",
            "zerolinecolor": "white"
           }
          },
          "shapedefaults": {
           "line": {
            "color": "#2a3f5f"
           }
          },
          "ternary": {
           "aaxis": {
            "gridcolor": "white",
            "linecolor": "white",
            "ticks": ""
           },
           "baxis": {
            "gridcolor": "white",
            "linecolor": "white",
            "ticks": ""
           },
           "bgcolor": "#E5ECF6",
           "caxis": {
            "gridcolor": "white",
            "linecolor": "white",
            "ticks": ""
           }
          },
          "title": {
           "x": 0.05
          },
          "xaxis": {
           "automargin": true,
           "gridcolor": "white",
           "linecolor": "white",
           "ticks": "",
           "title": {
            "standoff": 15
           },
           "zerolinecolor": "white",
           "zerolinewidth": 2
          },
          "yaxis": {
           "automargin": true,
           "gridcolor": "white",
           "linecolor": "white",
           "ticks": "",
           "title": {
            "standoff": 15
           },
           "zerolinecolor": "white",
           "zerolinewidth": 2
          }
         }
        },
        "title": {
         "text": "Relacion entre Cliente y Categoria"
        }
       }
      }
     },
     "metadata": {},
     "output_type": "display_data"
    }
   ],
   "source": [
    "fig = px.treemap(df, path = ['fecha_envio','Nombre_cliente','Categoria','Cantidad','Subcategoria','Lugar'], values ='Costo_envio', \n",
    "                 color ='Ventas', color_continuous_scale ='viridis', \n",
    "                 title ='Relacion entre Cliente y Categoria')\n",
    "\n",
    "fig.show()"
   ]
  },
  {
   "cell_type": "code",
   "execution_count": 8,
   "metadata": {},
   "outputs": [
    {
     "data": {
      "application/vnd.plotly.v1+json": {
       "config": {
        "plotlyServerURL": "https://plot.ly"
       },
       "data": [
        {
         "domain": {
          "x": [
           0,
           1
          ],
          "y": [
           0,
           1
          ]
         },
         "hovertemplate": "label=%{label}<br>parent=%{parent}<extra></extra>",
         "labels": [
          "Eve",
          "Cain",
          "Seth",
          "Enos",
          "Noam",
          "Abel",
          "Awan",
          "Enoch",
          "Azura"
         ],
         "name": "",
         "parents": [
          "",
          "Eve",
          "Eve",
          "Seth",
          "Seth",
          "Eve",
          "Eve",
          "Awan",
          "Eve"
         ],
         "root": {
          "color": "lightgrey"
         },
         "type": "treemap"
        }
       ],
       "layout": {
        "legend": {
         "tracegroupgap": 0
        },
        "margin": {
         "b": 25,
         "l": 25,
         "r": 25,
         "t": 50
        },
        "template": {
         "data": {
          "bar": [
           {
            "error_x": {
             "color": "#2a3f5f"
            },
            "error_y": {
             "color": "#2a3f5f"
            },
            "marker": {
             "line": {
              "color": "#E5ECF6",
              "width": 0.5
             },
             "pattern": {
              "fillmode": "overlay",
              "size": 10,
              "solidity": 0.2
             }
            },
            "type": "bar"
           }
          ],
          "barpolar": [
           {
            "marker": {
             "line": {
              "color": "#E5ECF6",
              "width": 0.5
             },
             "pattern": {
              "fillmode": "overlay",
              "size": 10,
              "solidity": 0.2
             }
            },
            "type": "barpolar"
           }
          ],
          "carpet": [
           {
            "aaxis": {
             "endlinecolor": "#2a3f5f",
             "gridcolor": "white",
             "linecolor": "white",
             "minorgridcolor": "white",
             "startlinecolor": "#2a3f5f"
            },
            "baxis": {
             "endlinecolor": "#2a3f5f",
             "gridcolor": "white",
             "linecolor": "white",
             "minorgridcolor": "white",
             "startlinecolor": "#2a3f5f"
            },
            "type": "carpet"
           }
          ],
          "choropleth": [
           {
            "colorbar": {
             "outlinewidth": 0,
             "ticks": ""
            },
            "type": "choropleth"
           }
          ],
          "contour": [
           {
            "colorbar": {
             "outlinewidth": 0,
             "ticks": ""
            },
            "colorscale": [
             [
              0,
              "#0d0887"
             ],
             [
              0.1111111111111111,
              "#46039f"
             ],
             [
              0.2222222222222222,
              "#7201a8"
             ],
             [
              0.3333333333333333,
              "#9c179e"
             ],
             [
              0.4444444444444444,
              "#bd3786"
             ],
             [
              0.5555555555555556,
              "#d8576b"
             ],
             [
              0.6666666666666666,
              "#ed7953"
             ],
             [
              0.7777777777777778,
              "#fb9f3a"
             ],
             [
              0.8888888888888888,
              "#fdca26"
             ],
             [
              1,
              "#f0f921"
             ]
            ],
            "type": "contour"
           }
          ],
          "contourcarpet": [
           {
            "colorbar": {
             "outlinewidth": 0,
             "ticks": ""
            },
            "type": "contourcarpet"
           }
          ],
          "heatmap": [
           {
            "colorbar": {
             "outlinewidth": 0,
             "ticks": ""
            },
            "colorscale": [
             [
              0,
              "#0d0887"
             ],
             [
              0.1111111111111111,
              "#46039f"
             ],
             [
              0.2222222222222222,
              "#7201a8"
             ],
             [
              0.3333333333333333,
              "#9c179e"
             ],
             [
              0.4444444444444444,
              "#bd3786"
             ],
             [
              0.5555555555555556,
              "#d8576b"
             ],
             [
              0.6666666666666666,
              "#ed7953"
             ],
             [
              0.7777777777777778,
              "#fb9f3a"
             ],
             [
              0.8888888888888888,
              "#fdca26"
             ],
             [
              1,
              "#f0f921"
             ]
            ],
            "type": "heatmap"
           }
          ],
          "heatmapgl": [
           {
            "colorbar": {
             "outlinewidth": 0,
             "ticks": ""
            },
            "colorscale": [
             [
              0,
              "#0d0887"
             ],
             [
              0.1111111111111111,
              "#46039f"
             ],
             [
              0.2222222222222222,
              "#7201a8"
             ],
             [
              0.3333333333333333,
              "#9c179e"
             ],
             [
              0.4444444444444444,
              "#bd3786"
             ],
             [
              0.5555555555555556,
              "#d8576b"
             ],
             [
              0.6666666666666666,
              "#ed7953"
             ],
             [
              0.7777777777777778,
              "#fb9f3a"
             ],
             [
              0.8888888888888888,
              "#fdca26"
             ],
             [
              1,
              "#f0f921"
             ]
            ],
            "type": "heatmapgl"
           }
          ],
          "histogram": [
           {
            "marker": {
             "pattern": {
              "fillmode": "overlay",
              "size": 10,
              "solidity": 0.2
             }
            },
            "type": "histogram"
           }
          ],
          "histogram2d": [
           {
            "colorbar": {
             "outlinewidth": 0,
             "ticks": ""
            },
            "colorscale": [
             [
              0,
              "#0d0887"
             ],
             [
              0.1111111111111111,
              "#46039f"
             ],
             [
              0.2222222222222222,
              "#7201a8"
             ],
             [
              0.3333333333333333,
              "#9c179e"
             ],
             [
              0.4444444444444444,
              "#bd3786"
             ],
             [
              0.5555555555555556,
              "#d8576b"
             ],
             [
              0.6666666666666666,
              "#ed7953"
             ],
             [
              0.7777777777777778,
              "#fb9f3a"
             ],
             [
              0.8888888888888888,
              "#fdca26"
             ],
             [
              1,
              "#f0f921"
             ]
            ],
            "type": "histogram2d"
           }
          ],
          "histogram2dcontour": [
           {
            "colorbar": {
             "outlinewidth": 0,
             "ticks": ""
            },
            "colorscale": [
             [
              0,
              "#0d0887"
             ],
             [
              0.1111111111111111,
              "#46039f"
             ],
             [
              0.2222222222222222,
              "#7201a8"
             ],
             [
              0.3333333333333333,
              "#9c179e"
             ],
             [
              0.4444444444444444,
              "#bd3786"
             ],
             [
              0.5555555555555556,
              "#d8576b"
             ],
             [
              0.6666666666666666,
              "#ed7953"
             ],
             [
              0.7777777777777778,
              "#fb9f3a"
             ],
             [
              0.8888888888888888,
              "#fdca26"
             ],
             [
              1,
              "#f0f921"
             ]
            ],
            "type": "histogram2dcontour"
           }
          ],
          "mesh3d": [
           {
            "colorbar": {
             "outlinewidth": 0,
             "ticks": ""
            },
            "type": "mesh3d"
           }
          ],
          "parcoords": [
           {
            "line": {
             "colorbar": {
              "outlinewidth": 0,
              "ticks": ""
             }
            },
            "type": "parcoords"
           }
          ],
          "pie": [
           {
            "automargin": true,
            "type": "pie"
           }
          ],
          "scatter": [
           {
            "fillpattern": {
             "fillmode": "overlay",
             "size": 10,
             "solidity": 0.2
            },
            "type": "scatter"
           }
          ],
          "scatter3d": [
           {
            "line": {
             "colorbar": {
              "outlinewidth": 0,
              "ticks": ""
             }
            },
            "marker": {
             "colorbar": {
              "outlinewidth": 0,
              "ticks": ""
             }
            },
            "type": "scatter3d"
           }
          ],
          "scattercarpet": [
           {
            "marker": {
             "colorbar": {
              "outlinewidth": 0,
              "ticks": ""
             }
            },
            "type": "scattercarpet"
           }
          ],
          "scattergeo": [
           {
            "marker": {
             "colorbar": {
              "outlinewidth": 0,
              "ticks": ""
             }
            },
            "type": "scattergeo"
           }
          ],
          "scattergl": [
           {
            "marker": {
             "colorbar": {
              "outlinewidth": 0,
              "ticks": ""
             }
            },
            "type": "scattergl"
           }
          ],
          "scattermapbox": [
           {
            "marker": {
             "colorbar": {
              "outlinewidth": 0,
              "ticks": ""
             }
            },
            "type": "scattermapbox"
           }
          ],
          "scatterpolar": [
           {
            "marker": {
             "colorbar": {
              "outlinewidth": 0,
              "ticks": ""
             }
            },
            "type": "scatterpolar"
           }
          ],
          "scatterpolargl": [
           {
            "marker": {
             "colorbar": {
              "outlinewidth": 0,
              "ticks": ""
             }
            },
            "type": "scatterpolargl"
           }
          ],
          "scatterternary": [
           {
            "marker": {
             "colorbar": {
              "outlinewidth": 0,
              "ticks": ""
             }
            },
            "type": "scatterternary"
           }
          ],
          "surface": [
           {
            "colorbar": {
             "outlinewidth": 0,
             "ticks": ""
            },
            "colorscale": [
             [
              0,
              "#0d0887"
             ],
             [
              0.1111111111111111,
              "#46039f"
             ],
             [
              0.2222222222222222,
              "#7201a8"
             ],
             [
              0.3333333333333333,
              "#9c179e"
             ],
             [
              0.4444444444444444,
              "#bd3786"
             ],
             [
              0.5555555555555556,
              "#d8576b"
             ],
             [
              0.6666666666666666,
              "#ed7953"
             ],
             [
              0.7777777777777778,
              "#fb9f3a"
             ],
             [
              0.8888888888888888,
              "#fdca26"
             ],
             [
              1,
              "#f0f921"
             ]
            ],
            "type": "surface"
           }
          ],
          "table": [
           {
            "cells": {
             "fill": {
              "color": "#EBF0F8"
             },
             "line": {
              "color": "white"
             }
            },
            "header": {
             "fill": {
              "color": "#C8D4E3"
             },
             "line": {
              "color": "white"
             }
            },
            "type": "table"
           }
          ]
         },
         "layout": {
          "annotationdefaults": {
           "arrowcolor": "#2a3f5f",
           "arrowhead": 0,
           "arrowwidth": 1
          },
          "autotypenumbers": "strict",
          "coloraxis": {
           "colorbar": {
            "outlinewidth": 0,
            "ticks": ""
           }
          },
          "colorscale": {
           "diverging": [
            [
             0,
             "#8e0152"
            ],
            [
             0.1,
             "#c51b7d"
            ],
            [
             0.2,
             "#de77ae"
            ],
            [
             0.3,
             "#f1b6da"
            ],
            [
             0.4,
             "#fde0ef"
            ],
            [
             0.5,
             "#f7f7f7"
            ],
            [
             0.6,
             "#e6f5d0"
            ],
            [
             0.7,
             "#b8e186"
            ],
            [
             0.8,
             "#7fbc41"
            ],
            [
             0.9,
             "#4d9221"
            ],
            [
             1,
             "#276419"
            ]
           ],
           "sequential": [
            [
             0,
             "#0d0887"
            ],
            [
             0.1111111111111111,
             "#46039f"
            ],
            [
             0.2222222222222222,
             "#7201a8"
            ],
            [
             0.3333333333333333,
             "#9c179e"
            ],
            [
             0.4444444444444444,
             "#bd3786"
            ],
            [
             0.5555555555555556,
             "#d8576b"
            ],
            [
             0.6666666666666666,
             "#ed7953"
            ],
            [
             0.7777777777777778,
             "#fb9f3a"
            ],
            [
             0.8888888888888888,
             "#fdca26"
            ],
            [
             1,
             "#f0f921"
            ]
           ],
           "sequentialminus": [
            [
             0,
             "#0d0887"
            ],
            [
             0.1111111111111111,
             "#46039f"
            ],
            [
             0.2222222222222222,
             "#7201a8"
            ],
            [
             0.3333333333333333,
             "#9c179e"
            ],
            [
             0.4444444444444444,
             "#bd3786"
            ],
            [
             0.5555555555555556,
             "#d8576b"
            ],
            [
             0.6666666666666666,
             "#ed7953"
            ],
            [
             0.7777777777777778,
             "#fb9f3a"
            ],
            [
             0.8888888888888888,
             "#fdca26"
            ],
            [
             1,
             "#f0f921"
            ]
           ]
          },
          "colorway": [
           "#636efa",
           "#EF553B",
           "#00cc96",
           "#ab63fa",
           "#FFA15A",
           "#19d3f3",
           "#FF6692",
           "#B6E880",
           "#FF97FF",
           "#FECB52"
          ],
          "font": {
           "color": "#2a3f5f"
          },
          "geo": {
           "bgcolor": "white",
           "lakecolor": "white",
           "landcolor": "#E5ECF6",
           "showlakes": true,
           "showland": true,
           "subunitcolor": "white"
          },
          "hoverlabel": {
           "align": "left"
          },
          "hovermode": "closest",
          "mapbox": {
           "style": "light"
          },
          "paper_bgcolor": "white",
          "plot_bgcolor": "#E5ECF6",
          "polar": {
           "angularaxis": {
            "gridcolor": "white",
            "linecolor": "white",
            "ticks": ""
           },
           "bgcolor": "#E5ECF6",
           "radialaxis": {
            "gridcolor": "white",
            "linecolor": "white",
            "ticks": ""
           }
          },
          "scene": {
           "xaxis": {
            "backgroundcolor": "#E5ECF6",
            "gridcolor": "white",
            "gridwidth": 2,
            "linecolor": "white",
            "showbackground": true,
            "ticks": "",
            "zerolinecolor": "white"
           },
           "yaxis": {
            "backgroundcolor": "#E5ECF6",
            "gridcolor": "white",
            "gridwidth": 2,
            "linecolor": "white",
            "showbackground": true,
            "ticks": "",
            "zerolinecolor": "white"
           },
           "zaxis": {
            "backgroundcolor": "#E5ECF6",
            "gridcolor": "white",
            "gridwidth": 2,
            "linecolor": "white",
            "showbackground": true,
            "ticks": "",
            "zerolinecolor": "white"
           }
          },
          "shapedefaults": {
           "line": {
            "color": "#2a3f5f"
           }
          },
          "ternary": {
           "aaxis": {
            "gridcolor": "white",
            "linecolor": "white",
            "ticks": ""
           },
           "baxis": {
            "gridcolor": "white",
            "linecolor": "white",
            "ticks": ""
           },
           "bgcolor": "#E5ECF6",
           "caxis": {
            "gridcolor": "white",
            "linecolor": "white",
            "ticks": ""
           }
          },
          "title": {
           "x": 0.05
          },
          "xaxis": {
           "automargin": true,
           "gridcolor": "white",
           "linecolor": "white",
           "ticks": "",
           "title": {
            "standoff": 15
           },
           "zerolinecolor": "white",
           "zerolinewidth": 2
          },
          "yaxis": {
           "automargin": true,
           "gridcolor": "white",
           "linecolor": "white",
           "ticks": "",
           "title": {
            "standoff": 15
           },
           "zerolinecolor": "white",
           "zerolinewidth": 2
          }
         }
        }
       }
      }
     },
     "metadata": {},
     "output_type": "display_data"
    }
   ],
   "source": [
    "import plotly.express as px\n",
    "fig = px.treemap(\n",
    "    names = [\"Eve\",\"Cain\", \"Seth\", \"Enos\", \"Noam\", \"Abel\", \"Awan\", \"Enoch\", \"Azura\"],\n",
    "    parents = [\"\", \"Eve\", \"Eve\", \"Seth\", \"Seth\", \"Eve\", \"Eve\", \"Awan\", \"Eve\"]\n",
    ")\n",
    "fig.update_traces(root_color=\"lightgrey\")\n",
    "fig.update_layout(margin = dict(t=50, l=25, r=25, b=25))\n",
    "fig.show()"
   ]
  },
  {
   "cell_type": "code",
   "execution_count": 5,
   "metadata": {},
   "outputs": [
    {
     "data": {
      "application/vnd.plotly.v1+json": {
       "config": {
        "plotlyServerURL": "https://plot.ly"
       },
       "data": [
        {
         "customdata": [
          [
           5.03
          ],
          [
           8.99
          ],
          [
           6.27
          ],
          [
           8.99
          ],
          [
           2.56
          ],
          [
           3.92
          ],
          [
           4.2
          ],
          [
           0.7
          ],
          [
           89.3
          ],
          [
           8.99
          ],
          [
           5.81
          ],
          [
           2.56
          ],
          [
           89.3
          ],
          [
           50.3
          ],
          [
           2.58
          ],
          [
           8.19
          ],
          [
           0.5
          ],
          [
           3.92
          ],
          [
           54.74
          ],
          [
           50.3
          ],
          [
           2.25
          ],
          [
           6.27
          ],
          [
           8.99
          ],
          [
           9.45
          ],
          [
           4.2
          ],
          [
           4.62
          ],
          [
           35
          ],
          [
           3.92
          ],
          [
           0.5
          ],
          [
           2.56
          ],
          [
           1.99
          ],
          [
           8.99
          ],
          [
           5.03
          ],
          [
           13.99
          ],
          [
           7.98
          ],
          [
           5.99
          ],
          [
           8.99
          ],
          [
           9.03
          ],
          [
           0.7
          ],
          [
           3.92
          ],
          [
           2.56
          ],
          [
           35
          ],
          [
           2.25
          ],
          [
           1.99
          ],
          [
           0.7
          ],
          [
           2.25
          ],
          [
           8.19
          ],
          [
           8.99
          ],
          [
           2.58
          ],
          [
           1.99
          ],
          [
           89.3
          ],
          [
           5.81
          ],
          [
           5.99
          ],
          [
           8.99
          ],
          [
           4.62
          ],
          [
           54.74
          ],
          [
           7.98
          ],
          [
           35
          ],
          [
           13.99
          ],
          [
           35
          ],
          [
           8.99
          ],
          [
           4.2
          ],
          [
           3.92
          ],
          [
           0.7
          ],
          [
           50.3
          ],
          [
           8.99
          ],
          [
           8.99
          ],
          [
           35
          ],
          [
           3.92
          ],
          [
           0.7
          ],
          [
           0.7
          ],
          [
           8.99
          ],
          [
           5.99
          ],
          [
           5.81
          ],
          [
           89.3
          ],
          [
           2.25
          ],
          [
           1.99
          ],
          [
           4.2
          ],
          [
           5.81
          ],
          [
           35
          ],
          [
           0.7
          ],
          [
           50.3
          ],
          [
           7.98
          ],
          [
           9.45
          ],
          [
           8.99
          ],
          [
           9.45
          ],
          [
           9.03
          ],
          [
           0.7
          ],
          [
           2.58
          ],
          [
           6.27
          ],
          [
           13.99
          ],
          [
           9.03
          ],
          [
           35
          ],
          [
           0.5
          ],
          [
           5.03
          ],
          [
           54.74
          ],
          [
           8.99
          ],
          [
           0.7
          ],
          [
           4.62
          ],
          [
           8.19
          ]
         ],
         "domain": {
          "x": [
           0,
           1
          ],
          "y": [
           0,
           1
          ]
         },
         "hovertemplate": "Categoria=%{label}<br>Cantidad=%{value}<br>Costo_envio=%{customdata[0]}<extra></extra>",
         "labels": [
          "Elementos de oficina",
          "Elementos de oficina",
          "Elementos de oficina",
          "Elementos de oficina",
          "Elementos de oficina",
          "Tecnologia",
          "Tecnologia",
          "Tecnologia",
          "Tecnologia",
          "Tecnologia",
          "Tecnologia",
          "Tecnologia",
          "Muebles",
          "Muebles",
          "Elementos de oficina",
          "Elementos de oficina",
          "Elementos de oficina",
          "Elementos de oficina",
          "Elementos de oficina",
          "Elementos de oficina",
          "Elementos de oficina",
          "Elementos de oficina",
          "Elementos de oficina",
          "Elementos de oficina",
          "Muebles",
          "Muebles",
          "Muebles",
          "Muebles",
          "Muebles",
          "Muebles",
          "Muebles",
          "Tecnologia",
          "Tecnologia",
          "Tecnologia",
          "Tecnologia",
          "Tecnologia",
          "Tecnologia",
          "Tecnologia",
          "Elementos de oficina",
          "Elementos de oficina",
          "Elementos de oficina",
          "Elementos de oficina",
          "Elementos de oficina",
          "Elementos de oficina",
          "Elementos de oficina",
          "Elementos de oficina",
          "Elementos de oficina",
          "Elementos de oficina",
          "Elementos de oficina",
          "Muebles",
          "Muebles",
          "Muebles",
          "Muebles",
          "Muebles",
          "Tecnologia",
          "Tecnologia",
          "Tecnologia",
          "Tecnologia",
          "Tecnologia",
          "Tecnologia",
          "Tecnologia",
          "Tecnologia",
          "Tecnologia",
          "Tecnologia",
          "Tecnologia",
          "Tecnologia",
          "Tecnologia",
          "Tecnologia",
          "Tecnologia",
          "Tecnologia",
          "Tecnologia",
          "Tecnologia",
          "Tecnologia",
          "Tecnologia",
          "Tecnologia",
          "Tecnologia",
          "Tecnologia",
          "Tecnologia",
          "Tecnologia",
          "Muebles",
          "Muebles",
          "Muebles",
          "Muebles",
          "Muebles",
          "Muebles",
          "Muebles",
          "Muebles",
          "Muebles",
          "Tecnologia",
          "Tecnologia",
          "Tecnologia",
          "Tecnologia",
          "Tecnologia",
          "Tecnologia",
          "Tecnologia",
          "Elementos de oficina",
          "Elementos de oficina",
          "Elementos de oficina",
          "Elementos de oficina",
          "Elementos de oficina"
         ],
         "legendgroup": "",
         "name": "",
         "showlegend": true,
         "type": "pie",
         "values": [
          10,
          55,
          62,
          17,
          23,
          44,
          16,
          63,
          19,
          42,
          18,
          59,
          65,
          35,
          67,
          69,
          50,
          12,
          8,
          16,
          29,
          30,
          9,
          53,
          51,
          63,
          20,
          20,
          70,
          63,
          54,
          16,
          34,
          12,
          21,
          50,
          50,
          6,
          41,
          48,
          2,
          6,
          30,
          14,
          17,
          9,
          40,
          22,
          30,
          32,
          24,
          26,
          26,
          4,
          61,
          21,
          64,
          30,
          68,
          24,
          30,
          46,
          42,
          28,
          23,
          15,
          14,
          48,
          7,
          56,
          34,
          29,
          65,
          68,
          60,
          49,
          28,
          14,
          62,
          55,
          14,
          31,
          66,
          27,
          36,
          66,
          7,
          11,
          37,
          27,
          23,
          30,
          10,
          3,
          25,
          11,
          49,
          46,
          14,
          29
         ]
        }
       ],
       "layout": {
        "legend": {
         "tracegroupgap": 0
        },
        "template": {
         "data": {
          "bar": [
           {
            "error_x": {
             "color": "#2a3f5f"
            },
            "error_y": {
             "color": "#2a3f5f"
            },
            "marker": {
             "line": {
              "color": "#E5ECF6",
              "width": 0.5
             },
             "pattern": {
              "fillmode": "overlay",
              "size": 10,
              "solidity": 0.2
             }
            },
            "type": "bar"
           }
          ],
          "barpolar": [
           {
            "marker": {
             "line": {
              "color": "#E5ECF6",
              "width": 0.5
             },
             "pattern": {
              "fillmode": "overlay",
              "size": 10,
              "solidity": 0.2
             }
            },
            "type": "barpolar"
           }
          ],
          "carpet": [
           {
            "aaxis": {
             "endlinecolor": "#2a3f5f",
             "gridcolor": "white",
             "linecolor": "white",
             "minorgridcolor": "white",
             "startlinecolor": "#2a3f5f"
            },
            "baxis": {
             "endlinecolor": "#2a3f5f",
             "gridcolor": "white",
             "linecolor": "white",
             "minorgridcolor": "white",
             "startlinecolor": "#2a3f5f"
            },
            "type": "carpet"
           }
          ],
          "choropleth": [
           {
            "colorbar": {
             "outlinewidth": 0,
             "ticks": ""
            },
            "type": "choropleth"
           }
          ],
          "contour": [
           {
            "colorbar": {
             "outlinewidth": 0,
             "ticks": ""
            },
            "colorscale": [
             [
              0,
              "#0d0887"
             ],
             [
              0.1111111111111111,
              "#46039f"
             ],
             [
              0.2222222222222222,
              "#7201a8"
             ],
             [
              0.3333333333333333,
              "#9c179e"
             ],
             [
              0.4444444444444444,
              "#bd3786"
             ],
             [
              0.5555555555555556,
              "#d8576b"
             ],
             [
              0.6666666666666666,
              "#ed7953"
             ],
             [
              0.7777777777777778,
              "#fb9f3a"
             ],
             [
              0.8888888888888888,
              "#fdca26"
             ],
             [
              1,
              "#f0f921"
             ]
            ],
            "type": "contour"
           }
          ],
          "contourcarpet": [
           {
            "colorbar": {
             "outlinewidth": 0,
             "ticks": ""
            },
            "type": "contourcarpet"
           }
          ],
          "heatmap": [
           {
            "colorbar": {
             "outlinewidth": 0,
             "ticks": ""
            },
            "colorscale": [
             [
              0,
              "#0d0887"
             ],
             [
              0.1111111111111111,
              "#46039f"
             ],
             [
              0.2222222222222222,
              "#7201a8"
             ],
             [
              0.3333333333333333,
              "#9c179e"
             ],
             [
              0.4444444444444444,
              "#bd3786"
             ],
             [
              0.5555555555555556,
              "#d8576b"
             ],
             [
              0.6666666666666666,
              "#ed7953"
             ],
             [
              0.7777777777777778,
              "#fb9f3a"
             ],
             [
              0.8888888888888888,
              "#fdca26"
             ],
             [
              1,
              "#f0f921"
             ]
            ],
            "type": "heatmap"
           }
          ],
          "heatmapgl": [
           {
            "colorbar": {
             "outlinewidth": 0,
             "ticks": ""
            },
            "colorscale": [
             [
              0,
              "#0d0887"
             ],
             [
              0.1111111111111111,
              "#46039f"
             ],
             [
              0.2222222222222222,
              "#7201a8"
             ],
             [
              0.3333333333333333,
              "#9c179e"
             ],
             [
              0.4444444444444444,
              "#bd3786"
             ],
             [
              0.5555555555555556,
              "#d8576b"
             ],
             [
              0.6666666666666666,
              "#ed7953"
             ],
             [
              0.7777777777777778,
              "#fb9f3a"
             ],
             [
              0.8888888888888888,
              "#fdca26"
             ],
             [
              1,
              "#f0f921"
             ]
            ],
            "type": "heatmapgl"
           }
          ],
          "histogram": [
           {
            "marker": {
             "pattern": {
              "fillmode": "overlay",
              "size": 10,
              "solidity": 0.2
             }
            },
            "type": "histogram"
           }
          ],
          "histogram2d": [
           {
            "colorbar": {
             "outlinewidth": 0,
             "ticks": ""
            },
            "colorscale": [
             [
              0,
              "#0d0887"
             ],
             [
              0.1111111111111111,
              "#46039f"
             ],
             [
              0.2222222222222222,
              "#7201a8"
             ],
             [
              0.3333333333333333,
              "#9c179e"
             ],
             [
              0.4444444444444444,
              "#bd3786"
             ],
             [
              0.5555555555555556,
              "#d8576b"
             ],
             [
              0.6666666666666666,
              "#ed7953"
             ],
             [
              0.7777777777777778,
              "#fb9f3a"
             ],
             [
              0.8888888888888888,
              "#fdca26"
             ],
             [
              1,
              "#f0f921"
             ]
            ],
            "type": "histogram2d"
           }
          ],
          "histogram2dcontour": [
           {
            "colorbar": {
             "outlinewidth": 0,
             "ticks": ""
            },
            "colorscale": [
             [
              0,
              "#0d0887"
             ],
             [
              0.1111111111111111,
              "#46039f"
             ],
             [
              0.2222222222222222,
              "#7201a8"
             ],
             [
              0.3333333333333333,
              "#9c179e"
             ],
             [
              0.4444444444444444,
              "#bd3786"
             ],
             [
              0.5555555555555556,
              "#d8576b"
             ],
             [
              0.6666666666666666,
              "#ed7953"
             ],
             [
              0.7777777777777778,
              "#fb9f3a"
             ],
             [
              0.8888888888888888,
              "#fdca26"
             ],
             [
              1,
              "#f0f921"
             ]
            ],
            "type": "histogram2dcontour"
           }
          ],
          "mesh3d": [
           {
            "colorbar": {
             "outlinewidth": 0,
             "ticks": ""
            },
            "type": "mesh3d"
           }
          ],
          "parcoords": [
           {
            "line": {
             "colorbar": {
              "outlinewidth": 0,
              "ticks": ""
             }
            },
            "type": "parcoords"
           }
          ],
          "pie": [
           {
            "automargin": true,
            "type": "pie"
           }
          ],
          "scatter": [
           {
            "fillpattern": {
             "fillmode": "overlay",
             "size": 10,
             "solidity": 0.2
            },
            "type": "scatter"
           }
          ],
          "scatter3d": [
           {
            "line": {
             "colorbar": {
              "outlinewidth": 0,
              "ticks": ""
             }
            },
            "marker": {
             "colorbar": {
              "outlinewidth": 0,
              "ticks": ""
             }
            },
            "type": "scatter3d"
           }
          ],
          "scattercarpet": [
           {
            "marker": {
             "colorbar": {
              "outlinewidth": 0,
              "ticks": ""
             }
            },
            "type": "scattercarpet"
           }
          ],
          "scattergeo": [
           {
            "marker": {
             "colorbar": {
              "outlinewidth": 0,
              "ticks": ""
             }
            },
            "type": "scattergeo"
           }
          ],
          "scattergl": [
           {
            "marker": {
             "colorbar": {
              "outlinewidth": 0,
              "ticks": ""
             }
            },
            "type": "scattergl"
           }
          ],
          "scattermapbox": [
           {
            "marker": {
             "colorbar": {
              "outlinewidth": 0,
              "ticks": ""
             }
            },
            "type": "scattermapbox"
           }
          ],
          "scatterpolar": [
           {
            "marker": {
             "colorbar": {
              "outlinewidth": 0,
              "ticks": ""
             }
            },
            "type": "scatterpolar"
           }
          ],
          "scatterpolargl": [
           {
            "marker": {
             "colorbar": {
              "outlinewidth": 0,
              "ticks": ""
             }
            },
            "type": "scatterpolargl"
           }
          ],
          "scatterternary": [
           {
            "marker": {
             "colorbar": {
              "outlinewidth": 0,
              "ticks": ""
             }
            },
            "type": "scatterternary"
           }
          ],
          "surface": [
           {
            "colorbar": {
             "outlinewidth": 0,
             "ticks": ""
            },
            "colorscale": [
             [
              0,
              "#0d0887"
             ],
             [
              0.1111111111111111,
              "#46039f"
             ],
             [
              0.2222222222222222,
              "#7201a8"
             ],
             [
              0.3333333333333333,
              "#9c179e"
             ],
             [
              0.4444444444444444,
              "#bd3786"
             ],
             [
              0.5555555555555556,
              "#d8576b"
             ],
             [
              0.6666666666666666,
              "#ed7953"
             ],
             [
              0.7777777777777778,
              "#fb9f3a"
             ],
             [
              0.8888888888888888,
              "#fdca26"
             ],
             [
              1,
              "#f0f921"
             ]
            ],
            "type": "surface"
           }
          ],
          "table": [
           {
            "cells": {
             "fill": {
              "color": "#EBF0F8"
             },
             "line": {
              "color": "white"
             }
            },
            "header": {
             "fill": {
              "color": "#C8D4E3"
             },
             "line": {
              "color": "white"
             }
            },
            "type": "table"
           }
          ]
         },
         "layout": {
          "annotationdefaults": {
           "arrowcolor": "#2a3f5f",
           "arrowhead": 0,
           "arrowwidth": 1
          },
          "autotypenumbers": "strict",
          "coloraxis": {
           "colorbar": {
            "outlinewidth": 0,
            "ticks": ""
           }
          },
          "colorscale": {
           "diverging": [
            [
             0,
             "#8e0152"
            ],
            [
             0.1,
             "#c51b7d"
            ],
            [
             0.2,
             "#de77ae"
            ],
            [
             0.3,
             "#f1b6da"
            ],
            [
             0.4,
             "#fde0ef"
            ],
            [
             0.5,
             "#f7f7f7"
            ],
            [
             0.6,
             "#e6f5d0"
            ],
            [
             0.7,
             "#b8e186"
            ],
            [
             0.8,
             "#7fbc41"
            ],
            [
             0.9,
             "#4d9221"
            ],
            [
             1,
             "#276419"
            ]
           ],
           "sequential": [
            [
             0,
             "#0d0887"
            ],
            [
             0.1111111111111111,
             "#46039f"
            ],
            [
             0.2222222222222222,
             "#7201a8"
            ],
            [
             0.3333333333333333,
             "#9c179e"
            ],
            [
             0.4444444444444444,
             "#bd3786"
            ],
            [
             0.5555555555555556,
             "#d8576b"
            ],
            [
             0.6666666666666666,
             "#ed7953"
            ],
            [
             0.7777777777777778,
             "#fb9f3a"
            ],
            [
             0.8888888888888888,
             "#fdca26"
            ],
            [
             1,
             "#f0f921"
            ]
           ],
           "sequentialminus": [
            [
             0,
             "#0d0887"
            ],
            [
             0.1111111111111111,
             "#46039f"
            ],
            [
             0.2222222222222222,
             "#7201a8"
            ],
            [
             0.3333333333333333,
             "#9c179e"
            ],
            [
             0.4444444444444444,
             "#bd3786"
            ],
            [
             0.5555555555555556,
             "#d8576b"
            ],
            [
             0.6666666666666666,
             "#ed7953"
            ],
            [
             0.7777777777777778,
             "#fb9f3a"
            ],
            [
             0.8888888888888888,
             "#fdca26"
            ],
            [
             1,
             "#f0f921"
            ]
           ]
          },
          "colorway": [
           "#636efa",
           "#EF553B",
           "#00cc96",
           "#ab63fa",
           "#FFA15A",
           "#19d3f3",
           "#FF6692",
           "#B6E880",
           "#FF97FF",
           "#FECB52"
          ],
          "font": {
           "color": "#2a3f5f"
          },
          "geo": {
           "bgcolor": "white",
           "lakecolor": "white",
           "landcolor": "#E5ECF6",
           "showlakes": true,
           "showland": true,
           "subunitcolor": "white"
          },
          "hoverlabel": {
           "align": "left"
          },
          "hovermode": "closest",
          "mapbox": {
           "style": "light"
          },
          "paper_bgcolor": "white",
          "plot_bgcolor": "#E5ECF6",
          "polar": {
           "angularaxis": {
            "gridcolor": "white",
            "linecolor": "white",
            "ticks": ""
           },
           "bgcolor": "#E5ECF6",
           "radialaxis": {
            "gridcolor": "white",
            "linecolor": "white",
            "ticks": ""
           }
          },
          "scene": {
           "xaxis": {
            "backgroundcolor": "#E5ECF6",
            "gridcolor": "white",
            "gridwidth": 2,
            "linecolor": "white",
            "showbackground": true,
            "ticks": "",
            "zerolinecolor": "white"
           },
           "yaxis": {
            "backgroundcolor": "#E5ECF6",
            "gridcolor": "white",
            "gridwidth": 2,
            "linecolor": "white",
            "showbackground": true,
            "ticks": "",
            "zerolinecolor": "white"
           },
           "zaxis": {
            "backgroundcolor": "#E5ECF6",
            "gridcolor": "white",
            "gridwidth": 2,
            "linecolor": "white",
            "showbackground": true,
            "ticks": "",
            "zerolinecolor": "white"
           }
          },
          "shapedefaults": {
           "line": {
            "color": "#2a3f5f"
           }
          },
          "ternary": {
           "aaxis": {
            "gridcolor": "white",
            "linecolor": "white",
            "ticks": ""
           },
           "baxis": {
            "gridcolor": "white",
            "linecolor": "white",
            "ticks": ""
           },
           "bgcolor": "#E5ECF6",
           "caxis": {
            "gridcolor": "white",
            "linecolor": "white",
            "ticks": ""
           }
          },
          "title": {
           "x": 0.05
          },
          "xaxis": {
           "automargin": true,
           "gridcolor": "white",
           "linecolor": "white",
           "ticks": "",
           "title": {
            "standoff": 15
           },
           "zerolinecolor": "white",
           "zerolinewidth": 2
          },
          "yaxis": {
           "automargin": true,
           "gridcolor": "white",
           "linecolor": "white",
           "ticks": "",
           "title": {
            "standoff": 15
           },
           "zerolinecolor": "white",
           "zerolinewidth": 2
          }
         }
        },
        "title": {
         "text": "Grafico de torta, con porcentaje de ventas por categoria"
        }
       }
      }
     },
     "metadata": {},
     "output_type": "display_data"
    }
   ],
   "source": [
    "fig = px.pie(df, values='Cantidad', names = 'Categoria', title ='Grafico de torta, con porcentaje de ventas por categoria',\n",
    "             hover_data = ['Costo_envio'],\n",
    "             labels={'Costo_envio': 'Costo_envio'})\n",
    "fig.show()"
   ]
  },
  {
   "cell_type": "code",
   "execution_count": 4,
   "metadata": {},
   "outputs": [
    {
     "data": {
      "application/vnd.plotly.v1+json": {
       "config": {
        "plotlyServerURL": "https://plot.ly"
       },
       "data": [
        {
         "customdata": [
          [
           5.03
          ],
          [
           8.99
          ],
          [
           6.27
          ],
          [
           8.99
          ],
          [
           2.56
          ],
          [
           3.92
          ],
          [
           4.2
          ],
          [
           0.7
          ],
          [
           89.3
          ],
          [
           8.99
          ],
          [
           5.81
          ],
          [
           2.56
          ],
          [
           89.3
          ],
          [
           50.3
          ],
          [
           2.58
          ],
          [
           8.19
          ],
          [
           0.5
          ],
          [
           3.92
          ],
          [
           54.74
          ],
          [
           50.3
          ],
          [
           2.25
          ],
          [
           6.27
          ],
          [
           8.99
          ],
          [
           9.45
          ],
          [
           4.2
          ],
          [
           4.62
          ],
          [
           35
          ],
          [
           3.92
          ],
          [
           0.5
          ],
          [
           2.56
          ],
          [
           1.99
          ],
          [
           8.99
          ],
          [
           5.03
          ],
          [
           13.99
          ],
          [
           7.98
          ],
          [
           5.99
          ],
          [
           8.99
          ],
          [
           9.03
          ],
          [
           0.7
          ],
          [
           3.92
          ],
          [
           2.56
          ],
          [
           35
          ],
          [
           2.25
          ],
          [
           1.99
          ],
          [
           0.7
          ],
          [
           2.25
          ],
          [
           8.19
          ],
          [
           8.99
          ],
          [
           2.58
          ],
          [
           1.99
          ],
          [
           89.3
          ],
          [
           5.81
          ],
          [
           5.99
          ],
          [
           8.99
          ],
          [
           4.62
          ],
          [
           54.74
          ],
          [
           7.98
          ],
          [
           35
          ],
          [
           13.99
          ],
          [
           35
          ],
          [
           8.99
          ],
          [
           4.2
          ],
          [
           3.92
          ],
          [
           0.7
          ],
          [
           50.3
          ],
          [
           8.99
          ],
          [
           8.99
          ],
          [
           35
          ],
          [
           3.92
          ],
          [
           0.7
          ],
          [
           0.7
          ],
          [
           8.99
          ],
          [
           5.99
          ],
          [
           5.81
          ],
          [
           89.3
          ],
          [
           2.25
          ],
          [
           1.99
          ],
          [
           4.2
          ],
          [
           5.81
          ],
          [
           35
          ],
          [
           0.7
          ],
          [
           50.3
          ],
          [
           7.98
          ],
          [
           9.45
          ],
          [
           8.99
          ],
          [
           9.45
          ],
          [
           9.03
          ],
          [
           0.7
          ],
          [
           2.58
          ],
          [
           6.27
          ],
          [
           13.99
          ],
          [
           9.03
          ],
          [
           35
          ],
          [
           0.5
          ],
          [
           5.03
          ],
          [
           54.74
          ],
          [
           8.99
          ],
          [
           0.7
          ],
          [
           4.62
          ],
          [
           8.19
          ]
         ],
         "domain": {
          "x": [
           0,
           1
          ],
          "y": [
           0,
           1
          ]
         },
         "hovertemplate": "Lugar=%{label}<br>Cantidad=%{value}<br>Costo_envio=%{customdata[0]}<extra></extra>",
         "labels": [
          "Bolivia",
          "Brasil",
          "Chile",
          "Chile",
          "Paraguay",
          "Peru",
          "Paraguay",
          "Chile",
          "Bolivia",
          "Paraguay",
          "Bolivia",
          "Bolivia",
          "Argentina",
          "Argentina",
          "Bolivia",
          "Bolivia",
          "Bolivia",
          "Argentina",
          "Bolivia",
          "Peru",
          "Colombia",
          "Bolivia",
          "Paraguay",
          "Bolivia",
          "Chile",
          "Bolivia",
          "Bolivia",
          "Paraguay",
          "Ecuador",
          "Paraguay",
          "Chile",
          "Bolivia",
          "Bolivia",
          "Paraguay",
          "Argentina",
          "Argentina",
          "Argentina",
          "Bolivia",
          "Bolivia",
          "Paraguay",
          "Bolivia",
          "Ecuador",
          "Bolivia",
          "Chile",
          "Chile",
          "Bolivia",
          "Bolivia",
          "Bolivia",
          "Chile",
          "Bolivia",
          "Bolivia",
          "Bolivia",
          "Chile",
          "Peru",
          "Paraguay",
          "Argentina",
          "Peru",
          "Paraguay",
          "Bolivia",
          "Colombia",
          "Bolivia",
          "Bolivia",
          "Argentina",
          "Bolivia",
          "Bolivia",
          "Paraguay",
          "Bolivia",
          "Bolivia",
          "Bolivia",
          "Ecuador",
          "Argentina",
          "Paraguay",
          "Bolivia",
          "Chile",
          "Chile",
          "Bolivia",
          "Argentina",
          "Paraguay",
          "Chile",
          "Bolivia",
          "Colombia",
          "Argentina",
          "Bolivia",
          "Argentina",
          "Chile",
          "Bolivia",
          "Bolivia",
          "Paraguay",
          "Chile",
          "Bolivia",
          "Chile",
          "Chile",
          "Bolivia",
          "Colombia",
          "Ecuador",
          "Argentina",
          "Bolivia",
          "Paraguay",
          "Paraguay",
          "Paraguay"
         ],
         "legendgroup": "",
         "name": "",
         "showlegend": true,
         "type": "pie",
         "values": [
          10,
          55,
          62,
          17,
          23,
          44,
          16,
          63,
          19,
          42,
          18,
          59,
          65,
          35,
          67,
          69,
          50,
          12,
          8,
          16,
          29,
          30,
          9,
          53,
          51,
          63,
          20,
          20,
          70,
          63,
          54,
          16,
          34,
          12,
          21,
          50,
          50,
          6,
          41,
          48,
          2,
          6,
          30,
          14,
          17,
          9,
          40,
          22,
          30,
          32,
          24,
          26,
          26,
          4,
          61,
          21,
          64,
          30,
          68,
          24,
          30,
          46,
          42,
          28,
          23,
          15,
          14,
          48,
          7,
          56,
          34,
          29,
          65,
          68,
          60,
          49,
          28,
          14,
          62,
          55,
          14,
          31,
          66,
          27,
          36,
          66,
          7,
          11,
          37,
          27,
          23,
          30,
          10,
          3,
          25,
          11,
          49,
          46,
          14,
          29
         ]
        }
       ],
       "layout": {
        "legend": {
         "tracegroupgap": 0
        },
        "template": {
         "data": {
          "bar": [
           {
            "error_x": {
             "color": "#2a3f5f"
            },
            "error_y": {
             "color": "#2a3f5f"
            },
            "marker": {
             "line": {
              "color": "#E5ECF6",
              "width": 0.5
             },
             "pattern": {
              "fillmode": "overlay",
              "size": 10,
              "solidity": 0.2
             }
            },
            "type": "bar"
           }
          ],
          "barpolar": [
           {
            "marker": {
             "line": {
              "color": "#E5ECF6",
              "width": 0.5
             },
             "pattern": {
              "fillmode": "overlay",
              "size": 10,
              "solidity": 0.2
             }
            },
            "type": "barpolar"
           }
          ],
          "carpet": [
           {
            "aaxis": {
             "endlinecolor": "#2a3f5f",
             "gridcolor": "white",
             "linecolor": "white",
             "minorgridcolor": "white",
             "startlinecolor": "#2a3f5f"
            },
            "baxis": {
             "endlinecolor": "#2a3f5f",
             "gridcolor": "white",
             "linecolor": "white",
             "minorgridcolor": "white",
             "startlinecolor": "#2a3f5f"
            },
            "type": "carpet"
           }
          ],
          "choropleth": [
           {
            "colorbar": {
             "outlinewidth": 0,
             "ticks": ""
            },
            "type": "choropleth"
           }
          ],
          "contour": [
           {
            "colorbar": {
             "outlinewidth": 0,
             "ticks": ""
            },
            "colorscale": [
             [
              0,
              "#0d0887"
             ],
             [
              0.1111111111111111,
              "#46039f"
             ],
             [
              0.2222222222222222,
              "#7201a8"
             ],
             [
              0.3333333333333333,
              "#9c179e"
             ],
             [
              0.4444444444444444,
              "#bd3786"
             ],
             [
              0.5555555555555556,
              "#d8576b"
             ],
             [
              0.6666666666666666,
              "#ed7953"
             ],
             [
              0.7777777777777778,
              "#fb9f3a"
             ],
             [
              0.8888888888888888,
              "#fdca26"
             ],
             [
              1,
              "#f0f921"
             ]
            ],
            "type": "contour"
           }
          ],
          "contourcarpet": [
           {
            "colorbar": {
             "outlinewidth": 0,
             "ticks": ""
            },
            "type": "contourcarpet"
           }
          ],
          "heatmap": [
           {
            "colorbar": {
             "outlinewidth": 0,
             "ticks": ""
            },
            "colorscale": [
             [
              0,
              "#0d0887"
             ],
             [
              0.1111111111111111,
              "#46039f"
             ],
             [
              0.2222222222222222,
              "#7201a8"
             ],
             [
              0.3333333333333333,
              "#9c179e"
             ],
             [
              0.4444444444444444,
              "#bd3786"
             ],
             [
              0.5555555555555556,
              "#d8576b"
             ],
             [
              0.6666666666666666,
              "#ed7953"
             ],
             [
              0.7777777777777778,
              "#fb9f3a"
             ],
             [
              0.8888888888888888,
              "#fdca26"
             ],
             [
              1,
              "#f0f921"
             ]
            ],
            "type": "heatmap"
           }
          ],
          "heatmapgl": [
           {
            "colorbar": {
             "outlinewidth": 0,
             "ticks": ""
            },
            "colorscale": [
             [
              0,
              "#0d0887"
             ],
             [
              0.1111111111111111,
              "#46039f"
             ],
             [
              0.2222222222222222,
              "#7201a8"
             ],
             [
              0.3333333333333333,
              "#9c179e"
             ],
             [
              0.4444444444444444,
              "#bd3786"
             ],
             [
              0.5555555555555556,
              "#d8576b"
             ],
             [
              0.6666666666666666,
              "#ed7953"
             ],
             [
              0.7777777777777778,
              "#fb9f3a"
             ],
             [
              0.8888888888888888,
              "#fdca26"
             ],
             [
              1,
              "#f0f921"
             ]
            ],
            "type": "heatmapgl"
           }
          ],
          "histogram": [
           {
            "marker": {
             "pattern": {
              "fillmode": "overlay",
              "size": 10,
              "solidity": 0.2
             }
            },
            "type": "histogram"
           }
          ],
          "histogram2d": [
           {
            "colorbar": {
             "outlinewidth": 0,
             "ticks": ""
            },
            "colorscale": [
             [
              0,
              "#0d0887"
             ],
             [
              0.1111111111111111,
              "#46039f"
             ],
             [
              0.2222222222222222,
              "#7201a8"
             ],
             [
              0.3333333333333333,
              "#9c179e"
             ],
             [
              0.4444444444444444,
              "#bd3786"
             ],
             [
              0.5555555555555556,
              "#d8576b"
             ],
             [
              0.6666666666666666,
              "#ed7953"
             ],
             [
              0.7777777777777778,
              "#fb9f3a"
             ],
             [
              0.8888888888888888,
              "#fdca26"
             ],
             [
              1,
              "#f0f921"
             ]
            ],
            "type": "histogram2d"
           }
          ],
          "histogram2dcontour": [
           {
            "colorbar": {
             "outlinewidth": 0,
             "ticks": ""
            },
            "colorscale": [
             [
              0,
              "#0d0887"
             ],
             [
              0.1111111111111111,
              "#46039f"
             ],
             [
              0.2222222222222222,
              "#7201a8"
             ],
             [
              0.3333333333333333,
              "#9c179e"
             ],
             [
              0.4444444444444444,
              "#bd3786"
             ],
             [
              0.5555555555555556,
              "#d8576b"
             ],
             [
              0.6666666666666666,
              "#ed7953"
             ],
             [
              0.7777777777777778,
              "#fb9f3a"
             ],
             [
              0.8888888888888888,
              "#fdca26"
             ],
             [
              1,
              "#f0f921"
             ]
            ],
            "type": "histogram2dcontour"
           }
          ],
          "mesh3d": [
           {
            "colorbar": {
             "outlinewidth": 0,
             "ticks": ""
            },
            "type": "mesh3d"
           }
          ],
          "parcoords": [
           {
            "line": {
             "colorbar": {
              "outlinewidth": 0,
              "ticks": ""
             }
            },
            "type": "parcoords"
           }
          ],
          "pie": [
           {
            "automargin": true,
            "type": "pie"
           }
          ],
          "scatter": [
           {
            "fillpattern": {
             "fillmode": "overlay",
             "size": 10,
             "solidity": 0.2
            },
            "type": "scatter"
           }
          ],
          "scatter3d": [
           {
            "line": {
             "colorbar": {
              "outlinewidth": 0,
              "ticks": ""
             }
            },
            "marker": {
             "colorbar": {
              "outlinewidth": 0,
              "ticks": ""
             }
            },
            "type": "scatter3d"
           }
          ],
          "scattercarpet": [
           {
            "marker": {
             "colorbar": {
              "outlinewidth": 0,
              "ticks": ""
             }
            },
            "type": "scattercarpet"
           }
          ],
          "scattergeo": [
           {
            "marker": {
             "colorbar": {
              "outlinewidth": 0,
              "ticks": ""
             }
            },
            "type": "scattergeo"
           }
          ],
          "scattergl": [
           {
            "marker": {
             "colorbar": {
              "outlinewidth": 0,
              "ticks": ""
             }
            },
            "type": "scattergl"
           }
          ],
          "scattermapbox": [
           {
            "marker": {
             "colorbar": {
              "outlinewidth": 0,
              "ticks": ""
             }
            },
            "type": "scattermapbox"
           }
          ],
          "scatterpolar": [
           {
            "marker": {
             "colorbar": {
              "outlinewidth": 0,
              "ticks": ""
             }
            },
            "type": "scatterpolar"
           }
          ],
          "scatterpolargl": [
           {
            "marker": {
             "colorbar": {
              "outlinewidth": 0,
              "ticks": ""
             }
            },
            "type": "scatterpolargl"
           }
          ],
          "scatterternary": [
           {
            "marker": {
             "colorbar": {
              "outlinewidth": 0,
              "ticks": ""
             }
            },
            "type": "scatterternary"
           }
          ],
          "surface": [
           {
            "colorbar": {
             "outlinewidth": 0,
             "ticks": ""
            },
            "colorscale": [
             [
              0,
              "#0d0887"
             ],
             [
              0.1111111111111111,
              "#46039f"
             ],
             [
              0.2222222222222222,
              "#7201a8"
             ],
             [
              0.3333333333333333,
              "#9c179e"
             ],
             [
              0.4444444444444444,
              "#bd3786"
             ],
             [
              0.5555555555555556,
              "#d8576b"
             ],
             [
              0.6666666666666666,
              "#ed7953"
             ],
             [
              0.7777777777777778,
              "#fb9f3a"
             ],
             [
              0.8888888888888888,
              "#fdca26"
             ],
             [
              1,
              "#f0f921"
             ]
            ],
            "type": "surface"
           }
          ],
          "table": [
           {
            "cells": {
             "fill": {
              "color": "#EBF0F8"
             },
             "line": {
              "color": "white"
             }
            },
            "header": {
             "fill": {
              "color": "#C8D4E3"
             },
             "line": {
              "color": "white"
             }
            },
            "type": "table"
           }
          ]
         },
         "layout": {
          "annotationdefaults": {
           "arrowcolor": "#2a3f5f",
           "arrowhead": 0,
           "arrowwidth": 1
          },
          "autotypenumbers": "strict",
          "coloraxis": {
           "colorbar": {
            "outlinewidth": 0,
            "ticks": ""
           }
          },
          "colorscale": {
           "diverging": [
            [
             0,
             "#8e0152"
            ],
            [
             0.1,
             "#c51b7d"
            ],
            [
             0.2,
             "#de77ae"
            ],
            [
             0.3,
             "#f1b6da"
            ],
            [
             0.4,
             "#fde0ef"
            ],
            [
             0.5,
             "#f7f7f7"
            ],
            [
             0.6,
             "#e6f5d0"
            ],
            [
             0.7,
             "#b8e186"
            ],
            [
             0.8,
             "#7fbc41"
            ],
            [
             0.9,
             "#4d9221"
            ],
            [
             1,
             "#276419"
            ]
           ],
           "sequential": [
            [
             0,
             "#0d0887"
            ],
            [
             0.1111111111111111,
             "#46039f"
            ],
            [
             0.2222222222222222,
             "#7201a8"
            ],
            [
             0.3333333333333333,
             "#9c179e"
            ],
            [
             0.4444444444444444,
             "#bd3786"
            ],
            [
             0.5555555555555556,
             "#d8576b"
            ],
            [
             0.6666666666666666,
             "#ed7953"
            ],
            [
             0.7777777777777778,
             "#fb9f3a"
            ],
            [
             0.8888888888888888,
             "#fdca26"
            ],
            [
             1,
             "#f0f921"
            ]
           ],
           "sequentialminus": [
            [
             0,
             "#0d0887"
            ],
            [
             0.1111111111111111,
             "#46039f"
            ],
            [
             0.2222222222222222,
             "#7201a8"
            ],
            [
             0.3333333333333333,
             "#9c179e"
            ],
            [
             0.4444444444444444,
             "#bd3786"
            ],
            [
             0.5555555555555556,
             "#d8576b"
            ],
            [
             0.6666666666666666,
             "#ed7953"
            ],
            [
             0.7777777777777778,
             "#fb9f3a"
            ],
            [
             0.8888888888888888,
             "#fdca26"
            ],
            [
             1,
             "#f0f921"
            ]
           ]
          },
          "colorway": [
           "#636efa",
           "#EF553B",
           "#00cc96",
           "#ab63fa",
           "#FFA15A",
           "#19d3f3",
           "#FF6692",
           "#B6E880",
           "#FF97FF",
           "#FECB52"
          ],
          "font": {
           "color": "#2a3f5f"
          },
          "geo": {
           "bgcolor": "white",
           "lakecolor": "white",
           "landcolor": "#E5ECF6",
           "showlakes": true,
           "showland": true,
           "subunitcolor": "white"
          },
          "hoverlabel": {
           "align": "left"
          },
          "hovermode": "closest",
          "mapbox": {
           "style": "light"
          },
          "paper_bgcolor": "white",
          "plot_bgcolor": "#E5ECF6",
          "polar": {
           "angularaxis": {
            "gridcolor": "white",
            "linecolor": "white",
            "ticks": ""
           },
           "bgcolor": "#E5ECF6",
           "radialaxis": {
            "gridcolor": "white",
            "linecolor": "white",
            "ticks": ""
           }
          },
          "scene": {
           "xaxis": {
            "backgroundcolor": "#E5ECF6",
            "gridcolor": "white",
            "gridwidth": 2,
            "linecolor": "white",
            "showbackground": true,
            "ticks": "",
            "zerolinecolor": "white"
           },
           "yaxis": {
            "backgroundcolor": "#E5ECF6",
            "gridcolor": "white",
            "gridwidth": 2,
            "linecolor": "white",
            "showbackground": true,
            "ticks": "",
            "zerolinecolor": "white"
           },
           "zaxis": {
            "backgroundcolor": "#E5ECF6",
            "gridcolor": "white",
            "gridwidth": 2,
            "linecolor": "white",
            "showbackground": true,
            "ticks": "",
            "zerolinecolor": "white"
           }
          },
          "shapedefaults": {
           "line": {
            "color": "#2a3f5f"
           }
          },
          "ternary": {
           "aaxis": {
            "gridcolor": "white",
            "linecolor": "white",
            "ticks": ""
           },
           "baxis": {
            "gridcolor": "white",
            "linecolor": "white",
            "ticks": ""
           },
           "bgcolor": "#E5ECF6",
           "caxis": {
            "gridcolor": "white",
            "linecolor": "white",
            "ticks": ""
           }
          },
          "title": {
           "x": 0.05
          },
          "xaxis": {
           "automargin": true,
           "gridcolor": "white",
           "linecolor": "white",
           "ticks": "",
           "title": {
            "standoff": 15
           },
           "zerolinecolor": "white",
           "zerolinewidth": 2
          },
          "yaxis": {
           "automargin": true,
           "gridcolor": "white",
           "linecolor": "white",
           "ticks": "",
           "title": {
            "standoff": 15
           },
           "zerolinecolor": "white",
           "zerolinewidth": 2
          }
         }
        },
        "title": {
         "text": "Grafico de torta, con porcentaje de ventasEnvio y costos por Lugar"
        }
       }
      }
     },
     "metadata": {},
     "output_type": "display_data"
    }
   ],
   "source": [
    "fig = px.pie(df, values='Cantidad', names = 'Lugar', title ='Grafico de torta, con porcentaje de ventas Envio y costos por Lugar',\n",
    "             hover_data = ['Costo_envio'],\n",
    "             labels={'Costo_envio': 'Costo_envio'})\n",
    "fig.show()"
   ]
  },
  {
   "cell_type": "code",
   "execution_count": 46,
   "metadata": {},
   "outputs": [
    {
     "data": {
      "text/html": [
       "<div>\n",
       "<style scoped>\n",
       "    .dataframe tbody tr th:only-of-type {\n",
       "        vertical-align: middle;\n",
       "    }\n",
       "\n",
       "    .dataframe tbody tr th {\n",
       "        vertical-align: top;\n",
       "    }\n",
       "\n",
       "    .dataframe thead th {\n",
       "        text-align: right;\n",
       "    }\n",
       "</style>\n",
       "<table border=\"1\" class=\"dataframe\">\n",
       "  <thead>\n",
       "    <tr style=\"text-align: right;\">\n",
       "      <th></th>\n",
       "      <th>id</th>\n",
       "      <th>Fecha</th>\n",
       "      <th>Proveedor</th>\n",
       "      <th>Prioridad</th>\n",
       "      <th>Cantidad</th>\n",
       "      <th>Ventas</th>\n",
       "      <th>Descuento</th>\n",
       "      <th>Modo_envio</th>\n",
       "      <th>Margen</th>\n",
       "      <th>Utilidad</th>\n",
       "      <th>Precio_venta</th>\n",
       "      <th>Precio_costo</th>\n",
       "      <th>Costo_envio</th>\n",
       "      <th>Nombre_cliente</th>\n",
       "      <th>Region</th>\n",
       "      <th>Segmento</th>\n",
       "      <th>Categoria</th>\n",
       "      <th>Subcategoria</th>\n",
       "    </tr>\n",
       "  </thead>\n",
       "  <tbody>\n",
       "    <tr>\n",
       "      <th>0</th>\n",
       "      <td>42</td>\n",
       "      <td>21/5/2023</td>\n",
       "      <td>NaN</td>\n",
       "      <td>Baja</td>\n",
       "      <td>44</td>\n",
       "      <td>259435.04</td>\n",
       "      <td>0.82</td>\n",
       "      <td>Aereo expreso</td>\n",
       "      <td>0.21</td>\n",
       "      <td>544.81</td>\n",
       "      <td>5945.0</td>\n",
       "      <td>6.48</td>\n",
       "      <td>3.92</td>\n",
       "      <td>Andrea Alfonzo</td>\n",
       "      <td>Peru</td>\n",
       "      <td>Corporativo</td>\n",
       "      <td>Tecnologia</td>\n",
       "      <td>Cable de red</td>\n",
       "    </tr>\n",
       "    <tr>\n",
       "      <th>1</th>\n",
       "      <td>87</td>\n",
       "      <td>22/5/2023</td>\n",
       "      <td>NaN</td>\n",
       "      <td>Alta</td>\n",
       "      <td>61</td>\n",
       "      <td>301835.26</td>\n",
       "      <td>0.70</td>\n",
       "      <td>Aereo expreso</td>\n",
       "      <td>0.20</td>\n",
       "      <td>603.67</td>\n",
       "      <td>4983.0</td>\n",
       "      <td>155.99</td>\n",
       "      <td>4.62</td>\n",
       "      <td>Andrea Alfonzo</td>\n",
       "      <td>Paraguay</td>\n",
       "      <td>Corporativo</td>\n",
       "      <td>Tecnologia</td>\n",
       "      <td>Monitor</td>\n",
       "    </tr>\n",
       "    <tr>\n",
       "      <th>2</th>\n",
       "      <td>24</td>\n",
       "      <td>23/5/2023</td>\n",
       "      <td>NaN</td>\n",
       "      <td>Regular</td>\n",
       "      <td>11</td>\n",
       "      <td>104129.43</td>\n",
       "      <td>0.98</td>\n",
       "      <td>Terrestre</td>\n",
       "      <td>0.29</td>\n",
       "      <td>301.98</td>\n",
       "      <td>9560.0</td>\n",
       "      <td>65.99</td>\n",
       "      <td>54.74</td>\n",
       "      <td>Anne Pryre</td>\n",
       "      <td>Argentina</td>\n",
       "      <td>Corporativo</td>\n",
       "      <td>Elementos de oficina</td>\n",
       "      <td>Toner</td>\n",
       "    </tr>\n",
       "    <tr>\n",
       "      <th>3</th>\n",
       "      <td>69</td>\n",
       "      <td>24/5/2023</td>\n",
       "      <td>NaN</td>\n",
       "      <td>Baja</td>\n",
       "      <td>51</td>\n",
       "      <td>683824.51</td>\n",
       "      <td>0.87</td>\n",
       "      <td>Aereo expreso</td>\n",
       "      <td>0.37</td>\n",
       "      <td>2530.15</td>\n",
       "      <td>13526.0</td>\n",
       "      <td>150.98</td>\n",
       "      <td>4.20</td>\n",
       "      <td>Anne Pryre</td>\n",
       "      <td>Chile</td>\n",
       "      <td>Corporativo</td>\n",
       "      <td>Muebles</td>\n",
       "      <td>Escritorio</td>\n",
       "    </tr>\n",
       "    <tr>\n",
       "      <th>4</th>\n",
       "      <td>54</td>\n",
       "      <td>25/5/2023</td>\n",
       "      <td>NaN</td>\n",
       "      <td>Alta</td>\n",
       "      <td>8</td>\n",
       "      <td>13834.09</td>\n",
       "      <td>0.56</td>\n",
       "      <td>Aereo regular</td>\n",
       "      <td>0.32</td>\n",
       "      <td>44.27</td>\n",
       "      <td>1739.0</td>\n",
       "      <td>2.08</td>\n",
       "      <td>54.74</td>\n",
       "      <td>Arthur Gainer</td>\n",
       "      <td>Bolivia</td>\n",
       "      <td>Consumidor</td>\n",
       "      <td>Elementos de oficina</td>\n",
       "      <td>Cuaderno</td>\n",
       "    </tr>\n",
       "  </tbody>\n",
       "</table>\n",
       "</div>"
      ],
      "text/plain": [
       "   id      Fecha  Proveedor Prioridad  Cantidad     Ventas  Descuento  \\\n",
       "0  42  21/5/2023        NaN      Baja        44  259435.04       0.82   \n",
       "1  87  22/5/2023        NaN      Alta        61  301835.26       0.70   \n",
       "2  24  23/5/2023        NaN   Regular        11  104129.43       0.98   \n",
       "3  69  24/5/2023        NaN      Baja        51  683824.51       0.87   \n",
       "4  54  25/5/2023        NaN      Alta         8   13834.09       0.56   \n",
       "\n",
       "      Modo_envio  Margen  Utilidad  Precio_venta  Precio_costo  Costo_envio  \\\n",
       "0  Aereo expreso    0.21    544.81        5945.0          6.48         3.92   \n",
       "1  Aereo expreso    0.20    603.67        4983.0        155.99         4.62   \n",
       "2      Terrestre    0.29    301.98        9560.0         65.99        54.74   \n",
       "3  Aereo expreso    0.37   2530.15       13526.0        150.98         4.20   \n",
       "4  Aereo regular    0.32     44.27        1739.0          2.08        54.74   \n",
       "\n",
       "   Nombre_cliente    Region      Segmento             Categoria  Subcategoria  \n",
       "0  Andrea Alfonzo       Peru  Corporativo            Tecnologia  Cable de red  \n",
       "1  Andrea Alfonzo   Paraguay  Corporativo            Tecnologia       Monitor  \n",
       "2      Anne Pryre  Argentina  Corporativo  Elementos de oficina         Toner  \n",
       "3      Anne Pryre      Chile  Corporativo               Muebles    Escritorio  \n",
       "4   Arthur Gainer    Bolivia   Consumidor  Elementos de oficina      Cuaderno  "
      ]
     },
     "execution_count": 46,
     "metadata": {},
     "output_type": "execute_result"
    }
   ],
   "source": [
    "df.head()"
   ]
  },
  {
   "cell_type": "code",
   "execution_count": 48,
   "metadata": {},
   "outputs": [
    {
     "data": {
      "application/vnd.plotly.v1+json": {
       "config": {
        "plotlyServerURL": "https://plot.ly"
       },
       "data": [
        {
         "branchvalues": "total",
         "domain": {
          "x": [
           0,
           1
          ],
          "y": [
           0,
           1
          ]
         },
         "hovertemplate": "labels=%{label}<br>count=%{value}<br>parent=%{parent}<br>id=%{id}<extra></extra>",
         "ids": [
          "Elementos de oficina/Anotador",
          "Tecnologia/Cable de red",
          "Muebles/Cama",
          "Elementos de oficina/Click",
          "Elementos de oficina/Cuaderno",
          "Muebles/Escritorio",
          "Tecnologia/Fuente",
          "Elementos de oficina/Hojas A4",
          "Elementos de oficina/Lapicera",
          "Muebles/Mesa",
          "Tecnologia/Monitor",
          "Tecnologia/Mouse",
          "Tecnologia/Parlante",
          "Tecnologia/Router",
          "Muebles/Silla",
          "Muebles/Sofa",
          "Tecnologia/Teclado",
          "Elementos de oficina/Toner",
          "Elementos de oficina",
          "Muebles",
          "Tecnologia"
         ],
         "labels": [
          "Anotador",
          "Cable de red",
          "Cama",
          "Click",
          "Cuaderno",
          "Escritorio",
          "Fuente",
          "Hojas A4",
          "Lapicera",
          "Mesa",
          "Monitor",
          "Mouse",
          "Parlante",
          "Router",
          "Silla",
          "Sofa",
          "Teclado",
          "Toner",
          "Elementos de oficina",
          "Muebles",
          "Tecnologia"
         ],
         "name": "",
         "parents": [
          "Elementos de oficina",
          "Tecnologia",
          "Muebles",
          "Elementos de oficina",
          "Elementos de oficina",
          "Muebles",
          "Tecnologia",
          "Elementos de oficina",
          "Elementos de oficina",
          "Muebles",
          "Tecnologia",
          "Tecnologia",
          "Tecnologia",
          "Tecnologia",
          "Muebles",
          "Muebles",
          "Tecnologia",
          "Elementos de oficina",
          "",
          "",
          ""
         ],
         "type": "sunburst",
         "values": [
          5,
          7,
          2,
          4,
          6,
          7,
          7,
          5,
          6,
          5,
          7,
          6,
          8,
          4,
          5,
          4,
          7,
          5,
          31,
          23,
          46
         ]
        }
       ],
       "layout": {
        "legend": {
         "tracegroupgap": 0
        },
        "template": {
         "data": {
          "bar": [
           {
            "error_x": {
             "color": "#2a3f5f"
            },
            "error_y": {
             "color": "#2a3f5f"
            },
            "marker": {
             "line": {
              "color": "#E5ECF6",
              "width": 0.5
             },
             "pattern": {
              "fillmode": "overlay",
              "size": 10,
              "solidity": 0.2
             }
            },
            "type": "bar"
           }
          ],
          "barpolar": [
           {
            "marker": {
             "line": {
              "color": "#E5ECF6",
              "width": 0.5
             },
             "pattern": {
              "fillmode": "overlay",
              "size": 10,
              "solidity": 0.2
             }
            },
            "type": "barpolar"
           }
          ],
          "carpet": [
           {
            "aaxis": {
             "endlinecolor": "#2a3f5f",
             "gridcolor": "white",
             "linecolor": "white",
             "minorgridcolor": "white",
             "startlinecolor": "#2a3f5f"
            },
            "baxis": {
             "endlinecolor": "#2a3f5f",
             "gridcolor": "white",
             "linecolor": "white",
             "minorgridcolor": "white",
             "startlinecolor": "#2a3f5f"
            },
            "type": "carpet"
           }
          ],
          "choropleth": [
           {
            "colorbar": {
             "outlinewidth": 0,
             "ticks": ""
            },
            "type": "choropleth"
           }
          ],
          "contour": [
           {
            "colorbar": {
             "outlinewidth": 0,
             "ticks": ""
            },
            "colorscale": [
             [
              0,
              "#0d0887"
             ],
             [
              0.1111111111111111,
              "#46039f"
             ],
             [
              0.2222222222222222,
              "#7201a8"
             ],
             [
              0.3333333333333333,
              "#9c179e"
             ],
             [
              0.4444444444444444,
              "#bd3786"
             ],
             [
              0.5555555555555556,
              "#d8576b"
             ],
             [
              0.6666666666666666,
              "#ed7953"
             ],
             [
              0.7777777777777778,
              "#fb9f3a"
             ],
             [
              0.8888888888888888,
              "#fdca26"
             ],
             [
              1,
              "#f0f921"
             ]
            ],
            "type": "contour"
           }
          ],
          "contourcarpet": [
           {
            "colorbar": {
             "outlinewidth": 0,
             "ticks": ""
            },
            "type": "contourcarpet"
           }
          ],
          "heatmap": [
           {
            "colorbar": {
             "outlinewidth": 0,
             "ticks": ""
            },
            "colorscale": [
             [
              0,
              "#0d0887"
             ],
             [
              0.1111111111111111,
              "#46039f"
             ],
             [
              0.2222222222222222,
              "#7201a8"
             ],
             [
              0.3333333333333333,
              "#9c179e"
             ],
             [
              0.4444444444444444,
              "#bd3786"
             ],
             [
              0.5555555555555556,
              "#d8576b"
             ],
             [
              0.6666666666666666,
              "#ed7953"
             ],
             [
              0.7777777777777778,
              "#fb9f3a"
             ],
             [
              0.8888888888888888,
              "#fdca26"
             ],
             [
              1,
              "#f0f921"
             ]
            ],
            "type": "heatmap"
           }
          ],
          "heatmapgl": [
           {
            "colorbar": {
             "outlinewidth": 0,
             "ticks": ""
            },
            "colorscale": [
             [
              0,
              "#0d0887"
             ],
             [
              0.1111111111111111,
              "#46039f"
             ],
             [
              0.2222222222222222,
              "#7201a8"
             ],
             [
              0.3333333333333333,
              "#9c179e"
             ],
             [
              0.4444444444444444,
              "#bd3786"
             ],
             [
              0.5555555555555556,
              "#d8576b"
             ],
             [
              0.6666666666666666,
              "#ed7953"
             ],
             [
              0.7777777777777778,
              "#fb9f3a"
             ],
             [
              0.8888888888888888,
              "#fdca26"
             ],
             [
              1,
              "#f0f921"
             ]
            ],
            "type": "heatmapgl"
           }
          ],
          "histogram": [
           {
            "marker": {
             "pattern": {
              "fillmode": "overlay",
              "size": 10,
              "solidity": 0.2
             }
            },
            "type": "histogram"
           }
          ],
          "histogram2d": [
           {
            "colorbar": {
             "outlinewidth": 0,
             "ticks": ""
            },
            "colorscale": [
             [
              0,
              "#0d0887"
             ],
             [
              0.1111111111111111,
              "#46039f"
             ],
             [
              0.2222222222222222,
              "#7201a8"
             ],
             [
              0.3333333333333333,
              "#9c179e"
             ],
             [
              0.4444444444444444,
              "#bd3786"
             ],
             [
              0.5555555555555556,
              "#d8576b"
             ],
             [
              0.6666666666666666,
              "#ed7953"
             ],
             [
              0.7777777777777778,
              "#fb9f3a"
             ],
             [
              0.8888888888888888,
              "#fdca26"
             ],
             [
              1,
              "#f0f921"
             ]
            ],
            "type": "histogram2d"
           }
          ],
          "histogram2dcontour": [
           {
            "colorbar": {
             "outlinewidth": 0,
             "ticks": ""
            },
            "colorscale": [
             [
              0,
              "#0d0887"
             ],
             [
              0.1111111111111111,
              "#46039f"
             ],
             [
              0.2222222222222222,
              "#7201a8"
             ],
             [
              0.3333333333333333,
              "#9c179e"
             ],
             [
              0.4444444444444444,
              "#bd3786"
             ],
             [
              0.5555555555555556,
              "#d8576b"
             ],
             [
              0.6666666666666666,
              "#ed7953"
             ],
             [
              0.7777777777777778,
              "#fb9f3a"
             ],
             [
              0.8888888888888888,
              "#fdca26"
             ],
             [
              1,
              "#f0f921"
             ]
            ],
            "type": "histogram2dcontour"
           }
          ],
          "mesh3d": [
           {
            "colorbar": {
             "outlinewidth": 0,
             "ticks": ""
            },
            "type": "mesh3d"
           }
          ],
          "parcoords": [
           {
            "line": {
             "colorbar": {
              "outlinewidth": 0,
              "ticks": ""
             }
            },
            "type": "parcoords"
           }
          ],
          "pie": [
           {
            "automargin": true,
            "type": "pie"
           }
          ],
          "scatter": [
           {
            "fillpattern": {
             "fillmode": "overlay",
             "size": 10,
             "solidity": 0.2
            },
            "type": "scatter"
           }
          ],
          "scatter3d": [
           {
            "line": {
             "colorbar": {
              "outlinewidth": 0,
              "ticks": ""
             }
            },
            "marker": {
             "colorbar": {
              "outlinewidth": 0,
              "ticks": ""
             }
            },
            "type": "scatter3d"
           }
          ],
          "scattercarpet": [
           {
            "marker": {
             "colorbar": {
              "outlinewidth": 0,
              "ticks": ""
             }
            },
            "type": "scattercarpet"
           }
          ],
          "scattergeo": [
           {
            "marker": {
             "colorbar": {
              "outlinewidth": 0,
              "ticks": ""
             }
            },
            "type": "scattergeo"
           }
          ],
          "scattergl": [
           {
            "marker": {
             "colorbar": {
              "outlinewidth": 0,
              "ticks": ""
             }
            },
            "type": "scattergl"
           }
          ],
          "scattermapbox": [
           {
            "marker": {
             "colorbar": {
              "outlinewidth": 0,
              "ticks": ""
             }
            },
            "type": "scattermapbox"
           }
          ],
          "scatterpolar": [
           {
            "marker": {
             "colorbar": {
              "outlinewidth": 0,
              "ticks": ""
             }
            },
            "type": "scatterpolar"
           }
          ],
          "scatterpolargl": [
           {
            "marker": {
             "colorbar": {
              "outlinewidth": 0,
              "ticks": ""
             }
            },
            "type": "scatterpolargl"
           }
          ],
          "scatterternary": [
           {
            "marker": {
             "colorbar": {
              "outlinewidth": 0,
              "ticks": ""
             }
            },
            "type": "scatterternary"
           }
          ],
          "surface": [
           {
            "colorbar": {
             "outlinewidth": 0,
             "ticks": ""
            },
            "colorscale": [
             [
              0,
              "#0d0887"
             ],
             [
              0.1111111111111111,
              "#46039f"
             ],
             [
              0.2222222222222222,
              "#7201a8"
             ],
             [
              0.3333333333333333,
              "#9c179e"
             ],
             [
              0.4444444444444444,
              "#bd3786"
             ],
             [
              0.5555555555555556,
              "#d8576b"
             ],
             [
              0.6666666666666666,
              "#ed7953"
             ],
             [
              0.7777777777777778,
              "#fb9f3a"
             ],
             [
              0.8888888888888888,
              "#fdca26"
             ],
             [
              1,
              "#f0f921"
             ]
            ],
            "type": "surface"
           }
          ],
          "table": [
           {
            "cells": {
             "fill": {
              "color": "#EBF0F8"
             },
             "line": {
              "color": "white"
             }
            },
            "header": {
             "fill": {
              "color": "#C8D4E3"
             },
             "line": {
              "color": "white"
             }
            },
            "type": "table"
           }
          ]
         },
         "layout": {
          "annotationdefaults": {
           "arrowcolor": "#2a3f5f",
           "arrowhead": 0,
           "arrowwidth": 1
          },
          "autotypenumbers": "strict",
          "coloraxis": {
           "colorbar": {
            "outlinewidth": 0,
            "ticks": ""
           }
          },
          "colorscale": {
           "diverging": [
            [
             0,
             "#8e0152"
            ],
            [
             0.1,
             "#c51b7d"
            ],
            [
             0.2,
             "#de77ae"
            ],
            [
             0.3,
             "#f1b6da"
            ],
            [
             0.4,
             "#fde0ef"
            ],
            [
             0.5,
             "#f7f7f7"
            ],
            [
             0.6,
             "#e6f5d0"
            ],
            [
             0.7,
             "#b8e186"
            ],
            [
             0.8,
             "#7fbc41"
            ],
            [
             0.9,
             "#4d9221"
            ],
            [
             1,
             "#276419"
            ]
           ],
           "sequential": [
            [
             0,
             "#0d0887"
            ],
            [
             0.1111111111111111,
             "#46039f"
            ],
            [
             0.2222222222222222,
             "#7201a8"
            ],
            [
             0.3333333333333333,
             "#9c179e"
            ],
            [
             0.4444444444444444,
             "#bd3786"
            ],
            [
             0.5555555555555556,
             "#d8576b"
            ],
            [
             0.6666666666666666,
             "#ed7953"
            ],
            [
             0.7777777777777778,
             "#fb9f3a"
            ],
            [
             0.8888888888888888,
             "#fdca26"
            ],
            [
             1,
             "#f0f921"
            ]
           ],
           "sequentialminus": [
            [
             0,
             "#0d0887"
            ],
            [
             0.1111111111111111,
             "#46039f"
            ],
            [
             0.2222222222222222,
             "#7201a8"
            ],
            [
             0.3333333333333333,
             "#9c179e"
            ],
            [
             0.4444444444444444,
             "#bd3786"
            ],
            [
             0.5555555555555556,
             "#d8576b"
            ],
            [
             0.6666666666666666,
             "#ed7953"
            ],
            [
             0.7777777777777778,
             "#fb9f3a"
            ],
            [
             0.8888888888888888,
             "#fdca26"
            ],
            [
             1,
             "#f0f921"
            ]
           ]
          },
          "colorway": [
           "#636efa",
           "#EF553B",
           "#00cc96",
           "#ab63fa",
           "#FFA15A",
           "#19d3f3",
           "#FF6692",
           "#B6E880",
           "#FF97FF",
           "#FECB52"
          ],
          "font": {
           "color": "#2a3f5f"
          },
          "geo": {
           "bgcolor": "white",
           "lakecolor": "white",
           "landcolor": "#E5ECF6",
           "showlakes": true,
           "showland": true,
           "subunitcolor": "white"
          },
          "hoverlabel": {
           "align": "left"
          },
          "hovermode": "closest",
          "mapbox": {
           "style": "light"
          },
          "paper_bgcolor": "white",
          "plot_bgcolor": "#E5ECF6",
          "polar": {
           "angularaxis": {
            "gridcolor": "white",
            "linecolor": "white",
            "ticks": ""
           },
           "bgcolor": "#E5ECF6",
           "radialaxis": {
            "gridcolor": "white",
            "linecolor": "white",
            "ticks": ""
           }
          },
          "scene": {
           "xaxis": {
            "backgroundcolor": "#E5ECF6",
            "gridcolor": "white",
            "gridwidth": 2,
            "linecolor": "white",
            "showbackground": true,
            "ticks": "",
            "zerolinecolor": "white"
           },
           "yaxis": {
            "backgroundcolor": "#E5ECF6",
            "gridcolor": "white",
            "gridwidth": 2,
            "linecolor": "white",
            "showbackground": true,
            "ticks": "",
            "zerolinecolor": "white"
           },
           "zaxis": {
            "backgroundcolor": "#E5ECF6",
            "gridcolor": "white",
            "gridwidth": 2,
            "linecolor": "white",
            "showbackground": true,
            "ticks": "",
            "zerolinecolor": "white"
           }
          },
          "shapedefaults": {
           "line": {
            "color": "#2a3f5f"
           }
          },
          "ternary": {
           "aaxis": {
            "gridcolor": "white",
            "linecolor": "white",
            "ticks": ""
           },
           "baxis": {
            "gridcolor": "white",
            "linecolor": "white",
            "ticks": ""
           },
           "bgcolor": "#E5ECF6",
           "caxis": {
            "gridcolor": "white",
            "linecolor": "white",
            "ticks": ""
           }
          },
          "title": {
           "x": 0.05
          },
          "xaxis": {
           "automargin": true,
           "gridcolor": "white",
           "linecolor": "white",
           "ticks": "",
           "title": {
            "standoff": 15
           },
           "zerolinecolor": "white",
           "zerolinewidth": 2
          },
          "yaxis": {
           "automargin": true,
           "gridcolor": "white",
           "linecolor": "white",
           "ticks": "",
           "title": {
            "standoff": 15
           },
           "zerolinecolor": "white",
           "zerolinewidth": 2
          }
         }
        },
        "title": {
         "text": "Prioridad y Categoria"
        }
       }
      }
     },
     "metadata": {},
     "output_type": "display_data"
    }
   ],
   "source": [
    "fig = px.sunburst(df, path=['Categoria','Subcategoria'], title ='Prioridad y Categoria',\n",
    "                 labels={'Categoria': 'Subcategoria'})\n",
    "fig.show()"
   ]
  },
  {
   "cell_type": "code",
   "execution_count": 49,
   "metadata": {},
   "outputs": [
    {
     "data": {
      "application/vnd.plotly.v1+json": {
       "config": {
        "plotlyServerURL": "https://plot.ly"
       },
       "data": [
        {
         "branchvalues": "total",
         "domain": {
          "x": [
           0,
           1
          ],
          "y": [
           0,
           1
          ]
         },
         "hovertemplate": "labels=%{label}<br>count=%{value}<br>parent=%{parent}<br>id=%{id}<extra></extra>",
         "ids": [
          "Alta/Elementos de oficina",
          "Baja/Elementos de oficina",
          "Critica/Elementos de oficina",
          "Normal/Elementos de oficina",
          "Regular/Elementos de oficina",
          "Alta/Muebles",
          "Baja/Muebles",
          "Critica/Muebles",
          "Normal/Muebles",
          "Regular/Muebles",
          "Alta/Tecnologia",
          "Baja/Tecnologia",
          "Critica/Tecnologia",
          "Normal/Tecnologia",
          "Regular/Tecnologia",
          "Alta",
          "Baja",
          "Critica",
          "Normal",
          "Regular"
         ],
         "labels": [
          "Elementos de oficina",
          "Elementos de oficina",
          "Elementos de oficina",
          "Elementos de oficina",
          "Elementos de oficina",
          "Muebles",
          "Muebles",
          "Muebles",
          "Muebles",
          "Muebles",
          "Tecnologia",
          "Tecnologia",
          "Tecnologia",
          "Tecnologia",
          "Tecnologia",
          "Alta",
          "Baja",
          "Critica",
          "Normal",
          "Regular"
         ],
         "name": "",
         "parents": [
          "Alta",
          "Baja",
          "Critica",
          "Normal",
          "Regular",
          "Alta",
          "Baja",
          "Critica",
          "Normal",
          "Regular",
          "Alta",
          "Baja",
          "Critica",
          "Normal",
          "Regular",
          "",
          "",
          "",
          "",
          ""
         ],
         "type": "sunburst",
         "values": [
          7,
          8,
          3,
          3,
          10,
          9,
          6,
          1,
          3,
          4,
          16,
          9,
          3,
          6,
          12,
          32,
          23,
          7,
          12,
          26
         ]
        }
       ],
       "layout": {
        "legend": {
         "tracegroupgap": 0
        },
        "template": {
         "data": {
          "bar": [
           {
            "error_x": {
             "color": "#2a3f5f"
            },
            "error_y": {
             "color": "#2a3f5f"
            },
            "marker": {
             "line": {
              "color": "#E5ECF6",
              "width": 0.5
             },
             "pattern": {
              "fillmode": "overlay",
              "size": 10,
              "solidity": 0.2
             }
            },
            "type": "bar"
           }
          ],
          "barpolar": [
           {
            "marker": {
             "line": {
              "color": "#E5ECF6",
              "width": 0.5
             },
             "pattern": {
              "fillmode": "overlay",
              "size": 10,
              "solidity": 0.2
             }
            },
            "type": "barpolar"
           }
          ],
          "carpet": [
           {
            "aaxis": {
             "endlinecolor": "#2a3f5f",
             "gridcolor": "white",
             "linecolor": "white",
             "minorgridcolor": "white",
             "startlinecolor": "#2a3f5f"
            },
            "baxis": {
             "endlinecolor": "#2a3f5f",
             "gridcolor": "white",
             "linecolor": "white",
             "minorgridcolor": "white",
             "startlinecolor": "#2a3f5f"
            },
            "type": "carpet"
           }
          ],
          "choropleth": [
           {
            "colorbar": {
             "outlinewidth": 0,
             "ticks": ""
            },
            "type": "choropleth"
           }
          ],
          "contour": [
           {
            "colorbar": {
             "outlinewidth": 0,
             "ticks": ""
            },
            "colorscale": [
             [
              0,
              "#0d0887"
             ],
             [
              0.1111111111111111,
              "#46039f"
             ],
             [
              0.2222222222222222,
              "#7201a8"
             ],
             [
              0.3333333333333333,
              "#9c179e"
             ],
             [
              0.4444444444444444,
              "#bd3786"
             ],
             [
              0.5555555555555556,
              "#d8576b"
             ],
             [
              0.6666666666666666,
              "#ed7953"
             ],
             [
              0.7777777777777778,
              "#fb9f3a"
             ],
             [
              0.8888888888888888,
              "#fdca26"
             ],
             [
              1,
              "#f0f921"
             ]
            ],
            "type": "contour"
           }
          ],
          "contourcarpet": [
           {
            "colorbar": {
             "outlinewidth": 0,
             "ticks": ""
            },
            "type": "contourcarpet"
           }
          ],
          "heatmap": [
           {
            "colorbar": {
             "outlinewidth": 0,
             "ticks": ""
            },
            "colorscale": [
             [
              0,
              "#0d0887"
             ],
             [
              0.1111111111111111,
              "#46039f"
             ],
             [
              0.2222222222222222,
              "#7201a8"
             ],
             [
              0.3333333333333333,
              "#9c179e"
             ],
             [
              0.4444444444444444,
              "#bd3786"
             ],
             [
              0.5555555555555556,
              "#d8576b"
             ],
             [
              0.6666666666666666,
              "#ed7953"
             ],
             [
              0.7777777777777778,
              "#fb9f3a"
             ],
             [
              0.8888888888888888,
              "#fdca26"
             ],
             [
              1,
              "#f0f921"
             ]
            ],
            "type": "heatmap"
           }
          ],
          "heatmapgl": [
           {
            "colorbar": {
             "outlinewidth": 0,
             "ticks": ""
            },
            "colorscale": [
             [
              0,
              "#0d0887"
             ],
             [
              0.1111111111111111,
              "#46039f"
             ],
             [
              0.2222222222222222,
              "#7201a8"
             ],
             [
              0.3333333333333333,
              "#9c179e"
             ],
             [
              0.4444444444444444,
              "#bd3786"
             ],
             [
              0.5555555555555556,
              "#d8576b"
             ],
             [
              0.6666666666666666,
              "#ed7953"
             ],
             [
              0.7777777777777778,
              "#fb9f3a"
             ],
             [
              0.8888888888888888,
              "#fdca26"
             ],
             [
              1,
              "#f0f921"
             ]
            ],
            "type": "heatmapgl"
           }
          ],
          "histogram": [
           {
            "marker": {
             "pattern": {
              "fillmode": "overlay",
              "size": 10,
              "solidity": 0.2
             }
            },
            "type": "histogram"
           }
          ],
          "histogram2d": [
           {
            "colorbar": {
             "outlinewidth": 0,
             "ticks": ""
            },
            "colorscale": [
             [
              0,
              "#0d0887"
             ],
             [
              0.1111111111111111,
              "#46039f"
             ],
             [
              0.2222222222222222,
              "#7201a8"
             ],
             [
              0.3333333333333333,
              "#9c179e"
             ],
             [
              0.4444444444444444,
              "#bd3786"
             ],
             [
              0.5555555555555556,
              "#d8576b"
             ],
             [
              0.6666666666666666,
              "#ed7953"
             ],
             [
              0.7777777777777778,
              "#fb9f3a"
             ],
             [
              0.8888888888888888,
              "#fdca26"
             ],
             [
              1,
              "#f0f921"
             ]
            ],
            "type": "histogram2d"
           }
          ],
          "histogram2dcontour": [
           {
            "colorbar": {
             "outlinewidth": 0,
             "ticks": ""
            },
            "colorscale": [
             [
              0,
              "#0d0887"
             ],
             [
              0.1111111111111111,
              "#46039f"
             ],
             [
              0.2222222222222222,
              "#7201a8"
             ],
             [
              0.3333333333333333,
              "#9c179e"
             ],
             [
              0.4444444444444444,
              "#bd3786"
             ],
             [
              0.5555555555555556,
              "#d8576b"
             ],
             [
              0.6666666666666666,
              "#ed7953"
             ],
             [
              0.7777777777777778,
              "#fb9f3a"
             ],
             [
              0.8888888888888888,
              "#fdca26"
             ],
             [
              1,
              "#f0f921"
             ]
            ],
            "type": "histogram2dcontour"
           }
          ],
          "mesh3d": [
           {
            "colorbar": {
             "outlinewidth": 0,
             "ticks": ""
            },
            "type": "mesh3d"
           }
          ],
          "parcoords": [
           {
            "line": {
             "colorbar": {
              "outlinewidth": 0,
              "ticks": ""
             }
            },
            "type": "parcoords"
           }
          ],
          "pie": [
           {
            "automargin": true,
            "type": "pie"
           }
          ],
          "scatter": [
           {
            "fillpattern": {
             "fillmode": "overlay",
             "size": 10,
             "solidity": 0.2
            },
            "type": "scatter"
           }
          ],
          "scatter3d": [
           {
            "line": {
             "colorbar": {
              "outlinewidth": 0,
              "ticks": ""
             }
            },
            "marker": {
             "colorbar": {
              "outlinewidth": 0,
              "ticks": ""
             }
            },
            "type": "scatter3d"
           }
          ],
          "scattercarpet": [
           {
            "marker": {
             "colorbar": {
              "outlinewidth": 0,
              "ticks": ""
             }
            },
            "type": "scattercarpet"
           }
          ],
          "scattergeo": [
           {
            "marker": {
             "colorbar": {
              "outlinewidth": 0,
              "ticks": ""
             }
            },
            "type": "scattergeo"
           }
          ],
          "scattergl": [
           {
            "marker": {
             "colorbar": {
              "outlinewidth": 0,
              "ticks": ""
             }
            },
            "type": "scattergl"
           }
          ],
          "scattermapbox": [
           {
            "marker": {
             "colorbar": {
              "outlinewidth": 0,
              "ticks": ""
             }
            },
            "type": "scattermapbox"
           }
          ],
          "scatterpolar": [
           {
            "marker": {
             "colorbar": {
              "outlinewidth": 0,
              "ticks": ""
             }
            },
            "type": "scatterpolar"
           }
          ],
          "scatterpolargl": [
           {
            "marker": {
             "colorbar": {
              "outlinewidth": 0,
              "ticks": ""
             }
            },
            "type": "scatterpolargl"
           }
          ],
          "scatterternary": [
           {
            "marker": {
             "colorbar": {
              "outlinewidth": 0,
              "ticks": ""
             }
            },
            "type": "scatterternary"
           }
          ],
          "surface": [
           {
            "colorbar": {
             "outlinewidth": 0,
             "ticks": ""
            },
            "colorscale": [
             [
              0,
              "#0d0887"
             ],
             [
              0.1111111111111111,
              "#46039f"
             ],
             [
              0.2222222222222222,
              "#7201a8"
             ],
             [
              0.3333333333333333,
              "#9c179e"
             ],
             [
              0.4444444444444444,
              "#bd3786"
             ],
             [
              0.5555555555555556,
              "#d8576b"
             ],
             [
              0.6666666666666666,
              "#ed7953"
             ],
             [
              0.7777777777777778,
              "#fb9f3a"
             ],
             [
              0.8888888888888888,
              "#fdca26"
             ],
             [
              1,
              "#f0f921"
             ]
            ],
            "type": "surface"
           }
          ],
          "table": [
           {
            "cells": {
             "fill": {
              "color": "#EBF0F8"
             },
             "line": {
              "color": "white"
             }
            },
            "header": {
             "fill": {
              "color": "#C8D4E3"
             },
             "line": {
              "color": "white"
             }
            },
            "type": "table"
           }
          ]
         },
         "layout": {
          "annotationdefaults": {
           "arrowcolor": "#2a3f5f",
           "arrowhead": 0,
           "arrowwidth": 1
          },
          "autotypenumbers": "strict",
          "coloraxis": {
           "colorbar": {
            "outlinewidth": 0,
            "ticks": ""
           }
          },
          "colorscale": {
           "diverging": [
            [
             0,
             "#8e0152"
            ],
            [
             0.1,
             "#c51b7d"
            ],
            [
             0.2,
             "#de77ae"
            ],
            [
             0.3,
             "#f1b6da"
            ],
            [
             0.4,
             "#fde0ef"
            ],
            [
             0.5,
             "#f7f7f7"
            ],
            [
             0.6,
             "#e6f5d0"
            ],
            [
             0.7,
             "#b8e186"
            ],
            [
             0.8,
             "#7fbc41"
            ],
            [
             0.9,
             "#4d9221"
            ],
            [
             1,
             "#276419"
            ]
           ],
           "sequential": [
            [
             0,
             "#0d0887"
            ],
            [
             0.1111111111111111,
             "#46039f"
            ],
            [
             0.2222222222222222,
             "#7201a8"
            ],
            [
             0.3333333333333333,
             "#9c179e"
            ],
            [
             0.4444444444444444,
             "#bd3786"
            ],
            [
             0.5555555555555556,
             "#d8576b"
            ],
            [
             0.6666666666666666,
             "#ed7953"
            ],
            [
             0.7777777777777778,
             "#fb9f3a"
            ],
            [
             0.8888888888888888,
             "#fdca26"
            ],
            [
             1,
             "#f0f921"
            ]
           ],
           "sequentialminus": [
            [
             0,
             "#0d0887"
            ],
            [
             0.1111111111111111,
             "#46039f"
            ],
            [
             0.2222222222222222,
             "#7201a8"
            ],
            [
             0.3333333333333333,
             "#9c179e"
            ],
            [
             0.4444444444444444,
             "#bd3786"
            ],
            [
             0.5555555555555556,
             "#d8576b"
            ],
            [
             0.6666666666666666,
             "#ed7953"
            ],
            [
             0.7777777777777778,
             "#fb9f3a"
            ],
            [
             0.8888888888888888,
             "#fdca26"
            ],
            [
             1,
             "#f0f921"
            ]
           ]
          },
          "colorway": [
           "#636efa",
           "#EF553B",
           "#00cc96",
           "#ab63fa",
           "#FFA15A",
           "#19d3f3",
           "#FF6692",
           "#B6E880",
           "#FF97FF",
           "#FECB52"
          ],
          "font": {
           "color": "#2a3f5f"
          },
          "geo": {
           "bgcolor": "white",
           "lakecolor": "white",
           "landcolor": "#E5ECF6",
           "showlakes": true,
           "showland": true,
           "subunitcolor": "white"
          },
          "hoverlabel": {
           "align": "left"
          },
          "hovermode": "closest",
          "mapbox": {
           "style": "light"
          },
          "paper_bgcolor": "white",
          "plot_bgcolor": "#E5ECF6",
          "polar": {
           "angularaxis": {
            "gridcolor": "white",
            "linecolor": "white",
            "ticks": ""
           },
           "bgcolor": "#E5ECF6",
           "radialaxis": {
            "gridcolor": "white",
            "linecolor": "white",
            "ticks": ""
           }
          },
          "scene": {
           "xaxis": {
            "backgroundcolor": "#E5ECF6",
            "gridcolor": "white",
            "gridwidth": 2,
            "linecolor": "white",
            "showbackground": true,
            "ticks": "",
            "zerolinecolor": "white"
           },
           "yaxis": {
            "backgroundcolor": "#E5ECF6",
            "gridcolor": "white",
            "gridwidth": 2,
            "linecolor": "white",
            "showbackground": true,
            "ticks": "",
            "zerolinecolor": "white"
           },
           "zaxis": {
            "backgroundcolor": "#E5ECF6",
            "gridcolor": "white",
            "gridwidth": 2,
            "linecolor": "white",
            "showbackground": true,
            "ticks": "",
            "zerolinecolor": "white"
           }
          },
          "shapedefaults": {
           "line": {
            "color": "#2a3f5f"
           }
          },
          "ternary": {
           "aaxis": {
            "gridcolor": "white",
            "linecolor": "white",
            "ticks": ""
           },
           "baxis": {
            "gridcolor": "white",
            "linecolor": "white",
            "ticks": ""
           },
           "bgcolor": "#E5ECF6",
           "caxis": {
            "gridcolor": "white",
            "linecolor": "white",
            "ticks": ""
           }
          },
          "title": {
           "x": 0.05
          },
          "xaxis": {
           "automargin": true,
           "gridcolor": "white",
           "linecolor": "white",
           "ticks": "",
           "title": {
            "standoff": 15
           },
           "zerolinecolor": "white",
           "zerolinewidth": 2
          },
          "yaxis": {
           "automargin": true,
           "gridcolor": "white",
           "linecolor": "white",
           "ticks": "",
           "title": {
            "standoff": 15
           },
           "zerolinecolor": "white",
           "zerolinewidth": 2
          }
         }
        },
        "title": {
         "text": "Prioridad y Categoria"
        }
       }
      }
     },
     "metadata": {},
     "output_type": "display_data"
    }
   ],
   "source": [
    "fig = px.sunburst(df, path=['Prioridad','Categoria'], title ='Prioridad y Categoria',\n",
    "                 labels={'Categoria': 'Categoria'})\n",
    "fig.show()"
   ]
  },
  {
   "cell_type": "code",
   "execution_count": 53,
   "metadata": {},
   "outputs": [
    {
     "data": {
      "application/vnd.plotly.v1+json": {
       "config": {
        "plotlyServerURL": "https://plot.ly"
       },
       "data": [
        {
         "hovertemplate": "Prioridad=Baja<br>Fecha=%{x}<br>Ventas=%{y}<extra></extra>",
         "legendgroup": "Baja",
         "line": {
          "color": "#636efa",
          "dash": "solid"
         },
         "marker": {
          "symbol": "circle"
         },
         "mode": "lines",
         "name": "Baja",
         "orientation": "v",
         "showlegend": true,
         "type": "scatter",
         "x": [
          "21/5/2023",
          "24/5/2023",
          "27/5/2023",
          "30/5/2023",
          "30/5/2023",
          "24/9/2023",
          "27/9/2023",
          "1/10/2023",
          "4/10/2023",
          "5/10/2023",
          "9/10/2023",
          "11/10/2023",
          "15/10/2023",
          "16/10/2023",
          "19/10/2023",
          "31/10/2023",
          "2/11/2023",
          "3/11/2023",
          "4/11/2023",
          "1/12/2023",
          "5/12/2023",
          "6/12/2023",
          "13/12/2023"
         ],
         "xaxis": "x",
         "y": [
          259435.04,
          683824.51,
          522722.14,
          224702.97,
          91340.89,
          37216.74,
          61374.84,
          127042.56,
          310090.85,
          17584.53,
          58222.66,
          23137.63,
          277921.48,
          36272.06,
          193107.06,
          592000.63,
          377342.53,
          580616.06,
          463520.8,
          32864.04,
          407.81,
          126922.22,
          732702.8
         ],
         "yaxis": "y"
        },
        {
         "hovertemplate": "Prioridad=Alta<br>Fecha=%{x}<br>Ventas=%{y}<extra></extra>",
         "legendgroup": "Alta",
         "line": {
          "color": "#EF553B",
          "dash": "solid"
         },
         "marker": {
          "symbol": "circle"
         },
         "mode": "lines",
         "name": "Alta",
         "orientation": "v",
         "showlegend": true,
         "type": "scatter",
         "x": [
          "22/5/2023",
          "25/5/2023",
          "30/5/2023",
          "30/5/2023",
          "30/5/2023",
          "30/5/2023",
          "22/9/2023",
          "29/9/2023",
          "2/10/2023",
          "13/10/2023",
          "21/10/2023",
          "24/10/2023",
          "25/10/2023",
          "28/10/2023",
          "29/10/2023",
          "1/11/2023",
          "5/11/2023",
          "6/11/2023",
          "9/11/2023",
          "10/11/2023",
          "11/11/2023",
          "12/11/2023",
          "13/11/2023",
          "16/11/2023",
          "18/11/2023",
          "20/11/2023",
          "21/11/2023",
          "26/11/2023",
          "27/11/2023",
          "28/11/2023",
          "29/11/2023",
          "2/12/2023"
         ],
         "xaxis": "x",
         "y": [
          301835.26,
          13834.09,
          60853.89,
          335286.56,
          427409.83,
          35298.17,
          39477.27,
          121754.02,
          527561.28,
          8380.74,
          68030.1,
          607897.62,
          152397.23,
          287757.31,
          63948.14,
          113079.74,
          12648.77,
          258514.47,
          25675.16,
          999484.29,
          106579.73,
          13514.77,
          699909.1,
          134092.35,
          22668.46,
          146086.92,
          103453.23,
          535383.9,
          880050.05,
          356648.66,
          386734.05,
          38631.85
         ],
         "yaxis": "y"
        },
        {
         "hovertemplate": "Prioridad=Regular<br>Fecha=%{x}<br>Ventas=%{y}<extra></extra>",
         "legendgroup": "Regular",
         "line": {
          "color": "#00cc96",
          "dash": "solid"
         },
         "marker": {
          "symbol": "circle"
         },
         "mode": "lines",
         "name": "Regular",
         "orientation": "v",
         "showlegend": true,
         "type": "scatter",
         "x": [
          "23/5/2023",
          "28/5/2023",
          "23/9/2023",
          "25/9/2023",
          "26/9/2023",
          "28/9/2023",
          "6/10/2023",
          "10/10/2023",
          "12/10/2023",
          "14/10/2023",
          "22/10/2023",
          "23/10/2023",
          "7/11/2023",
          "8/11/2023",
          "14/11/2023",
          "17/11/2023",
          "24/11/2023",
          "30/11/2023",
          "3/12/2023",
          "7/12/2023",
          "8/12/2023",
          "9/12/2023",
          "10/12/2023",
          "11/12/2023",
          "12/12/2023",
          "14/12/2023"
         ],
         "xaxis": "x",
         "y": [
          104129.43,
          176785.27,
          41773.38,
          150248.67,
          198889.5,
          331576.63,
          306507.75,
          217533.94,
          140025.87,
          516056.73,
          190788.14,
          778810.9,
          15656.4,
          274094.3,
          179519.04,
          486486.96,
          126580.95,
          81576.25,
          17230.55,
          328923.7,
          519064.34,
          12049.11,
          542155.32,
          472036.69,
          148042.97,
          332907.55
         ],
         "yaxis": "y"
        },
        {
         "hovertemplate": "Prioridad=Critica<br>Fecha=%{x}<br>Ventas=%{y}<extra></extra>",
         "legendgroup": "Critica",
         "line": {
          "color": "#ab63fa",
          "dash": "solid"
         },
         "marker": {
          "symbol": "circle"
         },
         "mode": "lines",
         "name": "Critica",
         "orientation": "v",
         "showlegend": true,
         "type": "scatter",
         "x": [
          "26/5/2023",
          "3/10/2023",
          "18/10/2023",
          "20/10/2023",
          "27/10/2023",
          "19/11/2023",
          "4/12/2023"
         ],
         "xaxis": "x",
         "y": [
          422253.72,
          853709.99,
          84143.38,
          71570.12,
          208401.2,
          125185.09,
          407184.37
         ],
         "yaxis": "y"
        },
        {
         "hovertemplate": "Prioridad=Normal<br>Fecha=%{x}<br>Ventas=%{y}<extra></extra>",
         "legendgroup": "Normal",
         "line": {
          "color": "#FFA15A",
          "dash": "solid"
         },
         "marker": {
          "symbol": "circle"
         },
         "mode": "lines",
         "name": "Normal",
         "orientation": "v",
         "showlegend": true,
         "type": "scatter",
         "x": [
          "29/5/2023",
          "21/9/2023",
          "30/9/2023",
          "7/10/2023",
          "8/10/2023",
          "17/10/2023",
          "26/10/2023",
          "30/10/2023",
          "15/11/2023",
          "22/11/2023",
          "23/11/2023",
          "25/11/2023"
         ],
         "xaxis": "x",
         "y": [
          75551.23,
          866860.16,
          7151.36,
          124067.85,
          318417.62,
          282498.93,
          454610.18,
          91909.37,
          226771.2,
          354566.03,
          173526.38,
          134535.02
         ],
         "yaxis": "y"
        }
       ],
       "layout": {
        "legend": {
         "title": {
          "text": "Prioridad"
         },
         "tracegroupgap": 0
        },
        "template": {
         "data": {
          "bar": [
           {
            "error_x": {
             "color": "#2a3f5f"
            },
            "error_y": {
             "color": "#2a3f5f"
            },
            "marker": {
             "line": {
              "color": "#E5ECF6",
              "width": 0.5
             },
             "pattern": {
              "fillmode": "overlay",
              "size": 10,
              "solidity": 0.2
             }
            },
            "type": "bar"
           }
          ],
          "barpolar": [
           {
            "marker": {
             "line": {
              "color": "#E5ECF6",
              "width": 0.5
             },
             "pattern": {
              "fillmode": "overlay",
              "size": 10,
              "solidity": 0.2
             }
            },
            "type": "barpolar"
           }
          ],
          "carpet": [
           {
            "aaxis": {
             "endlinecolor": "#2a3f5f",
             "gridcolor": "white",
             "linecolor": "white",
             "minorgridcolor": "white",
             "startlinecolor": "#2a3f5f"
            },
            "baxis": {
             "endlinecolor": "#2a3f5f",
             "gridcolor": "white",
             "linecolor": "white",
             "minorgridcolor": "white",
             "startlinecolor": "#2a3f5f"
            },
            "type": "carpet"
           }
          ],
          "choropleth": [
           {
            "colorbar": {
             "outlinewidth": 0,
             "ticks": ""
            },
            "type": "choropleth"
           }
          ],
          "contour": [
           {
            "colorbar": {
             "outlinewidth": 0,
             "ticks": ""
            },
            "colorscale": [
             [
              0,
              "#0d0887"
             ],
             [
              0.1111111111111111,
              "#46039f"
             ],
             [
              0.2222222222222222,
              "#7201a8"
             ],
             [
              0.3333333333333333,
              "#9c179e"
             ],
             [
              0.4444444444444444,
              "#bd3786"
             ],
             [
              0.5555555555555556,
              "#d8576b"
             ],
             [
              0.6666666666666666,
              "#ed7953"
             ],
             [
              0.7777777777777778,
              "#fb9f3a"
             ],
             [
              0.8888888888888888,
              "#fdca26"
             ],
             [
              1,
              "#f0f921"
             ]
            ],
            "type": "contour"
           }
          ],
          "contourcarpet": [
           {
            "colorbar": {
             "outlinewidth": 0,
             "ticks": ""
            },
            "type": "contourcarpet"
           }
          ],
          "heatmap": [
           {
            "colorbar": {
             "outlinewidth": 0,
             "ticks": ""
            },
            "colorscale": [
             [
              0,
              "#0d0887"
             ],
             [
              0.1111111111111111,
              "#46039f"
             ],
             [
              0.2222222222222222,
              "#7201a8"
             ],
             [
              0.3333333333333333,
              "#9c179e"
             ],
             [
              0.4444444444444444,
              "#bd3786"
             ],
             [
              0.5555555555555556,
              "#d8576b"
             ],
             [
              0.6666666666666666,
              "#ed7953"
             ],
             [
              0.7777777777777778,
              "#fb9f3a"
             ],
             [
              0.8888888888888888,
              "#fdca26"
             ],
             [
              1,
              "#f0f921"
             ]
            ],
            "type": "heatmap"
           }
          ],
          "heatmapgl": [
           {
            "colorbar": {
             "outlinewidth": 0,
             "ticks": ""
            },
            "colorscale": [
             [
              0,
              "#0d0887"
             ],
             [
              0.1111111111111111,
              "#46039f"
             ],
             [
              0.2222222222222222,
              "#7201a8"
             ],
             [
              0.3333333333333333,
              "#9c179e"
             ],
             [
              0.4444444444444444,
              "#bd3786"
             ],
             [
              0.5555555555555556,
              "#d8576b"
             ],
             [
              0.6666666666666666,
              "#ed7953"
             ],
             [
              0.7777777777777778,
              "#fb9f3a"
             ],
             [
              0.8888888888888888,
              "#fdca26"
             ],
             [
              1,
              "#f0f921"
             ]
            ],
            "type": "heatmapgl"
           }
          ],
          "histogram": [
           {
            "marker": {
             "pattern": {
              "fillmode": "overlay",
              "size": 10,
              "solidity": 0.2
             }
            },
            "type": "histogram"
           }
          ],
          "histogram2d": [
           {
            "colorbar": {
             "outlinewidth": 0,
             "ticks": ""
            },
            "colorscale": [
             [
              0,
              "#0d0887"
             ],
             [
              0.1111111111111111,
              "#46039f"
             ],
             [
              0.2222222222222222,
              "#7201a8"
             ],
             [
              0.3333333333333333,
              "#9c179e"
             ],
             [
              0.4444444444444444,
              "#bd3786"
             ],
             [
              0.5555555555555556,
              "#d8576b"
             ],
             [
              0.6666666666666666,
              "#ed7953"
             ],
             [
              0.7777777777777778,
              "#fb9f3a"
             ],
             [
              0.8888888888888888,
              "#fdca26"
             ],
             [
              1,
              "#f0f921"
             ]
            ],
            "type": "histogram2d"
           }
          ],
          "histogram2dcontour": [
           {
            "colorbar": {
             "outlinewidth": 0,
             "ticks": ""
            },
            "colorscale": [
             [
              0,
              "#0d0887"
             ],
             [
              0.1111111111111111,
              "#46039f"
             ],
             [
              0.2222222222222222,
              "#7201a8"
             ],
             [
              0.3333333333333333,
              "#9c179e"
             ],
             [
              0.4444444444444444,
              "#bd3786"
             ],
             [
              0.5555555555555556,
              "#d8576b"
             ],
             [
              0.6666666666666666,
              "#ed7953"
             ],
             [
              0.7777777777777778,
              "#fb9f3a"
             ],
             [
              0.8888888888888888,
              "#fdca26"
             ],
             [
              1,
              "#f0f921"
             ]
            ],
            "type": "histogram2dcontour"
           }
          ],
          "mesh3d": [
           {
            "colorbar": {
             "outlinewidth": 0,
             "ticks": ""
            },
            "type": "mesh3d"
           }
          ],
          "parcoords": [
           {
            "line": {
             "colorbar": {
              "outlinewidth": 0,
              "ticks": ""
             }
            },
            "type": "parcoords"
           }
          ],
          "pie": [
           {
            "automargin": true,
            "type": "pie"
           }
          ],
          "scatter": [
           {
            "fillpattern": {
             "fillmode": "overlay",
             "size": 10,
             "solidity": 0.2
            },
            "type": "scatter"
           }
          ],
          "scatter3d": [
           {
            "line": {
             "colorbar": {
              "outlinewidth": 0,
              "ticks": ""
             }
            },
            "marker": {
             "colorbar": {
              "outlinewidth": 0,
              "ticks": ""
             }
            },
            "type": "scatter3d"
           }
          ],
          "scattercarpet": [
           {
            "marker": {
             "colorbar": {
              "outlinewidth": 0,
              "ticks": ""
             }
            },
            "type": "scattercarpet"
           }
          ],
          "scattergeo": [
           {
            "marker": {
             "colorbar": {
              "outlinewidth": 0,
              "ticks": ""
             }
            },
            "type": "scattergeo"
           }
          ],
          "scattergl": [
           {
            "marker": {
             "colorbar": {
              "outlinewidth": 0,
              "ticks": ""
             }
            },
            "type": "scattergl"
           }
          ],
          "scattermapbox": [
           {
            "marker": {
             "colorbar": {
              "outlinewidth": 0,
              "ticks": ""
             }
            },
            "type": "scattermapbox"
           }
          ],
          "scatterpolar": [
           {
            "marker": {
             "colorbar": {
              "outlinewidth": 0,
              "ticks": ""
             }
            },
            "type": "scatterpolar"
           }
          ],
          "scatterpolargl": [
           {
            "marker": {
             "colorbar": {
              "outlinewidth": 0,
              "ticks": ""
             }
            },
            "type": "scatterpolargl"
           }
          ],
          "scatterternary": [
           {
            "marker": {
             "colorbar": {
              "outlinewidth": 0,
              "ticks": ""
             }
            },
            "type": "scatterternary"
           }
          ],
          "surface": [
           {
            "colorbar": {
             "outlinewidth": 0,
             "ticks": ""
            },
            "colorscale": [
             [
              0,
              "#0d0887"
             ],
             [
              0.1111111111111111,
              "#46039f"
             ],
             [
              0.2222222222222222,
              "#7201a8"
             ],
             [
              0.3333333333333333,
              "#9c179e"
             ],
             [
              0.4444444444444444,
              "#bd3786"
             ],
             [
              0.5555555555555556,
              "#d8576b"
             ],
             [
              0.6666666666666666,
              "#ed7953"
             ],
             [
              0.7777777777777778,
              "#fb9f3a"
             ],
             [
              0.8888888888888888,
              "#fdca26"
             ],
             [
              1,
              "#f0f921"
             ]
            ],
            "type": "surface"
           }
          ],
          "table": [
           {
            "cells": {
             "fill": {
              "color": "#EBF0F8"
             },
             "line": {
              "color": "white"
             }
            },
            "header": {
             "fill": {
              "color": "#C8D4E3"
             },
             "line": {
              "color": "white"
             }
            },
            "type": "table"
           }
          ]
         },
         "layout": {
          "annotationdefaults": {
           "arrowcolor": "#2a3f5f",
           "arrowhead": 0,
           "arrowwidth": 1
          },
          "autotypenumbers": "strict",
          "coloraxis": {
           "colorbar": {
            "outlinewidth": 0,
            "ticks": ""
           }
          },
          "colorscale": {
           "diverging": [
            [
             0,
             "#8e0152"
            ],
            [
             0.1,
             "#c51b7d"
            ],
            [
             0.2,
             "#de77ae"
            ],
            [
             0.3,
             "#f1b6da"
            ],
            [
             0.4,
             "#fde0ef"
            ],
            [
             0.5,
             "#f7f7f7"
            ],
            [
             0.6,
             "#e6f5d0"
            ],
            [
             0.7,
             "#b8e186"
            ],
            [
             0.8,
             "#7fbc41"
            ],
            [
             0.9,
             "#4d9221"
            ],
            [
             1,
             "#276419"
            ]
           ],
           "sequential": [
            [
             0,
             "#0d0887"
            ],
            [
             0.1111111111111111,
             "#46039f"
            ],
            [
             0.2222222222222222,
             "#7201a8"
            ],
            [
             0.3333333333333333,
             "#9c179e"
            ],
            [
             0.4444444444444444,
             "#bd3786"
            ],
            [
             0.5555555555555556,
             "#d8576b"
            ],
            [
             0.6666666666666666,
             "#ed7953"
            ],
            [
             0.7777777777777778,
             "#fb9f3a"
            ],
            [
             0.8888888888888888,
             "#fdca26"
            ],
            [
             1,
             "#f0f921"
            ]
           ],
           "sequentialminus": [
            [
             0,
             "#0d0887"
            ],
            [
             0.1111111111111111,
             "#46039f"
            ],
            [
             0.2222222222222222,
             "#7201a8"
            ],
            [
             0.3333333333333333,
             "#9c179e"
            ],
            [
             0.4444444444444444,
             "#bd3786"
            ],
            [
             0.5555555555555556,
             "#d8576b"
            ],
            [
             0.6666666666666666,
             "#ed7953"
            ],
            [
             0.7777777777777778,
             "#fb9f3a"
            ],
            [
             0.8888888888888888,
             "#fdca26"
            ],
            [
             1,
             "#f0f921"
            ]
           ]
          },
          "colorway": [
           "#636efa",
           "#EF553B",
           "#00cc96",
           "#ab63fa",
           "#FFA15A",
           "#19d3f3",
           "#FF6692",
           "#B6E880",
           "#FF97FF",
           "#FECB52"
          ],
          "font": {
           "color": "#2a3f5f"
          },
          "geo": {
           "bgcolor": "white",
           "lakecolor": "white",
           "landcolor": "#E5ECF6",
           "showlakes": true,
           "showland": true,
           "subunitcolor": "white"
          },
          "hoverlabel": {
           "align": "left"
          },
          "hovermode": "closest",
          "mapbox": {
           "style": "light"
          },
          "paper_bgcolor": "white",
          "plot_bgcolor": "#E5ECF6",
          "polar": {
           "angularaxis": {
            "gridcolor": "white",
            "linecolor": "white",
            "ticks": ""
           },
           "bgcolor": "#E5ECF6",
           "radialaxis": {
            "gridcolor": "white",
            "linecolor": "white",
            "ticks": ""
           }
          },
          "scene": {
           "xaxis": {
            "backgroundcolor": "#E5ECF6",
            "gridcolor": "white",
            "gridwidth": 2,
            "linecolor": "white",
            "showbackground": true,
            "ticks": "",
            "zerolinecolor": "white"
           },
           "yaxis": {
            "backgroundcolor": "#E5ECF6",
            "gridcolor": "white",
            "gridwidth": 2,
            "linecolor": "white",
            "showbackground": true,
            "ticks": "",
            "zerolinecolor": "white"
           },
           "zaxis": {
            "backgroundcolor": "#E5ECF6",
            "gridcolor": "white",
            "gridwidth": 2,
            "linecolor": "white",
            "showbackground": true,
            "ticks": "",
            "zerolinecolor": "white"
           }
          },
          "shapedefaults": {
           "line": {
            "color": "#2a3f5f"
           }
          },
          "ternary": {
           "aaxis": {
            "gridcolor": "white",
            "linecolor": "white",
            "ticks": ""
           },
           "baxis": {
            "gridcolor": "white",
            "linecolor": "white",
            "ticks": ""
           },
           "bgcolor": "#E5ECF6",
           "caxis": {
            "gridcolor": "white",
            "linecolor": "white",
            "ticks": ""
           }
          },
          "title": {
           "x": 0.05
          },
          "xaxis": {
           "automargin": true,
           "gridcolor": "white",
           "linecolor": "white",
           "ticks": "",
           "title": {
            "standoff": 15
           },
           "zerolinecolor": "white",
           "zerolinewidth": 2
          },
          "yaxis": {
           "automargin": true,
           "gridcolor": "white",
           "linecolor": "white",
           "ticks": "",
           "title": {
            "standoff": 15
           },
           "zerolinecolor": "white",
           "zerolinewidth": 2
          }
         }
        },
        "title": {
         "text": "Prioridad y Categoria"
        },
        "xaxis": {
         "anchor": "y",
         "domain": [
          0,
          1
         ],
         "title": {
          "text": "Fecha"
         }
        },
        "yaxis": {
         "anchor": "x",
         "domain": [
          0,
          1
         ],
         "title": {
          "text": "Ventas"
         }
        }
       }
      }
     },
     "metadata": {},
     "output_type": "display_data"
    }
   ],
   "source": [
    "fig = px.line(df, x='Fecha', y='Ventas', color='Prioridad', title ='Prioridad y Categoria')\n",
    "                 \n",
    "fig.show()"
   ]
  }
 ],
 "metadata": {
  "kernelspec": {
   "display_name": "Python 3",
   "language": "python",
   "name": "python3"
  },
  "language_info": {
   "codemirror_mode": {
    "name": "ipython",
    "version": 3
   },
   "file_extension": ".py",
   "mimetype": "text/x-python",
   "name": "python",
   "nbconvert_exporter": "python",
   "pygments_lexer": "ipython3",
   "version": "3.12.1"
  }
 },
 "nbformat": 4,
 "nbformat_minor": 2
}
